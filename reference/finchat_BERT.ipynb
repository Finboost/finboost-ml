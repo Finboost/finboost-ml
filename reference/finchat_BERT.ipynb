{
  "nbformat": 4,
  "nbformat_minor": 0,
  "metadata": {
    "colab": {
      "provenance": []
    },
    "kernelspec": {
      "name": "python3",
      "display_name": "Python 3"
    },
    "language_info": {
      "name": "python"
    }
  },
  "cells": [
    {
      "cell_type": "markdown",
      "source": [
        "# Develop Question Answering Model"
      ],
      "metadata": {
        "id": "H54UJFjO9KpC"
      }
    },
    {
      "cell_type": "code",
      "execution_count": null,
      "metadata": {
        "colab": {
          "base_uri": "https://localhost:8080/"
        },
        "id": "X64B-ROf86_M",
        "outputId": "66c9c70b-717a-4fcf-be4d-1f8b6f95343c"
      },
      "outputs": [
        {
          "output_type": "stream",
          "name": "stdout",
          "text": [
            "Requirement already satisfied: torch in /usr/local/lib/python3.10/dist-packages (2.3.0+cu121)\n",
            "Requirement already satisfied: filelock in /usr/local/lib/python3.10/dist-packages (from torch) (3.14.0)\n",
            "Requirement already satisfied: typing-extensions>=4.8.0 in /usr/local/lib/python3.10/dist-packages (from torch) (4.11.0)\n",
            "Requirement already satisfied: sympy in /usr/local/lib/python3.10/dist-packages (from torch) (1.12)\n",
            "Requirement already satisfied: networkx in /usr/local/lib/python3.10/dist-packages (from torch) (3.3)\n",
            "Requirement already satisfied: jinja2 in /usr/local/lib/python3.10/dist-packages (from torch) (3.1.4)\n",
            "Requirement already satisfied: fsspec in /usr/local/lib/python3.10/dist-packages (from torch) (2023.6.0)\n",
            "Collecting nvidia-cuda-nvrtc-cu12==12.1.105 (from torch)\n",
            "  Using cached nvidia_cuda_nvrtc_cu12-12.1.105-py3-none-manylinux1_x86_64.whl (23.7 MB)\n",
            "Collecting nvidia-cuda-runtime-cu12==12.1.105 (from torch)\n",
            "  Using cached nvidia_cuda_runtime_cu12-12.1.105-py3-none-manylinux1_x86_64.whl (823 kB)\n",
            "Collecting nvidia-cuda-cupti-cu12==12.1.105 (from torch)\n",
            "  Using cached nvidia_cuda_cupti_cu12-12.1.105-py3-none-manylinux1_x86_64.whl (14.1 MB)\n",
            "Collecting nvidia-cudnn-cu12==8.9.2.26 (from torch)\n",
            "  Using cached nvidia_cudnn_cu12-8.9.2.26-py3-none-manylinux1_x86_64.whl (731.7 MB)\n",
            "Collecting nvidia-cublas-cu12==12.1.3.1 (from torch)\n",
            "  Using cached nvidia_cublas_cu12-12.1.3.1-py3-none-manylinux1_x86_64.whl (410.6 MB)\n",
            "Collecting nvidia-cufft-cu12==11.0.2.54 (from torch)\n",
            "  Using cached nvidia_cufft_cu12-11.0.2.54-py3-none-manylinux1_x86_64.whl (121.6 MB)\n",
            "Collecting nvidia-curand-cu12==10.3.2.106 (from torch)\n",
            "  Using cached nvidia_curand_cu12-10.3.2.106-py3-none-manylinux1_x86_64.whl (56.5 MB)\n",
            "Collecting nvidia-cusolver-cu12==11.4.5.107 (from torch)\n",
            "  Using cached nvidia_cusolver_cu12-11.4.5.107-py3-none-manylinux1_x86_64.whl (124.2 MB)\n",
            "Collecting nvidia-cusparse-cu12==12.1.0.106 (from torch)\n",
            "  Using cached nvidia_cusparse_cu12-12.1.0.106-py3-none-manylinux1_x86_64.whl (196.0 MB)\n",
            "Collecting nvidia-nccl-cu12==2.20.5 (from torch)\n",
            "  Using cached nvidia_nccl_cu12-2.20.5-py3-none-manylinux2014_x86_64.whl (176.2 MB)\n",
            "Collecting nvidia-nvtx-cu12==12.1.105 (from torch)\n",
            "  Using cached nvidia_nvtx_cu12-12.1.105-py3-none-manylinux1_x86_64.whl (99 kB)\n",
            "Requirement already satisfied: triton==2.3.0 in /usr/local/lib/python3.10/dist-packages (from torch) (2.3.0)\n",
            "Collecting nvidia-nvjitlink-cu12 (from nvidia-cusolver-cu12==11.4.5.107->torch)\n",
            "  Downloading nvidia_nvjitlink_cu12-12.5.40-py3-none-manylinux2014_x86_64.whl (21.3 MB)\n",
            "\u001b[2K     \u001b[90m━━━━━━━━━━━━━━━━━━━━━━━━━━━━━━━━━━━━━━━━\u001b[0m \u001b[32m21.3/21.3 MB\u001b[0m \u001b[31m51.3 MB/s\u001b[0m eta \u001b[36m0:00:00\u001b[0m\n",
            "\u001b[?25hRequirement already satisfied: MarkupSafe>=2.0 in /usr/local/lib/python3.10/dist-packages (from jinja2->torch) (2.1.5)\n",
            "Requirement already satisfied: mpmath>=0.19 in /usr/local/lib/python3.10/dist-packages (from sympy->torch) (1.3.0)\n",
            "Installing collected packages: nvidia-nvtx-cu12, nvidia-nvjitlink-cu12, nvidia-nccl-cu12, nvidia-curand-cu12, nvidia-cufft-cu12, nvidia-cuda-runtime-cu12, nvidia-cuda-nvrtc-cu12, nvidia-cuda-cupti-cu12, nvidia-cublas-cu12, nvidia-cusparse-cu12, nvidia-cudnn-cu12, nvidia-cusolver-cu12\n",
            "Successfully installed nvidia-cublas-cu12-12.1.3.1 nvidia-cuda-cupti-cu12-12.1.105 nvidia-cuda-nvrtc-cu12-12.1.105 nvidia-cuda-runtime-cu12-12.1.105 nvidia-cudnn-cu12-8.9.2.26 nvidia-cufft-cu12-11.0.2.54 nvidia-curand-cu12-10.3.2.106 nvidia-cusolver-cu12-11.4.5.107 nvidia-cusparse-cu12-12.1.0.106 nvidia-nccl-cu12-2.20.5 nvidia-nvjitlink-cu12-12.5.40 nvidia-nvtx-cu12-12.1.105\n"
          ]
        }
      ],
      "source": [
        "!pip install torch"
      ]
    },
    {
      "cell_type": "code",
      "source": [
        "!pip install transformers"
      ],
      "metadata": {
        "colab": {
          "base_uri": "https://localhost:8080/"
        },
        "id": "4fjuw9El9SJD",
        "outputId": "ca54bc14-ef57-454a-dce0-951a4dc2ca19"
      },
      "execution_count": null,
      "outputs": [
        {
          "output_type": "stream",
          "name": "stdout",
          "text": [
            "Requirement already satisfied: transformers in /usr/local/lib/python3.10/dist-packages (4.41.0)\n",
            "Requirement already satisfied: filelock in /usr/local/lib/python3.10/dist-packages (from transformers) (3.14.0)\n",
            "Requirement already satisfied: huggingface-hub<1.0,>=0.23.0 in /usr/local/lib/python3.10/dist-packages (from transformers) (0.23.0)\n",
            "Requirement already satisfied: numpy>=1.17 in /usr/local/lib/python3.10/dist-packages (from transformers) (1.25.2)\n",
            "Requirement already satisfied: packaging>=20.0 in /usr/local/lib/python3.10/dist-packages (from transformers) (24.0)\n",
            "Requirement already satisfied: pyyaml>=5.1 in /usr/local/lib/python3.10/dist-packages (from transformers) (6.0.1)\n",
            "Requirement already satisfied: regex!=2019.12.17 in /usr/local/lib/python3.10/dist-packages (from transformers) (2023.12.25)\n",
            "Requirement already satisfied: requests in /usr/local/lib/python3.10/dist-packages (from transformers) (2.31.0)\n",
            "Requirement already satisfied: tokenizers<0.20,>=0.19 in /usr/local/lib/python3.10/dist-packages (from transformers) (0.19.1)\n",
            "Requirement already satisfied: safetensors>=0.4.1 in /usr/local/lib/python3.10/dist-packages (from transformers) (0.4.3)\n",
            "Requirement already satisfied: tqdm>=4.27 in /usr/local/lib/python3.10/dist-packages (from transformers) (4.66.4)\n",
            "Requirement already satisfied: fsspec>=2023.5.0 in /usr/local/lib/python3.10/dist-packages (from huggingface-hub<1.0,>=0.23.0->transformers) (2023.6.0)\n",
            "Requirement already satisfied: typing-extensions>=3.7.4.3 in /usr/local/lib/python3.10/dist-packages (from huggingface-hub<1.0,>=0.23.0->transformers) (4.11.0)\n",
            "Requirement already satisfied: charset-normalizer<4,>=2 in /usr/local/lib/python3.10/dist-packages (from requests->transformers) (3.3.2)\n",
            "Requirement already satisfied: idna<4,>=2.5 in /usr/local/lib/python3.10/dist-packages (from requests->transformers) (3.7)\n",
            "Requirement already satisfied: urllib3<3,>=1.21.1 in /usr/local/lib/python3.10/dist-packages (from requests->transformers) (2.0.7)\n",
            "Requirement already satisfied: certifi>=2017.4.17 in /usr/local/lib/python3.10/dist-packages (from requests->transformers) (2024.2.2)\n"
          ]
        }
      ]
    },
    {
      "cell_type": "markdown",
      "source": [
        "## Importing libraries"
      ],
      "metadata": {
        "id": "j3ABa1_L9eOK"
      }
    },
    {
      "cell_type": "code",
      "source": [
        "import pandas as pd\n",
        "import torch\n",
        "from transformers import AutoModelForQuestionAnswering, AutoTokenizer, pipeline"
      ],
      "metadata": {
        "id": "Of7GIthQ9W3o"
      },
      "execution_count": null,
      "outputs": []
    },
    {
      "cell_type": "code",
      "source": [
        "QA_input = [\n",
        "    {\n",
        "        \"question\": \"Apa itu inflasi? ->\",\n",
        "        \"context\": \"Inflasi adalah kenaikan harga barang dan jasa secara umum dan terus-menerus dalam suatu periode waktu tertentu.\\n\"\n",
        "    },\n",
        "    {\n",
        "        \"question\": \"Bagaimana cara mengatur anggaran bulanan? ->\",\n",
        "        \"context\": \"Untuk mengatur anggaran bulanan, mulailah dengan mencatat semua pendapatan dan pengeluaran, kemudian buatlah kategori pengeluaran dan tetapkan batas pengeluaran untuk setiap kategori.\\n\"\n",
        "    },\n",
        "    {\n",
        "        \"question\": \"Apa itu saham? ->\",\n",
        "        \"context\": \"Saham adalah bukti kepemilikan seseorang atau badan terhadap sebuah perusahaan. Dengan memiliki saham, investor berhak atas bagian dari keuntungan perusahaan tersebut.\\n\"\n",
        "    },\n",
        "    {\n",
        "        \"question\": \"Apa perbedaan antara saham dan obligasi? ->\",\n",
        "        \"context\": \"Saham adalah surat berharga yang menunjukkan kepemilikan sebagian dari perusahaan, sedangkan obligasi adalah surat utang yang diterbitkan oleh perusahaan atau pemerintah sebagai bentuk pinjaman.\\n\"\n",
        "    },\n",
        "    {\n",
        "        \"question\": \"Bagaimana cara berinvestasi di pasar saham? ->\",\n",
        "        \"context\": \"Untuk berinvestasi di pasar saham, Anda perlu membuka akun di perusahaan sekuritas, menyetor dana, dan mulai membeli saham melalui platform trading yang disediakan.\\n\"\n",
        "    },\n",
        "    {\n",
        "        \"question\": \"Apa itu diversifikasi investasi? ->\",\n",
        "        \"context\": \"Diversifikasi investasi adalah strategi menyebar investasi ke berbagai jenis aset untuk mengurangi risiko. Dengan diversifikasi, kerugian pada satu aset dapat ditutupi oleh keuntungan dari aset lain.\\n\"\n",
        "    },\n",
        "    {\n",
        "        \"question\": \"Apa itu return on investment (ROI)? ->\",\n",
        "        \"context\": \"Return on Investment (ROI) adalah rasio yang menunjukkan seberapa besar keuntungan yang diperoleh dari investasi dibandingkan dengan biaya investasi tersebut.\\n\"\n",
        "    },\n",
        "    {\n",
        "        \"question\": \"Bagaimana cara menghitung ROI? ->\",\n",
        "        \"context\": \"ROI dapat dihitung dengan rumus: (Keuntungan dari investasi - Biaya investasi) / Biaya investasi x 100%.\\n\"\n",
        "    },\n",
        "    {\n",
        "        \"question\": \"Apa yang dimaksud dengan aset likuid? ->\",\n",
        "        \"context\": \"Aset likuid adalah aset yang mudah dan cepat diubah menjadi uang tunai tanpa kehilangan nilai yang signifikan, seperti uang tunai dan rekening tabungan.\\n\"\n",
        "    },\n",
        "    {\n",
        "        \"question\": \"Apa itu risiko investasi? ->\",\n",
        "        \"context\": \"Risiko investasi adalah kemungkinan bahwa hasil investasi akan berbeda dari yang diharapkan, termasuk kemungkinan kehilangan sebagian atau seluruh investasi.\\n\"\n",
        "    }\n",
        "]"
      ],
      "metadata": {
        "id": "T2CdI7Yb9uEV"
      },
      "execution_count": null,
      "outputs": []
    },
    {
      "cell_type": "markdown",
      "source": [
        "## Select Model"
      ],
      "metadata": {
        "id": "xfxhs7rX-PfL"
      }
    },
    {
      "cell_type": "code",
      "source": [
        "model_name = 'deepset/roberta-base-squad2'"
      ],
      "metadata": {
        "id": "J8rkp-Fa-NW2"
      },
      "execution_count": null,
      "outputs": []
    },
    {
      "cell_type": "code",
      "source": [
        "#method 1\n",
        "model = AutoModelForQuestionAnswering.from_pretrained(model_name)\n",
        "tokenizer = AutoTokenizer.from_pretrained(model_name)"
      ],
      "metadata": {
        "id": "hh3_1lCb-X0c"
      },
      "execution_count": null,
      "outputs": []
    },
    {
      "cell_type": "code",
      "source": [
        "inputs0 = tokenizer(QA_input[0]['question'], QA_input[0]['context'], return_tensors=\"pt\")\n",
        "output0 = model(**inputs0)"
      ],
      "metadata": {
        "id": "DPu_Hiia-slY"
      },
      "execution_count": null,
      "outputs": []
    },
    {
      "cell_type": "code",
      "source": [
        "inputs1 = tokenizer(QA_input[1]['question'], QA_input[1]['context'], return_tensors=\"pt\")\n",
        "output1 = model(**inputs1)"
      ],
      "metadata": {
        "id": "vR60y4Mu_hoK"
      },
      "execution_count": null,
      "outputs": []
    },
    {
      "cell_type": "code",
      "source": [
        "output0"
      ],
      "metadata": {
        "colab": {
          "base_uri": "https://localhost:8080/"
        },
        "id": "ljlcVb9dAq-E",
        "outputId": "653fd28a-a950-45fb-8045-63f329061981"
      },
      "execution_count": null,
      "outputs": [
        {
          "output_type": "execute_result",
          "data": {
            "text/plain": [
              "QuestionAnsweringModelOutput(loss=None, start_logits=tensor([[ 1.1975, -6.2811, -8.5941, -7.6038, -8.8492, -6.6845, -9.1166, -8.7633,\n",
              "         -6.1530, -8.3803, -8.1464, -2.9599, -7.2902, -7.4093, -1.5595, -4.3030,\n",
              "         -5.0187, -0.9320, -4.1171, -4.8542, -2.1633, -4.6816, -5.6047, -2.7167,\n",
              "         -5.8873, -5.2696, -3.1624, -6.0054, -3.5769, -6.0121, -3.6716, -6.6137,\n",
              "         -5.8906, -2.7899, -6.2170, -4.5980, -3.8499, -5.3859, -5.8806, -3.3743,\n",
              "         -5.8046, -2.3040, -6.2961, -2.3123, -6.4279, -5.9942, -3.0789, -5.7720,\n",
              "         -6.4703, -3.2417, -6.2437, -6.0325, -6.7830, -1.4879, -8.2461]],\n",
              "       grad_fn=<CloneBackward0>), end_logits=tensor([[ 1.5869, -8.8840, -7.2640, -8.5783, -6.9113, -8.9993, -5.9391, -7.8174,\n",
              "         -5.2137, -7.9476, -7.8554, -7.8292, -7.6138, -3.2211, -5.3379, -3.6994,\n",
              "         -1.8422, -5.3026, -3.3025, -1.0982, -5.9788, -3.2783, -2.8897, -5.0265,\n",
              "         -1.4126, -3.8019, -5.9960, -1.9362, -5.8214, -2.0522, -5.5583, -2.1568,\n",
              "         -4.3927, -5.6803, -4.3178, -6.0865, -6.5043, -5.5414, -1.9421, -6.3832,\n",
              "         -3.0925, -5.7273, -2.7324, -6.0551, -6.0618, -1.4266, -5.1984, -4.5039,\n",
              "         -2.6741, -5.9533, -4.1504, -1.5969, -2.6514, -1.4236, -8.4498]],\n",
              "       grad_fn=<CloneBackward0>), hidden_states=None, attentions=None)"
            ]
          },
          "metadata": {},
          "execution_count": 30
        }
      ]
    },
    {
      "cell_type": "code",
      "source": [
        "answer_start_idx = torch.argmax(output0.start_logits)\n",
        "answer_end_idx = torch.argmax(output0.end_logits)\n",
        "\n",
        "answer_tokens = inputs0.input_ids[0, answer_start_idx: answer_end_idx + 1]\n",
        "answer = tokenizer.decode(answer_tokens)\n",
        "print(\"ques: {}\\nanswer: {}\".format(QA_input[0]['question'], answer))"
      ],
      "metadata": {
        "colab": {
          "base_uri": "https://localhost:8080/"
        },
        "id": "dKVvgEJDAsPN",
        "outputId": "ca80a0cc-928f-428c-a8b8-85e27f023371"
      },
      "execution_count": null,
      "outputs": [
        {
          "output_type": "stream",
          "name": "stdout",
          "text": [
            "ques: Apa itu inflasi? ->\n",
            "answer: <s>\n"
          ]
        }
      ]
    },
    {
      "cell_type": "code",
      "source": [
        "answer_start_idx = torch.argmax(output1.start_logits)\n",
        "answer_end_idx = torch.argmax(output1.end_logits)\n",
        "\n",
        "answer_tokens = inputs1.input_ids[0, answer_start_idx: answer_end_idx + 1]\n",
        "answer = tokenizer.decode(answer_tokens)\n",
        "print(\"ques: {}\\nanswer: {}\".format(QA_input[1]['question'], answer))"
      ],
      "metadata": {
        "colab": {
          "base_uri": "https://localhost:8080/"
        },
        "id": "ezb_7LM5CpLy",
        "outputId": "acd62a49-c131-4d09-af3a-dc4035efaaa1"
      },
      "execution_count": null,
      "outputs": [
        {
          "output_type": "stream",
          "name": "stdout",
          "text": [
            "ques: Bagaimana cara mengatur anggaran bulanan? ->\n",
            "answer: <s>\n"
          ]
        }
      ]
    },
    {
      "cell_type": "code",
      "source": [
        "#method 2\n",
        "qa = pipeline('question-answering', model=model_name, tokenizer=model_name)"
      ],
      "metadata": {
        "id": "IMVbjDgSDFKy"
      },
      "execution_count": null,
      "outputs": []
    },
    {
      "cell_type": "code",
      "source": [
        "output_0 = qa(QA_input[0]['question'], QA_input[0]['context'])\n",
        "print(output_0)"
      ],
      "metadata": {
        "colab": {
          "base_uri": "https://localhost:8080/"
        },
        "id": "bMzDxvwwDRse",
        "outputId": "0d01f1a7-ebc2-448b-a21c-a2501c951fc2"
      },
      "execution_count": null,
      "outputs": [
        {
          "output_type": "stream",
          "name": "stdout",
          "text": [
            "{'score': 0.0035513443872332573, 'start': 15, 'end': 23, 'answer': 'kenaikan'}\n"
          ]
        }
      ]
    },
    {
      "cell_type": "code",
      "source": [
        "output_1 = qa(QA_input[1]['question'], QA_input[1]['context'])\n",
        "print(output_1)"
      ],
      "metadata": {
        "colab": {
          "base_uri": "https://localhost:8080/"
        },
        "id": "H4Zjwo35DeYT",
        "outputId": "2560d4f2-187b-45a7-d66c-05b361d3d316"
      },
      "execution_count": null,
      "outputs": [
        {
          "output_type": "stream",
          "name": "stdout",
          "text": [
            "{'score': 0.048624493181705475, 'start': 33, 'end': 41, 'answer': 'mulailah'}\n"
          ]
        }
      ]
    }
  ]
}