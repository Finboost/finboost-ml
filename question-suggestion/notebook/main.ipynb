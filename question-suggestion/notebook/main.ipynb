{
 "cells": [
  {
   "cell_type": "markdown",
   "metadata": {},
   "source": [
    "# Question Suggestion Feature"
   ]
  },
  {
   "cell_type": "markdown",
   "metadata": {},
   "source": [
    "### Import Dependencies"
   ]
  },
  {
   "cell_type": "code",
   "execution_count": 3,
   "metadata": {},
   "outputs": [],
   "source": [
    "import numpy as np\n",
    "import tensorflow as tf\n",
    "import pandas as pd"
   ]
  },
  {
   "cell_type": "markdown",
   "metadata": {},
   "source": [
    "### Preproccessing"
   ]
  },
  {
   "cell_type": "code",
   "execution_count": 4,
   "metadata": {},
   "outputs": [],
   "source": [
    "from tensorflow.keras.preprocessing.text import Tokenizer # type: ignore\n",
    "from tensorflow.keras.preprocessing.sequence import pad_sequences # type: ignore\n",
    "from sklearn.model_selection import train_test_split # type: ignore"
   ]
  },
  {
   "cell_type": "code",
   "execution_count": 5,
   "metadata": {},
   "outputs": [
    {
     "data": {
      "text/html": [
       "<div>\n",
       "<style scoped>\n",
       "    .dataframe tbody tr th:only-of-type {\n",
       "        vertical-align: middle;\n",
       "    }\n",
       "\n",
       "    .dataframe tbody tr th {\n",
       "        vertical-align: top;\n",
       "    }\n",
       "\n",
       "    .dataframe thead th {\n",
       "        text-align: right;\n",
       "    }\n",
       "</style>\n",
       "<table border=\"1\" class=\"dataframe\">\n",
       "  <thead>\n",
       "    <tr style=\"text-align: right;\">\n",
       "      <th></th>\n",
       "      <th>Question</th>\n",
       "      <th>Category</th>\n",
       "    </tr>\n",
       "  </thead>\n",
       "  <tbody>\n",
       "    <tr>\n",
       "      <th>0</th>\n",
       "      <td>Bagaimana cara memilih platform trading crypto...</td>\n",
       "      <td>Cryptocurrency</td>\n",
       "    </tr>\n",
       "    <tr>\n",
       "      <th>1</th>\n",
       "      <td>Apa itu cryptocurrency staking dan bagaimana c...</td>\n",
       "      <td>Cryptocurrency</td>\n",
       "    </tr>\n",
       "    <tr>\n",
       "      <th>2</th>\n",
       "      <td>Bagaimana cara mengenali proyek cryptocurrency...</td>\n",
       "      <td>Cryptocurrency</td>\n",
       "    </tr>\n",
       "    <tr>\n",
       "      <th>3</th>\n",
       "      <td>Apa saja teknik dasar dalam analisis teknikal ...</td>\n",
       "      <td>Cryptocurrency</td>\n",
       "    </tr>\n",
       "    <tr>\n",
       "      <th>4</th>\n",
       "      <td>Bagaimana cara melakukan trading cryptocurrenc...</td>\n",
       "      <td>Cryptocurrency</td>\n",
       "    </tr>\n",
       "  </tbody>\n",
       "</table>\n",
       "</div>"
      ],
      "text/plain": [
       "                                            Question        Category\n",
       "0  Bagaimana cara memilih platform trading crypto...  Cryptocurrency\n",
       "1  Apa itu cryptocurrency staking dan bagaimana c...  Cryptocurrency\n",
       "2  Bagaimana cara mengenali proyek cryptocurrency...  Cryptocurrency\n",
       "3  Apa saja teknik dasar dalam analisis teknikal ...  Cryptocurrency\n",
       "4  Bagaimana cara melakukan trading cryptocurrenc...  Cryptocurrency"
      ]
     },
     "execution_count": 5,
     "metadata": {},
     "output_type": "execute_result"
    }
   ],
   "source": [
    "# Load the dataset\n",
    "df = pd.read_csv('../dataset/data.csv')\n",
    "df.head()"
   ]
  },
  {
   "cell_type": "code",
   "execution_count": 7,
   "metadata": {},
   "outputs": [
    {
     "name": "stdout",
     "output_type": "stream",
     "text": [
      "Duplicates: 176\n",
      "Missing: 0\n"
     ]
    }
   ],
   "source": [
    "# Check duplicates and missing values\n",
    "duplicates = df.duplicated().sum()\n",
    "missing = df.isnull().sum().sum()\n",
    "\n",
    "print(f'Duplicates: {duplicates}')\n",
    "print(f'Missing: {missing}')"
   ]
  },
  {
   "cell_type": "code",
   "execution_count": 8,
   "metadata": {},
   "outputs": [],
   "source": [
    "# Handle duplicates and missing values\n",
    "df.drop_duplicates(inplace=True)\n",
    "df.dropna(inplace=True)"
   ]
  },
  {
   "cell_type": "code",
   "execution_count": 9,
   "metadata": {},
   "outputs": [
    {
     "name": "stdout",
     "output_type": "stream",
     "text": [
      "Duplicates: 0\n",
      "Missing: 0\n"
     ]
    }
   ],
   "source": [
    "# Check duplicates and missing values\n",
    "duplicates = df.duplicated().sum()\n",
    "missing = df.isnull().sum().sum()\n",
    "\n",
    "print(f'Duplicates: {duplicates}')\n",
    "print(f'Missing: {missing}')"
   ]
  },
  {
   "cell_type": "code",
   "execution_count": 10,
   "metadata": {},
   "outputs": [
    {
     "name": "stdout",
     "output_type": "stream",
     "text": [
      "questions: ['Bagaimana cara memilih platform trading cryptocurrency?', 'Apa itu cryptocurrency staking dan bagaimana cara kerjanya?', 'Bagaimana cara mengenali proyek cryptocurrency yang menjanjikan?', 'Apa saja teknik dasar dalam analisis teknikal cryptocurrency?', 'Bagaimana cara melakukan trading cryptocurrency secara aman?']\n",
      "labels: ['Cryptocurrency', 'Cryptocurrency', 'Cryptocurrency', 'Cryptocurrency', 'Cryptocurrency']\n"
     ]
    }
   ],
   "source": [
    "# Separate questions and labels\n",
    "questions = df['Question'].tolist()\n",
    "labels = df['Category'].tolist()\n",
    "\n",
    "print(f'questions: {questions[:5]}')\n",
    "print(f'labels: {labels[:5]}')"
   ]
  },
  {
   "cell_type": "code",
   "execution_count": 11,
   "metadata": {},
   "outputs": [
    {
     "name": "stdout",
     "output_type": "stream",
     "text": [
      "label_dict: {'Makro ekonomi': 0, 'Reksadana': 1, 'Pajak': 2, 'Obligasi': 3, 'Saham': 4, 'Emas': 5, 'Manajemen keuangan pribadi': 6, 'Asuransi': 7, 'Cryptocurrency': 8}\n",
      "numerical_labels: [8, 8, 8, 8, 8]\n"
     ]
    }
   ],
   "source": [
    "# Convert categories to numerical labels\n",
    "label_dict = {label: idx for idx, label in enumerate(set(labels))}\n",
    "numerical_labels = [label_dict[label] for label in labels]\n",
    "\n",
    "print(f'label_dict: {label_dict}')\n",
    "print(f'numerical_labels: {numerical_labels[:5]}')"
   ]
  },
  {
   "cell_type": "code",
   "execution_count": 12,
   "metadata": {},
   "outputs": [],
   "source": [
    "# Tokenization and padding\n",
    "tokenizer = Tokenizer(num_words=10000)\n",
    "tokenizer.fit_on_texts(questions)\n",
    "sequences = tokenizer.texts_to_sequences(questions)\n",
    "padded_sequences = pad_sequences(sequences, padding='post')"
   ]
  },
  {
   "cell_type": "code",
   "execution_count": 13,
   "metadata": {},
   "outputs": [
    {
     "name": "stdout",
     "output_type": "stream",
     "text": [
      "<keras.src.legacy.preprocessing.text.Tokenizer object at 0x000002F7BABD5C50>\n",
      "{'bagaimana': 1, 'cara': 2, 'apa': 3, 'itu': 4, 'dan': 5, 'saja': 6, 'dalam': 7, 'untuk': 8, 'reksadana': 9, 'emas': 10, 'obligasi': 11, 'yang': 12, 'asuransi': 13, 'pajak': 14, 'saham': 15, 'kerjanya': 16, 'investasi': 17, 'berinvestasi': 18, 'cryptocurrency': 19, 'memilih': 20, 'di': 21, 'kerja': 22, 'menggunakan': 23, 'dengan': 24, 'ekonomi': 25, 'jenis': 26, 'keuangan': 27, 'risiko': 28, 'trading': 29, 'memahami': 30, 'keuntungan': 31, 'mengelola': 32, 'terhadap': 33, 'menghitung': 34, 'pasar': 35, 'dalamnya': 36, 'harga': 37, 'kebijakan': 38, 'tips': 39, 'mendapatkan': 40, 'dari': 41, 'membeli': 42, 'pengaruhnya': 43, 'mempengaruhi': 44, 'inflasi': 45, 'indikator': 46, 'penghasilan': 47, 'melaporkan': 48, 'menentukan': 49, 'melakukan': 50, 'kesehatan': 51, 'negara': 52, 'nilai': 53, 'menghitungnya': 54, 'analisis': 55, 'secara': 56, 'anggaran': 57, 'mengatur': 58, 'portofolio': 59, 'perusahaan': 60, 'strategi': 61, 'mengukur': 62, 'aman': 63, 'membuat': 64, 'utang': 65, 'laporan': 66, 'faktor': 67, 'pengaruh': 68, 'yield': 69, 'pemerintah': 70, 'saat': 71, 'langkah': 72, 'mengajukan': 73, 'perdagangan': 74, 'internasional': 75, 'memanfaatkan': 76, 'menghindari': 77, 'tepat': 78, 'dimaksud': 79, 'tax': 80, 'bisnis': 81, 'keuntungannya': 82, 'digital': 83, 'fisik': 84, 'properti': 85, 'platform': 86, 'pensiun': 87, 'menggunakannya': 88, 'anak': 89, 'jiwa': 90, 'polis': 91, 'klaim': 92, 'uang': 93, 'bunga': 94, 'tersedia': 95, 'bagi': 96, 'antara': 97, 'diversifikasi': 98, 'sebagai': 99, 'jangka': 100, 'rumah': 101, 'wallet': 102, 'mengurangi': 103, 'pengeluaran': 104, 'pendidikan': 105, 'perekonomian': 106, 'suku': 107, 'kecil': 108, 'risikonya': 109, 'kewajiban': 110, 'ico': 111, 'teknikal': 112, 'dana': 113, 'premi': 114, 'kendaraan': 115, 'manfaat': 116, 'fiskal': 117, 'online': 118, 'perbedaan': 119, 'syariah': 120, 'menganalisis': 121, 'kredit': 122, 'korporasi': 123, 'panjang': 124, 'initial': 125, 'offering': 126, 'blockchain': 127, 'efektif': 128, 'financial': 129, 'aset': 130, 'terkait': 131, 'exchange': 132, 'bulanan': 133, 'keluarga': 134, 'moneter': 135, 'melakukannya': 136, 'kinerja': 137, 'tetap': 138, 'berjangka': 139, 'utama': 140, 'dividen': 141, 'batangan': 142, 'merencanakan': 143, 'menabung': 144, 'harus': 145, 'dampaknya': 146, 'pendapatan': 147, 'biaya': 148, 'global': 149, 'token': 150, 'proyek': 151, 'decentralized': 152, 'pribadi': 153, 'fund': 154, 'value': 155, 'makro': 156, 'mengatasi': 157, 'melalui': 158, 'tanpa': 159, 'etf': 160, 'fundamental': 161, 'mendapatkannya': 162, 'terpercaya': 163, 'menyimpan': 164, 'memulai': 165, 'darurat': 166, 'liburan': 167, 'pertumbuhan': 168, 'ppn': 169, 'campuran': 170, 'defi': 171, 'stablecoin': 172, 'usaha': 173, 'tingkat': 174, 'individu': 175, 'krisis': 176, 'insentif': 177, 'pemula': 178, 'perencanaan': 179, 'fork': 180, 'menghadapi': 181, 'harian': 182, 'perjalanan': 183, 'cash': 184, 'dampak': 185, 'dokumen': 186, 'tambahan': 187, 'konversi': 188, 'teknologi': 189, 'leverage': 190, 'perhiasan': 191, 'indeks': 192, 'baik': 193, 'hijau': 194, 'to': 195, 'ipo': 196, 'mining': 197, 'mengamankan': 198, 'smart': 199, 'contract': 200, 'proof': 201, 'of': 202, 'airdrop': 203, 'meningkatkan': 204, 'neraca': 205, 'pembayaran': 206, 'resesi': 207, 'pengangguran': 208, 'mempersiapkan': 209, 'pertambahan': 210, 'membelinya': 211, 'menilai': 212, 'pool': 213, 'nft': 214, 'masa': 215, 'memiliki': 216, 'perlindungan': 217, 'penjualan': 218, 'waktu': 219, 'kupon': 220, 'bond': 221, 'fluktuasi': 222, 'debt': 223, 'zero': 224, 'mencapainya': 225, 'terbaik': 226, 'teknik': 227, 'menilainya': 228, 'konteks': 229, 'hardware': 230, 'rasio': 231, 'tabungan': 232, 'menyiapkan': 233, 'deductible': 234, 'sesuai': 235, 'ketentuan': 236, 'membaca': 237, 'defisit': 238, 'publik': 239, 'pelaporan': 240, 'pengurangan': 241, 'wajib': 242, 'ratio': 243, 'penyertaan': 244, 'sekunder': 245, 'callable': 246, 'moving': 247, 'tahunan': 248, 'stock': 249, 'pendek': 250, 'kelebihan': 251, 'sertifikat': 252, 'terproteksi': 253, 'manajer': 254, 'prospektus': 255, 'ritel': 256, 'indonesia': 257, 'sukuk': 258, 'maturity': 259, 'public': 260, 'berpartisipasi': 261, 'lindung': 262, 'koin': 263, 'likuiditas': 264, 'dompet': 265, 'kartu': 266, 'independence': 267, 'menikah': 268, 'setelah': 269, 'unit': 270, 'suatu': 271, 'pdb': 272, 'produktivitas': 273, 'pengembalian': 274, 'freelancer': 275, 'blue': 276, 'chip': 277, 'candlestick': 278, 'pada': 279, 'gold': 280, 'coin': 281, 'farming': 282, 'liquidity': 283, 'dunia': 284, 'non': 285, 'fungible': 286, 'pasif': 287, 'mikro': 288, 'maksimal': 289, 'dapat': 290, 'pemilik': 291, 'snowball': 292, 'life': 293, 'warisan': 294, 'bank': 295, 'coupon': 296, 'daerah': 297, 'umum': 298, 'beban': 299, 'progresif': 300, 'oleh': 301, 'staking': 302, 'menjanjikan': 303, 'scam': 304, 'rencana': 305, 'sinking': 306, 'lebih': 307, 'rendah': 308, 'diperhatikan': 309, 'mata': 310, 'quantitative': 311, 'easing': 312, 'diperlukan': 313, 'planning': 314, 'menghindarinya': 315, 'amnesty': 316, 'luar': 317, 'negeri': 318, 'mengevaluasi': 319, 'redemption': 320, 'terbatas': 321, 'mengambang': 322, 'bonds': 323, 'spread': 324, 'jaminan': 325, 'average': 326, 'macd': 327, 'buyback': 328, 'kontrak': 329, 'profil': 330, 'nab': 331, 'aktiva': 332, 'bersih': 333, 'switching': 334, 'perubahan': 335, 'rsi': 336, 'intrinsik': 337, 'modal': 338, 'work': 339, 'stake': 340, 'budgeting': 341, 'melunasi': 342, 'pembelian': 343, 'baru': 344, 'manfaatnya': 345, 'link': 346, 'kebutuhan': 347, 'rider': 348, 'jika': 349, 'membandingkan': 350, 'berbagai': 351, 'produk': 352, 'hubungan': 353, 'siklus': 354, 'tenaga': 355, 'leading': 356, 'pph': 357, 'masuk': 358, 'efisiensi': 359, 'karyawan': 360, 'alokasi': 361, 'penipuan': 362, 'perpetual': 363, 'preferen': 364, 'defensif': 365, 'cyclical': 366, 'plan': 367, 'altcoin': 368, 'whitepaper': 369, 'multi': 370, 'signature': 371, 'sehari': 372, 'hari': 373, 'mengumpulkannya': 374, 'deflasi': 375, 'mengatasinya': 376, 'asing': 377, 'proteksionisme': 378, 'gdp': 379, 'per': 380, 'kapita': 381, 'mengukurnya': 382, 'ekspansif': 383, 'ketimpangan': 384, 'potongan': 385, 'diklaim': 386, 'audit': 387, 'rebalancing': 388, 'berbasis': 389, 'subordinasi': 390, 'split': 391, 'penny': 392, 'penyimpanan': 393, 'opsi': 394, 'hard': 395, 'menyusun': 396, 'insurance': 397, 'kontraktif': 398, 'mengelolanya': 399, 'aplikasi': 400, 'sektor': 401, 'emergency': 402, 'menerapkannya': 403, 'credit': 404, 'kesalahan': 405, 'volatilitas': 406, 'governance': 407, 'swasta': 408, 'investor': 409, 'kualitas': 410, 'passive': 411, 'income': 412, 'tinggi': 413, 'globalisasi': 414, 'bisa': 415, 'tidak': 416, 'menghemat': 417, 'dibayar': 418, 'keaslian': 419, 'cicilan': 420, 'populer': 421, 'net': 422, 'mengklaim': 423, 'kerugian': 424, 'tradingnya': 425, 'kekurangan': 426, 'mengidentifikasi': 427, 'konsumsi': 428, 'end': 429, 'load': 430, 'sistem': 431, 'data': 432, 'nasional': 433, 'mengenali': 434, 'dasar': 435, 'tokenomics': 436, 'dex': 437, 'meningkatkannya': 438, 'phk': 439, 'prioritas': 440, 'berlebihan': 441, 'underwriting': 442, 'penting': 443, 'surplus': 444, 'tukar': 445, 'negatif': 446, 'denda': 447, 'berganda': 448, 'keringanan': 449, 'tematik': 450, 'feeder': 451, 'optimal': 452, 'perlu': 453, 'dipertimbangkan': 454, 'total': 455, 'expense': 456, 'money': 457, 'market': 458, 'surat': 459, 'pernyataan': 460, 'penawaran': 461, 'seri': 462, 'convergence': 463, 'divergence': 464, 'bollinger': 465, 'bands': 466, 'short': 467, 'selling': 468, 'pivot': 469, 'points': 470, 'spekulatif': 471, 'likuid': 472, 'stochastic': 473, 'oscillator': 474, 'antar': 475, 'auto': 476, 'invest': 477, 'dollar': 478, 'cost': 479, 'averaging': 480, 'ori': 481, 'peringkat': 482, 'ytm': 483, 'due': 484, 'diligence': 485, 'sebelum': 486, 'high': 487, 'price': 488, 'earnings': 489, 'p': 490, 'e': 491, 'averages': 492, 'relative': 493, 'strength': 494, 'index': 495, 'centralized': 496, 'cex': 497, 'pow': 498, 'pos': 499, 'keamanan': 500, 'pertama': 501, 'retire': 502, 'early': 503, 'fire': 504, 'skor': 505, 'pasangan': 506, 'refinancing': 507, 'kapan': 508, 'menerima': 509, 'kenaikan': 510, 'gaji': 511, 'tradisional': 512, 'dimiliki': 513, 'penyakit': 514, 'kritis': 515, 'dilakukan': 516, 'ditolak': 517, 'mengendalikannya': 518, 'devaluasi': 519, 'komponen': 520, 'perhitungan': 521, 'lagging': 522, '21': 523, 'banding': 524, 'atas': 525, 'keputusan': 526, 'bea': 527, 'barang': 528, 'impor': 529, 'nomor': 530, 'pokok': 531, 'npwp': 532, 'ada': 533, 'sharpe': 534, 'terstruktur': 535, 'municipal': 536, 'diskonto': 537, 'pinjaman': 538, 'covenant': 539, 'subprime': 540, 'stocks': 541, 'patterns': 542, 'swot': 543, 'mengidentifikasinya': 544, 'numismatik': 545, 'penyedia': 546, 'saving': 547, 'kolektif': 548, 'memilihnya': 549, 'mengikuti': 550, 'finance': 551, 'keperluan': 552, 'bijak': 553, 'amortisasi': 554, 'kecelakaan': 555, 'diri': 556, 'withholding': 557, 'perpanjangan': 558, 'berdasarkan': 559, 'dikelola': 560, 'performa': 561, 'offshore': 562, 'serial': 563, 'current': 564, 'domestik': 565, 'growth': 566, 'laba': 567, 'rugi': 568, 'kertas': 569, 'application': 570, 'dapp': 571, 'soft': 572, 'cross': 573, 'chain': 574, 'belanja': 575, 'method': 576, 'mencapai': 577, 'kebebasan': 578, 'finansial': 579, 'membuatnya': 580, 'memulainya': 581, 'rutin': 582, 'pemborosan': 583, 'universal': 584, 'whole': 585, 'term': 586, 'kemiskinan': 587, 'mempromosikan': 588, 'restriktif': 589, 'transfer': 590, 'payment': 591, 'pembetulan': 592, 'spt': 593, 'final': 594, 'avoidance': 595, 'legal': 596, 'restitusi': 597, 'bumi': 598, 'bangunan': 599, 'pbb': 600, 'suami': 601, 'istri': 602, 'warga': 603, 'hybrid': 604, 'primer': 605, 'small': 606, 'cap': 607, 'tren': 608, 'deposito': 609, 'tangga': 610, 'mengoptimalkan': 611, 'selama': 612, 'sovereign': 613, 'berkelanjutan': 614, 'arus': 615, 'kas': 616, 'energi': 617, 'undervalued': 618, 'rekening': 619, 'tempat': 620, 'chainlink': 621, 'based': 622, 'pengelolaan': 623, 'avalanche': 624, 'mendesak': 625, 'coinsurance': 626, 'surrender': 627, 'reinsurance': 628, 'inti': 629, 'mengendalikan': 630, 'ukm': 631, 'treaty': 632, 'bermotor': 633, 'keberatan': 634, 'terbuka': 635, 'tertutup': 636, 'kelayakan': 637, 'penerbit': 638, 'sampah': 639, 'junk': 640, 'perdana': 641, 'putih': 642, 'bedanya': 643, 'kuning': 644, 'membangunnya': 645, 'cepat': 646, 'freedom': 647, 'manajemen': 648, 'murah': 649, 'hewan': 650, 'peliharaan': 651, 'output': 652, 'gap': 653, 'inklusif': 654, 'mekanisme': 655, 'transmisi': 656, 'regresif': 657, 'sanksi': 658, 'dikenakan': 659, 'membayar': 660, 'dihindari': 661, 'laddering': 662, 'waran': 663, 'valuasi': 664, 'titik': 665, 'keluar': 666, 'memverifikasi': 667, 'pergerakan': 668, 'cocok': 669, 'cold': 670, 'lightning': 671, 'network': 672, 'bitcoin': 673, 'worth': 674, 'acara': 675, 'besar': 676, 'goal': 677, 'memprioritaskan': 678, 'tabel': 679, 'premium': 680, 'waiver': 681, 'menghadapinya': 682, 'pekerja': 683, 'lepas': 684, 'penalti': 685, 'membayarnya': 686, 'refund': 687, 'aktif': 688, 'terendah': 689, 'memonitor': 690, 'rating': 691, 'dibandingkan': 692, 'wajar': 693, 'pencurian': 694, 'dipilih': 695, 'crypto': 696, 'potensial': 697, 'ieo': 698, 'melindungi': 699, 'hacker': 700, 'transaksi': 701, 'banyak': 702, 'kehilangan': 703, 'pekerjaan': 704, 'mobil': 705, 'syarat': 706, 'cacat': 707, 'daya': 708, 'beli': 709, 'masyarakat': 710, 'menangani': 711, 'stagflasi': 712, 'diterapkan': 713, 'prospectus': 714, 'membacanya': 715, 'front': 716, 'back': 717, 'tujuan': 718, 'fitur': 719, 'call': 720, 'option': 721, 'dividend': 722, 'reinvestment': 723, 'plans': 724, 'drips': 725, 'kapitalisasi': 726, 'digunakan': 727, 'gadai': 728, 'futures': 729, 'tambang': 730, 'sharding': 731, 'compound': 732, 'interest': 733, 'bonus': 734, 'depan': 735, 'komprehensif': 736, 'harta': 737, 'benda': 738, 'keseimbangan': 739, 'subsidi': 740, 'komoditas': 741, 'berlaku': 742, 'efisien': 743, 'masalah': 744, 'subscription': 745, 'nav': 746, 'asset': 747, 'memantau': 748, 'reverse': 749, 'broker': 750, 'menjual': 751, 'memastikan': 752, 'permintaan': 753, 'lending': 754, 'platforms': 755, 'autonomous': 756, 'organization': 757, 'dao': 758, 'consensus': 759, 'mechanism': 760, 'utility': 761, 'terduga': 762, 'flow': 763, 'pernikahan': 764, 'agar': 765, 'terjangkau': 766, 'agen': 767, 'mengajukannya': 768, 'komersial': 769, 'hiperinflasi': 770, 'tantangan': 771, 'pembangunan': 772, 'bracket': 773, 'sumbangan': 774, 'mengurus': 775, 'sewaan': 776, 'kekayaan': 777, 'maksimum': 778}\n",
      "[[1, 2, 20, 86, 29, 19], [3, 4, 19, 302, 5, 1, 2, 16], [1, 2, 434, 151, 19, 12, 303], [3, 6, 227, 435, 7, 55, 112, 19], [1, 2, 50, 29, 19, 56, 63]]\n",
      "[[  1   2  20  86  29  19   0   0   0   0   0]\n",
      " [  3   4  19 302   5   1   2  16   0   0   0]\n",
      " [  1   2 434 151  19  12 303   0   0   0   0]\n",
      " [  3   6 227 435   7  55 112  19   0   0   0]\n",
      " [  1   2  50  29  19  56  63   0   0   0   0]]\n"
     ]
    }
   ],
   "source": [
    "print(tokenizer)\n",
    "print(tokenizer.word_index)\n",
    "print(sequences[:5])\n",
    "print(padded_sequences[:5])"
   ]
  },
  {
   "cell_type": "code",
   "execution_count": 14,
   "metadata": {},
   "outputs": [
    {
     "name": "stdout",
     "output_type": "stream",
     "text": [
      "numerical_labels: [8 8 8 8 8]\n"
     ]
    }
   ],
   "source": [
    "# Convert numerical labels to a numpy array\n",
    "numerical_labels = np.array(numerical_labels)\n",
    "print(f'numerical_labels: {numerical_labels[:5]}')"
   ]
  },
  {
   "cell_type": "code",
   "execution_count": 15,
   "metadata": {},
   "outputs": [
    {
     "name": "stdout",
     "output_type": "stream",
     "text": [
      "X_train: (718, 11)\n",
      "X_val: (180, 11)\n",
      "y_train: (718,)\n",
      "y_val: (180,)\n",
      "X_train: [[  1   2 121 432  25   0   0   0   0   0   0]\n",
      " [  3   6  39   8 103 299  14   0   0   0   0]\n",
      " [  1   2  58  27 269 268   0   0   0   0   0]\n",
      " [  3   4  74  10 139   5   1   2  16   0   0]\n",
      " [  1   2  20  86  29  10  12 163   0   0   0]]\n",
      "X_val: [[  3   4 585 293 397   5   1   2  16   0   0]\n",
      " [  1   2 678 206  65   0   0   0   0   0   0]\n",
      " [  3   6  39   8  77 583  93   0   0   0   0]\n",
      " [  3   6  67  12  44 753  10   0   0   0   0]\n",
      " [  1  68 107  94 446  33 106   0   0   0   0]]\n",
      "y_train: [0 2 6 5 5]\n",
      "y_val: [7 6 6 5 0]\n"
     ]
    }
   ],
   "source": [
    "# Split the data into training and validation sets\n",
    "X_train, X_val, y_train, y_val = train_test_split(padded_sequences, numerical_labels, test_size=0.2, random_state=42)\n",
    "\n",
    "print(f'X_train: {X_train.shape}')\n",
    "print(f'X_val: {X_val.shape}')\n",
    "print(f'y_train: {y_train.shape}')\n",
    "print(f'y_val: {y_val.shape}')\n",
    "\n",
    "print(f'X_train: {X_train[:5]}')\n",
    "print(f'X_val: {X_val[:5]}')\n",
    "print(f'y_train: {y_train[:5]}')\n",
    "print(f'y_val: {y_val[:5]}')"
   ]
  },
  {
   "cell_type": "markdown",
   "metadata": {},
   "source": [
    "### Model"
   ]
  },
  {
   "cell_type": "code",
   "execution_count": 16,
   "metadata": {},
   "outputs": [],
   "source": [
    "from tensorflow.keras.models import Sequential # type: ignore\n",
    "from tensorflow.keras.layers import Embedding, LSTM, Dense, Dropout, Bidirectional # type: ignore"
   ]
  },
  {
   "cell_type": "code",
   "execution_count": 17,
   "metadata": {},
   "outputs": [
    {
     "name": "stdout",
     "output_type": "stream",
     "text": [
      "Number of unique categories: 9\n"
     ]
    }
   ],
   "source": [
    "num_classes = len(set(labels))\n",
    "print(f'Number of unique categories: {num_classes}')"
   ]
  },
  {
   "cell_type": "code",
   "execution_count": 18,
   "metadata": {},
   "outputs": [],
   "source": [
    "# Define the model\n",
    "model = tf.keras.Sequential([\n",
    "    Embedding(input_dim=10000, output_dim=64),\n",
    "    Bidirectional(LSTM(64)),\n",
    "    Dense(64, activation='relu'),\n",
    "    Dense(num_classes, activation='softmax')\n",
    "])"
   ]
  },
  {
   "cell_type": "code",
   "execution_count": 19,
   "metadata": {},
   "outputs": [],
   "source": [
    "# Compile the model\n",
    "model.compile(optimizer='adam', loss='sparse_categorical_crossentropy', metrics=['accuracy'])"
   ]
  },
  {
   "cell_type": "code",
   "execution_count": 20,
   "metadata": {},
   "outputs": [
    {
     "name": "stdout",
     "output_type": "stream",
     "text": [
      "Epoch 1/21\n",
      "\u001b[1m23/23\u001b[0m \u001b[32m━━━━━━━━━━━━━━━━━━━━\u001b[0m\u001b[37m\u001b[0m \u001b[1m4s\u001b[0m 35ms/step - accuracy: 0.1567 - loss: 2.1904 - val_accuracy: 0.1722 - val_loss: 2.1658\n",
      "Epoch 2/21\n",
      "\u001b[1m23/23\u001b[0m \u001b[32m━━━━━━━━━━━━━━━━━━━━\u001b[0m\u001b[37m\u001b[0m \u001b[1m0s\u001b[0m 10ms/step - accuracy: 0.2669 - loss: 2.0994 - val_accuracy: 0.4889 - val_loss: 1.7633\n",
      "Epoch 3/21\n",
      "\u001b[1m23/23\u001b[0m \u001b[32m━━━━━━━━━━━━━━━━━━━━\u001b[0m\u001b[37m\u001b[0m \u001b[1m0s\u001b[0m 12ms/step - accuracy: 0.6093 - loss: 1.2820 - val_accuracy: 0.9000 - val_loss: 0.5219\n",
      "Epoch 4/21\n",
      "\u001b[1m23/23\u001b[0m \u001b[32m━━━━━━━━━━━━━━━━━━━━\u001b[0m\u001b[37m\u001b[0m \u001b[1m0s\u001b[0m 10ms/step - accuracy: 0.9552 - loss: 0.2784 - val_accuracy: 0.9389 - val_loss: 0.2863\n",
      "Epoch 5/21\n",
      "\u001b[1m23/23\u001b[0m \u001b[32m━━━━━━━━━━━━━━━━━━━━\u001b[0m\u001b[37m\u001b[0m \u001b[1m0s\u001b[0m 11ms/step - accuracy: 0.9829 - loss: 0.0793 - val_accuracy: 0.9667 - val_loss: 0.1763\n",
      "Epoch 6/21\n",
      "\u001b[1m23/23\u001b[0m \u001b[32m━━━━━━━━━━━━━━━━━━━━\u001b[0m\u001b[37m\u001b[0m \u001b[1m0s\u001b[0m 11ms/step - accuracy: 0.9940 - loss: 0.0309 - val_accuracy: 0.9611 - val_loss: 0.1340\n",
      "Epoch 7/21\n",
      "\u001b[1m23/23\u001b[0m \u001b[32m━━━━━━━━━━━━━━━━━━━━\u001b[0m\u001b[37m\u001b[0m \u001b[1m0s\u001b[0m 10ms/step - accuracy: 0.9959 - loss: 0.0203 - val_accuracy: 0.9667 - val_loss: 0.1302\n",
      "Epoch 8/21\n",
      "\u001b[1m23/23\u001b[0m \u001b[32m━━━━━━━━━━━━━━━━━━━━\u001b[0m\u001b[37m\u001b[0m \u001b[1m0s\u001b[0m 11ms/step - accuracy: 0.9980 - loss: 0.0107 - val_accuracy: 0.9667 - val_loss: 0.1031\n",
      "Epoch 9/21\n",
      "\u001b[1m23/23\u001b[0m \u001b[32m━━━━━━━━━━━━━━━━━━━━\u001b[0m\u001b[37m\u001b[0m \u001b[1m0s\u001b[0m 11ms/step - accuracy: 0.9983 - loss: 0.0071 - val_accuracy: 0.9722 - val_loss: 0.1243\n",
      "Epoch 10/21\n",
      "\u001b[1m23/23\u001b[0m \u001b[32m━━━━━━━━━━━━━━━━━━━━\u001b[0m\u001b[37m\u001b[0m \u001b[1m0s\u001b[0m 10ms/step - accuracy: 0.9984 - loss: 0.0074 - val_accuracy: 0.9667 - val_loss: 0.1317\n",
      "Epoch 11/21\n",
      "\u001b[1m23/23\u001b[0m \u001b[32m━━━━━━━━━━━━━━━━━━━━\u001b[0m\u001b[37m\u001b[0m \u001b[1m0s\u001b[0m 9ms/step - accuracy: 0.9993 - loss: 0.0046 - val_accuracy: 0.9667 - val_loss: 0.0982\n",
      "Epoch 12/21\n",
      "\u001b[1m23/23\u001b[0m \u001b[32m━━━━━━━━━━━━━━━━━━━━\u001b[0m\u001b[37m\u001b[0m \u001b[1m0s\u001b[0m 9ms/step - accuracy: 0.9996 - loss: 0.0058 - val_accuracy: 0.9556 - val_loss: 0.1775\n",
      "Epoch 13/21\n",
      "\u001b[1m23/23\u001b[0m \u001b[32m━━━━━━━━━━━━━━━━━━━━\u001b[0m\u001b[37m\u001b[0m \u001b[1m0s\u001b[0m 10ms/step - accuracy: 0.9979 - loss: 0.0074 - val_accuracy: 0.9667 - val_loss: 0.1344\n",
      "Epoch 14/21\n",
      "\u001b[1m23/23\u001b[0m \u001b[32m━━━━━━━━━━━━━━━━━━━━\u001b[0m\u001b[37m\u001b[0m \u001b[1m0s\u001b[0m 9ms/step - accuracy: 0.9982 - loss: 0.0060 - val_accuracy: 0.9667 - val_loss: 0.1523\n",
      "Epoch 15/21\n",
      "\u001b[1m23/23\u001b[0m \u001b[32m━━━━━━━━━━━━━━━━━━━━\u001b[0m\u001b[37m\u001b[0m \u001b[1m0s\u001b[0m 9ms/step - accuracy: 0.9968 - loss: 0.0069 - val_accuracy: 0.9556 - val_loss: 0.1186\n",
      "Epoch 16/21\n",
      "\u001b[1m23/23\u001b[0m \u001b[32m━━━━━━━━━━━━━━━━━━━━\u001b[0m\u001b[37m\u001b[0m \u001b[1m0s\u001b[0m 9ms/step - accuracy: 0.9998 - loss: 0.0022 - val_accuracy: 0.9722 - val_loss: 0.1543\n",
      "Epoch 17/21\n",
      "\u001b[1m23/23\u001b[0m \u001b[32m━━━━━━━━━━━━━━━━━━━━\u001b[0m\u001b[37m\u001b[0m \u001b[1m0s\u001b[0m 9ms/step - accuracy: 0.9992 - loss: 0.0026 - val_accuracy: 0.9667 - val_loss: 0.1204\n",
      "Epoch 18/21\n",
      "\u001b[1m23/23\u001b[0m \u001b[32m━━━━━━━━━━━━━━━━━━━━\u001b[0m\u001b[37m\u001b[0m \u001b[1m0s\u001b[0m 9ms/step - accuracy: 0.9994 - loss: 0.0023 - val_accuracy: 0.9667 - val_loss: 0.1713\n",
      "Epoch 19/21\n",
      "\u001b[1m23/23\u001b[0m \u001b[32m━━━━━━━━━━━━━━━━━━━━\u001b[0m\u001b[37m\u001b[0m \u001b[1m0s\u001b[0m 9ms/step - accuracy: 0.9982 - loss: 0.0046 - val_accuracy: 0.9667 - val_loss: 0.1316\n",
      "Epoch 20/21\n",
      "\u001b[1m23/23\u001b[0m \u001b[32m━━━━━━━━━━━━━━━━━━━━\u001b[0m\u001b[37m\u001b[0m \u001b[1m0s\u001b[0m 10ms/step - accuracy: 0.9990 - loss: 0.0016 - val_accuracy: 0.9667 - val_loss: 0.1266\n",
      "Epoch 21/21\n",
      "\u001b[1m23/23\u001b[0m \u001b[32m━━━━━━━━━━━━━━━━━━━━\u001b[0m\u001b[37m\u001b[0m \u001b[1m0s\u001b[0m 10ms/step - accuracy: 0.9988 - loss: 0.0023 - val_accuracy: 0.9667 - val_loss: 0.1286\n"
     ]
    }
   ],
   "source": [
    "# Train the model\n",
    "history = model.fit(X_train, y_train, epochs=21, validation_data=(X_val, y_val))"
   ]
  },
  {
   "cell_type": "code",
   "execution_count": 21,
   "metadata": {},
   "outputs": [
    {
     "name": "stdout",
     "output_type": "stream",
     "text": [
      "loss: [2.1841938495635986, 2.0272200107574463, 0.9905130863189697, 0.23460352420806885, 0.06297016143798828, 0.03272860124707222, 0.024346424266695976, 0.011171814985573292, 0.00930776447057724, 0.009456113912165165, 0.00622453773394227, 0.007224041968584061, 0.0083641167730093, 0.010127166286110878, 0.006345683708786964, 0.004366007167845964, 0.0038650964852422476, 0.004103786312043667, 0.005566020961850882, 0.0031429894734174013, 0.0025230543687939644]\n",
      "val_loss: [2.1657583713531494, 1.7632644176483154, 0.5219392776489258, 0.2862522602081299, 0.17628127336502075, 0.13398468494415283, 0.13020825386047363, 0.10307305306196213, 0.1243010014295578, 0.131675586104393, 0.09822092205286026, 0.17751096189022064, 0.1344451755285263, 0.15227670967578888, 0.11863120645284653, 0.15432140231132507, 0.1204274594783783, 0.1713339239358902, 0.1315767467021942, 0.1266130805015564, 0.12857754528522491]\n",
      "accuracy: [0.1713091880083084, 0.3133704662322998, 0.7089136242866516, 0.9526462554931641, 0.9874652028083801, 0.9930362105369568, 0.9958217144012451, 0.9972144961357117, 0.9972144961357117, 0.9972144961357117, 0.9986072182655334, 0.9986072182655334, 0.9972144961357117, 0.9972144961357117, 0.9972144961357117, 0.9986072182655334, 0.9986072182655334, 0.9986072182655334, 0.9972144961357117, 0.9972144961357117, 0.9986072182655334]\n",
      "val_accuracy: [0.17222222685813904, 0.4888888895511627, 0.8999999761581421, 0.9388889074325562, 0.9666666388511658, 0.9611111283302307, 0.9666666388511658, 0.9666666388511658, 0.9722222089767456, 0.9666666388511658, 0.9666666388511658, 0.9555555582046509, 0.9666666388511658, 0.9666666388511658, 0.9555555582046509, 0.9722222089767456, 0.9666666388511658, 0.9666666388511658, 0.9666666388511658, 0.9666666388511658, 0.9666666388511658]\n"
     ]
    },
    {
     "data": {
      "image/png": "[encoded data removed]",
      "text/plain": [
       "<Figure size 1400x500 with 2 Axes>"
      ]
     },
     "metadata": {},
     "output_type": "display_data"
    }
   ],
   "source": [
    "import matplotlib.pyplot as plt\n",
    "\n",
    "# Function to plot the training history\n",
    "def plot_training_history(history):\n",
    "    # Extract the history data\n",
    "    loss = history.history['loss']\n",
    "    val_loss = history.history['val_loss']\n",
    "    accuracy = history.history['accuracy']\n",
    "    val_accuracy = history.history['val_accuracy']\n",
    "    epochs = range(1, len(loss) + 1)\n",
    "    \n",
    "    print(f'loss: {loss}')\n",
    "    print(f'val_loss: {val_loss}')\n",
    "    print(f'accuracy: {accuracy}')\n",
    "    print(f'val_accuracy: {val_accuracy}')\n",
    "\n",
    "    # Plot loss and validation loss\n",
    "    plt.figure(figsize=(14, 5))\n",
    "\n",
    "    plt.subplot(1, 2, 1)\n",
    "    plt.plot(epochs, loss, 'k', label='Training loss')  # black for loss\n",
    "    plt.plot(epochs, val_loss, 'b', label='Validation loss')  # blue for val_loss\n",
    "    plt.title('Training and validation loss')\n",
    "    plt.xlabel('Epochs')\n",
    "    plt.ylabel('Loss')\n",
    "    plt.legend()\n",
    "\n",
    "    # Plot accuracy and validation accuracy\n",
    "    plt.subplot(1, 2, 2)\n",
    "    plt.plot(epochs, accuracy, 'k', label='Training accuracy')  # black for accuracy\n",
    "    plt.plot(epochs, val_accuracy, 'b', label='Validation accuracy')  # blue for val_accuracy\n",
    "    plt.title('Training and validation accuracy')\n",
    "    plt.xlabel('Epochs')\n",
    "    plt.ylabel('Accuracy')\n",
    "    plt.legend()\n",
    "\n",
    "    plt.tight_layout()\n",
    "    plt.show()\n",
    "\n",
    "# Plot the training history\n",
    "plot_training_history(history)\n"
   ]
  },
  {
   "cell_type": "markdown",
   "metadata": {},
   "source": [
    "### Usage"
   ]
  },
  {
   "cell_type": "code",
   "execution_count": 30,
   "metadata": {},
   "outputs": [
    {
     "name": "stdout",
     "output_type": "stream",
     "text": [
      "\u001b[1m1/1\u001b[0m \u001b[32m━━━━━━━━━━━━━━━━━━━━\u001b[0m\u001b[37m\u001b[0m \u001b[1m0s\u001b[0m 21ms/step\n",
      "\n",
      "Top category and with the probability:\n",
      "Manajemen keuangan pribadi: 0.9997\n",
      "Suggested questions:\n",
      "Bagaimana cara menabung untuk liburan tanpa utang?\n",
      "Apa itu rasio likuiditas dan bagaimana cara menghitungnya?\n",
      "Bagaimana cara merencanakan keuangan untuk pendidikan tinggi anak?\n",
      "Apa itu passive income dan bagaimana cara mendapatkannya?\n"
     ]
    }
   ],
   "source": [
    "# Function to predict top questions\n",
    "def suggest_questions(user_input, total_questions=4):\n",
    "    sequence = tokenizer.texts_to_sequences([user_input])\n",
    "    padded_sequence = pad_sequences(sequence, maxlen=padded_sequences.shape[1], padding='post')\n",
    "    predictions = model.predict(padded_sequence)\n",
    "    labels = list(label_dict.keys())\n",
    "    \n",
    "    # Get top n categories with their probabilities\n",
    "    top_categories_prediction = np.argsort(predictions[0])[-1:][::-1]\n",
    "    top_categories = [(labels[idx], predictions[0][idx]) for idx in top_categories_prediction]\n",
    "    \n",
    "    # Print top categories with their probabilities\n",
    "    print()\n",
    "    print(\"Top category and with the probability:\")\n",
    "    for category, prob in top_categories:\n",
    "        print(f'{category}: {prob:.4f}')\n",
    "    \n",
    "    # Filter questions from the dataset based on top categories\n",
    "    suggested_questions = []\n",
    "    for category, _ in top_categories:\n",
    "        category_questions = df[df['Category'] == category]['Question'].tolist()\n",
    "        suggested_questions.extend(category_questions)\n",
    "    \n",
    "    # return random n questions\n",
    "    return np.random.choice(suggested_questions, total_questions)\n",
    "\n",
    "# Example usage\n",
    "# user_input = \"Bagaimana cara berinvestasi yang aman?\"\n",
    "# user_input = \"Bagaimana cara memilih asuransi yang tepat?\"\n",
    "# user_input = \"Bagaimana cara memilih saham yang baik?\"\n",
    "user_input = \"Bagaimana cara membuat anggaran bulanan yang efektif?\"\n",
    "# user_input = \"Apa itu cryptocurrency?\"\n",
    "# user_input = \"Apa yang harus saya lakukan jika suku bunga naik?\"\n",
    "# user_input = \"Bagaimana cara saya memilih reksadana?\"\n",
    "# user_input = \"Bagaimana cara saya memilih reksadana yang baik?\"\n",
    "\n",
    "\n",
    "suggested_questions = suggest_questions(user_input)\n",
    "print(\"Suggested questions:\")\n",
    "for question in suggested_questions:\n",
    "    print(question)"
   ]
  },
  {
   "cell_type": "code",
   "execution_count": null,
   "metadata": {},
   "outputs": [],
   "source": []
  }
 ],
 "metadata": {
  "kernelspec": {
   "display_name": ".venv",
   "language": "python",
   "name": "python3"
  },
  "language_info": {
   "codemirror_mode": {
    "name": "ipython",
    "version": 3
   },
   "file_extension": ".py",
   "mimetype": "text/x-python",
   "name": "python",
   "nbconvert_exporter": "python",
   "pygments_lexer": "ipython3",
   "version": "3.11.3"
  }
 },
 "nbformat": 4,
 "nbformat_minor": 2
}
