{
 "cells": [
  {
   "cell_type": "markdown",
   "metadata": {},
   "source": [
    "# Question Suggestion Feature"
   ]
  },
  {
   "cell_type": "markdown",
   "metadata": {},
   "source": [
    "### Import Dependencies"
   ]
  },
  {
   "cell_type": "code",
   "execution_count": 31,
   "metadata": {},
   "outputs": [],
   "source": [
    "import numpy as np\n",
    "import tensorflow as tf\n",
    "import pandas as pd"
   ]
  },
  {
   "cell_type": "markdown",
   "metadata": {},
   "source": [
    "### Preproccessing"
   ]
  },
  {
   "cell_type": "code",
   "execution_count": 32,
   "metadata": {},
   "outputs": [],
   "source": [
    "from tensorflow.keras.preprocessing.text import Tokenizer # type: ignore\n",
    "from tensorflow.keras.preprocessing.sequence import pad_sequences # type: ignore\n",
    "from sklearn.model_selection import train_test_split # type: ignore"
   ]
  },
  {
   "cell_type": "code",
   "execution_count": 33,
   "metadata": {},
   "outputs": [
    {
     "data": {
      "text/html": [
       "<div>\n",
       "<style scoped>\n",
       "    .dataframe tbody tr th:only-of-type {\n",
       "        vertical-align: middle;\n",
       "    }\n",
       "\n",
       "    .dataframe tbody tr th {\n",
       "        vertical-align: top;\n",
       "    }\n",
       "\n",
       "    .dataframe thead th {\n",
       "        text-align: right;\n",
       "    }\n",
       "</style>\n",
       "<table border=\"1\" class=\"dataframe\">\n",
       "  <thead>\n",
       "    <tr style=\"text-align: right;\">\n",
       "      <th></th>\n",
       "      <th>Question</th>\n",
       "      <th>Category</th>\n",
       "    </tr>\n",
       "  </thead>\n",
       "  <tbody>\n",
       "    <tr>\n",
       "      <th>0</th>\n",
       "      <td>Bagaimana cara memilih platform trading crypto...</td>\n",
       "      <td>Cryptocurrency</td>\n",
       "    </tr>\n",
       "    <tr>\n",
       "      <th>1</th>\n",
       "      <td>Apa itu cryptocurrency staking dan bagaimana c...</td>\n",
       "      <td>Cryptocurrency</td>\n",
       "    </tr>\n",
       "    <tr>\n",
       "      <th>2</th>\n",
       "      <td>Bagaimana cara mengenali proyek cryptocurrency...</td>\n",
       "      <td>Cryptocurrency</td>\n",
       "    </tr>\n",
       "    <tr>\n",
       "      <th>3</th>\n",
       "      <td>Apa saja teknik dasar dalam analisis teknikal ...</td>\n",
       "      <td>Cryptocurrency</td>\n",
       "    </tr>\n",
       "    <tr>\n",
       "      <th>4</th>\n",
       "      <td>Bagaimana cara melakukan trading cryptocurrenc...</td>\n",
       "      <td>Cryptocurrency</td>\n",
       "    </tr>\n",
       "  </tbody>\n",
       "</table>\n",
       "</div>"
      ],
      "text/plain": [
       "                                            Question        Category\n",
       "0  Bagaimana cara memilih platform trading crypto...  Cryptocurrency\n",
       "1  Apa itu cryptocurrency staking dan bagaimana c...  Cryptocurrency\n",
       "2  Bagaimana cara mengenali proyek cryptocurrency...  Cryptocurrency\n",
       "3  Apa saja teknik dasar dalam analisis teknikal ...  Cryptocurrency\n",
       "4  Bagaimana cara melakukan trading cryptocurrenc...  Cryptocurrency"
      ]
     },
     "execution_count": 33,
     "metadata": {},
     "output_type": "execute_result"
    }
   ],
   "source": [
    "# Load the dataset\n",
    "df = pd.read_csv('../dataset/data.csv')\n",
    "df.head()"
   ]
  },
  {
   "cell_type": "code",
   "execution_count": 34,
   "metadata": {},
   "outputs": [
    {
     "name": "stdout",
     "output_type": "stream",
     "text": [
      "questions: ['Bagaimana cara memilih platform trading cryptocurrency?', 'Apa itu cryptocurrency staking dan bagaimana cara kerjanya?', 'Bagaimana cara mengenali proyek cryptocurrency yang menjanjikan?', 'Apa saja teknik dasar dalam analisis teknikal cryptocurrency?', 'Bagaimana cara melakukan trading cryptocurrency secara aman?']\n",
      "labels: ['Cryptocurrency', 'Cryptocurrency', 'Cryptocurrency', 'Cryptocurrency', 'Cryptocurrency']\n"
     ]
    }
   ],
   "source": [
    "# Separate questions and labels\n",
    "questions = df['Question'].tolist()\n",
    "labels = df['Category'].tolist()\n",
    "\n",
    "print(f'questions: {questions[:5]}')\n",
    "print(f'labels: {labels[:5]}')"
   ]
  },
  {
   "cell_type": "code",
   "execution_count": 35,
   "metadata": {},
   "outputs": [
    {
     "name": "stdout",
     "output_type": "stream",
     "text": [
      "label_dict: {'Reksadana': 0, 'Obligasi': 1, 'Saham': 2, 'Emas': 3, 'Makro ekonomi': 4, 'Asuransi': 5, 'Manajemen keuangan pribadi': 6, 'Pajak': 7, 'Cryptocurrency': 8}\n",
      "numerical_labels: [8, 8, 8, 8, 8]\n"
     ]
    }
   ],
   "source": [
    "# Convert categories to numerical labels\n",
    "label_dict = {label: idx for idx, label in enumerate(set(labels))}\n",
    "numerical_labels = [label_dict[label] for label in labels]\n",
    "\n",
    "print(f'label_dict: {label_dict}')\n",
    "print(f'numerical_labels: {numerical_labels[:5]}')"
   ]
  },
  {
   "cell_type": "code",
   "execution_count": 36,
   "metadata": {},
   "outputs": [],
   "source": [
    "# Tokenization and padding\n",
    "tokenizer = Tokenizer(num_words=10000)\n",
    "tokenizer.fit_on_texts(questions)\n",
    "sequences = tokenizer.texts_to_sequences(questions)\n",
    "padded_sequences = pad_sequences(sequences, padding='post')"
   ]
  },
  {
   "cell_type": "code",
   "execution_count": 37,
   "metadata": {},
   "outputs": [
    {
     "name": "stdout",
     "output_type": "stream",
     "text": [
      "<keras.src.legacy.preprocessing.text.Tokenizer object at 0x00000240B6A59B10>\n",
      "{'bagaimana': 1, 'cara': 2, 'apa': 3, 'itu': 4, 'dan': 5, 'saja': 6, 'dalam': 7, 'untuk': 8, 'yang': 9, 'reksadana': 10, 'asuransi': 11, 'obligasi': 12, 'emas': 13, 'saham': 14, 'pajak': 15, 'kerjanya': 16, 'investasi': 17, 'berinvestasi': 18, 'cryptocurrency': 19, 'di': 20, 'kerja': 21, 'memilih': 22, 'dengan': 23, 'menggunakan': 24, 'jenis': 25, 'ekonomi': 26, 'keuangan': 27, 'risiko': 28, 'memahami': 29, 'trading': 30, 'mengelola': 31, 'keuntungan': 32, 'pasar': 33, 'terhadap': 34, 'menghitung': 35, 'dalamnya': 36, 'harga': 37, 'kesehatan': 38, 'kebijakan': 39, 'membeli': 40, 'mempengaruhi': 41, 'mendapatkan': 42, 'tips': 43, 'dari': 44, 'indikator': 45, 'pengaruhnya': 46, 'analisis': 47, 'melakukan': 48, 'mengajukan': 49, 'negara': 50, 'inflasi': 51, 'melaporkan': 52, 'menentukan': 53, 'mengatur': 54, 'nilai': 55, 'penghasilan': 56, 'portofolio': 57, 'menghitungnya': 58, 'menggunakannya': 59, 'faktor': 60, 'mengukur': 61, 'secara': 62, 'saat': 63, 'laporan': 64, 'tax': 65, 'membuat': 66, 'anggaran': 67, 'utang': 68, 'polis': 69, 'klaim': 70, 'perdagangan': 71, 'pengaruh': 72, 'tersedia': 73, 'memanfaatkan': 74, 'keuntungannya': 75, 'perusahaan': 76, 'jangka': 77, 'pemerintah': 78, 'strategi': 79, 'aman': 80, 'menghindari': 81, 'tepat': 82, 'internasional': 83, 'yield': 84, 'digital': 85, 'properti': 86, 'langkah': 87, 'dimaksud': 88, 'uang': 89, 'bisnis': 90, 'bagi': 91, 'diversifikasi': 92, 'panjang': 93, 'fisik': 94, 'platform': 95, 'teknikal': 96, 'fund': 97, 'anak': 98, 'jiwa': 99, 'manfaat': 100, 'bunga': 101, 'melakukannya': 102, 'antara': 103, 'sebagai': 104, 'rumah': 105, 'terkait': 106, 'wallet': 107, 'pensiun': 108, 'pendidikan': 109, 'premi': 110, 'fiskal': 111, 'perekonomian': 112, 'suku': 113, 'kecil': 114, 'online': 115, 'korporasi': 116, 'financial': 117, 'harus': 118, 'kewajiban': 119, 'mengurangi': 120, 'pengeluaran': 121, 'dana': 122, 'keluarga': 123, 'kendaraan': 124, 'perbedaan': 125, 'risikonya': 126, 'syariah': 127, 'menganalisis': 128, 'kredit': 129, 'batangan': 130, 'blockchain': 131, 'pendapatan': 132, 'aset': 133, 'ico': 134, 'decentralized': 135, 'melalui': 136, 'etf': 137, 'berjangka': 138, 'fundamental': 139, 'initial': 140, 'offering': 141, 'mining': 142, 'efektif': 143, 'dampaknya': 144, 'pengangguran': 145, 'biaya': 146, 'defi': 147, 'tingkat': 148, 'krisis': 149, 'exchange': 150, 'pribadi': 151, 'menghadapi': 152, 'bulanan': 153, 'sinking': 154, 'perjalanan': 155, 'mengatasi': 156, 'moneter': 157, 'tambahan': 158, 'wajib': 159, 'kinerja': 160, 'tetap': 161, 'hijau': 162, 'utama': 163, 'dividen': 164, 'terpercaya': 165, 'mengamankan': 166, 'smart': 167, 'contract': 168, 'merencanakan': 169, 'darurat': 170, 'menabung': 171, 'meningkatkan': 172, 'pembayaran': 173, 'pengembalian': 174, 'campuran': 175, 'global': 176, 'preferen': 177, 'pool': 178, 'token': 179, 'usaha': 180, 'kupon': 181, 'bond': 182, 'mencapainya': 183, 'perencanaan': 184, 'proyek': 185, 'deductible': 186, 'ketentuan': 187, 'value': 188, 'makro': 189, 'ratio': 190, 'tanpa': 191, 'indeks': 192, 'to': 193, 'mendapatkannya': 194, 'menyimpan': 195, 'memulai': 196, 'proof': 197, 'of': 198, 'airdrop': 199, 'liburan': 200, 'unit': 201, 'pertumbuhan': 202, 'neraca': 203, 'resesi': 204, 'ppn': 205, 'defensif': 206, 'stablecoin': 207, 'pasif': 208, 'penjualan': 209, 'individu': 210, 'fluktuasi': 211, 'warisan': 212, 'insentif': 213, 'pemula': 214, 'terbaik': 215, 'teknik': 216, 'fork': 217, 'harian': 218, 'sesuai': 219, 'cash': 220, 'dampak': 221, 'dokumen': 222, 'penyertaan': 223, 'konversi': 224, 'sekunder': 225, 'callable': 226, 'moving': 227, 'teknologi': 228, 'leverage': 229, 'perhiasan': 230, 'baik': 231, 'ritel': 232, 'indonesia': 233, 'ipo': 234, 'kartu': 235, 'menikah': 236, 'setelah': 237, 'link': 238, 'dimiliki': 239, 'kebutuhan': 240, 'suatu': 241, 'pdb': 242, 'leading': 243, 'mempersiapkan': 244, 'freelancer': 245, 'pertambahan': 246, 'membelinya': 247, 'menilai': 248, 'blue': 249, 'chip': 250, 'gold': 251, 'liquidity': 252, 'nft': 253, 'masa': 254, 'memiliki': 255, 'perlindungan': 256, 'pemilik': 257, 'waktu': 258, 'growth': 259, 'debt': 260, 'zero': 261, 'umum': 262, 'oleh': 263, 'menilainya': 264, 'konteks': 265, 'hardware': 266, 'rasio': 267, 'tabungan': 268, 'menyiapkan': 269, 'lebih': 270, 'rendah': 271, 'diperhatikan': 272, 'membaca': 273, 'defisit': 274, 'mata': 275, 'publik': 276, 'pelaporan': 277, 'pengurangan': 278, 'planning': 279, 'menghindarinya': 280, 'terbatas': 281, 'bonds': 282, 'average': 283, 'tahunan': 284, 'stock': 285, 'buyback': 286, 'pendek': 287, 'kelebihan': 288, 'sertifikat': 289, 'profil': 290, 'nab': 291, 'aktiva': 292, 'bersih': 293, 'terproteksi': 294, 'manajer': 295, 'prospektus': 296, 'sukuk': 297, 'maturity': 298, 'public': 299, 'berpartisipasi': 300, 'lindung': 301, 'koin': 302, 'likuiditas': 303, 'modal': 304, 'dompet': 305, 'stake': 306, 'independence': 307, 'siklus': 308, 'produktivitas': 309, 'lagging': 310, 'masuk': 311, 'candlestick': 312, 'pada': 313, 'cyclical': 314, 'altcoin': 315, 'coin': 316, 'finance': 317, 'farming': 318, 'dunia': 319, 'non': 320, 'fungible': 321, 'sehari': 322, 'hari': 323, 'mikro': 324, 'maksimal': 325, 'deflasi': 326, 'proteksionisme': 327, 'ekspansif': 328, 'ketimpangan': 329, 'dapat': 330, 'rebalancing': 331, 'snowball': 332, 'life': 333, 'bank': 334, 'coupon': 335, 'daerah': 336, 'primer': 337, 'emergency': 338, 'credit': 339, 'kesalahan': 340, 'volatilitas': 341, 'mendesak': 342, 'beban': 343, 'progresif': 344, 'investor': 345, 'menghemat': 346, 'dibayar': 347, 'laddering': 348, 'keaslian': 349, 'cicilan': 350, 'populer': 351, 'net': 352, 'mengklaim': 353, 'penalti': 354, 'staking': 355, 'menjanjikan': 356, 'scam': 357, 'rencana': 358, 'underwriting': 359, 'tukar': 360, 'quantitative': 361, 'easing': 362, 'diperlukan': 363, 'berganda': 364, 'amnesty': 365, 'luar': 366, 'negeri': 367, 'mengevaluasi': 368, 'redemption': 369, 'mengambang': 370, 'spread': 371, 'jaminan': 372, 'macd': 373, 'kontrak': 374, 'switching': 375, 'perubahan': 376, 'price': 377, 'earnings': 378, 'p': 379, 'e': 380, 'rsi': 381, 'intrinsik': 382, 'work': 383, 'budgeting': 384, 'melunasi': 385, 'pembelian': 386, 'baru': 387, 'manfaatnya': 388, 'rider': 389, 'jika': 390, 'membandingkan': 391, 'berbagai': 392, 'produk': 393, 'hubungan': 394, 'tenaga': 395, 'pph': 396, 'efisiensi': 397, 'karyawan': 398, 'terstruktur': 399, 'alokasi': 400, 'penipuan': 401, 'perpetual': 402, 'mengidentifikasinya': 403, 'plan': 404, 'whitepaper': 405, 'multi': 406, 'signature': 407, 'mengumpulkannya': 408, 'mengatasinya': 409, 'asing': 410, 'gdp': 411, 'per': 412, 'kapita': 413, 'mengukurnya': 414, 'withholding': 415, 'potongan': 416, 'diklaim': 417, 'audit': 418, 'berbasis': 419, 'subordinasi': 420, 'domestik': 421, 'split': 422, 'penny': 423, 'penyimpanan': 424, 'opsi': 425, 'hard': 426, 'menyusun': 427, 'insurance': 428, 'kontraktif': 429, 'mengelolanya': 430, 'aplikasi': 431, 'sektor': 432, 'menerapkannya': 433, 'berkelanjutan': 434, 'governance': 435, 'swasta': 436, 'mengendalikan': 437, 'kualitas': 438, 'membangunnya': 439, 'freedom': 440, 'passive': 441, 'income': 442, 'tinggi': 443, 'globalisasi': 444, 'bisa': 445, 'tidak': 446, 'dihindari': 447, 'waran': 448, 'valuasi': 449, 'titik': 450, 'keluar': 451, 'memverifikasi': 452, 'pergerakan': 453, 'cocok': 454, 'cold': 455, 'lightning': 456, 'network': 457, 'bitcoin': 458, 'worth': 459, 'acara': 460, 'besar': 461, 'goal': 462, 'memprioritaskan': 463, 'tabel': 464, 'premium': 465, 'waiver': 466, 'menghadapinya': 467, 'pekerja': 468, 'lepas': 469, 'membayarnya': 470, 'refund': 471, 'kerugian': 472, 'tradingnya': 473, 'kekurangan': 474, 'mengidentifikasi': 475, 'konsumsi': 476, 'end': 477, 'load': 478, 'sistem': 479, 'data': 480, 'nasional': 481, 'mengenali': 482, 'dasar': 483, 'tokenomics': 484, 'dex': 485, 'meningkatkannya': 486, 'phk': 487, 'prioritas': 488, 'berlebihan': 489, 'penting': 490, 'surplus': 491, 'negatif': 492, 'denda': 493, 'keringanan': 494, 'tematik': 495, 'feeder': 496, 'optimal': 497, 'perlu': 498, 'dipertimbangkan': 499, 'total': 500, 'expense': 501, 'money': 502, 'market': 503, 'surat': 504, 'pernyataan': 505, 'penawaran': 506, 'seri': 507, 'convergence': 508, 'divergence': 509, 'bollinger': 510, 'bands': 511, 'short': 512, 'selling': 513, 'pivot': 514, 'points': 515, 'spekulatif': 516, 'likuid': 517, 'stochastic': 518, 'oscillator': 519, 'antar': 520, 'auto': 521, 'invest': 522, 'dollar': 523, 'cost': 524, 'averaging': 525, 'ori': 526, 'peringkat': 527, 'ytm': 528, 'due': 529, 'diligence': 530, 'sebelum': 531, 'high': 532, 'averages': 533, 'relative': 534, 'strength': 535, 'index': 536, 'centralized': 537, 'cex': 538, 'pow': 539, 'pos': 540, 'keamanan': 541, 'pertama': 542, 'retire': 543, 'early': 544, 'fire': 545, 'skor': 546, 'pasangan': 547, 'refinancing': 548, 'kapan': 549, 'menerima': 550, 'kenaikan': 551, 'gaji': 552, 'tradisional': 553, 'penyakit': 554, 'kritis': 555, 'dilakukan': 556, 'ditolak': 557, 'mengendalikannya': 558, 'devaluasi': 559, 'komponen': 560, 'perhitungan': 561, '21': 562, 'banding': 563, 'atas': 564, 'keputusan': 565, 'bea': 566, 'barang': 567, 'impor': 568, 'nomor': 569, 'pokok': 570, 'npwp': 571, 'ada': 572, 'sharpe': 573, 'municipal': 574, 'diskonto': 575, 'pinjaman': 576, 'covenant': 577, 'subprime': 578, 'stocks': 579, 'patterns': 580, 'swot': 581, 'numismatik': 582, 'penyedia': 583, 'saving': 584, 'kolektif': 585, 'memilihnya': 586, 'mengikuti': 587, 'keperluan': 588, 'bijak': 589, 'amortisasi': 590, 'kecelakaan': 591, 'diri': 592, 'perpanjangan': 593, 'berdasarkan': 594, 'dikelola': 595, 'performa': 596, 'offshore': 597, 'serial': 598, 'current': 599, 'laba': 600, 'rugi': 601, 'kertas': 602, 'application': 603, 'dapp': 604, 'soft': 605, 'cross': 606, 'chain': 607, 'belanja': 608, 'method': 609, 'mencapai': 610, 'kebebasan': 611, 'finansial': 612, 'membuatnya': 613, 'memulainya': 614, 'rutin': 615, 'pemborosan': 616, 'universal': 617, 'whole': 618, 'term': 619, 'kemiskinan': 620, 'mempromosikan': 621, 'restriktif': 622, 'transfer': 623, 'payment': 624, 'pembetulan': 625, 'spt': 626, 'final': 627, 'avoidance': 628, 'legal': 629, 'restitusi': 630, 'bumi': 631, 'bangunan': 632, 'pbb': 633, 'suami': 634, 'istri': 635, 'warga': 636, 'hybrid': 637, 'small': 638, 'cap': 639, 'tren': 640, 'deposito': 641, 'tangga': 642, 'mengoptimalkan': 643, 'selama': 644, 'sovereign': 645, 'arus': 646, 'kas': 647, 'energi': 648, 'undervalued': 649, 'rekening': 650, 'tempat': 651, 'chainlink': 652, 'based': 653, 'pengelolaan': 654, 'avalanche': 655, 'coinsurance': 656, 'surrender': 657, 'reinsurance': 658, 'inti': 659, 'ukm': 660, 'treaty': 661, 'bermotor': 662, 'keberatan': 663, 'terbuka': 664, 'tertutup': 665, 'kelayakan': 666, 'penerbit': 667, 'sampah': 668, 'junk': 669, 'perdana': 670, 'putih': 671, 'bedanya': 672, 'kuning': 673, 'cepat': 674, 'manajemen': 675, 'murah': 676, 'hewan': 677, 'peliharaan': 678, 'output': 679, 'gap': 680, 'inklusif': 681, 'mekanisme': 682, 'transmisi': 683, 'regresif': 684, 'sanksi': 685, 'dikenakan': 686, 'membayar': 687, 'aktif': 688, 'terendah': 689, 'memonitor': 690, 'rating': 691, 'dibandingkan': 692, 'wajar': 693, 'pencurian': 694, 'dipilih': 695, 'crypto': 696, 'potensial': 697, 'ieo': 698, 'melindungi': 699, 'hacker': 700, 'transaksi': 701, 'banyak': 702, 'kehilangan': 703, 'pekerjaan': 704, 'mobil': 705, 'syarat': 706, 'cacat': 707, 'daya': 708, 'beli': 709, 'masyarakat': 710, 'menangani': 711, 'stagflasi': 712, 'diterapkan': 713, 'prospectus': 714, 'membacanya': 715, 'front': 716, 'back': 717, 'tujuan': 718, 'fitur': 719, 'call': 720, 'option': 721, 'dividend': 722, 'reinvestment': 723, 'plans': 724, 'drips': 725, 'kapitalisasi': 726, 'digunakan': 727, 'gadai': 728, 'futures': 729, 'tambang': 730, 'sharding': 731, 'compound': 732, 'interest': 733, 'bonus': 734, 'depan': 735, 'komprehensif': 736, 'harta': 737, 'benda': 738, 'keseimbangan': 739, 'subsidi': 740, 'komoditas': 741, 'berlaku': 742, 'efisien': 743, 'masalah': 744, 'subscription': 745, 'nav': 746, 'asset': 747, 'memantau': 748, 'reverse': 749, 'broker': 750, 'menjual': 751, 'memastikan': 752, 'permintaan': 753, 'lending': 754, 'platforms': 755, 'autonomous': 756, 'organization': 757, 'dao': 758, 'consensus': 759, 'mechanism': 760, 'utility': 761, 'terduga': 762, 'flow': 763, 'pernikahan': 764, 'agar': 765, 'terjangkau': 766, 'agen': 767, 'mengajukannya': 768, 'komersial': 769, 'hiperinflasi': 770, 'tantangan': 771, 'pembangunan': 772, 'bracket': 773, 'sumbangan': 774, 'mengurus': 775, 'sewaan': 776, 'kekayaan': 777, 'maksimum': 778}\n",
      "[[1, 2, 22, 95, 30, 19], [3, 4, 19, 355, 5, 1, 2, 16], [1, 2, 482, 185, 19, 9, 356], [3, 6, 216, 483, 7, 47, 96, 19], [1, 2, 48, 30, 19, 62, 80]]\n",
      "[[  1   2  22  95  30  19   0   0   0   0   0]\n",
      " [  3   4  19 355   5   1   2  16   0   0   0]\n",
      " [  1   2 482 185  19   9 356   0   0   0   0]\n",
      " [  3   6 216 483   7  47  96  19   0   0   0]\n",
      " [  1   2  48  30  19  62  80   0   0   0   0]]\n"
     ]
    }
   ],
   "source": [
    "print(tokenizer)\n",
    "print(tokenizer.word_index)\n",
    "print(sequences[:5])\n",
    "print(padded_sequences[:5])"
   ]
  },
  {
   "cell_type": "code",
   "execution_count": 38,
   "metadata": {},
   "outputs": [
    {
     "name": "stdout",
     "output_type": "stream",
     "text": [
      "numerical_labels: [8 8 8 8 8]\n"
     ]
    }
   ],
   "source": [
    "# Convert numerical labels to a numpy array\n",
    "numerical_labels = np.array(numerical_labels)\n",
    "print(f'numerical_labels: {numerical_labels[:5]}')"
   ]
  },
  {
   "cell_type": "code",
   "execution_count": 39,
   "metadata": {},
   "outputs": [
    {
     "name": "stdout",
     "output_type": "stream",
     "text": [
      "X_train: (859, 11)\n",
      "X_val: (215, 11)\n",
      "y_train: (859,)\n",
      "y_val: (215,)\n",
      "X_train: [[  3   6  25  25  70   7  11   0   0   0   0]\n",
      " [  3   6 288   5 474  17  13 130   0   0   0]\n",
      " [  1   2  61 329 132   0   0   0   0   0   0]\n",
      " [  1   2  22  11   8 180 114   0   0   0   0]\n",
      " [  1   2  35  37 286  13   0   0   0   0   0]]\n",
      "X_val: [[  1   2 248 295  17  10   0   0   0   0   0]\n",
      " [  1   2  18   7  12  78 336   0   0   0   0]\n",
      " [  1   2  21 167 168   7 131   0   0   0   0]\n",
      " [  1   2 300   7 435 179   0   0   0   0   0]\n",
      " [  3   6  79  65 628   9 629   0   0   0   0]]\n",
      "y_train: [5 3 4 5 3]\n",
      "y_val: [0 1 8 8 7]\n"
     ]
    }
   ],
   "source": [
    "# Split the data into training and validation sets\n",
    "X_train, X_val, y_train, y_val = train_test_split(padded_sequences, numerical_labels, test_size=0.2, random_state=42)\n",
    "\n",
    "print(f'X_train: {X_train.shape}')\n",
    "print(f'X_val: {X_val.shape}')\n",
    "print(f'y_train: {y_train.shape}')\n",
    "print(f'y_val: {y_val.shape}')\n",
    "\n",
    "print(f'X_train: {X_train[:5]}')\n",
    "print(f'X_val: {X_val[:5]}')\n",
    "print(f'y_train: {y_train[:5]}')\n",
    "print(f'y_val: {y_val[:5]}')"
   ]
  },
  {
   "cell_type": "markdown",
   "metadata": {},
   "source": [
    "### Model"
   ]
  },
  {
   "cell_type": "code",
   "execution_count": 40,
   "metadata": {},
   "outputs": [],
   "source": [
    "from tensorflow.keras.models import Sequential # type: ignore\n",
    "from tensorflow.keras.layers import Embedding, LSTM, Dense, Dropout, Bidirectional # type: ignore"
   ]
  },
  {
   "cell_type": "code",
   "execution_count": 41,
   "metadata": {},
   "outputs": [
    {
     "name": "stdout",
     "output_type": "stream",
     "text": [
      "Number of unique categories: 9\n"
     ]
    }
   ],
   "source": [
    "num_classes = len(set(labels))\n",
    "print(f'Number of unique categories: {num_classes}')"
   ]
  },
  {
   "cell_type": "code",
   "execution_count": 42,
   "metadata": {},
   "outputs": [],
   "source": [
    "# Define the model\n",
    "model = tf.keras.Sequential([\n",
    "    Embedding(input_dim=10000, output_dim=64),\n",
    "    Bidirectional(LSTM(64)),\n",
    "    Dense(64, activation='relu'),\n",
    "    Dense(num_classes, activation='softmax')\n",
    "])"
   ]
  },
  {
   "cell_type": "code",
   "execution_count": 43,
   "metadata": {},
   "outputs": [],
   "source": [
    "# Compile the model\n",
    "model.compile(optimizer='adam', loss='sparse_categorical_crossentropy', metrics=['accuracy'])"
   ]
  },
  {
   "cell_type": "code",
   "execution_count": 44,
   "metadata": {},
   "outputs": [
    {
     "name": "stdout",
     "output_type": "stream",
     "text": [
      "Epoch 1/21\n",
      "\u001b[1m27/27\u001b[0m \u001b[32m━━━━━━━━━━━━━━━━━━━━\u001b[0m\u001b[37m\u001b[0m \u001b[1m5s\u001b[0m 24ms/step - accuracy: 0.1563 - loss: 2.1881 - val_accuracy: 0.3488 - val_loss: 2.1154\n",
      "Epoch 2/21\n",
      "\u001b[1m27/27\u001b[0m \u001b[32m━━━━━━━━━━━━━━━━━━━━\u001b[0m\u001b[37m\u001b[0m \u001b[1m0s\u001b[0m 10ms/step - accuracy: 0.4869 - loss: 1.9462 - val_accuracy: 0.5953 - val_loss: 1.2384\n",
      "Epoch 3/21\n",
      "\u001b[1m27/27\u001b[0m \u001b[32m━━━━━━━━━━━━━━━━━━━━\u001b[0m\u001b[37m\u001b[0m \u001b[1m0s\u001b[0m 10ms/step - accuracy: 0.7025 - loss: 0.9652 - val_accuracy: 0.9209 - val_loss: 0.5203\n",
      "Epoch 4/21\n",
      "\u001b[1m27/27\u001b[0m \u001b[32m━━━━━━━━━━━━━━━━━━━━\u001b[0m\u001b[37m\u001b[0m \u001b[1m0s\u001b[0m 10ms/step - accuracy: 0.9508 - loss: 0.3140 - val_accuracy: 0.9256 - val_loss: 0.3698\n",
      "Epoch 5/21\n",
      "\u001b[1m27/27\u001b[0m \u001b[32m━━━━━━━━━━━━━━━━━━━━\u001b[0m\u001b[37m\u001b[0m \u001b[1m0s\u001b[0m 9ms/step - accuracy: 0.9723 - loss: 0.1404 - val_accuracy: 0.9256 - val_loss: 0.2031\n",
      "Epoch 6/21\n",
      "\u001b[1m27/27\u001b[0m \u001b[32m━━━━━━━━━━━━━━━━━━━━\u001b[0m\u001b[37m\u001b[0m \u001b[1m0s\u001b[0m 9ms/step - accuracy: 0.9874 - loss: 0.0690 - val_accuracy: 0.9581 - val_loss: 0.1532\n",
      "Epoch 7/21\n",
      "\u001b[1m27/27\u001b[0m \u001b[32m━━━━━━━━━━━━━━━━━━━━\u001b[0m\u001b[37m\u001b[0m \u001b[1m0s\u001b[0m 9ms/step - accuracy: 0.9898 - loss: 0.0394 - val_accuracy: 0.9721 - val_loss: 0.1130\n",
      "Epoch 8/21\n",
      "\u001b[1m27/27\u001b[0m \u001b[32m━━━━━━━━━━━━━━━━━━━━\u001b[0m\u001b[37m\u001b[0m \u001b[1m0s\u001b[0m 9ms/step - accuracy: 0.9948 - loss: 0.0322 - val_accuracy: 0.9535 - val_loss: 0.1497\n",
      "Epoch 9/21\n",
      "\u001b[1m27/27\u001b[0m \u001b[32m━━━━━━━━━━━━━━━━━━━━\u001b[0m\u001b[37m\u001b[0m \u001b[1m0s\u001b[0m 10ms/step - accuracy: 0.9996 - loss: 0.0114 - val_accuracy: 0.9628 - val_loss: 0.1097\n",
      "Epoch 10/21\n",
      "\u001b[1m27/27\u001b[0m \u001b[32m━━━━━━━━━━━━━━━━━━━━\u001b[0m\u001b[37m\u001b[0m \u001b[1m0s\u001b[0m 9ms/step - accuracy: 0.9931 - loss: 0.0163 - val_accuracy: 0.9674 - val_loss: 0.1207\n",
      "Epoch 11/21\n",
      "\u001b[1m27/27\u001b[0m \u001b[32m━━━━━━━━━━━━━━━━━━━━\u001b[0m\u001b[37m\u001b[0m \u001b[1m0s\u001b[0m 10ms/step - accuracy: 0.9982 - loss: 0.0131 - val_accuracy: 0.9674 - val_loss: 0.1289\n",
      "Epoch 12/21\n",
      "\u001b[1m27/27\u001b[0m \u001b[32m━━━━━━━━━━━━━━━━━━━━\u001b[0m\u001b[37m\u001b[0m \u001b[1m0s\u001b[0m 10ms/step - accuracy: 0.9996 - loss: 0.0047 - val_accuracy: 0.9628 - val_loss: 0.1134\n",
      "Epoch 13/21\n",
      "\u001b[1m27/27\u001b[0m \u001b[32m━━━━━━━━━━━━━━━━━━━━\u001b[0m\u001b[37m\u001b[0m \u001b[1m0s\u001b[0m 10ms/step - accuracy: 0.9986 - loss: 0.0077 - val_accuracy: 0.9674 - val_loss: 0.1139\n",
      "Epoch 14/21\n",
      "\u001b[1m27/27\u001b[0m \u001b[32m━━━━━━━━━━━━━━━━━━━━\u001b[0m\u001b[37m\u001b[0m \u001b[1m0s\u001b[0m 10ms/step - accuracy: 0.9968 - loss: 0.0114 - val_accuracy: 0.9674 - val_loss: 0.1164\n",
      "Epoch 15/21\n",
      "\u001b[1m27/27\u001b[0m \u001b[32m━━━━━━━━━━━━━━━━━━━━\u001b[0m\u001b[37m\u001b[0m \u001b[1m0s\u001b[0m 10ms/step - accuracy: 0.9965 - loss: 0.0110 - val_accuracy: 0.9488 - val_loss: 0.1885\n",
      "Epoch 16/21\n",
      "\u001b[1m27/27\u001b[0m \u001b[32m━━━━━━━━━━━━━━━━━━━━\u001b[0m\u001b[37m\u001b[0m \u001b[1m0s\u001b[0m 9ms/step - accuracy: 0.9998 - loss: 0.0073 - val_accuracy: 0.9767 - val_loss: 0.0904\n",
      "Epoch 17/21\n",
      "\u001b[1m27/27\u001b[0m \u001b[32m━━━━━━━━━━━━━━━━━━━━\u001b[0m\u001b[37m\u001b[0m \u001b[1m0s\u001b[0m 10ms/step - accuracy: 0.9971 - loss: 0.0077 - val_accuracy: 0.9767 - val_loss: 0.1280\n",
      "Epoch 18/21\n",
      "\u001b[1m27/27\u001b[0m \u001b[32m━━━━━━━━━━━━━━━━━━━━\u001b[0m\u001b[37m\u001b[0m \u001b[1m0s\u001b[0m 10ms/step - accuracy: 0.9957 - loss: 0.0125 - val_accuracy: 0.9721 - val_loss: 0.1600\n",
      "Epoch 19/21\n",
      "\u001b[1m27/27\u001b[0m \u001b[32m━━━━━━━━━━━━━━━━━━━━\u001b[0m\u001b[37m\u001b[0m \u001b[1m0s\u001b[0m 10ms/step - accuracy: 0.9884 - loss: 0.0311 - val_accuracy: 0.9721 - val_loss: 0.1301\n",
      "Epoch 20/21\n",
      "\u001b[1m27/27\u001b[0m \u001b[32m━━━━━━━━━━━━━━━━━━━━\u001b[0m\u001b[37m\u001b[0m \u001b[1m0s\u001b[0m 10ms/step - accuracy: 0.9956 - loss: 0.0188 - val_accuracy: 0.9674 - val_loss: 0.1695\n",
      "Epoch 21/21\n",
      "\u001b[1m27/27\u001b[0m \u001b[32m━━━━━━━━━━━━━━━━━━━━\u001b[0m\u001b[37m\u001b[0m \u001b[1m0s\u001b[0m 10ms/step - accuracy: 0.9959 - loss: 0.0104 - val_accuracy: 0.9628 - val_loss: 0.1450\n"
     ]
    }
   ],
   "source": [
    "# Train the model\n",
    "history = model.fit(X_train, y_train, epochs=21, validation_data=(X_val, y_val))"
   ]
  },
  {
   "cell_type": "code",
   "execution_count": 63,
   "metadata": {},
   "outputs": [
    {
     "name": "stdout",
     "output_type": "stream",
     "text": [
      "loss: [2.1754491329193115, 1.764891266822815, 0.7655854225158691, 0.26554423570632935, 0.1305587738752365, 0.060189660638570786, 0.03661024570465088, 0.025073803961277008, 0.015067790634930134, 0.015618924051523209, 0.009959298186004162, 0.008606189861893654, 0.01010324526578188, 0.012057119980454445, 0.010339056141674519, 0.012705618515610695, 0.010085188783705235, 0.025908997282385826, 0.034553635865449905, 0.01513289287686348, 0.008020234294235706]\n",
      "val_loss: [2.1153523921966553, 1.238445520401001, 0.5202932953834534, 0.36977070569992065, 0.2031080573797226, 0.15324939787387848, 0.11301742494106293, 0.14969402551651, 0.10970629006624222, 0.12071411311626434, 0.12889182567596436, 0.11343733966350555, 0.11391624808311462, 0.1164124608039856, 0.18849942088127136, 0.09043361991643906, 0.12796710431575775, 0.15995144844055176, 0.13007567822933197, 0.1694680154323578, 0.14503808319568634]\n",
      "accuracy: [0.21303841471672058, 0.4854481816291809, 0.7764843106269836, 0.9487776756286621, 0.974388837814331, 0.9895226955413818, 0.9918509721755981, 0.9953434467315674, 0.9988358616828918, 0.9953434467315674, 0.9988358616828918, 0.9988358616828918, 0.9976717233657837, 0.9965075850486755, 0.9965075850486755, 0.9988358616828918, 0.9953434467315674, 0.99068683385849, 0.9871944189071655, 0.9965075850486755, 0.9976717233657837]\n",
      "val_accuracy: [0.3488371968269348, 0.5953488349914551, 0.9209302067756653, 0.9255813956260681, 0.9255813956260681, 0.9581395387649536, 0.9720930457115173, 0.9534883499145508, 0.9627906680107117, 0.9674418568611145, 0.9674418568611145, 0.9627906680107117, 0.9674418568611145, 0.9674418568611145, 0.9488372206687927, 0.9767441749572754, 0.9767441749572754, 0.9720930457115173, 0.9720930457115173, 0.9674418568611145, 0.9627906680107117]\n"
     ]
    },
    {
     "data": {
      "image/png": "[encoded data removed]",
      "text/plain": [
       "<Figure size 1400x500 with 2 Axes>"
      ]
     },
     "metadata": {},
     "output_type": "display_data"
    }
   ],
   "source": [
    "import matplotlib.pyplot as plt\n",
    "\n",
    "# Function to plot the training history\n",
    "def plot_training_history(history):\n",
    "    # Extract the history data\n",
    "    loss = history.history['loss']\n",
    "    val_loss = history.history['val_loss']\n",
    "    accuracy = history.history['accuracy']\n",
    "    val_accuracy = history.history['val_accuracy']\n",
    "    epochs = range(1, len(loss) + 1)\n",
    "    \n",
    "    print(f'loss: {loss}')\n",
    "    print(f'val_loss: {val_loss}')\n",
    "    print(f'accuracy: {accuracy}')\n",
    "    print(f'val_accuracy: {val_accuracy}')\n",
    "\n",
    "    # Plot loss and validation loss\n",
    "    plt.figure(figsize=(14, 5))\n",
    "\n",
    "    plt.subplot(1, 2, 1)\n",
    "    plt.plot(epochs, loss, 'k', label='Training loss')  # black for loss\n",
    "    plt.plot(epochs, val_loss, 'b', label='Validation loss')  # blue for val_loss\n",
    "    plt.title('Training and validation loss')\n",
    "    plt.xlabel('Epochs')\n",
    "    plt.ylabel('Loss')\n",
    "    plt.legend()\n",
    "\n",
    "    # Plot accuracy and validation accuracy\n",
    "    plt.subplot(1, 2, 2)\n",
    "    plt.plot(epochs, accuracy, 'k', label='Training accuracy')  # black for accuracy\n",
    "    plt.plot(epochs, val_accuracy, 'b', label='Validation accuracy')  # blue for val_accuracy\n",
    "    plt.title('Training and validation accuracy')\n",
    "    plt.xlabel('Epochs')\n",
    "    plt.ylabel('Accuracy')\n",
    "    plt.legend()\n",
    "\n",
    "    plt.tight_layout()\n",
    "    plt.show()\n",
    "\n",
    "# Plot the training history\n",
    "plot_training_history(history)\n"
   ]
  },
  {
   "cell_type": "markdown",
   "metadata": {},
   "source": [
    "### Usage"
   ]
  },
  {
   "cell_type": "code",
   "execution_count": 62,
   "metadata": {},
   "outputs": [
    {
     "name": "stdout",
     "output_type": "stream",
     "text": [
      "\u001b[1m1/1\u001b[0m \u001b[32m━━━━━━━━━━━━━━━━━━━━\u001b[0m\u001b[37m\u001b[0m \u001b[1m0s\u001b[0m 27ms/step\n",
      "\n",
      "Top category and with the probability:\n",
      "Asuransi: 0.9991\n",
      "Suggested questions:\n",
      "Bagaimana cara memilih asuransi jiwa yang tepat?\n",
      "Apa itu asuransi kesehatan dan bagaimana cara kerjanya?\n",
      "Bagaimana cara mendapatkan premi asuransi yang lebih rendah?\n",
      "Apa itu deductible dalam polis asuransi?\n"
     ]
    }
   ],
   "source": [
    "# Function to predict top questions\n",
    "def suggest_questions(user_input, total_questions=4):\n",
    "    sequence = tokenizer.texts_to_sequences([user_input])\n",
    "    padded_sequence = pad_sequences(sequence, maxlen=padded_sequences.shape[1], padding='post')\n",
    "    predictions = model.predict(padded_sequence)\n",
    "    labels = list(label_dict.keys())\n",
    "    \n",
    "    # Get top n categories with their probabilities\n",
    "    top_categories_prediction = np.argsort(predictions[0])[-1:][::-1]\n",
    "    top_categories = [(labels[idx], predictions[0][idx]) for idx in top_categories_prediction]\n",
    "    \n",
    "    # Print top categories with their probabilities\n",
    "    print()\n",
    "    print(\"Top category and with the probability:\")\n",
    "    for category, prob in top_categories:\n",
    "        print(f'{category}: {prob:.4f}')\n",
    "    \n",
    "    # Filter questions from the dataset based on top categories\n",
    "    suggested_questions = []\n",
    "    for category, _ in top_categories:\n",
    "        category_questions = df[df['Category'] == category]['Question'].tolist()\n",
    "        suggested_questions.extend(category_questions)\n",
    "    \n",
    "    return suggested_questions[:total_questions]\n",
    "\n",
    "# Example usage\n",
    "# user_input = \"Bagaimana cara berinvestasi yang aman?\"\n",
    "user_input = \"Bagaimana cara memilih asuransi yang tepat?\"\n",
    "# user_input = \"Bagaimana cara memilih saham yang baik?\"\n",
    "# user_input = \"Bagaimana cara membuat anggaran bulanan yang efektif?\"\n",
    "# user_input = \"Apa itu cryptocurrency?\"\n",
    "# user_input = \"Apa yang harus saya lakukan jika suku bunga naik?\"\n",
    "# user_input = \"Bagaimana cara saya memilih reksadana?\"\n",
    "# user_input = \"Bagaimana cara saya memilih reksadana yang baik?\"\n",
    "\n",
    "\n",
    "suggested_questions = suggest_questions(user_input)\n",
    "print(\"Suggested questions:\")\n",
    "for question in suggested_questions:\n",
    "    print(question)"
   ]
  },
  {
   "cell_type": "code",
   "execution_count": null,
   "metadata": {},
   "outputs": [],
   "source": []
  }
 ],
 "metadata": {
  "kernelspec": {
   "display_name": ".venv",
   "language": "python",
   "name": "python3"
  },
  "language_info": {
   "codemirror_mode": {
    "name": "ipython",
    "version": 3
   },
   "file_extension": ".py",
   "mimetype": "text/x-python",
   "name": "python",
   "nbconvert_exporter": "python",
   "pygments_lexer": "ipython3",
   "version": "3.11.3"
  }
 },
 "nbformat": 4,
 "nbformat_minor": 2
}
