{
 "cells": [
  {
   "cell_type": "markdown",
   "metadata": {},
   "source": [
    "# Todolist\n",
    "- Gunakan Model yang Lebih Maju untuk menjawab pertanyaan seputar finansial menggunakan bahasa indonesia\n",
    "- Membersihkan teks dari tanda baca yang tidak perlu atau melakukan tokenisasi yang lebih tepat\n",
    "- Penyaringan atau pemrosesan lanjutan untuk memastikan bahwa jawaban yang dihasilkan relevan dan bermakna\n",
    "- Perluas dataset pelatihan dengan pertanyaan yang lebih bervariasi dan relevan sehingga model memiliki lebih banyak informasi untuk merespons pertanyaan yang mungkin tidak ada dalam dataset"
   ]
  },
  {
   "cell_type": "markdown",
   "metadata": {},
   "source": [
    "## Install package"
   ]
  },
  {
   "cell_type": "code",
   "execution_count": 1,
   "metadata": {},
   "outputs": [],
   "source": [
    "# %pip install tensorflow pandas transformers datasets"
   ]
  },
  {
   "cell_type": "markdown",
   "metadata": {},
   "source": [
    "## Import package"
   ]
  },
  {
   "cell_type": "code",
   "execution_count": 1,
   "metadata": {},
   "outputs": [
    {
     "name": "stdout",
     "output_type": "stream",
     "text": [
      "WARNING:tensorflow:From c:\\Users\\alifs\\anaconda3\\envs\\main-ds\\lib\\site-packages\\tf_keras\\src\\losses.py:2976: The name tf.losses.sparse_softmax_cross_entropy is deprecated. Please use tf.compat.v1.losses.sparse_softmax_cross_entropy instead.\n",
      "\n"
     ]
    }
   ],
   "source": [
    "import pandas as pd\n",
    "from datasets import Dataset\n",
    "from transformers import TFBertForQuestionAnswering, BertTokenizerFast, DefaultDataCollator, create_optimizer\n",
    "from transformers import TrainingArguments, Trainer\n",
    "import tensorflow as tf\n",
    "import matplotlib.pyplot as plt\n",
    "from sklearn.metrics import f1_score\n",
    "import numpy as np"
   ]
  },
  {
   "cell_type": "code",
   "execution_count": 2,
   "metadata": {},
   "outputs": [],
   "source": [
    "import os\n",
    "\n",
    "os.environ['TF_CPP_MIN_LOG_LEVEL'] = '2'  # Suppress most TensorFlow messages\n",
    "tf.get_logger().setLevel('ERROR')"
   ]
  },
  {
   "cell_type": "code",
   "execution_count": 3,
   "metadata": {},
   "outputs": [],
   "source": [
    "# Ensure tf_keras is installed\n",
    "try:\n",
    "    import tf_keras\n",
    "except ImportError:\n",
    "    print(\"tf-keras is not installed. Installing now...\")\n",
    "    %pip install tf-keras"
   ]
  },
  {
   "cell_type": "code",
   "execution_count": 4,
   "metadata": {},
   "outputs": [
    {
     "name": "stdout",
     "output_type": "stream",
     "text": [
      "   id                                            context  \\\n",
      "0   1  ROI atau Return on Investment adalah rasio keu...   \n",
      "1   2  EBITDA atau Earnings Before Interest, Taxes, D...   \n",
      "2   3  Leverage dalam konteks finansial adalah penggu...   \n",
      "3   4  Diversifikasi adalah strategi investasi yang m...   \n",
      "4   5  Volatilitas adalah ukuran seberapa besar harga...   \n",
      "\n",
      "                 question                                             answer  \\\n",
      "0            Apa itu ROI?  ROI atau Return on Investment adalah rasio keu...   \n",
      "1         Apa itu EBITDA?  EBITDA atau Earnings Before Interest, Taxes, D...   \n",
      "2       Apa itu Leverage?  Leverage dalam konteks finansial adalah penggu...   \n",
      "3  Apa itu Diversifikasi?  Diversifikasi adalah strategi investasi yang m...   \n",
      "4    Apa itu Volatilitas?  Volatilitas adalah ukuran seberapa besar harga...   \n",
      "\n",
      "   answer_start  \n",
      "0             0  \n",
      "1             0  \n",
      "2             0  \n",
      "3             0  \n",
      "4             0  \n"
     ]
    }
   ],
   "source": [
    "# Load the dataset\n",
    "df = pd.read_csv('../data/final_dataset.csv')\n",
    "dataset = Dataset.from_pandas(df)\n",
    "print(df.head())"
   ]
  },
  {
   "cell_type": "code",
   "execution_count": 5,
   "metadata": {},
   "outputs": [
    {
     "name": "stdout",
     "output_type": "stream",
     "text": [
      "Index(['id', 'context', 'question', 'answer', 'answer_start'], dtype='object')\n"
     ]
    }
   ],
   "source": [
    "print(df.columns)"
   ]
  },
  {
   "cell_type": "code",
   "execution_count": 6,
   "metadata": {},
   "outputs": [
    {
     "name": "stderr",
     "output_type": "stream",
     "text": [
      "c:\\Users\\alifs\\anaconda3\\envs\\main-ds\\lib\\site-packages\\huggingface_hub\\file_download.py:1132: FutureWarning: `resume_download` is deprecated and will be removed in version 1.0.0. Downloads always resume when possible. If you want to force a new download, use `force_download=True`.\n",
      "  warnings.warn(\n",
      "Some weights of the PyTorch model were not used when initializing the TF 2.0 model TFBertForQuestionAnswering: ['bert.embeddings.position_ids']\n",
      "- This IS expected if you are initializing TFBertForQuestionAnswering from a PyTorch model trained on another task or with another architecture (e.g. initializing a TFBertForSequenceClassification model from a BertForPreTraining model).\n",
      "- This IS NOT expected if you are initializing TFBertForQuestionAnswering from a PyTorch model that you expect to be exactly identical (e.g. initializing a TFBertForSequenceClassification model from a BertForSequenceClassification model).\n",
      "All the weights of TFBertForQuestionAnswering were initialized from the PyTorch model.\n",
      "If your task is similar to the task the model of the checkpoint was trained on, you can already use TFBertForQuestionAnswering for predictions without further training.\n"
     ]
    }
   ],
   "source": [
    "# Load the tokenizer and model for fine-tuning\n",
    "model_name = \"Rifky/Indobert-QA\"\n",
    "tokenizer = BertTokenizerFast.from_pretrained(model_name)\n",
    "model = TFBertForQuestionAnswering.from_pretrained(model_name)"
   ]
  },
  {
   "cell_type": "code",
   "execution_count": 7,
   "metadata": {},
   "outputs": [
    {
     "name": "stderr",
     "output_type": "stream",
     "text": [
      "Some weights of the PyTorch model were not used when initializing the TF 2.0 model TFBertForQuestionAnswering: ['bert.embeddings.position_ids']\n",
      "- This IS expected if you are initializing TFBertForQuestionAnswering from a PyTorch model trained on another task or with another architecture (e.g. initializing a TFBertForSequenceClassification model from a BertForPreTraining model).\n",
      "- This IS NOT expected if you are initializing TFBertForQuestionAnswering from a PyTorch model that you expect to be exactly identical (e.g. initializing a TFBertForSequenceClassification model from a BertForSequenceClassification model).\n",
      "All the weights of TFBertForQuestionAnswering were initialized from the PyTorch model.\n",
      "If your task is similar to the task the model of the checkpoint was trained on, you can already use TFBertForQuestionAnswering for predictions without further training.\n"
     ]
    }
   ],
   "source": [
    "# Load pre-trained model for generating answers when context is not found\n",
    "pretrained_model = TFBertForQuestionAnswering.from_pretrained(model_name)"
   ]
  },
  {
   "cell_type": "markdown",
   "metadata": {},
   "source": [
    "# Tokenize dataset"
   ]
  },
  {
   "cell_type": "code",
   "execution_count": 8,
   "metadata": {},
   "outputs": [],
   "source": [
    "# Preprocess the dataset\n",
    "def preprocess_function(examples):\n",
    "    questions = [q.strip() for q in examples[\"question\"]]\n",
    "    inputs = tokenizer(\n",
    "        questions,\n",
    "        examples[\"context\"],\n",
    "        max_length=384,\n",
    "        truncation=\"only_second\",\n",
    "        return_offsets_mapping=True,\n",
    "        padding=\"max_length\",\n",
    "    )\n",
    "    offset_mapping = inputs.pop(\"offset_mapping\")\n",
    "    answers = examples[\"answer\"]\n",
    "    start_positions = []\n",
    "    end_positions = []\n",
    "\n",
    "    for i, (answer, offset) in enumerate(zip(answers, offset_mapping)):\n",
    "        start_char = examples[\"answer_start\"][i]\n",
    "        end_char = start_char + len(answer)\n",
    "\n",
    "        sequence_ids = inputs.sequence_ids(i)\n",
    "\n",
    "        # Find the start and end of the context\n",
    "        idx = 0\n",
    "        while sequence_ids[idx] != 1:\n",
    "            idx += 1\n",
    "        context_start = idx\n",
    "        while sequence_ids[idx] == 1:\n",
    "            idx += 1\n",
    "        context_end = idx - 1\n",
    "\n",
    "        if offset[context_start][0] > end_char or offset[context_end][1] < start_char:\n",
    "            start_positions.append(0)\n",
    "            end_positions.append(0)\n",
    "        else:\n",
    "            start_idx = context_start\n",
    "            while start_idx <= context_end and offset[start_idx][0] <= start_char:\n",
    "                start_idx += 1\n",
    "            start_positions.append(start_idx - 1)\n",
    "\n",
    "            end_idx = context_start\n",
    "            while end_idx <= context_end and offset[end_idx][1] < end_char:\n",
    "                end_idx += 1\n",
    "            end_positions.append(end_idx - 1)\n",
    "\n",
    "    inputs[\"start_positions\"] = start_positions\n",
    "    inputs[\"end_positions\"] = end_positions\n",
    "    return inputs"
   ]
  },
  {
   "cell_type": "code",
   "execution_count": 9,
   "metadata": {},
   "outputs": [
    {
     "data": {
      "application/vnd.jupyter.widget-view+json": {
       "model_id": "a048631f7a424027a470dd7097e30055",
       "version_major": 2,
       "version_minor": 0
      },
      "text/plain": [
       "Map:   0%|          | 0/714 [00:00<?, ? examples/s]"
      ]
     },
     "metadata": {},
     "output_type": "display_data"
    },
    {
     "name": "stdout",
     "output_type": "stream",
     "text": [
      "Dataset({\n",
      "    features: ['id', 'context', 'question', 'answer', 'answer_start', 'input_ids', 'token_type_ids', 'attention_mask', 'start_positions', 'end_positions'],\n",
      "    num_rows: 714\n",
      "})\n"
     ]
    }
   ],
   "source": [
    "tokenized_datasets = dataset.map(preprocess_function, batched=True)\n",
    "print(tokenized_datasets)"
   ]
  },
  {
   "cell_type": "code",
   "execution_count": 10,
   "metadata": {},
   "outputs": [
    {
     "name": "stdout",
     "output_type": "stream",
     "text": [
      "{'id': 1, 'context': 'ROI atau Return on Investment adalah rasio keuntungan atau kerugian yang dihasilkan dari investasi relatif terhadap biaya investasi. ROI sering digunakan untuk mengevaluasi efisiensi atau profitabilitas suatu investasi atau untuk membandingkan efisiensi beberapa investasi yang berbeda.', 'question': 'Apa itu ROI?', 'answer': 'ROI atau Return on Investment adalah rasio keuntungan atau kerugian yang dihasilkan dari investasi relatif terhadap biaya investasi.', 'answer_start': 0, 'input_ids': [3, 2064, 1570, 3057, 939, 35, 4, 3057, 939, 1647, 22739, 2587, 23270, 1581, 10357, 4994, 1647, 5938, 1497, 6023, 1542, 5737, 5646, 1973, 3592, 5737, 18, 3057, 939, 2633, 2318, 1559, 16029, 11311, 1647, 17479, 13163, 2170, 5737, 1647, 1559, 13622, 11311, 1841, 5737, 1497, 2748, 18, 4, 0, 0, 0, 0, 0, 0, 0, 0, 0, 0, 0, 0, 0, 0, 0, 0, 0, 0, 0, 0, 0, 0, 0, 0, 0, 0, 0, 0, 0, 0, 0, 0, 0, 0, 0, 0, 0, 0, 0, 0, 0, 0, 0, 0, 0, 0, 0, 0, 0, 0, 0, 0, 0, 0, 0, 0, 0, 0, 0, 0, 0, 0, 0, 0, 0, 0, 0, 0, 0, 0, 0, 0, 0, 0, 0, 0, 0, 0, 0, 0, 0, 0, 0, 0, 0, 0, 0, 0, 0, 0, 0, 0, 0, 0, 0, 0, 0, 0, 0, 0, 0, 0, 0, 0, 0, 0, 0, 0, 0, 0, 0, 0, 0, 0, 0, 0, 0, 0, 0, 0, 0, 0, 0, 0, 0, 0, 0, 0, 0, 0, 0, 0, 0, 0, 0, 0, 0, 0, 0, 0, 0, 0, 0, 0, 0, 0, 0, 0, 0, 0, 0, 0, 0, 0, 0, 0, 0, 0, 0, 0, 0, 0, 0, 0, 0, 0, 0, 0, 0, 0, 0, 0, 0, 0, 0, 0, 0, 0, 0, 0, 0, 0, 0, 0, 0, 0, 0, 0, 0, 0, 0, 0, 0, 0, 0, 0, 0, 0, 0, 0, 0, 0, 0, 0, 0, 0, 0, 0, 0, 0, 0, 0, 0, 0, 0, 0, 0, 0, 0, 0, 0, 0, 0, 0, 0, 0, 0, 0, 0, 0, 0, 0, 0, 0, 0, 0, 0, 0, 0, 0, 0, 0, 0, 0, 0, 0, 0, 0, 0, 0, 0, 0, 0, 0, 0, 0, 0, 0, 0, 0, 0, 0, 0, 0, 0, 0, 0, 0, 0, 0, 0, 0, 0, 0, 0, 0, 0, 0, 0, 0, 0, 0, 0, 0, 0, 0, 0, 0, 0, 0, 0, 0, 0, 0, 0, 0, 0, 0, 0, 0, 0, 0, 0, 0, 0, 0, 0, 0, 0, 0, 0, 0, 0, 0, 0, 0, 0, 0, 0, 0, 0, 0, 0, 0, 0, 0, 0, 0, 0, 0, 0, 0, 0, 0, 0], 'token_type_ids': [0, 0, 0, 0, 0, 0, 0, 1, 1, 1, 1, 1, 1, 1, 1, 1, 1, 1, 1, 1, 1, 1, 1, 1, 1, 1, 1, 1, 1, 1, 1, 1, 1, 1, 1, 1, 1, 1, 1, 1, 1, 1, 1, 1, 1, 1, 1, 1, 1, 0, 0, 0, 0, 0, 0, 0, 0, 0, 0, 0, 0, 0, 0, 0, 0, 0, 0, 0, 0, 0, 0, 0, 0, 0, 0, 0, 0, 0, 0, 0, 0, 0, 0, 0, 0, 0, 0, 0, 0, 0, 0, 0, 0, 0, 0, 0, 0, 0, 0, 0, 0, 0, 0, 0, 0, 0, 0, 0, 0, 0, 0, 0, 0, 0, 0, 0, 0, 0, 0, 0, 0, 0, 0, 0, 0, 0, 0, 0, 0, 0, 0, 0, 0, 0, 0, 0, 0, 0, 0, 0, 0, 0, 0, 0, 0, 0, 0, 0, 0, 0, 0, 0, 0, 0, 0, 0, 0, 0, 0, 0, 0, 0, 0, 0, 0, 0, 0, 0, 0, 0, 0, 0, 0, 0, 0, 0, 0, 0, 0, 0, 0, 0, 0, 0, 0, 0, 0, 0, 0, 0, 0, 0, 0, 0, 0, 0, 0, 0, 0, 0, 0, 0, 0, 0, 0, 0, 0, 0, 0, 0, 0, 0, 0, 0, 0, 0, 0, 0, 0, 0, 0, 0, 0, 0, 0, 0, 0, 0, 0, 0, 0, 0, 0, 0, 0, 0, 0, 0, 0, 0, 0, 0, 0, 0, 0, 0, 0, 0, 0, 0, 0, 0, 0, 0, 0, 0, 0, 0, 0, 0, 0, 0, 0, 0, 0, 0, 0, 0, 0, 0, 0, 0, 0, 0, 0, 0, 0, 0, 0, 0, 0, 0, 0, 0, 0, 0, 0, 0, 0, 0, 0, 0, 0, 0, 0, 0, 0, 0, 0, 0, 0, 0, 0, 0, 0, 0, 0, 0, 0, 0, 0, 0, 0, 0, 0, 0, 0, 0, 0, 0, 0, 0, 0, 0, 0, 0, 0, 0, 0, 0, 0, 0, 0, 0, 0, 0, 0, 0, 0, 0, 0, 0, 0, 0, 0, 0, 0, 0, 0, 0, 0, 0, 0, 0, 0, 0, 0, 0, 0, 0, 0, 0, 0, 0, 0, 0, 0, 0, 0, 0, 0, 0, 0, 0, 0, 0, 0, 0, 0, 0, 0, 0, 0, 0], 'attention_mask': [1, 1, 1, 1, 1, 1, 1, 1, 1, 1, 1, 1, 1, 1, 1, 1, 1, 1, 1, 1, 1, 1, 1, 1, 1, 1, 1, 1, 1, 1, 1, 1, 1, 1, 1, 1, 1, 1, 1, 1, 1, 1, 1, 1, 1, 1, 1, 1, 1, 0, 0, 0, 0, 0, 0, 0, 0, 0, 0, 0, 0, 0, 0, 0, 0, 0, 0, 0, 0, 0, 0, 0, 0, 0, 0, 0, 0, 0, 0, 0, 0, 0, 0, 0, 0, 0, 0, 0, 0, 0, 0, 0, 0, 0, 0, 0, 0, 0, 0, 0, 0, 0, 0, 0, 0, 0, 0, 0, 0, 0, 0, 0, 0, 0, 0, 0, 0, 0, 0, 0, 0, 0, 0, 0, 0, 0, 0, 0, 0, 0, 0, 0, 0, 0, 0, 0, 0, 0, 0, 0, 0, 0, 0, 0, 0, 0, 0, 0, 0, 0, 0, 0, 0, 0, 0, 0, 0, 0, 0, 0, 0, 0, 0, 0, 0, 0, 0, 0, 0, 0, 0, 0, 0, 0, 0, 0, 0, 0, 0, 0, 0, 0, 0, 0, 0, 0, 0, 0, 0, 0, 0, 0, 0, 0, 0, 0, 0, 0, 0, 0, 0, 0, 0, 0, 0, 0, 0, 0, 0, 0, 0, 0, 0, 0, 0, 0, 0, 0, 0, 0, 0, 0, 0, 0, 0, 0, 0, 0, 0, 0, 0, 0, 0, 0, 0, 0, 0, 0, 0, 0, 0, 0, 0, 0, 0, 0, 0, 0, 0, 0, 0, 0, 0, 0, 0, 0, 0, 0, 0, 0, 0, 0, 0, 0, 0, 0, 0, 0, 0, 0, 0, 0, 0, 0, 0, 0, 0, 0, 0, 0, 0, 0, 0, 0, 0, 0, 0, 0, 0, 0, 0, 0, 0, 0, 0, 0, 0, 0, 0, 0, 0, 0, 0, 0, 0, 0, 0, 0, 0, 0, 0, 0, 0, 0, 0, 0, 0, 0, 0, 0, 0, 0, 0, 0, 0, 0, 0, 0, 0, 0, 0, 0, 0, 0, 0, 0, 0, 0, 0, 0, 0, 0, 0, 0, 0, 0, 0, 0, 0, 0, 0, 0, 0, 0, 0, 0, 0, 0, 0, 0, 0, 0, 0, 0, 0, 0, 0, 0, 0, 0, 0, 0, 0, 0, 0, 0, 0, 0, 0, 0, 0, 0, 0, 0], 'start_positions': 7, 'end_positions': 25}\n"
     ]
    }
   ],
   "source": [
    "# Check the first few elements\n",
    "for item in tokenized_datasets:\n",
    "    print(item)\n",
    "    break"
   ]
  },
  {
   "cell_type": "code",
   "execution_count": 11,
   "metadata": {},
   "outputs": [
    {
     "name": "stdout",
     "output_type": "stream",
     "text": [
      "Dataset({\n",
      "    features: ['id', 'context', 'question', 'answer', 'answer_start', 'input_ids', 'token_type_ids', 'attention_mask', 'start_positions', 'end_positions'],\n",
      "    num_rows: 706\n",
      "})\n",
      "Dataset({\n",
      "    features: ['id', 'context', 'question', 'answer', 'answer_start', 'input_ids', 'token_type_ids', 'attention_mask', 'start_positions', 'end_positions'],\n",
      "    num_rows: 8\n",
      "})\n"
     ]
    }
   ],
   "source": [
    "# Split dataset into train and validation\n",
    "train_test_split = tokenized_datasets.train_test_split(test_size=0.01)\n",
    "train_dataset = train_test_split['train']\n",
    "eval_dataset = train_test_split['test']\n",
    "print(train_dataset)\n",
    "print(eval_dataset)"
   ]
  },
  {
   "cell_type": "code",
   "execution_count": 12,
   "metadata": {},
   "outputs": [],
   "source": [
    "# Define training arguments\n",
    "training_args = TrainingArguments(\n",
    "    output_dir=\"../models/fine_tuned_model\",\n",
    "    evaluation_strategy=\"epoch\",\n",
    "    learning_rate=2e-5,\n",
    "    per_device_train_batch_size=8,\n",
    "    per_device_eval_batch_size=8,\n",
    "    num_train_epochs=3,\n",
    "    weight_decay=0.01,\n",
    "    logging_dir='./logs',\n",
    "    logging_steps=10,\n",
    "    max_steps=1000,\n",
    ")"
   ]
  },
  {
   "cell_type": "code",
   "execution_count": 13,
   "metadata": {},
   "outputs": [],
   "source": [
    "# Create a data collator\n",
    "data_collator = DefaultDataCollator(return_tensors=\"tf\")"
   ]
  },
  {
   "cell_type": "code",
   "execution_count": 14,
   "metadata": {},
   "outputs": [],
   "source": [
    "# Convert datasets to tf.data.Dataset\n",
    "tf_train_dataset = train_dataset.shuffle(seed=42).to_tf_dataset(\n",
    "    columns=['input_ids', 'attention_mask', 'start_positions', 'end_positions'],\n",
    "    batch_size=8,\n",
    "    collate_fn=data_collator,\n",
    "    shuffle=True,\n",
    ")\n",
    "tf_eval_dataset = eval_dataset.to_tf_dataset(\n",
    "    columns=['input_ids', 'attention_mask', 'start_positions', 'end_positions'],\n",
    "    batch_size=8,\n",
    "    collate_fn=data_collator,\n",
    "    shuffle=False,\n",
    ")"
   ]
  },
  {
   "cell_type": "code",
   "execution_count": 15,
   "metadata": {},
   "outputs": [
    {
     "name": "stdout",
     "output_type": "stream",
     "text": [
      "{'input_ids': <tf.Tensor: shape=(8, 384), dtype=int64, numpy=\n",
      "array([[   3, 2064, 3366, ...,    0,    0,    0],\n",
      "       [   3, 2064, 1570, ...,    0,    0,    0],\n",
      "       [   3, 2064, 1497, ...,    0,    0,    0],\n",
      "       ...,\n",
      "       [   3, 2064, 1497, ...,    0,    0,    0],\n",
      "       [   3, 2064, 1497, ...,    0,    0,    0],\n",
      "       [   3, 2064, 1570, ...,    0,    0,    0]], dtype=int64)>, 'attention_mask': <tf.Tensor: shape=(8, 384), dtype=int64, numpy=\n",
      "array([[1, 1, 1, ..., 0, 0, 0],\n",
      "       [1, 1, 1, ..., 0, 0, 0],\n",
      "       [1, 1, 1, ..., 0, 0, 0],\n",
      "       ...,\n",
      "       [1, 1, 1, ..., 0, 0, 0],\n",
      "       [1, 1, 1, ..., 0, 0, 0],\n",
      "       [1, 1, 1, ..., 0, 0, 0]], dtype=int64)>, 'start_positions': <tf.Tensor: shape=(8,), dtype=int64, numpy=array([14,  8, 13,  7, 13, 18, 10,  7], dtype=int64)>, 'end_positions': <tf.Tensor: shape=(8,), dtype=int64, numpy=array([51, 30, 14, 23, 58, 58, 19, 22], dtype=int64)>}\n"
     ]
    }
   ],
   "source": [
    "for batch in tf_train_dataset.take(1):\n",
    "    print(batch)"
   ]
  },
  {
   "cell_type": "code",
   "execution_count": 16,
   "metadata": {},
   "outputs": [],
   "source": [
    "num_train_steps = len(tf_train_dataset) * training_args.num_train_epochs\n",
    "optimizer, lr_schedule = create_optimizer(\n",
    "    init_lr=training_args.learning_rate,\n",
    "    num_warmup_steps=0,\n",
    "    num_train_steps=num_train_steps,\n",
    "    weight_decay_rate=training_args.weight_decay,\n",
    ")"
   ]
  },
  {
   "cell_type": "code",
   "execution_count": 17,
   "metadata": {},
   "outputs": [],
   "source": [
    "# Custom accuracy metrics for start and end logits\n",
    "def start_logits_accuracy(y_true, y_pred):\n",
    "    return tf.reduce_mean(tf.cast(tf.equal(tf.argmax(y_true, axis=-1), tf.argmax(y_pred, axis=-1)), tf.float32))\n",
    "\n",
    "def end_logits_accuracy(y_true, y_pred):\n",
    "    return tf.reduce_mean(tf.cast(tf.equal(tf.argmax(y_true, axis=-1), tf.argmax(y_pred, axis=-1)), tf.float32))\n"
   ]
  },
  {
   "cell_type": "code",
   "execution_count": 18,
   "metadata": {},
   "outputs": [],
   "source": [
    "model.compile(optimizer=optimizer, metrics=[start_logits_accuracy, end_logits_accuracy])"
   ]
  },
  {
   "cell_type": "code",
   "execution_count": 19,
   "metadata": {},
   "outputs": [],
   "source": [
    "# Custom callback to log loss and accuracy\n",
    "class LossAccuracyLogger(tf.keras.callbacks.Callback):\n",
    "    def __init__(self):\n",
    "        super(LossAccuracyLogger, self).__init__()\n",
    "        self.epoch_loss = []\n",
    "        self.start_logits_accuracy = []\n",
    "        self.end_logits_accuracy = []\n",
    "\n",
    "    def on_epoch_end(self, epoch, logs=None):\n",
    "        self.epoch_loss.append(logs['loss'])\n",
    "        self.start_logits_accuracy.append(logs.get('start_logits_accuracy'))\n",
    "        self.end_logits_accuracy.append(logs.get('end_logits_accuracy'))\n",
    "        print(f\"Epoch {epoch + 1} - Loss: {logs['loss']}, Start Logits Accuracy: {logs.get('start_logits_accuracy')}, End Logits Accuracy: {logs.get('end_logits_accuracy')}\")\n",
    "        print(f\"Logged data so far: Loss: {self.epoch_loss}, Start Logits Accuracy: {self.start_logits_accuracy}, End Logits Accuracy: {self.end_logits_accuracy}\")\n",
    "\n",
    "    def plot(self):\n",
    "        epochs = range(1, len(self.epoch_loss) + 1)\n",
    "        plt.figure(figsize=(18, 6))\n",
    "        \n",
    "        plt.subplot(1, 3, 1)\n",
    "        plt.plot(epochs, self.epoch_loss, label='Loss')\n",
    "        plt.xlabel('Epoch')\n",
    "        plt.ylabel('Loss')\n",
    "        plt.legend()\n",
    "        \n",
    "        plt.subplot(1, 3, 2)\n",
    "        plt.plot(epochs, self.start_logits_accuracy, label='Start Logits Accuracy')\n",
    "        plt.xlabel('Epoch')\n",
    "        plt.ylabel('Start Logits Accuracy')\n",
    "        plt.legend()\n",
    "        \n",
    "        plt.subplot(1, 3, 3)\n",
    "        plt.plot(epochs, self.end_logits_accuracy, label='End Logits Accuracy')\n",
    "        plt.xlabel('Epoch')\n",
    "        plt.ylabel('End Logits Accuracy')\n",
    "        plt.legend()\n",
    "        \n",
    "        plt.show()"
   ]
  },
  {
   "cell_type": "code",
   "execution_count": 20,
   "metadata": {},
   "outputs": [],
   "source": [
    "logger = LossAccuracyLogger()"
   ]
  },
  {
   "cell_type": "code",
   "execution_count": 21,
   "metadata": {},
   "outputs": [],
   "source": [
    "# Custom callback to log F1 score\n",
    "class MetricsLogger(tf.keras.callbacks.Callback):\n",
    "    def __init__(self, eval_dataset):\n",
    "        super(MetricsLogger, self).__init__()\n",
    "        self.epoch_f1 = []\n",
    "        self.eval_dataset = eval_dataset\n",
    "\n",
    "    def on_epoch_end(self, epoch, logs=None):\n",
    "        y_true_start, y_true_end = [], []\n",
    "        y_pred_start, y_pred_end = [], []\n",
    "\n",
    "        for batch in self.eval_dataset:\n",
    "            inputs = {k: v for k, v in batch.items() if k in ['input_ids', 'attention_mask']}\n",
    "            labels = {k: v for k, v in batch.items() if k in ['start_positions', 'end_positions']}\n",
    "            start_true = labels['start_positions'].numpy()\n",
    "            end_true = labels['end_positions'].numpy()\n",
    "            outputs = self.model.predict(inputs)\n",
    "            start_pred = np.argmax(outputs['start_logits'], axis=-1)\n",
    "            end_pred = np.argmax(outputs['end_logits'], axis=-1)\n",
    "\n",
    "            y_true_start.extend(start_true)\n",
    "            y_true_end.extend(end_true)\n",
    "            y_pred_start.extend(start_pred)\n",
    "            y_pred_end.extend(end_pred)\n",
    "\n",
    "        start_f1 = f1_score(y_true_start, y_pred_start, average='micro')\n",
    "        end_f1 = f1_score(y_true_end, y_pred_end, average='micro')\n",
    "        overall_f1 = (start_f1 + end_f1) / 2\n",
    "        self.epoch_f1.append(overall_f1)\n",
    "        print(f\"Epoch {epoch + 1} - F1 Score: {overall_f1}\")\n",
    "        print(f\"Logged F1 data so far: {self.epoch_f1}\")\n",
    "\n",
    "    def plot(self):\n",
    "        epochs = range(1, len(self.epoch_f1) + 1)\n",
    "        plt.figure(figsize=(12, 5))\n",
    "        plt.plot(epochs, self.epoch_f1, label='F1 Score')\n",
    "        plt.xlabel('Epoch')\n",
    "        plt.ylabel('F1 Score')\n",
    "        plt.legend()\n",
    "        plt.show()"
   ]
  },
  {
   "cell_type": "code",
   "execution_count": 22,
   "metadata": {},
   "outputs": [],
   "source": [
    "# Instantiate the callback\n",
    "metrics_logger = MetricsLogger(tf_eval_dataset)"
   ]
  },
  {
   "cell_type": "markdown",
   "metadata": {},
   "source": [
    "# Train the model"
   ]
  },
  {
   "cell_type": "code",
   "execution_count": 23,
   "metadata": {},
   "outputs": [
    {
     "name": "stdout",
     "output_type": "stream",
     "text": [
      "Epoch 1/3\n",
      "WARNING: AutoGraph could not transform <function infer_framework at 0x000001C674E01310> and will run it as-is.\n",
      "Cause: for/else statement not yet supported\n",
      "To silence this warning, decorate the function with @tf.autograph.experimental.do_not_convert\n",
      "89/89 [==============================] - ETA: 0s - loss: 1.2265 - end_logits_start_logits_accuracy: 0.0000e+00 - end_logits_end_logits_accuracy: 0.0000e+00 - start_logits_start_logits_accuracy: 0.0014 - start_logits_end_logits_accuracy: 0.0014Epoch 1 - Loss: 1.2264764308929443, Start Logits Accuracy: None, End Logits Accuracy: None\n",
      "Logged data so far: Loss: [1.2264764308929443], Start Logits Accuracy: [None], End Logits Accuracy: [None]\n",
      "1/1 [==============================] - 10s 10s/step\n",
      "Epoch 1 - F1 Score: 0.75\n",
      "Logged F1 data so far: [0.75]\n",
      "89/89 [==============================] - 925s 10s/step - loss: 1.2265 - end_logits_start_logits_accuracy: 0.0000e+00 - end_logits_end_logits_accuracy: 0.0000e+00 - start_logits_start_logits_accuracy: 0.0014 - start_logits_end_logits_accuracy: 0.0014 - val_loss: 0.5816 - val_end_logits_start_logits_accuracy: 0.0000e+00 - val_end_logits_end_logits_accuracy: 0.0000e+00 - val_start_logits_start_logits_accuracy: 0.0000e+00 - val_start_logits_end_logits_accuracy: 0.0000e+00\n",
      "Epoch 2/3\n",
      "89/89 [==============================] - ETA: 0s - loss: 0.7057 - end_logits_start_logits_accuracy: 0.0000e+00 - end_logits_end_logits_accuracy: 0.0000e+00 - start_logits_start_logits_accuracy: 0.0000e+00 - start_logits_end_logits_accuracy: 0.0000e+00Epoch 2 - Loss: 0.7057352066040039, Start Logits Accuracy: None, End Logits Accuracy: None\n",
      "Logged data so far: Loss: [1.2264764308929443, 0.7057352066040039], Start Logits Accuracy: [None, None], End Logits Accuracy: [None, None]\n",
      "1/1 [==============================] - 3s 3s/step\n",
      "Epoch 2 - F1 Score: 0.8125\n",
      "Logged F1 data so far: [0.75, 0.8125]\n",
      "89/89 [==============================] - 869s 10s/step - loss: 0.7057 - end_logits_start_logits_accuracy: 0.0000e+00 - end_logits_end_logits_accuracy: 0.0000e+00 - start_logits_start_logits_accuracy: 0.0000e+00 - start_logits_end_logits_accuracy: 0.0000e+00 - val_loss: 0.3505 - val_end_logits_start_logits_accuracy: 0.0000e+00 - val_end_logits_end_logits_accuracy: 0.0000e+00 - val_start_logits_start_logits_accuracy: 0.0000e+00 - val_start_logits_end_logits_accuracy: 0.0000e+00\n",
      "Epoch 3/3\n",
      "89/89 [==============================] - ETA: 0s - loss: 0.5144 - end_logits_start_logits_accuracy: 0.0000e+00 - end_logits_end_logits_accuracy: 0.0000e+00 - start_logits_start_logits_accuracy: 0.0000e+00 - start_logits_end_logits_accuracy: 0.0000e+00Epoch 3 - Loss: 0.514399528503418, Start Logits Accuracy: None, End Logits Accuracy: None\n",
      "Logged data so far: Loss: [1.2264764308929443, 0.7057352066040039, 0.514399528503418], Start Logits Accuracy: [None, None, None], End Logits Accuracy: [None, None, None]\n",
      "1/1 [==============================] - 3s 3s/step\n",
      "Epoch 3 - F1 Score: 0.875\n",
      "Logged F1 data so far: [0.75, 0.8125, 0.875]\n",
      "89/89 [==============================] - 872s 10s/step - loss: 0.5144 - end_logits_start_logits_accuracy: 0.0000e+00 - end_logits_end_logits_accuracy: 0.0000e+00 - start_logits_start_logits_accuracy: 0.0000e+00 - start_logits_end_logits_accuracy: 0.0000e+00 - val_loss: 0.2953 - val_end_logits_start_logits_accuracy: 0.0000e+00 - val_end_logits_end_logits_accuracy: 0.0000e+00 - val_start_logits_start_logits_accuracy: 0.0000e+00 - val_start_logits_end_logits_accuracy: 0.0000e+00\n"
     ]
    }
   ],
   "source": [
    "# Train the model\n",
    "history = model.fit(tf_train_dataset, epochs=training_args.num_train_epochs, callbacks=[logger, metrics_logger], validation_data=tf_eval_dataset)"
   ]
  },
  {
   "cell_type": "code",
   "execution_count": 24,
   "metadata": {},
   "outputs": [
    {
     "data": {
      "image/png": "[encoded data removed]",
      "text/plain": [
       "<Figure size 1800x600 with 3 Axes>"
      ]
     },
     "metadata": {},
     "output_type": "display_data"
    }
   ],
   "source": [
    "logger.plot()"
   ]
  },
  {
   "cell_type": "code",
   "execution_count": 25,
   "metadata": {},
   "outputs": [
    {
     "data": {
      "image/png": "[encoded data removed]",
      "text/plain": [
       "<Figure size 1200x500 with 1 Axes>"
      ]
     },
     "metadata": {},
     "output_type": "display_data"
    }
   ],
   "source": [
    "metrics_logger.plot()"
   ]
  },
  {
   "cell_type": "code",
   "execution_count": 26,
   "metadata": {},
   "outputs": [
    {
     "name": "stdout",
     "output_type": "stream",
     "text": [
      "       loss  val_loss  f1_score\n",
      "epoch                          \n",
      "1      1.23      0.58      0.75\n",
      "2      0.71      0.35      0.81\n",
      "3      0.51      0.30      0.88\n"
     ]
    }
   ],
   "source": [
    "# Buat dictionary kosong untuk menampung statistik pelatihan\n",
    "training_stats = {\n",
    "    'epoch': list(range(1, training_args.num_train_epochs + 1)),\n",
    "    'loss': history.history['loss'],  # Gunakan loss dari history\n",
    "    'val_loss': history.history['val_loss']  # Gunakan val_loss dari history\n",
    "}\n",
    "\n",
    "# Ambil metrik dari logger jika tersedia\n",
    "if logger.start_logits_accuracy and logger.end_logits_accuracy:\n",
    "    training_stats['start_logits_accuracy'] = logger.start_logits_accuracy\n",
    "    training_stats['end_logits_accuracy'] = logger.end_logits_accuracy\n",
    "\n",
    "# Ambil F1 score dari metrics logger jika tersedia\n",
    "if metrics_logger.epoch_f1:\n",
    "    training_stats['f1_score'] = metrics_logger.epoch_f1\n",
    "\n",
    "# Buat DataFrame dari dictionary\n",
    "df_stats = pd.DataFrame(training_stats)\n",
    "\n",
    "# Setel indeks DataFrame menjadi kolom 'epoch'\n",
    "df_stats = df_stats.set_index('epoch')\n",
    "\n",
    "# Setel opsi untuk menampilkan presisi desimal\n",
    "pd.set_option('display.precision', 2)\n",
    "\n",
    "# Hapus baris dengan nilai None\n",
    "df_stats = df_stats.dropna(axis=1, how='all')\n",
    "# pd.set_option('display.precision', 2)\n",
    "\n",
    "print(df_stats)\n"
   ]
  },
  {
   "cell_type": "code",
   "execution_count": 27,
   "metadata": {},
   "outputs": [],
   "source": [
    "# Function to provide a recommendation when no answer is found in the dataset\n",
    "def provide_recommendation():\n",
    "    return (\"Terima kasih atas pertanyaannya! Meskipun tidak ada jawaban langsung dari kami, berikut adalah \"\n",
    "            \"beberapa rekomendasi umum untuk membantu keuangan anda:\\n\\n\"\n",
    "            \"1. Mulailah dengan membuat anggaran dan mengelola pengeluaran Anda dengan cermat.\\n\"\n",
    "            \"2. Pertimbangkan untuk mencari peluang sampingan atau pekerjaan paruh waktu.\\n\"\n",
    "            \"3. Pelajari dan investasikan uang Anda dengan bijak. Mungkin Anda ingin mempertimbangkan untuk berinvestasi dalam saham, obligasi, atau properti.\\n\"\n",
    "            \"4. Kembangkan keterampilan yang bernilai tinggi dan pertimbangkan untuk memonetisasi hobi atau minat Anda.\\n\"\n",
    "            \"5. Jangan lupa untuk memiliki perencanaan keuangan jangka panjang, termasuk perencanaan pensiun dan perlindungan asuransi.\\n\\n\"\n",
    "            \"Semoga ini membantu Anda memulai perjalanan keuangan Anda!\")"
   ]
  },
  {
   "cell_type": "code",
   "execution_count": 28,
   "metadata": {},
   "outputs": [],
   "source": [
    "def answer_question(question, context, use_pretrained=False):\n",
    "    if context is None:\n",
    "        return provide_recommendation()  # Mengembalikan rekomendasi jika konteks tidak ditemukan\n",
    "\n",
    "    inputs = tokenizer(question, context, return_tensors=\"tf\", max_length=384, truncation=True)\n",
    "    if use_pretrained:\n",
    "        outputs = pretrained_model(inputs)\n",
    "    else:\n",
    "        outputs = model(inputs)\n",
    "\n",
    "    # Mendapatkan indeks token dengan probabilitas tertinggi untuk awal dan akhir jawaban\n",
    "    answer_start = tf.argmax(outputs.start_logits, axis=1).numpy()[0]\n",
    "    answer_end = tf.argmax(outputs.end_logits, axis=1).numpy()[0]\n",
    "    \n",
    "    # Mengambil token jawaban dari konteks\n",
    "    answer_tokens = inputs[\"input_ids\"][0][answer_start:answer_end+1]\n",
    "    \n",
    "    # Mengkonversi token ke dalam teks\n",
    "    answer = tokenizer.decode(answer_tokens)\n",
    "    \n",
    "    return answer\n"
   ]
  },
  {
   "cell_type": "code",
   "execution_count": 29,
   "metadata": {},
   "outputs": [],
   "source": [
    "# Function to find context based on the question using Jaccard similarity\n",
    "def find_context_for_question(question, dataframe):\n",
    "    max_matched_words = 0\n",
    "    best_matched_context = None\n",
    "    context_found = False\n",
    "\n",
    "    # Iterate through the rows of the dataframe\n",
    "    for _, row in dataframe.iterrows():\n",
    "        if question.strip().lower() in row['question'].strip().lower():\n",
    "            best_matched_context = row['context']\n",
    "            context_found = True\n",
    "            break  # Break the loop if a matching context is found\n",
    "\n",
    "    # If no exact match is found, find the best matching context based on the number of common words\n",
    "    if not context_found:\n",
    "        for _, row in dataframe.iterrows():\n",
    "            dataset_tokens = set(row['question'].strip().lower().split())\n",
    "            matched_words = len(set(question.strip().lower().split()).intersection(dataset_tokens))\n",
    "            if matched_words > max_matched_words:\n",
    "                max_matched_words = matched_words\n",
    "                best_matched_context = row['context']\n",
    "\n",
    "    return best_matched_context, context_found"
   ]
  },
  {
   "cell_type": "code",
   "execution_count": 30,
   "metadata": {},
   "outputs": [],
   "source": [
    "# Function to provide a recommendation when no answer is found in the dataset\n",
    "def provide_recommendation_for_question(question):\n",
    "    # Implement your recommendation logic here based on the question\n",
    "    return provide_recommendation() "
   ]
  },
  {
   "cell_type": "code",
   "execution_count": 62,
   "metadata": {},
   "outputs": [],
   "source": [
    "# User input for the question\n",
    "# user_question = input(\"Enter your financial question: \")\n",
    "# user_question = \"Apa itu EBITDA\"\n",
    "# user_question = \"apa itu finansial\"\n",
    "user_question = \"apa itu utang\""
   ]
  },
  {
   "cell_type": "code",
   "execution_count": 63,
   "metadata": {},
   "outputs": [],
   "source": [
    "# Find context for the user's question\n",
    "# context = find_context_for_question(user_question, df)\n",
    "context, context_found = find_context_for_question(user_question, df)"
   ]
  },
  {
   "cell_type": "code",
   "execution_count": 64,
   "metadata": {},
   "outputs": [],
   "source": [
    "# Function to find context based on the question\n",
    "# Mendekati dataset\n",
    "# Tidak disarankan karena halusinasi\n",
    "\n",
    "def provide_recommendation_for_question(question):\n",
    "    max_matched_words = 0\n",
    "    best_matched_context = None\n",
    "\n",
    "    # Iterate through the rows of the dataset\n",
    "    for _, row in df.iterrows():\n",
    "        dataset_tokens = set(row['question'].strip().lower().split())\n",
    "        matched_words = len(set(question.strip().lower().split()).intersection(dataset_tokens))\n",
    "        if matched_words > max_matched_words:\n",
    "            max_matched_words = matched_words\n",
    "            best_matched_context = row['context']\n",
    "\n",
    "    if best_matched_context:\n",
    "        return best_matched_context\n",
    "    else:\n",
    "        return provide_recommendation()"
   ]
  },
  {
   "cell_type": "code",
   "execution_count": 65,
   "metadata": {},
   "outputs": [
    {
     "name": "stdout",
     "output_type": "stream",
     "text": [
      "Q: apa itu utang\n",
      "A: utang konsumtif adalah utang yang digunakan untuk membeli barang atau jasa yang tidak memberikan nilai investasi jangka panjang\n"
     ]
    }
   ],
   "source": [
    "if context_found:\n",
    "    # Get the answer to the user question using the found context\n",
    "    answer = answer_question(user_question, context)\n",
    "    print(f\"Q: {user_question}\\nA: {answer}\")\n",
    "else:\n",
    "    # If context is not found, provide a recommendation based on the user's question\n",
    "    answer = provide_recommendation_for_question(user_question)\n",
    "    print(f\"Q: {user_question}\\nA: {answer}\")"
   ]
  },
  {
   "cell_type": "code",
   "execution_count": 265,
   "metadata": {},
   "outputs": [],
   "source": [
    "# Save the model at the end\n",
    "# model.save_pretrained(\"../models/fine_tuned_model\")\n",
    "# tokenizer.save_pretrained(\"../models/fine_tuned_model\")"
   ]
  }
 ],
 "metadata": {
  "kernelspec": {
   "display_name": "tensorflow-env",
   "language": "python",
   "name": "python3"
  },
  "language_info": {
   "codemirror_mode": {
    "name": "ipython",
    "version": 3
   },
   "file_extension": ".py",
   "mimetype": "text/x-python",
   "name": "python",
   "nbconvert_exporter": "python",
   "pygments_lexer": "ipython3",
   "version": "3.9.18"
  }
 },
 "nbformat": 4,
 "nbformat_minor": 2
}
