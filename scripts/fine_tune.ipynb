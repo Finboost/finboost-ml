{
 "cells": [
  {
   "cell_type": "markdown",
   "metadata": {},
   "source": [
    "# Todolist\n",
    "- Gunakan Model yang Lebih Maju\n",
    "- Membersihkan teks dari tanda baca yang tidak perlu atau melakukan tokenisasi yang lebih tepat\n",
    "- Penyaringan atau pemrosesan lanjutan untuk memastikan bahwa jawaban yang dihasilkan relevan dan bermakna\n",
    "- Perluas dataset pelatihan dengan pertanyaan yang lebih bervariasi dan relevan sehingga model memiliki lebih banyak informasi untuk merespons pertanyaan yang mungkin tidak ada dalam dataset"
   ]
  },
  {
   "cell_type": "markdown",
   "metadata": {},
   "source": [
    "## Install package"
   ]
  },
  {
   "cell_type": "code",
   "execution_count": 5,
   "metadata": {},
   "outputs": [],
   "source": [
    "# %pip install tensorflow pandas transformers datasets"
   ]
  },
  {
   "cell_type": "markdown",
   "metadata": {},
   "source": [
    "## Import package"
   ]
  },
  {
   "cell_type": "code",
   "execution_count": 111,
   "metadata": {},
   "outputs": [],
   "source": [
    "import pandas as pd\n",
    "from datasets import Dataset\n",
    "from transformers import TFBertForQuestionAnswering, BertTokenizerFast, DefaultDataCollator, create_optimizer\n",
    "from transformers import TrainingArguments, Trainer\n",
    "import tensorflow as tf\n",
    "import matplotlib.pyplot as plt"
   ]
  },
  {
   "cell_type": "code",
   "execution_count": 112,
   "metadata": {},
   "outputs": [],
   "source": [
    "import os\n",
    "\n",
    "os.environ['TF_CPP_MIN_LOG_LEVEL'] = '2'  # Suppress most TensorFlow messages\n",
    "tf.get_logger().setLevel('ERROR')"
   ]
  },
  {
   "cell_type": "code",
   "execution_count": 113,
   "metadata": {},
   "outputs": [],
   "source": [
    "# Ensure tf_keras is installed\n",
    "try:\n",
    "    import tf_keras\n",
    "except ImportError:\n",
    "    print(\"tf-keras is not installed. Installing now...\")\n",
    "    %pip install tf-keras"
   ]
  },
  {
   "cell_type": "code",
   "execution_count": 114,
   "metadata": {},
   "outputs": [
    {
     "name": "stdout",
     "output_type": "stream",
     "text": [
      "   id                                            context  \\\n",
      "0   1  ROI atau Return on Investment adalah rasio keu...   \n",
      "1   2  EBITDA atau Earnings Before Interest, Taxes, D...   \n",
      "2   3  Leverage dalam konteks finansial adalah penggu...   \n",
      "3   4  Diversifikasi adalah strategi investasi yang m...   \n",
      "4   5  Volatilitas adalah ukuran seberapa besar harga...   \n",
      "\n",
      "                 question                                             answer  \\\n",
      "0            Apa itu ROI?  ROI atau Return on Investment adalah rasio keu...   \n",
      "1         Apa itu EBITDA?  EBITDA atau Earnings Before Interest, Taxes, D...   \n",
      "2       Apa itu Leverage?  Leverage dalam konteks finansial adalah penggu...   \n",
      "3  Apa itu Diversifikasi?  Diversifikasi adalah strategi investasi yang m...   \n",
      "4    Apa itu Volatilitas?  Volatilitas adalah ukuran seberapa besar harga...   \n",
      "\n",
      "   answer_start  \n",
      "0             0  \n",
      "1             0  \n",
      "2             0  \n",
      "3             0  \n",
      "4             0  \n"
     ]
    }
   ],
   "source": [
    "# Load the dataset\n",
    "df = pd.read_csv('../data/final_dataset.csv')\n",
    "dataset = Dataset.from_pandas(df)\n",
    "print(df.head())"
   ]
  },
  {
   "cell_type": "code",
   "execution_count": 115,
   "metadata": {},
   "outputs": [
    {
     "name": "stderr",
     "output_type": "stream",
     "text": [
      "c:\\Users\\alifs\\anaconda3\\envs\\main-ds\\lib\\site-packages\\huggingface_hub\\file_download.py:1132: FutureWarning: `resume_download` is deprecated and will be removed in version 1.0.0. Downloads always resume when possible. If you want to force a new download, use `force_download=True`.\n",
      "  warnings.warn(\n",
      "Some weights of the PyTorch model were not used when initializing the TF 2.0 model TFBertForQuestionAnswering: ['bert.embeddings.position_ids']\n",
      "- This IS expected if you are initializing TFBertForQuestionAnswering from a PyTorch model trained on another task or with another architecture (e.g. initializing a TFBertForSequenceClassification model from a BertForPreTraining model).\n",
      "- This IS NOT expected if you are initializing TFBertForQuestionAnswering from a PyTorch model that you expect to be exactly identical (e.g. initializing a TFBertForSequenceClassification model from a BertForSequenceClassification model).\n",
      "All the weights of TFBertForQuestionAnswering were initialized from the PyTorch model.\n",
      "If your task is similar to the task the model of the checkpoint was trained on, you can already use TFBertForQuestionAnswering for predictions without further training.\n"
     ]
    }
   ],
   "source": [
    "# Load the tokenizer and model for fine-tuning\n",
    "model_name = \"Rifky/Indobert-QA\"\n",
    "tokenizer = BertTokenizerFast.from_pretrained(model_name)\n",
    "model = TFBertForQuestionAnswering.from_pretrained(model_name)"
   ]
  },
  {
   "cell_type": "code",
   "execution_count": 116,
   "metadata": {},
   "outputs": [
    {
     "name": "stderr",
     "output_type": "stream",
     "text": [
      "Some weights of the PyTorch model were not used when initializing the TF 2.0 model TFBertForQuestionAnswering: ['bert.embeddings.position_ids']\n",
      "- This IS expected if you are initializing TFBertForQuestionAnswering from a PyTorch model trained on another task or with another architecture (e.g. initializing a TFBertForSequenceClassification model from a BertForPreTraining model).\n",
      "- This IS NOT expected if you are initializing TFBertForQuestionAnswering from a PyTorch model that you expect to be exactly identical (e.g. initializing a TFBertForSequenceClassification model from a BertForSequenceClassification model).\n",
      "All the weights of TFBertForQuestionAnswering were initialized from the PyTorch model.\n",
      "If your task is similar to the task the model of the checkpoint was trained on, you can already use TFBertForQuestionAnswering for predictions without further training.\n"
     ]
    }
   ],
   "source": [
    "# Load pre-trained model for generating answers when context is not found\n",
    "pretrained_model = TFBertForQuestionAnswering.from_pretrained(model_name)"
   ]
  },
  {
   "cell_type": "code",
   "execution_count": 117,
   "metadata": {},
   "outputs": [],
   "source": [
    "# Tokenize dataset\n",
    "def preprocess_function(examples):\n",
    "    questions = [q.strip() for q in examples[\"question\"]]\n",
    "    inputs = tokenizer(\n",
    "        questions,\n",
    "        examples[\"context\"],\n",
    "        max_length=384,\n",
    "        truncation=\"only_second\",\n",
    "        return_offsets_mapping=True,\n",
    "        padding=\"max_length\",\n",
    "    )\n",
    "    offset_mapping = inputs.pop(\"offset_mapping\")\n",
    "    answers = examples[\"answer\"]\n",
    "    start_positions = []\n",
    "    end_positions = []\n",
    "\n",
    "    for i, (answer, offset) in enumerate(zip(answers, offset_mapping)):\n",
    "        start_char = examples[\"answer_start\"][i]\n",
    "        end_char = start_char + len(answer)\n",
    "\n",
    "        sequence_ids = inputs.sequence_ids(i)\n",
    "\n",
    "        # Find the start and end of the context\n",
    "        idx = 0\n",
    "        while sequence_ids[idx] != 1:\n",
    "            idx += 1\n",
    "        context_start = idx\n",
    "        while sequence_ids[idx] == 1:\n",
    "            idx += 1\n",
    "        context_end = idx - 1\n",
    "\n",
    "        if offset[context_start][0] > end_char or offset[context_end][1] < start_char:\n",
    "            start_positions.append(0)\n",
    "            end_positions.append(0)\n",
    "        else:\n",
    "            start_idx = context_start\n",
    "            while start_idx <= context_end and offset[start_idx][0] <= start_char:\n",
    "                start_idx += 1\n",
    "            start_positions.append(start_idx - 1)\n",
    "\n",
    "            end_idx = context_start\n",
    "            while end_idx <= context_end and offset[end_idx][1] < end_char:\n",
    "                end_idx += 1\n",
    "            end_positions.append(end_idx - 1)\n",
    "\n",
    "    inputs[\"start_positions\"] = start_positions\n",
    "    inputs[\"end_positions\"] = end_positions\n",
    "    return inputs"
   ]
  },
  {
   "cell_type": "code",
   "execution_count": 118,
   "metadata": {},
   "outputs": [
    {
     "data": {
      "application/vnd.jupyter.widget-view+json": {
       "model_id": "f8e7a052f1fd4bb49c3aa39842a76171",
       "version_major": 2,
       "version_minor": 0
      },
      "text/plain": [
       "Map:   0%|          | 0/394 [00:00<?, ? examples/s]"
      ]
     },
     "metadata": {},
     "output_type": "display_data"
    }
   ],
   "source": [
    "tokenized_datasets = dataset.map(preprocess_function, batched=True)"
   ]
  },
  {
   "cell_type": "code",
   "execution_count": 157,
   "metadata": {},
   "outputs": [],
   "source": [
    "# Define training arguments\n",
    "training_args = TrainingArguments(\n",
    "    output_dir=\"../models/fine_tuned_model\",\n",
    "    evaluation_strategy=\"epoch\",\n",
    "    learning_rate=2e-5,\n",
    "    per_device_train_batch_size=16,\n",
    "    per_device_eval_batch_size=16,\n",
    "    # num_train_epochs=1,\n",
    "    num_train_epochs=3,\n",
    "    weight_decay=0.01,\n",
    "    logging_dir='./logs',\n",
    "    logging_steps=10,\n",
    "    max_steps=1000,\n",
    ")"
   ]
  },
  {
   "cell_type": "code",
   "execution_count": 124,
   "metadata": {},
   "outputs": [],
   "source": [
    "# Create a data collator\n",
    "data_collator = DefaultDataCollator(return_tensors=\"tf\")"
   ]
  },
  {
   "cell_type": "code",
   "execution_count": 125,
   "metadata": {},
   "outputs": [],
   "source": [
    "# Convert datasets to tf.data.Dataset\n",
    "train_dataset = tokenized_datasets.shuffle(seed=42).to_tf_dataset(\n",
    "    columns=['input_ids', 'attention_mask', 'start_positions', 'end_positions'],\n",
    "    batch_size=16,\n",
    "    collate_fn=data_collator,\n",
    "    shuffle=True,\n",
    ")"
   ]
  },
  {
   "cell_type": "code",
   "execution_count": 126,
   "metadata": {},
   "outputs": [],
   "source": [
    "# Create optimizer and compile model\n",
    "num_train_steps = len(train_dataset) * training_args.num_train_epochs\n",
    "optimizer, lr_schedule = create_optimizer(\n",
    "    init_lr=training_args.learning_rate,\n",
    "    num_warmup_steps=0,\n",
    "    num_train_steps=num_train_steps,\n",
    "    weight_decay_rate=training_args.weight_decay,\n",
    ")"
   ]
  },
  {
   "cell_type": "code",
   "execution_count": 127,
   "metadata": {},
   "outputs": [],
   "source": [
    "model.compile(optimizer=optimizer)"
   ]
  },
  {
   "cell_type": "code",
   "execution_count": 128,
   "metadata": {},
   "outputs": [],
   "source": [
    "# Callbacks for logging accuracy and loss\n",
    "class LossAccuracyLogger(tf.keras.callbacks.Callback):\n",
    "    def __init__(self):\n",
    "        super(LossAccuracyLogger, self).__init__()\n",
    "        self.epoch_loss = []\n",
    "        self.epoch_accuracy = []\n",
    "\n",
    "    def on_epoch_end(self, epoch, logs=None):\n",
    "        self.epoch_loss.append(logs['loss'])\n",
    "        if 'accuracy' in logs:\n",
    "            self.epoch_accuracy.append(logs['accuracy'])\n",
    "\n",
    "    def plot(self):\n",
    "        plt.figure(figsize=(12, 5))\n",
    "        plt.subplot(1, 2, 1)\n",
    "        plt.plot(self.epoch_loss, label='Loss')\n",
    "        plt.xlabel('Epoch')\n",
    "        plt.ylabel('Loss')\n",
    "        plt.legend()\n",
    "        plt.subplot(1, 2, 2)\n",
    "        plt.plot(self.epoch_accuracy, label='Accuracy')\n",
    "        plt.xlabel('Epoch')\n",
    "        plt.ylabel('Accuracy')\n",
    "        plt.legend()\n",
    "        plt.show()"
   ]
  },
  {
   "cell_type": "code",
   "execution_count": 129,
   "metadata": {},
   "outputs": [],
   "source": [
    "logger = LossAccuracyLogger()"
   ]
  },
  {
   "cell_type": "code",
   "execution_count": 136,
   "metadata": {},
   "outputs": [],
   "source": [
    "# Define metrics\n",
    "accuracy_metric = tf.keras.metrics.SparseCategoricalAccuracy()\n",
    "f1_metric = tf.keras.metrics.F1Score(average='micro')"
   ]
  },
  {
   "cell_type": "code",
   "execution_count": 158,
   "metadata": {},
   "outputs": [],
   "source": [
    "# Callback to log metrics\n",
    "class MetricsLogger(tf.keras.callbacks.Callback):\n",
    "    def __init__(self):\n",
    "        super(MetricsLogger, self).__init__()\n",
    "        self.epoch_accuracy = []\n",
    "        self.epoch_f1 = []\n",
    "\n",
    "    def on_epoch_end(self, epoch, logs=None):\n",
    "        if 'accuracy' in logs:\n",
    "            self.epoch_accuracy.append(logs['accuracy'])\n",
    "        else:\n",
    "            self.epoch_accuracy.append(None)\n",
    "        if 'f1_score' in logs:\n",
    "            self.epoch_f1.append(logs['f1_score'])\n",
    "        else:\n",
    "            self.epoch_f1.append(None)\n"
   ]
  },
  {
   "cell_type": "code",
   "execution_count": 159,
   "metadata": {},
   "outputs": [],
   "source": [
    "# Instantiate the callback\n",
    "metrics_logger = MetricsLogger()"
   ]
  },
  {
   "cell_type": "code",
   "execution_count": 160,
   "metadata": {},
   "outputs": [
    {
     "name": "stdout",
     "output_type": "stream",
     "text": [
      "25/25 [==============================] - 708s 27s/step - loss: 0.4050\n"
     ]
    },
    {
     "data": {
      "text/plain": [
       "<tf_keras.src.callbacks.History at 0x1aaae423ee0>"
      ]
     },
     "execution_count": 160,
     "metadata": {},
     "output_type": "execute_result"
    }
   ],
   "source": [
    "# Fine-tune the model\n",
    "model.fit(train_dataset, epochs=training_args.num_train_epochs, callbacks=[logger, metrics_logger])"
   ]
  },
  {
   "cell_type": "code",
   "execution_count": 161,
   "metadata": {},
   "outputs": [
    {
     "data": {
      "image/png": "[encoded data removed]",
      "text/plain": [
       "<Figure size 1200x500 with 2 Axes>"
      ]
     },
     "metadata": {},
     "output_type": "display_data"
    }
   ],
   "source": [
    "# Plot accuracy and F1 score\n",
    "plt.figure(figsize=(12, 5))\n",
    "plt.subplot(1, 2, 1)\n",
    "plt.plot(logger.epoch_accuracy, label='Accuracy')\n",
    "plt.xlabel('Epoch')\n",
    "plt.ylabel('Accuracy')\n",
    "plt.legend()\n",
    "plt.subplot(1, 2, 2)\n",
    "plt.plot(metrics_logger.epoch_f1, label='F1 Score')\n",
    "plt.xlabel('Epoch')\n",
    "plt.ylabel('F1 Score')\n",
    "plt.legend()\n",
    "plt.show()"
   ]
  },
  {
   "cell_type": "code",
   "execution_count": 178,
   "metadata": {},
   "outputs": [],
   "source": [
    "# Error analysis\n",
    "# for example in train_dataset:\n",
    "#     input_ids = tf.convert_to_tensor([example['input_ids']])\n",
    "#     attention_mask = tf.convert_to_tensor([example['attention_mask']])\n",
    "#     # Hapus pemanggilan model di sini\n",
    "#     start_logits, end_logits = model(input_ids=input_ids, attention_mask=attention_mask, training=False)\n",
    "#     start_index = tf.argmax(start_logits, axis=-1)[0].numpy()\n",
    "#     end_index = tf.argmax(end_logits, axis=-1)[0].numpy()\n",
    "#     predicted_answer = tokenizer.decode(input_ids[0][start_index:end_index + 1])\n",
    "#     true_answer = example['answer']\n",
    "#     # Hanya cetak hasil prediksi di sini\n",
    "#     if predicted_answer != true_answer:\n",
    "#         print(\"Question:\", example['question'])\n",
    "#         print(\"Predicted Answer:\", predicted_answer)\n",
    "#         print(\"True Answer:\", true_answer)\n",
    "#         print()"
   ]
  },
  {
   "cell_type": "code",
   "execution_count": 179,
   "metadata": {},
   "outputs": [
    {
     "data": {
      "image/png": "[encoded data removed]",
      "text/plain": [
       "<Figure size 1200x500 with 2 Axes>"
      ]
     },
     "metadata": {},
     "output_type": "display_data"
    }
   ],
   "source": [
    "logger.plot()"
   ]
  },
  {
   "cell_type": "code",
   "execution_count": 180,
   "metadata": {},
   "outputs": [],
   "source": [
    "# Function to answer a question using the fine-tuned model or the pretrained model\n",
    "def answer_question(question, context, use_pretrained=False):\n",
    "    if context is None:\n",
    "        use_pretrained = True  # Use pretrained model if context is not available\n",
    "    inputs = tokenizer(question, context, return_tensors=\"tf\")\n",
    "    if use_pretrained:\n",
    "        outputs = pretrained_model(inputs)\n",
    "    else:\n",
    "        outputs = model(inputs)\n",
    "    answer_start = tf.argmax(outputs.start_logits, axis=1).numpy()[0]\n",
    "    answer_end = tf.argmax(outputs.end_logits, axis=1).numpy()[0] + 1\n",
    "    answer = tokenizer.convert_tokens_to_string(tokenizer.convert_ids_to_tokens(inputs[\"input_ids\"][0][answer_start:answer_end]))\n",
    "    return answer\n"
   ]
  },
  {
   "cell_type": "code",
   "execution_count": 181,
   "metadata": {},
   "outputs": [],
   "source": [
    "# Function to find context based on the question\n",
    "# Simple version\n",
    "def find_context_for_question(question, dataframe):\n",
    "    for _, row in dataframe.iterrows():\n",
    "        if question.strip().lower() in row['question'].strip().lower():\n",
    "            return row['context'], True\n",
    "    return None, False"
   ]
  },
  {
   "cell_type": "code",
   "execution_count": 207,
   "metadata": {},
   "outputs": [],
   "source": [
    "# Function to find context based on the question\n",
    "# Mendekati dataset\n",
    "# Tidak disarankan karena halusinasi\n",
    "\n",
    "def find_context_for_question(question, dataframe):\n",
    "    max_matched_words = 0\n",
    "    best_matched_context = None\n",
    "    context_found = False\n",
    "\n",
    "    # Tokenize the user question\n",
    "    user_tokens = set(question.strip().lower().split())  # Menggunakan set untuk mempercepat pencarian\n",
    "\n",
    "    # Iterate through the rows of the dataframe\n",
    "    for _, row in dataframe.iterrows():\n",
    "        # Tokenize the question from the dataset\n",
    "        dataset_tokens = set(row['question'].strip().lower().split())  # Menggunakan set untuk mempercepat pencarian\n",
    "\n",
    "        # Calculate the number of matched words between user question and dataset question\n",
    "        matched_words = len(user_tokens.intersection(dataset_tokens))\n",
    "\n",
    "        # Check if the current question has more matched words than the previous best match\n",
    "        if matched_words > max_matched_words:\n",
    "            max_matched_words = matched_words\n",
    "            best_matched_context = row['context']\n",
    "            context_found = True\n",
    "\n",
    "    return best_matched_context, context_found\n"
   ]
  },
  {
   "cell_type": "code",
   "execution_count": 208,
   "metadata": {},
   "outputs": [],
   "source": [
    "# Function to provide a recommendation when no answer is found in the dataset\n",
    "def provide_recommendation():\n",
    "    return (\"Terima kasih atas pertanyaannya! Meskipun tidak ada jawaban langsung dari kami, berikut adalah \"\n",
    "            \"beberapa rekomendasi umum untuk membantu keuangan anda:\\n\\n\"\n",
    "            \"1. Mulailah dengan membuat anggaran dan mengelola pengeluaran Anda dengan cermat.\\n\"\n",
    "            \"2. Pertimbangkan untuk mencari peluang sampingan atau pekerjaan paruh waktu.\\n\"\n",
    "            \"3. Pelajari dan investasikan uang Anda dengan bijak. Mungkin Anda ingin mempertimbangkan untuk berinvestasi dalam saham, obligasi, atau properti.\\n\"\n",
    "            \"4. Kembangkan keterampilan yang bernilai tinggi dan pertimbangkan untuk memonetisasi hobi atau minat Anda.\\n\"\n",
    "            \"5. Jangan lupa untuk memiliki perencanaan keuangan jangka panjang, termasuk perencanaan pensiun dan perlindungan asuransi.\\n\\n\"\n",
    "            \"Semoga ini membantu Anda memulai perjalanan keuangan Anda!\")"
   ]
  },
  {
   "cell_type": "code",
   "execution_count": 212,
   "metadata": {},
   "outputs": [],
   "source": [
    "# User input for the question\n",
    "# user_question = input(\"Enter your financial question: \")\n",
    "# user_question = \"apa itu inflasi\"\n",
    "user_question = \"cara memilih reksadana yang baik\""
   ]
  },
  {
   "cell_type": "code",
   "execution_count": 213,
   "metadata": {},
   "outputs": [],
   "source": [
    "# Find context for the user's question\n",
    "# context = find_context_for_question(user_question, df)\n",
    "# context, context_found = find_context_for_question(user_question, df)\n",
    "context, context_found = find_context_for_question(user_question, df)"
   ]
  },
  {
   "cell_type": "code",
   "execution_count": 214,
   "metadata": {},
   "outputs": [
    {
     "name": "stdout",
     "output_type": "stream",
     "text": [
      "Q: cara memilih reksadana yang baik\n",
      "A: berinvestasi dalam properti\n"
     ]
    }
   ],
   "source": [
    "if context_found:\n",
    "    # Get the answer to the user question using the found context\n",
    "    answer = answer_question(user_question, context)\n",
    "    print(f\"Q: {user_question}\\nA: {answer}\")\n",
    "else:\n",
    "    # If context is not found, generate answer without context using pre-trained model\n",
    "    answer = answer_question(user_question, context=None, use_pretrained=True)\n",
    "    if answer == \"\":\n",
    "        print(provide_recommendation())\n",
    "    else:\n",
    "        print(f\"Q: {user_question}\\nA: {answer}\")"
   ]
  },
  {
   "cell_type": "code",
   "execution_count": 24,
   "metadata": {},
   "outputs": [
    {
     "data": {
      "text/plain": [
       "('./models/fine_tuned_model\\\\tokenizer_config.json',\n",
       " './models/fine_tuned_model\\\\special_tokens_map.json',\n",
       " './models/fine_tuned_model\\\\vocab.txt',\n",
       " './models/fine_tuned_model\\\\added_tokens.json',\n",
       " './models/fine_tuned_model\\\\tokenizer.json')"
      ]
     },
     "execution_count": 24,
     "metadata": {},
     "output_type": "execute_result"
    }
   ],
   "source": [
    "# Save the model at the end\n",
    "# model.save_pretrained(\"../models/fine_tuned_model\")\n",
    "# tokenizer.save_pretrained(\"../models/fine_tuned_model\")"
   ]
  }
 ],
 "metadata": {
  "kernelspec": {
   "display_name": "tensorflow-env",
   "language": "python",
   "name": "python3"
  },
  "language_info": {
   "codemirror_mode": {
    "name": "ipython",
    "version": 3
   },
   "file_extension": ".py",
   "mimetype": "text/x-python",
   "name": "python",
   "nbconvert_exporter": "python",
   "pygments_lexer": "ipython3",
   "version": "3.9.18"
  }
 },
 "nbformat": 4,
 "nbformat_minor": 2
}
