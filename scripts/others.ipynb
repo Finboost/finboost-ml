{
 "cells": [
  {
   "cell_type": "code",
   "execution_count": null,
   "metadata": {},
   "outputs": [],
   "source": [
    "# %pip install transformers torch"
   ]
  },
  {
   "cell_type": "code",
   "execution_count": 1,
   "metadata": {},
   "outputs": [
    {
     "name": "stdout",
     "output_type": "stream",
     "text": [
      "WARNING:tensorflow:From c:\\Users\\alifs\\anaconda3\\envs\\main-ds\\lib\\site-packages\\tf_keras\\src\\losses.py:2976: The name tf.losses.sparse_softmax_cross_entropy is deprecated. Please use tf.compat.v1.losses.sparse_softmax_cross_entropy instead.\n",
      "\n"
     ]
    },
    {
     "name": "stderr",
     "output_type": "stream",
     "text": [
      "c:\\Users\\alifs\\anaconda3\\envs\\main-ds\\lib\\site-packages\\huggingface_hub\\file_download.py:1132: FutureWarning: `resume_download` is deprecated and will be removed in version 1.0.0. Downloads always resume when possible. If you want to force a new download, use `force_download=True`.\n",
      "  warnings.warn(\n"
     ]
    },
    {
     "name": "stdout",
     "output_type": "stream",
     "text": [
      "WARNING:tensorflow:From c:\\Users\\alifs\\anaconda3\\envs\\main-ds\\lib\\site-packages\\tf_keras\\src\\backend.py:873: The name tf.get_default_graph is deprecated. Please use tf.compat.v1.get_default_graph instead.\n",
      "\n"
     ]
    },
    {
     "name": "stderr",
     "output_type": "stream",
     "text": [
      "Some weights of the PyTorch model were not used when initializing the TF 2.0 model TFBertForQuestionAnswering: ['bert.embeddings.position_ids']\n",
      "- This IS expected if you are initializing TFBertForQuestionAnswering from a PyTorch model trained on another task or with another architecture (e.g. initializing a TFBertForSequenceClassification model from a BertForPreTraining model).\n",
      "- This IS NOT expected if you are initializing TFBertForQuestionAnswering from a PyTorch model that you expect to be exactly identical (e.g. initializing a TFBertForSequenceClassification model from a BertForSequenceClassification model).\n",
      "All the weights of TFBertForQuestionAnswering were initialized from the PyTorch model.\n",
      "If your task is similar to the task the model of the checkpoint was trained on, you can already use TFBertForQuestionAnswering for predictions without further training.\n"
     ]
    },
    {
     "name": "stdout",
     "output_type": "stream",
     "text": [
      "Q: cara membuat uang?\n",
      "A: Pertanyaan tidak ditemukan dalam dataset.\n"
     ]
    }
   ],
   "source": [
    "import pandas as pd\n",
    "from datasets import Dataset\n",
    "from transformers import TFBertForQuestionAnswering, BertTokenizerFast\n",
    "import tensorflow as tf\n",
    "\n",
    "# Load dataset\n",
    "df = pd.read_csv('../data/final_dataset.csv')\n",
    "\n",
    "# Define a function to find context based on the user's question\n",
    "def find_context_for_question(question, dataset):\n",
    "    for _, row in dataset.iterrows():\n",
    "        if row['question'].strip().lower() == question.strip().lower():\n",
    "            return row['context']\n",
    "    return None\n",
    "\n",
    "# Define the model and tokenizer\n",
    "model_name = \"Rifky/Indobert-QA\"\n",
    "tokenizer = BertTokenizerFast.from_pretrained(model_name)\n",
    "model = TFBertForQuestionAnswering.from_pretrained(model_name)\n",
    "\n",
    "# Function to answer a question using the model and found context\n",
    "def answer_question(question):\n",
    "    context = find_context_for_question(question, df)\n",
    "    if context is None:\n",
    "        return \"Pertanyaan tidak ditemukan dalam dataset.\"\n",
    "    \n",
    "    inputs = tokenizer(question, context, return_tensors=\"tf\")\n",
    "    outputs = model(inputs)\n",
    "    \n",
    "    answer_start = tf.argmax(outputs.start_logits, axis=1).numpy()[0]\n",
    "    answer_end = tf.argmax(outputs.end_logits, axis=1).numpy()[0] + 1\n",
    "    answer = tokenizer.convert_tokens_to_string(tokenizer.convert_ids_to_tokens(inputs[\"input_ids\"][0][answer_start:answer_end]))\n",
    "    \n",
    "    return answer\n",
    "\n",
    "# Example usage\n",
    "user_question = \"cara membuat uang?\"\n",
    "answer = answer_question(user_question)\n",
    "print(f\"Q: {user_question}\\nA: {answer}\")\n"
   ]
  },
  {
   "cell_type": "code",
   "execution_count": 3,
   "metadata": {},
   "outputs": [
    {
     "name": "stdout",
     "output_type": "stream",
     "text": [
      "{'score': 0.9597133994102478, 'start': 176, 'end': 190, 'answer': '8 Januari 1855'}\n"
     ]
    }
   ],
   "source": [
    "from transformers import pipeline\n",
    "\n",
    "# Inisialisasi pipeline untuk question answering\n",
    "qa_pipeline = pipeline(\n",
    "    \"question-answering\",\n",
    "    model=\"Rifky/Indobert-QA\",\n",
    "    tokenizer=\"Rifky/Indobert-QA\"\n",
    ")\n",
    "\n",
    "# Contoh penggunaan pipeline\n",
    "context = \"\"\"\n",
    "Pangeran Harya Dipanegara (atau biasa dikenal dengan nama Pangeran Diponegoro, \n",
    "lahir di Ngayogyakarta Hadiningrat, 11 November 1785 – meninggal di Makassar, \n",
    "Hindia Belanda, 8 Januari 1855 pada umur 69 tahun) adalah salah seorang pahlawan \n",
    "nasional Republik Indonesia, yang memimpin Perang Diponegoro atau Perang Jawa selama \n",
    "periode tahun 1825 hingga 1830 melawan pemerintah Hindia Belanda. Sejarah mencatat, \n",
    "Perang Diponegoro atau Perang Jawa dikenal sebagai perang yang menelan korban terbanyak \n",
    "dalam sejarah Indonesia, yakni 8.000 korban serdadu Hindia Belanda, 7.000 pribumi, \n",
    "dan 200 ribu orang Jawa serta kerugian materi 25 juta Gulden.\n",
    "\"\"\"\n",
    "question = \"kapan pangeran diponegoro meninggal?\"\n",
    "\n",
    "# Melakukan penjawaban pertanyaan\n",
    "result = qa_pipeline({\n",
    "    'context': context,\n",
    "    'question': question\n",
    "})\n",
    "\n",
    "# Menampilkan hasil\n",
    "print(result)\n"
   ]
  }
 ],
 "metadata": {
  "kernelspec": {
   "display_name": "main-ds",
   "language": "python",
   "name": "python3"
  },
  "language_info": {
   "codemirror_mode": {
    "name": "ipython",
    "version": 3
   },
   "file_extension": ".py",
   "mimetype": "text/x-python",
   "name": "python",
   "nbconvert_exporter": "python",
   "pygments_lexer": "ipython3",
   "version": "3.9.18"
  }
 },
 "nbformat": 4,
 "nbformat_minor": 2
}
