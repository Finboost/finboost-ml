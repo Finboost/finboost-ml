{
 "cells": [
  {
   "cell_type": "markdown",
   "metadata": {},
   "source": [
    "# Final Dataset 1"
   ]
  },
  {
   "cell_type": "markdown",
   "metadata": {},
   "source": [
    "### Import lib"
   ]
  },
  {
   "cell_type": "code",
   "execution_count": 41,
   "metadata": {},
   "outputs": [],
   "source": [
    "import pandas as pd"
   ]
  },
  {
   "cell_type": "markdown",
   "metadata": {},
   "source": [
    "### Membaca kedua file CSV ke dalam DataFrame pandas:"
   ]
  },
  {
   "cell_type": "code",
   "execution_count": 42,
   "metadata": {},
   "outputs": [],
   "source": [
    "# Membaca kedua file CSV ke dalam DataFrame\n",
    "df_vito = pd.read_csv('../data/generative-ai/dataset-vito.csv')\n",
    "# df_vito_2 = pd.read_csv('../data/generative-ai/dataset-vito-2.csv')\n",
    "df_dina = pd.read_csv('../data/generative-ai/dataset-dina.csv')\n",
    "df_dina_2 = pd.read_csv('../data/generative-ai/dataset-dina-2.csv')\n",
    "df_dina_3 = pd.read_csv('../data/generative-ai/dataset-dina-3.csv')\n",
    "df_alif = pd.read_csv('../data/generative-ai/dataset-alif.csv')\n",
    "df_umum = pd.read_csv('../data/generative-ai/dataset-umum.csv')"
   ]
  },
  {
   "cell_type": "code",
   "execution_count": 43,
   "metadata": {},
   "outputs": [
    {
     "name": "stdout",
     "output_type": "stream",
     "text": [
      "Index(['id', 'context', 'question', 'answer', 'answer_start'], dtype='object')\n",
      "Index(['id', 'context', 'question', 'answer', 'answer_start'], dtype='object')\n",
      "Index(['id', 'context', 'question', 'answer', 'answer_start'], dtype='object')\n",
      "Index(['id', 'context', 'question', 'answer', 'answer_start'], dtype='object')\n",
      "Index(['id', 'context', 'question', 'answer', 'answer_start'], dtype='object')\n",
      "Index(['id', 'context', 'question', 'answer', 'answer_start'], dtype='object')\n"
     ]
    }
   ],
   "source": [
    "print(df_vito.columns)\n",
    "# print(df_vito_2.columns)\n",
    "print(df_dina.columns)\n",
    "print(df_dina_2.columns)\n",
    "print(df_dina_3.columns)\n",
    "print(df_alif.columns)\n",
    "print(df_umum.columns)"
   ]
  },
  {
   "cell_type": "markdown",
   "metadata": {},
   "source": [
    "### Menggabungkan kedua DataFrame:"
   ]
  },
  {
   "cell_type": "code",
   "execution_count": 44,
   "metadata": {},
   "outputs": [],
   "source": [
    "df_combined = pd.concat([df_vito, df_dina, df_dina_2, df_dina_3, df_alif, df_umum], ignore_index=True)"
   ]
  },
  {
   "cell_type": "markdown",
   "metadata": {},
   "source": [
    "### Mendeteksi data duplikat"
   ]
  },
  {
   "cell_type": "code",
   "execution_count": 45,
   "metadata": {},
   "outputs": [
    {
     "name": "stdout",
     "output_type": "stream",
     "text": [
      "Data yang duplicate:\n",
      "       id                                            context  \\\n",
      "10     11  Alpha adalah ukuran kinerja investasi relatif ...   \n",
      "11     12  Beta adalah ukuran volatilitas atau risiko sis...   \n",
      "14     15  Dividend Yield adalah rasio keuangan yang menu...   \n",
      "19     20  Sharpe Ratio adalah rasio yang digunakan untuk...   \n",
      "39     40  Inflasi adalah peningkatan umum dalam harga ba...   \n",
      "...   ...                                                ...   \n",
      "3253  476  Tabungan pensiun yang memadai memastikan bahwa...   \n",
      "3257  480  Asuransi jiwa memberikan perlindungan finansia...   \n",
      "3261  484  Merencanakan pensiun adalah langkah krusial un...   \n",
      "3264  487  Tabungan pensiun yang memadai memastikan bahwa...   \n",
      "3275  498  Diversifikasi portofolio adalah strategi inves...   \n",
      "\n",
      "                                               question  \\\n",
      "10                                       Apa itu Alpha?   \n",
      "11                                        Apa itu Beta?   \n",
      "14                              Apa itu Dividend Yield?   \n",
      "19                                Apa itu Sharpe Ratio?   \n",
      "39                                     Apa itu inflasi?   \n",
      "...                                                 ...   \n",
      "3253  Kenapa penting memiliki tabungan pensiun yang ...   \n",
      "3257             Kenapa penting memiliki asuransi jiwa?   \n",
      "3261           Kenapa penting memiliki rencana pensiun?   \n",
      "3264  Kenapa penting memiliki tabungan pensiun yang ...   \n",
      "3275  Kenapa penting memiliki diversifikasi portofolio?   \n",
      "\n",
      "                                                 answer  answer_start  \n",
      "10    Alpha adalah ukuran kinerja investasi relatif ...             0  \n",
      "11    Beta adalah ukuran volatilitas atau risiko sis...             0  \n",
      "14    Dividend Yield adalah rasio keuangan yang menu...             0  \n",
      "19    Sharpe Ratio adalah rasio yang digunakan untuk...             0  \n",
      "39    Inflasi adalah peningkatan umum dalam harga ba...             0  \n",
      "...                                                 ...           ...  \n",
      "3253  Penting memiliki tabungan pensiun yang memadai...            30  \n",
      "3257  Penting memiliki asuransi jiwa karena memberik...            30  \n",
      "3261  Penting memiliki rencana pensiun karena memban...            30  \n",
      "3264  Penting memiliki tabungan pensiun yang memadai...            30  \n",
      "3275  Penting memiliki diversifikasi portofolio kare...            30  \n",
      "\n",
      "[242 rows x 5 columns]\n"
     ]
    }
   ],
   "source": [
    "duplicated_rows = df_combined[df_combined.duplicated(subset=['context', 'question', 'answer'], keep=False)]\n",
    "print(\"Data yang duplicate:\")\n",
    "print(duplicated_rows)"
   ]
  },
  {
   "cell_type": "markdown",
   "metadata": {},
   "source": [
    "### Menghitung jumlah data duplikat"
   ]
  },
  {
   "cell_type": "code",
   "execution_count": 46,
   "metadata": {},
   "outputs": [
    {
     "name": "stdout",
     "output_type": "stream",
     "text": [
      "Jumlah data duplicate: 242\n"
     ]
    }
   ],
   "source": [
    "duplicate_count = len(duplicated_rows)\n",
    "print(\"Jumlah data duplicate:\", duplicate_count)"
   ]
  },
  {
   "cell_type": "markdown",
   "metadata": {},
   "source": [
    "### Menghapus baris yang memiliki nilai duplikat"
   ]
  },
  {
   "cell_type": "code",
   "execution_count": 47,
   "metadata": {},
   "outputs": [],
   "source": [
    "# Menghapus baris yang memiliki nilai duplikat pada kolom 'context', 'question', dan 'answer'\n",
    "df_combined.drop_duplicates(subset=['context', 'question', 'answer'], inplace=True)\n"
   ]
  },
  {
   "cell_type": "markdown",
   "metadata": {},
   "source": [
    "### Increment Id"
   ]
  },
  {
   "cell_type": "code",
   "execution_count": 48,
   "metadata": {},
   "outputs": [],
   "source": [
    "df_combined['id'] = range(1, len(df_combined) + 1)"
   ]
  },
  {
   "cell_type": "markdown",
   "metadata": {},
   "source": [
    "### Menyimpan DataFrame gabungan ke dalam file CSV baru:"
   ]
  },
  {
   "cell_type": "code",
   "execution_count": 49,
   "metadata": {},
   "outputs": [],
   "source": [
    "df_combined.to_csv('../data/generative-ai/finansial-dataset.csv', index=False)"
   ]
  },
  {
   "cell_type": "markdown",
   "metadata": {},
   "source": [
    "------------------------------------------------------------------------------------"
   ]
  },
  {
   "cell_type": "markdown",
   "metadata": {},
   "source": [
    "# Bikin Final Dataset 2"
   ]
  },
  {
   "cell_type": "markdown",
   "metadata": {},
   "source": [
    "### Baca final_dataset.csv"
   ]
  },
  {
   "cell_type": "code",
   "execution_count": 66,
   "metadata": {},
   "outputs": [],
   "source": [
    "# Baca finansial-dataset.csv\n",
    "df = pd.read_csv(\"../data/generative-ai/finansial-dataset.csv\")"
   ]
  },
  {
   "cell_type": "markdown",
   "metadata": {},
   "source": [
    "### Gabungkan kolom question dan context menjadi kolom 'prompt' dan 'response'"
   ]
  },
  {
   "cell_type": "code",
   "execution_count": 67,
   "metadata": {},
   "outputs": [],
   "source": [
    "# Gabungkan kolom question dan context menjadi kolom 'prompt' dan 'response'\n",
    "df['prompt'] = df['question']\n",
    "df['response'] = df['context']"
   ]
  },
  {
   "cell_type": "markdown",
   "metadata": {},
   "source": [
    "### Hapus kolom question dan ubah urutan kolom"
   ]
  },
  {
   "cell_type": "code",
   "execution_count": 68,
   "metadata": {},
   "outputs": [],
   "source": [
    "# Hapus kolom question dan context\n",
    "df.drop(['id', 'question', 'context'], axis=1, inplace=True)\n",
    "\n",
    "# Ubah urutan kolom\n",
    "df = df[['prompt', 'response']]\n"
   ]
  },
  {
   "cell_type": "markdown",
   "metadata": {},
   "source": [
    "# Tambahkan data dengan format yang sama"
   ]
  },
  {
   "cell_type": "code",
   "execution_count": 72,
   "metadata": {},
   "outputs": [
    {
     "name": "stdout",
     "output_type": "stream",
     "text": [
      "Index(['prompt', 'response'], dtype='object')\n"
     ]
    }
   ],
   "source": [
    "df_alif_2 = pd.read_csv('../data/generative-ai/dataset-alif-2.csv')\n",
    "print(df_alif_2.columns)"
   ]
  },
  {
   "cell_type": "code",
   "execution_count": 73,
   "metadata": {},
   "outputs": [],
   "source": [
    "df_combined_2 = pd.concat([df, df_alif_2], ignore_index=True)"
   ]
  },
  {
   "cell_type": "code",
   "execution_count": 74,
   "metadata": {},
   "outputs": [
    {
     "name": "stdout",
     "output_type": "stream",
     "text": [
      "Data yang duplicate:\n",
      "                                                 prompt  \\\n",
      "2623  Berapa perkiraan pertumbuhan ekonomi Indonesia...   \n",
      "3169  Berapa perkiraan pertumbuhan ekonomi Indonesia...   \n",
      "\n",
      "                                               response  \n",
      "2623  Bank Indonesia memperkirakan pertumbuhan ekono...  \n",
      "3169  Bank Indonesia memperkirakan pertumbuhan ekono...  \n"
     ]
    }
   ],
   "source": [
    "duplicated_rows_2 = df_combined_2[df_combined_2.duplicated(subset=['prompt', 'response'], keep=False)]\n",
    "print(\"Data yang duplicate:\")\n",
    "print(duplicated_rows_2)"
   ]
  },
  {
   "cell_type": "code",
   "execution_count": 77,
   "metadata": {},
   "outputs": [
    {
     "name": "stdout",
     "output_type": "stream",
     "text": [
      "Jumlah data duplicate: 2\n"
     ]
    }
   ],
   "source": [
    "duplicate_count_2 = len(duplicated_rows_2)\n",
    "print(\"Jumlah data duplicate:\", duplicate_count_2)"
   ]
  },
  {
   "cell_type": "code",
   "execution_count": 78,
   "metadata": {},
   "outputs": [],
   "source": [
    "df_combined_2.drop_duplicates(subset=['prompt', 'response'], inplace=True)"
   ]
  },
  {
   "cell_type": "markdown",
   "metadata": {},
   "source": [
    "# Tambahkan kolom 'text'"
   ]
  },
  {
   "cell_type": "code",
   "execution_count": 79,
   "metadata": {},
   "outputs": [],
   "source": [
    "df['text'] = df['prompt'] + \" \" + df['response']"
   ]
  },
  {
   "cell_type": "markdown",
   "metadata": {},
   "source": [
    "### Simpan DataFrame ke dalam financial_data.csv"
   ]
  },
  {
   "cell_type": "code",
   "execution_count": 80,
   "metadata": {},
   "outputs": [],
   "source": [
    "# Simpan DataFrame ke dalam financial_data.csv\n",
    "df.to_csv(\"../data/generative-ai/finansial-dataset-v2.csv\", index=False)\n"
   ]
  }
 ],
 "metadata": {
  "kernelspec": {
   "display_name": "main-ds",
   "language": "python",
   "name": "python3"
  },
  "language_info": {
   "codemirror_mode": {
    "name": "ipython",
    "version": 3
   },
   "file_extension": ".py",
   "mimetype": "text/x-python",
   "name": "python",
   "nbconvert_exporter": "python",
   "pygments_lexer": "ipython3",
   "version": "3.9.18"
  }
 },
 "nbformat": 4,
 "nbformat_minor": 2
}
