{
 "cells": [
  {
   "cell_type": "markdown",
   "metadata": {},
   "source": [
    "# Final Dataset 1"
   ]
  },
  {
   "cell_type": "markdown",
   "metadata": {},
   "source": [
    "### Import lib"
   ]
  },
  {
   "cell_type": "code",
   "execution_count": 1,
   "metadata": {},
   "outputs": [],
   "source": [
    "import pandas as pd"
   ]
  },
  {
   "cell_type": "markdown",
   "metadata": {},
   "source": [
    "### Membaca kedua file CSV ke dalam DataFrame pandas:"
   ]
  },
  {
   "cell_type": "code",
   "execution_count": 2,
   "metadata": {},
   "outputs": [],
   "source": [
    "# Membaca kedua file CSV ke dalam DataFrame\n",
    "df_vito = pd.read_csv('../data/generative-ai/dataset-vito.csv')\n",
    "df_vito_2 = pd.read_csv('../data/generative-ai/dataset-vito-2.csv')\n",
    "df_dina = pd.read_csv('../data/generative-ai/dataset-dina.csv')\n",
    "df_dina_2 = pd.read_csv('../data/generative-ai/dataset-dina-2.csv')\n",
    "df_dina_3 = pd.read_csv('../data/generative-ai/dataset-dina-3.csv')\n",
    "df_alif = pd.read_csv('../data/generative-ai/dataset-alif.csv')"
   ]
  },
  {
   "cell_type": "code",
   "execution_count": 3,
   "metadata": {},
   "outputs": [
    {
     "name": "stdout",
     "output_type": "stream",
     "text": [
      "Index(['id', 'context', 'question', 'answer', 'answer_start'], dtype='object')\n",
      "Index(['id', 'context', 'question', 'answer', 'answer_start'], dtype='object')\n",
      "Index(['id', 'context', 'question', 'answer', 'answer_start'], dtype='object')\n",
      "Index(['id', 'context', 'question', 'answer', 'answer_start'], dtype='object')\n",
      "Index(['id', 'context', 'question', 'answer', 'answer_start'], dtype='object')\n",
      "Index(['id', 'context', 'question', 'answer', 'answer_start'], dtype='object')\n"
     ]
    }
   ],
   "source": [
    "print(df_vito.columns)\n",
    "print(df_vito_2.columns)\n",
    "print(df_dina.columns)\n",
    "print(df_dina_2.columns)\n",
    "print(df_dina_3.columns)\n",
    "print(df_alif.columns)"
   ]
  },
  {
   "cell_type": "markdown",
   "metadata": {},
   "source": [
    "### Menggabungkan kedua DataFrame:"
   ]
  },
  {
   "cell_type": "code",
   "execution_count": 4,
   "metadata": {},
   "outputs": [],
   "source": [
    "df_combined = pd.concat([df_vito, df_vito_2, df_dina, df_dina_2, df_dina_3, df_alif], ignore_index=True)"
   ]
  },
  {
   "cell_type": "markdown",
   "metadata": {},
   "source": [
    "### Mendeteksi data duplikat"
   ]
  },
  {
   "cell_type": "code",
   "execution_count": 5,
   "metadata": {},
   "outputs": [
    {
     "name": "stdout",
     "output_type": "stream",
     "text": [
      "Data yang duplicate:\n",
      "       id                                            context  \\\n",
      "0       1  ROI atau Return on Investment adalah rasio keu...   \n",
      "1       2  EBITDA atau Earnings Before Interest, Taxes, D...   \n",
      "2       3  Leverage dalam konteks finansial adalah penggu...   \n",
      "3       4  Diversifikasi adalah strategi investasi yang m...   \n",
      "4       5  Volatilitas adalah ukuran seberapa besar harga...   \n",
      "...   ...                                                ...   \n",
      "4586  476  Tabungan pensiun yang memadai memastikan bahwa...   \n",
      "4590  480  Asuransi jiwa memberikan perlindungan finansia...   \n",
      "4594  484  Merencanakan pensiun adalah langkah krusial un...   \n",
      "4597  487  Tabungan pensiun yang memadai memastikan bahwa...   \n",
      "4608  498  Diversifikasi portofolio adalah strategi inves...   \n",
      "\n",
      "                                               question  \\\n",
      "0                                          Apa itu ROI?   \n",
      "1                                       Apa itu EBITDA?   \n",
      "2                                     Apa itu Leverage?   \n",
      "3                                Apa itu Diversifikasi?   \n",
      "4                                  Apa itu Volatilitas?   \n",
      "...                                                 ...   \n",
      "4586  Kenapa penting memiliki tabungan pensiun yang ...   \n",
      "4590             Kenapa penting memiliki asuransi jiwa?   \n",
      "4594           Kenapa penting memiliki rencana pensiun?   \n",
      "4597  Kenapa penting memiliki tabungan pensiun yang ...   \n",
      "4608  Kenapa penting memiliki diversifikasi portofolio?   \n",
      "\n",
      "                                                 answer  answer_start  \n",
      "0     ROI atau Return on Investment adalah rasio keu...             0  \n",
      "1     EBITDA atau Earnings Before Interest, Taxes, D...             0  \n",
      "2     Leverage dalam konteks finansial adalah penggu...             0  \n",
      "3     Diversifikasi adalah strategi investasi yang m...             0  \n",
      "4     Volatilitas adalah ukuran seberapa besar harga...             0  \n",
      "...                                                 ...           ...  \n",
      "4586  Penting memiliki tabungan pensiun yang memadai...            30  \n",
      "4590  Penting memiliki asuransi jiwa karena memberik...            30  \n",
      "4594  Penting memiliki rencana pensiun karena memban...            30  \n",
      "4597  Penting memiliki tabungan pensiun yang memadai...            30  \n",
      "4608  Penting memiliki diversifikasi portofolio kare...            30  \n",
      "\n",
      "[322 rows x 5 columns]\n"
     ]
    }
   ],
   "source": [
    "duplicated_rows = df_combined[df_combined.duplicated(subset=['context', 'question', 'answer'], keep=False)]\n",
    "print(\"Data yang duplicate:\")\n",
    "print(duplicated_rows)"
   ]
  },
  {
   "cell_type": "markdown",
   "metadata": {},
   "source": [
    "### Menghitung jumlah data duplikat"
   ]
  },
  {
   "cell_type": "code",
   "execution_count": 6,
   "metadata": {},
   "outputs": [
    {
     "name": "stdout",
     "output_type": "stream",
     "text": [
      "Jumlah data duplicate: 322\n"
     ]
    }
   ],
   "source": [
    "duplicate_count = len(duplicated_rows)\n",
    "print(\"Jumlah data duplicate:\", duplicate_count)"
   ]
  },
  {
   "cell_type": "markdown",
   "metadata": {},
   "source": [
    "### Menghapus baris yang memiliki nilai duplikat"
   ]
  },
  {
   "cell_type": "code",
   "execution_count": 7,
   "metadata": {},
   "outputs": [],
   "source": [
    "# Menghapus baris yang memiliki nilai duplikat pada kolom 'context', 'question', dan 'answer'\n",
    "df_combined.drop_duplicates(subset=['context', 'question', 'answer'], inplace=True)\n"
   ]
  },
  {
   "cell_type": "markdown",
   "metadata": {},
   "source": [
    "### Increment Id"
   ]
  },
  {
   "cell_type": "code",
   "execution_count": 8,
   "metadata": {},
   "outputs": [],
   "source": [
    "df_combined['id'] = range(1, len(df_combined) + 1)"
   ]
  },
  {
   "cell_type": "markdown",
   "metadata": {},
   "source": [
    "### Menyimpan DataFrame gabungan ke dalam file CSV baru:"
   ]
  },
  {
   "cell_type": "code",
   "execution_count": 9,
   "metadata": {},
   "outputs": [],
   "source": [
    "df_combined.to_csv('../data/generative-ai/finansial-dataset.csv', index=False)"
   ]
  },
  {
   "cell_type": "markdown",
   "metadata": {},
   "source": [
    "------------------------------------------------------------------------------------"
   ]
  },
  {
   "cell_type": "markdown",
   "metadata": {},
   "source": [
    "# Bikin Final Dataset 2"
   ]
  },
  {
   "cell_type": "markdown",
   "metadata": {},
   "source": [
    "### Baca final_dataset.csv"
   ]
  },
  {
   "cell_type": "code",
   "execution_count": 10,
   "metadata": {},
   "outputs": [],
   "source": [
    "# Baca finansial-dataset.csv\n",
    "df = pd.read_csv(\"../data/generative-ai/finansial-dataset.csv\")"
   ]
  },
  {
   "cell_type": "markdown",
   "metadata": {},
   "source": [
    "### Gabungkan kolom question dan context menjadi kolom 'prompt' dan 'response'"
   ]
  },
  {
   "cell_type": "code",
   "execution_count": 11,
   "metadata": {},
   "outputs": [],
   "source": [
    "# Gabungkan kolom question dan context menjadi kolom 'prompt' dan 'response'\n",
    "df['prompt'] = df['question']\n",
    "df['response'] = df['context']"
   ]
  },
  {
   "cell_type": "markdown",
   "metadata": {},
   "source": [
    "### Hapus kolom question dan ubah urutan kolom"
   ]
  },
  {
   "cell_type": "code",
   "execution_count": 12,
   "metadata": {},
   "outputs": [],
   "source": [
    "# Hapus kolom question dan context\n",
    "df.drop(['id', 'question', 'context'], axis=1, inplace=True)\n",
    "\n",
    "# Ubah urutan kolom\n",
    "df = df[['prompt', 'response']]\n"
   ]
  },
  {
   "cell_type": "markdown",
   "metadata": {},
   "source": [
    "### Tambahkan data dengan format yang sama"
   ]
  },
  {
   "cell_type": "code",
   "execution_count": 14,
   "metadata": {},
   "outputs": [
    {
     "name": "stdout",
     "output_type": "stream",
     "text": [
      "Index(['id', 'prompt', 'response'], dtype='object')\n"
     ]
    }
   ],
   "source": [
    "df_alif_2 = pd.read_csv('../data/generative-ai/dataset-alif-2.csv')\n",
    "print(df_alif_2.columns)"
   ]
  },
  {
   "cell_type": "markdown",
   "metadata": {},
   "source": [
    "### Menggabungkan kedua dataset dan hapus duplikat"
   ]
  },
  {
   "cell_type": "code",
   "execution_count": 15,
   "metadata": {},
   "outputs": [],
   "source": [
    "# Menggabungkan kedua dataset\n",
    "df_combined_2 = pd.concat([df, df_alif_2], ignore_index=True)"
   ]
  },
  {
   "cell_type": "markdown",
   "metadata": {},
   "source": [
    "### Mengidentifikasi dan mencetak data yang duplikat"
   ]
  },
  {
   "cell_type": "code",
   "execution_count": 16,
   "metadata": {},
   "outputs": [
    {
     "name": "stdout",
     "output_type": "stream",
     "text": [
      "Data yang duplicate:\n",
      "                                                 prompt  \\\n",
      "348                                    Apa itu dividen?   \n",
      "546   Apa keuntungan dan risiko berinvestasi dalam R...   \n",
      "583   Apa keuntungan dan risiko berinvestasi dalam ETF?   \n",
      "601   Apa keuntungan dan tantangan dalam penerbitan ...   \n",
      "1134  Bagaimana obligasi dengan bunga tetap dapat di...   \n",
      "...                                                 ...   \n",
      "6515  Bagaimana cara menghitung kebutuhan pensiun de...   \n",
      "6517  Bagaimana menghitung kebutuhan pensiun jika me...   \n",
      "6518  Bagaimana menghitung kebutuhan pensiun jika me...   \n",
      "6519  Bagaimana cara memperhitungkan pengeluaran ren...   \n",
      "6520  Bagaimana menghitung kebutuhan pensiun jika me...   \n",
      "\n",
      "                                               response      id  \n",
      "348   Dividen adalah pembayaran yang dilakukan oleh ...     NaN  \n",
      "546   Real estate investment trust (REIT) adalah per...     NaN  \n",
      "583   Exchange-traded fund (ETF) adalah jenis dana i...     NaN  \n",
      "601   Green bond adalah obligasi yang diterbitkan un...     NaN  \n",
      "1134  Obligasi dengan bunga tetap memberikan pembaya...     NaN  \n",
      "...                                                 ...     ...  \n",
      "6515  Estimasi kenaikan pengeluaran kesehatan tahuna...  2063.0  \n",
      "6517  Tambahkan pengeluaran pendidikan tahunan ke pe...  2065.0  \n",
      "6518  Tambahkan pembayaran utang tahunan ke pengelua...  2066.0  \n",
      "6519  Tambahkan pengeluaran tahunan untuk renovasi r...  2067.0  \n",
      "6520  Tambahkan pengeluaran transportasi tahunan ke ...  2068.0  \n",
      "\n",
      "[152 rows x 3 columns]\n"
     ]
    }
   ],
   "source": [
    "duplicated_rows_2 = df_combined_2[df_combined_2.duplicated(subset=['prompt', 'response'], keep=False)]\n",
    "print(\"Data yang duplicate:\")\n",
    "print(duplicated_rows_2)"
   ]
  },
  {
   "cell_type": "markdown",
   "metadata": {},
   "source": [
    "### Mengidentifikasi dan mencetak data yang duplikat"
   ]
  },
  {
   "cell_type": "code",
   "execution_count": 17,
   "metadata": {},
   "outputs": [
    {
     "name": "stdout",
     "output_type": "stream",
     "text": [
      "Jumlah data duplicate: 152\n"
     ]
    }
   ],
   "source": [
    "# Menghitung jumlah data yang duplikat\n",
    "duplicate_count_2 = len(duplicated_rows_2)\n",
    "print(\"Jumlah data duplicate:\", duplicate_count_2)"
   ]
  },
  {
   "cell_type": "code",
   "execution_count": 18,
   "metadata": {},
   "outputs": [
    {
     "name": "stdout",
     "output_type": "stream",
     "text": [
      "Menghapus data duplikat...\n"
     ]
    }
   ],
   "source": [
    "# Menghapus duplikat\n",
    "print(\"Menghapus data duplikat...\")\n",
    "df_combined_2.drop_duplicates(subset=['prompt', 'response'], inplace=True)"
   ]
  },
  {
   "cell_type": "markdown",
   "metadata": {},
   "source": [
    "### Menambahkan kolom id dengan nilai yang berurutan"
   ]
  },
  {
   "cell_type": "code",
   "execution_count": 19,
   "metadata": {},
   "outputs": [],
   "source": [
    "# Menambahkan kolom id dengan nilai yang berurutan\n",
    "df_combined_2.reset_index(drop=True, inplace=True)\n",
    "df_combined_2['id'] = df_combined_2.index + 1"
   ]
  },
  {
   "cell_type": "markdown",
   "metadata": {},
   "source": [
    "# Tambahkan kolom 'text'"
   ]
  },
  {
   "cell_type": "code",
   "execution_count": 20,
   "metadata": {},
   "outputs": [],
   "source": [
    "# Membuat kolom 'text' dengan menggabungkan 'prompt' dan 'response'\n",
    "df_combined_2['text'] = df_combined_2['prompt'] + \" \" + df_combined_2['response']"
   ]
  },
  {
   "cell_type": "code",
   "execution_count": 21,
   "metadata": {},
   "outputs": [
    {
     "name": "stdout",
     "output_type": "stream",
     "text": [
      "Mengatur ulang urutan kolom...\n"
     ]
    }
   ],
   "source": [
    "# Mengatur ulang urutan kolom sehingga 'id' berada di paling awal\n",
    "print(\"Mengatur ulang urutan kolom...\")\n",
    "df_combined_2 = df_combined_2[['id', 'prompt', 'response', 'text']]"
   ]
  },
  {
   "cell_type": "markdown",
   "metadata": {},
   "source": [
    "### Simpan DataFrame ke dalam financial_data.csv"
   ]
  },
  {
   "cell_type": "code",
   "execution_count": 22,
   "metadata": {},
   "outputs": [],
   "source": [
    "# Simpan DataFrame ke dalam financial_data.csv\n",
    "df_combined_2.to_csv(\"../data/generative-ai/finansial-dataset-v2.csv\", index=False)"
   ]
  }
 ],
 "metadata": {
  "kernelspec": {
   "display_name": "main-ds",
   "language": "python",
   "name": "python3"
  },
  "language_info": {
   "codemirror_mode": {
    "name": "ipython",
    "version": 3
   },
   "file_extension": ".py",
   "mimetype": "text/x-python",
   "name": "python",
   "nbconvert_exporter": "python",
   "pygments_lexer": "ipython3",
   "version": "3.9.18"
  }
 },
 "nbformat": 4,
 "nbformat_minor": 2
}
