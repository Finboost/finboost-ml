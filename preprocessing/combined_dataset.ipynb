{
 "cells": [
  {
   "cell_type": "markdown",
   "metadata": {},
   "source": [
    "# Import lib"
   ]
  },
  {
   "cell_type": "code",
   "execution_count": 1,
   "metadata": {},
   "outputs": [],
   "source": [
    "import pandas as pd"
   ]
  },
  {
   "cell_type": "markdown",
   "metadata": {},
   "source": [
    "# Membaca kedua file CSV ke dalam DataFrame pandas:"
   ]
  },
  {
   "cell_type": "code",
   "execution_count": 10,
   "metadata": {},
   "outputs": [],
   "source": [
    "# Membaca kedua file CSV ke dalam DataFrame\n",
    "df_vito = pd.read_csv('../data/generative-ai/dataset-vito.csv')\n",
    "# df_dina = pd.read_csv('../data/generative-ai/dataset_dina.csv')\n",
    "df_dinosaurus = pd.read_csv('../data/generative-ai/dataset_dinosaurus.csv')\n",
    "df_dino = pd.read_csv('../data/generative-ai/dataset_dinyong_baru.csv')\n",
    "df_dinyong = pd.read_csv('../data/generative-ai/dataset dinyong baru 2.csv')\n",
    "df_alif = pd.read_csv('../data/generative-ai/dataset_alif.csv')"
   ]
  },
  {
   "cell_type": "code",
   "execution_count": 11,
   "metadata": {},
   "outputs": [
    {
     "name": "stdout",
     "output_type": "stream",
     "text": [
      "Index(['id', 'context', 'question', 'answer', 'answer_start'], dtype='object')\n",
      "Index(['id', 'context', 'question', 'answer', 'answer_start'], dtype='object')\n",
      "Index(['id', 'context', 'question', 'answer', 'answer_start'], dtype='object')\n",
      "Index(['id', 'context', 'question', 'answer', 'answer_start'], dtype='object')\n",
      "Index(['id', 'context', 'question', 'answer', 'answer_start'], dtype='object')\n"
     ]
    }
   ],
   "source": [
    "print(df_vito.columns)\n",
    "# print(df_dina.columns)\n",
    "print(df_dinosaurus.columns)\n",
    "print(df_dino.columns)\n",
    "print(df_dinyong.columns)\n",
    "print(df_alif.columns)"
   ]
  },
  {
   "cell_type": "markdown",
   "metadata": {},
   "source": [
    "# Menggabungkan kedua DataFrame:"
   ]
  },
  {
   "cell_type": "code",
   "execution_count": 18,
   "metadata": {},
   "outputs": [],
   "source": [
    "df_combined = pd.concat([df_vito, df_dinosaurus,df_dino, df_alif, df_dinyong], ignore_index=True)\n",
    "# df_combined = pd.concat([df_vito, df_alif], ignore_index=True)"
   ]
  },
  {
   "cell_type": "markdown",
   "metadata": {},
   "source": [
    "# Mendeteksi data duplikat"
   ]
  },
  {
   "cell_type": "code",
   "execution_count": 19,
   "metadata": {},
   "outputs": [
    {
     "name": "stdout",
     "output_type": "stream",
     "text": [
      "Data yang duplicate:\n",
      "       id                                            context  \\\n",
      "10     11  Alpha adalah ukuran kinerja investasi relatif ...   \n",
      "11     12  Beta adalah ukuran volatilitas atau risiko sis...   \n",
      "14     15  Dividend Yield adalah rasio keuangan yang menu...   \n",
      "19     20  Sharpe Ratio adalah rasio yang digunakan untuk...   \n",
      "39     40  Inflasi adalah peningkatan umum dalam harga ba...   \n",
      "...   ...                                                ...   \n",
      "3058  816  Penting bagi setiap individu untuk memiliki re...   \n",
      "3059  817  Asuransi kesehatan adalah bagian penting dari ...   \n",
      "3061  819  Rencana dana pendidikan adalah langkah penting...   \n",
      "3062  820  Sebagai pekerja, merencanakan dana pensiun san...   \n",
      "3063  821  Asuransi jiwa adalah salah satu produk keuanga...   \n",
      "\n",
      "                                               question  \\\n",
      "10                                       Apa itu Alpha?   \n",
      "11                                        Apa itu Beta?   \n",
      "14                              Apa itu Dividend Yield?   \n",
      "19                                Apa itu Sharpe Ratio?   \n",
      "39                                     Apa itu inflasi?   \n",
      "...                                                 ...   \n",
      "3058  Apa saja yang dapat dilakukan mahasiswa untuk ...   \n",
      "3059  Mengapa asuransi kesehatan penting dalam renca...   \n",
      "3061  Bagaimana cara merencanakan dana pendidikan an...   \n",
      "3062  Apa pentingnya merencanakan dana pensiun bagi ...   \n",
      "3063  Mengapa asuransi jiwa penting dalam rencana ke...   \n",
      "\n",
      "                                                 answer  answer_start  \n",
      "10    Alpha adalah ukuran kinerja investasi relatif ...             0  \n",
      "11    Beta adalah ukuran volatilitas atau risiko sis...             0  \n",
      "14    Dividend Yield adalah rasio keuangan yang menu...             0  \n",
      "19    Sharpe Ratio adalah rasio yang digunakan untuk...             0  \n",
      "39    Inflasi adalah peningkatan umum dalam harga ba...             0  \n",
      "...                                                 ...           ...  \n",
      "3058  Mahasiswa dapat memulai dengan membuat anggara...             0  \n",
      "3059  Asuransi kesehatan penting karena dapat melind...             0  \n",
      "3061  Ada beberapa cara untuk merencanakan dana pend...             0  \n",
      "3062  Merencanakan dana pensiun penting karena memas...             0  \n",
      "3063  Asuransi jiwa penting karena memberikan perlin...             0  \n",
      "\n",
      "[242 rows x 5 columns]\n"
     ]
    }
   ],
   "source": [
    "duplicated_rows = df_combined[df_combined.duplicated(subset=['context', 'question', 'answer'], keep=False)]\n",
    "print(\"Data yang duplicate:\")\n",
    "print(duplicated_rows)"
   ]
  },
  {
   "cell_type": "markdown",
   "metadata": {},
   "source": [
    "# Menghitung jumlah data duplikat"
   ]
  },
  {
   "cell_type": "code",
   "execution_count": 20,
   "metadata": {},
   "outputs": [
    {
     "name": "stdout",
     "output_type": "stream",
     "text": [
      "Jumlah data duplicate: 242\n"
     ]
    }
   ],
   "source": [
    "duplicate_count = len(duplicated_rows)\n",
    "print(\"Jumlah data duplicate:\", duplicate_count)"
   ]
  },
  {
   "cell_type": "markdown",
   "metadata": {},
   "source": [
    "# Menghapus baris yang memiliki nilai duplikat"
   ]
  },
  {
   "cell_type": "code",
   "execution_count": 21,
   "metadata": {},
   "outputs": [],
   "source": [
    "# Menghapus baris yang memiliki nilai duplikat pada kolom 'context', 'question', dan 'answer'\n",
    "df_combined.drop_duplicates(subset=['context', 'question', 'answer'], inplace=True)\n"
   ]
  },
  {
   "cell_type": "markdown",
   "metadata": {},
   "source": [
    "# Increment Id"
   ]
  },
  {
   "cell_type": "code",
   "execution_count": 22,
   "metadata": {},
   "outputs": [],
   "source": [
    "df_combined['id'] = range(1, len(df_combined) + 1)"
   ]
  },
  {
   "cell_type": "markdown",
   "metadata": {},
   "source": [
    "# Menyimpan DataFrame gabungan ke dalam file CSV baru:"
   ]
  },
  {
   "cell_type": "code",
   "execution_count": 23,
   "metadata": {},
   "outputs": [],
   "source": [
    "df_combined.to_csv('../data/generative-ai/final_dataset.csv', index=False)\n",
    "df_combined.to_csv('../generative-ai/data/final_dataset.csv', index=False)"
   ]
  }
 ],
 "metadata": {
  "kernelspec": {
   "display_name": "main-ds",
   "language": "python",
   "name": "python3"
  },
  "language_info": {
   "codemirror_mode": {
    "name": "ipython",
    "version": 3
   },
   "file_extension": ".py",
   "mimetype": "text/x-python",
   "name": "python",
   "nbconvert_exporter": "python",
   "pygments_lexer": "ipython3",
   "version": "3.11.5"
  }
 },
 "nbformat": 4,
 "nbformat_minor": 2
}
