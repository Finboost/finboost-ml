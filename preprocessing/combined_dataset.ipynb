{
 "cells": [
  {
   "cell_type": "markdown",
   "metadata": {},
   "source": [
    "# Import lib"
   ]
  },
  {
   "cell_type": "code",
   "execution_count": 16,
   "metadata": {},
   "outputs": [],
   "source": [
    "import pandas as pd"
   ]
  },
  {
   "cell_type": "markdown",
   "metadata": {},
   "source": [
    "# Membaca kedua file CSV ke dalam DataFrame pandas:"
   ]
  },
  {
   "cell_type": "code",
   "execution_count": 2,

   "metadata": {},
   "outputs": [],
   "source": [
    "# Membaca kedua file CSV ke dalam DataFrame\n",
    "df_vito = pd.read_csv('../data/dataset-vito.csv')\n",
    "# df_dina = pd.read_csv('../data/dataset_dina.csv')\n",
    "df_dinosaurus = pd.read_csv('../data/dataset_dinosaurus.csv')\n",
    "df_alif = pd.read_csv('../data/dataset_alif.csv')"
   ]
  },
  {
   "cell_type": "code",
   "execution_count": 3,

   "metadata": {},
   "outputs": [
    {
     "name": "stdout",
     "output_type": "stream",
     "text": [
      "Index(['id', 'context', 'question', 'answer', 'answer_start'], dtype='object')\n",
      "Index(['id', 'context', 'question', 'answer', 'answer_start'], dtype='object')\n",
      "Index(['id', 'context', 'question', 'answer', 'answer_start'], dtype='object')\n"
     ]
    }
   ],
   "source": [
    "print(df_vito.columns)\n",
    "# print(df_dina.columns)\n",
    "print(df_dinosaurus.columns)\n",
    "print(df_alif.columns)"
   ]
  },
  {
   "cell_type": "markdown",
   "metadata": {},
   "source": [
    "# Menggabungkan kedua DataFrame:"
   ]
  },
  {
   "cell_type": "code",
   "execution_count": 4,

   "metadata": {},
   "outputs": [],
   "source": [
    "df_combined = pd.concat([df_vito, df_dinosaurus, df_alif], ignore_index=True)\n",
    "# df_combined = pd.concat([df_vito, df_alif], ignore_index=True)"
   ]
  },
  {
   "cell_type": "markdown",
   "metadata": {},
   "source": [
    "# Mendeteksi data duplikat"
   ]
  },
  {
   "cell_type": "code",
   "execution_count": 5,
   "metadata": {},
   "outputs": [
    {
     "name": "stdout",
     "output_type": "stream",
     "text": [
      "Data yang duplicate:\n",
      "       id                                            context  \\\n",
      "10     11  Alpha adalah ukuran kinerja investasi relatif ...   \n",
      "11     12  Beta adalah ukuran volatilitas atau risiko sis...   \n",
      "14     15  Dividend Yield adalah rasio keuangan yang menu...   \n",
      "19     20  Sharpe Ratio adalah rasio yang digunakan untuk...   \n",
      "39     40  Inflasi adalah peningkatan umum dalam harga ba...   \n",
      "44     45  Beta adalah ukuran volatilitas atau risiko sis...   \n",
      "52     53  Alpha adalah ukuran kinerja investasi relatif ...   \n",
      "53     54  Sharpe Ratio adalah rasio yang digunakan untuk...   \n",
      "58     59  Dividend Yield adalah rasio keuangan yang menu...   \n",
      "62     63  Inflasi adalah peningkatan umum dalam harga ba...   \n",
      "387   168  Mulailah menabung dan berinvestasi sejak dini,...   \n",
      "394   175  Mulailah menabung dan berinvestasi sejak dini,...   \n",
      "834   280  Inflasi adalah peningkatan umum dalam harga ba...   \n",
      "845   291  Hutang adalah uang yang dipinjam oleh individu...   \n",
      "849   295  Inflasi adalah peningkatan umum dalam harga ba...   \n",
      "861   307  Hutang adalah uang yang dipinjam oleh individu...   \n",
      "1015  461  Merencanakan pensiun adalah langkah krusial un...   \n",
      "1018  464  Asuransi jiwa memberikan perlindungan finansia...   \n",
      "1019  465  Memantau pengeluaran harian membantu individu ...   \n",
      "1020  466  Setiap jenis investasi memiliki risiko, termas...   \n",
      "1021  467  Tabungan pensiun yang memadai memastikan bahwa...   \n",
      "1026  472  Diversifikasi portofolio adalah strategi inves...   \n",
      "1027  473  Asuransi jiwa memberikan perlindungan finansia...   \n",
      "1028  474  Memantau pengeluaran harian membantu individu ...   \n",
      "1029  475  Setiap jenis investasi memiliki risiko, termas...   \n",
      "1030  476  Tabungan pensiun yang memadai memastikan bahwa...   \n",
      "1034  480  Asuransi jiwa memberikan perlindungan finansia...   \n",
      "1038  484  Merencanakan pensiun adalah langkah krusial un...   \n",
      "1041  487  Tabungan pensiun yang memadai memastikan bahwa...   \n",
      "1052  498  Diversifikasi portofolio adalah strategi inves...   \n",
      "\n",
      "                                               question  \\\n",
      "10                                       Apa itu Alpha?   \n",
      "11                                        Apa itu Beta?   \n",
      "14                              Apa itu Dividend Yield?   \n",
      "19                                Apa itu Sharpe Ratio?   \n",
      "39                                     Apa itu inflasi?   \n",
      "44                                        Apa itu Beta?   \n",
      "52                                       Apa itu Alpha?   \n",
      "53                                Apa itu Sharpe Ratio?   \n",
      "58                              Apa itu Dividend Yield?   \n",
      "62                                     Apa itu inflasi?   \n",
      "387   Apa saja langkah penting dalam merencanakan ke...   \n",
      "394   Apa saja langkah penting dalam merencanakan ke...   \n",
      "834                                    Apa itu inflasi?   \n",
      "845                                     Apa itu hutang?   \n",
      "849                                    Apa itu inflasi?   \n",
      "861                                     Apa itu hutang?   \n",
      "1015           Kenapa penting memiliki rencana pensiun?   \n",
      "1018             Kenapa penting memiliki asuransi jiwa?   \n",
      "1019  Kenapa penting untuk memantau pengeluaran harian?   \n",
      "1020  Kenapa penting untuk memahami risiko dalam inv...   \n",
      "1021  Kenapa penting memiliki tabungan pensiun yang ...   \n",
      "1026  Kenapa penting memiliki diversifikasi portofolio?   \n",
      "1027             Kenapa penting memiliki asuransi jiwa?   \n",
      "1028  Kenapa penting untuk memantau pengeluaran harian?   \n",
      "1029  Kenapa penting untuk memahami risiko dalam inv...   \n",
      "1030  Kenapa penting memiliki tabungan pensiun yang ...   \n",
      "1034             Kenapa penting memiliki asuransi jiwa?   \n",
      "1038           Kenapa penting memiliki rencana pensiun?   \n",
      "1041  Kenapa penting memiliki tabungan pensiun yang ...   \n",
      "1052  Kenapa penting memiliki diversifikasi portofolio?   \n",
      "\n",
      "                                                 answer  answer_start  \n",
      "10    Alpha adalah ukuran kinerja investasi relatif ...             0  \n",
      "11    Beta adalah ukuran volatilitas atau risiko sis...             0  \n",
      "14    Dividend Yield adalah rasio keuangan yang menu...             0  \n",
      "19    Sharpe Ratio adalah rasio yang digunakan untuk...             0  \n",
      "39    Inflasi adalah peningkatan umum dalam harga ba...             0  \n",
      "44    Beta adalah ukuran volatilitas atau risiko sis...             0  \n",
      "52    Alpha adalah ukuran kinerja investasi relatif ...             0  \n",
      "53    Sharpe Ratio adalah rasio yang digunakan untuk...             0  \n",
      "58    Dividend Yield adalah rasio keuangan yang menu...             0  \n",
      "62    Inflasi adalah peningkatan umum dalam harga ba...             0  \n",
      "387   Perencanaan keuangan untuk masa pensiun adalah...             0  \n",
      "394   Perencanaan keuangan untuk masa pensiun adalah...             0  \n",
      "834   Inflasi adalah peningkatan umum dalam harga ba...             0  \n",
      "845   Hutang adalah uang yang dipinjam oleh individu...             0  \n",
      "849   Inflasi adalah peningkatan umum dalam harga ba...             0  \n",
      "861   Hutang adalah uang yang dipinjam oleh individu...             0  \n",
      "1015  Penting memiliki rencana pensiun karena memban...            30  \n",
      "1018  Penting memiliki asuransi jiwa karena memberik...            30  \n",
      "1019  Penting untuk memantau pengeluaran harian kare...            30  \n",
      "1020  Penting untuk memahami risiko dalam investasi ...            30  \n",
      "1021  Penting memiliki tabungan pensiun yang memadai...            30  \n",
      "1026  Penting memiliki diversifikasi portofolio kare...            30  \n",
      "1027  Penting memiliki asuransi jiwa karena memberik...            30  \n",
      "1028  Penting untuk memantau pengeluaran harian kare...            30  \n",
      "1029  Penting untuk memahami risiko dalam investasi ...            30  \n",
      "1030  Penting memiliki tabungan pensiun yang memadai...            30  \n",
      "1034  Penting memiliki asuransi jiwa karena memberik...            30  \n",
      "1038  Penting memiliki rencana pensiun karena memban...            30  \n",
      "1041  Penting memiliki tabungan pensiun yang memadai...            30  \n",
      "1052  Penting memiliki diversifikasi portofolio kare...            30  \n"

     ]
    }
   ],
   "source": [
    "duplicated_rows = df_combined[df_combined.duplicated(subset=['context', 'question', 'answer'], keep=False)]\n",
    "print(\"Data yang duplicate:\")\n",
    "print(duplicated_rows)"
   ]
  },
  {
   "cell_type": "markdown",
   "metadata": {},
   "source": [
    "# Menghitung jumlah data duplikat"
   ]
  },
  {
   "cell_type": "code",
   "execution_count": 6,
   "metadata": {},
   "outputs": [
    {
     "name": "stdout",
     "output_type": "stream",
     "text": [
      "Jumlah data duplicate: 30\n"
     ]
    }
   ],
   "source": [
    "duplicate_count = len(duplicated_rows)\n",
    "print(\"Jumlah data duplicate:\", duplicate_count)"
   ]
  },
  {
   "cell_type": "markdown",
   "metadata": {},
   "source": [
    "# Menghapus baris yang memiliki nilai duplikat"
   ]
  },
  {
   "cell_type": "code",
   "execution_count": 7,
   "metadata": {},
   "outputs": [],
   "source": [
    "# Menghapus baris yang memiliki nilai duplikat pada kolom 'context', 'question', dan 'answer'\n",
    "df_combined.drop_duplicates(subset=['context', 'question', 'answer'], inplace=True)\n"
   ]
  },
  {
   "cell_type": "markdown",
   "metadata": {},
   "source": [
    "# Increment Id"
   ]
  },
  {
   "cell_type": "code",
   "execution_count": 8,
   "metadata": {},
   "outputs": [],
   "source": [
    "df_combined['id'] = range(1, len(df_combined) + 1)"
   ]
  },
  {
   "cell_type": "markdown",
   "metadata": {},
   "source": [
    "# Menyimpan DataFrame gabungan ke dalam file CSV baru:"
   ]
  },
  {
   "cell_type": "code",
   "execution_count": 9,
   "metadata": {},
   "outputs": [],
   "source": [
    "df_combined.to_csv('../data/final_dataset.csv', index=False)"
   ]
  }
 ],
 "metadata": {
  "kernelspec": {
   "display_name": "main-ds",
   "language": "python",
   "name": "python3"
  },
  "language_info": {
   "codemirror_mode": {
    "name": "ipython",
    "version": 3
   },
   "file_extension": ".py",
   "mimetype": "text/x-python",
   "name": "python",
   "nbconvert_exporter": "python",
   "pygments_lexer": "ipython3",
   "version": "3.11.5"
  }
 },
 "nbformat": 4,
 "nbformat_minor": 2
}
