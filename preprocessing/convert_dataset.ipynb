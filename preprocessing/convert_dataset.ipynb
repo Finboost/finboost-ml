{
 "cells": [
  {
   "cell_type": "code",
   "execution_count": 35,
   "metadata": {},
   "outputs": [],
   "source": [
    "import pandas as pd\n",
    "\n",
    "# Baca final_dataset.csv\n",
    "df = pd.read_csv(\"../data/generative-ai/final_dataset.csv\")\n",
    "\n",
    "# Gabungkan kolom question dan context menjadi kolom 'prompt' dan 'response'\n",
    "df['prompt'] = df['question']\n",
    "df['response'] = df['context']\n",
    "\n",
    "# Hapus kolom question dan context\n",
    "df.drop(['id', 'question', 'context'], axis=1, inplace=True)\n",
    "\n",
    "# Ubah urutan kolom\n",
    "df = df[['prompt', 'response']]\n",
    "\n",
    "# Simpan DataFrame ke dalam financial_data.csv\n",
    "df.to_csv(\"../data/generative-ai/finansial_dataset.csv\", index=False)\n"
   ]
  }
 ],
 "metadata": {
  "kernelspec": {
   "display_name": "main-ds",
   "language": "python",
   "name": "python3"
  },
  "language_info": {
   "codemirror_mode": {
    "name": "ipython",
    "version": 3
   },
   "file_extension": ".py",
   "mimetype": "text/x-python",
   "name": "python",
   "nbconvert_exporter": "python",
   "pygments_lexer": "ipython3",
   "version": "3.9.18"
  }
 },
 "nbformat": 4,
 "nbformat_minor": 2
}
