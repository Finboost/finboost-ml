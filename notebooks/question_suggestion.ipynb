{
 "cells": [
  {
   "cell_type": "markdown",
   "metadata": {},
   "source": [
    "# Question Suggestion Feature"
   ]
  },
  {
   "cell_type": "markdown",
   "metadata": {},
   "source": [
    "### Import Dependencies"
   ]
  },
  {
   "cell_type": "code",
   "execution_count": 1,
   "metadata": {},
   "outputs": [],
   "source": [
    "import numpy as np\n",
    "import tensorflow as tf\n",
    "import pandas as pd"
   ]
  },
  {
   "cell_type": "markdown",
   "metadata": {},
   "source": [
    "### Preproccessing"
   ]
  },
  {
   "cell_type": "code",
   "execution_count": 2,
   "metadata": {},
   "outputs": [],
   "source": [
    "from tensorflow.keras.preprocessing.text import Tokenizer # type: ignore\n",
    "from tensorflow.keras.preprocessing.sequence import pad_sequences # type: ignore\n",
    "from sklearn.model_selection import train_test_split # type: ignore"
   ]
  },
  {
   "cell_type": "code",
   "execution_count": 3,
   "metadata": {},
   "outputs": [
    {
     "data": {
      "text/html": [
       "<div>\n",
       "<style scoped>\n",
       "    .dataframe tbody tr th:only-of-type {\n",
       "        vertical-align: middle;\n",
       "    }\n",
       "\n",
       "    .dataframe tbody tr th {\n",
       "        vertical-align: top;\n",
       "    }\n",
       "\n",
       "    .dataframe thead th {\n",
       "        text-align: right;\n",
       "    }\n",
       "</style>\n",
       "<table border=\"1\" class=\"dataframe\">\n",
       "  <thead>\n",
       "    <tr style=\"text-align: right;\">\n",
       "      <th></th>\n",
       "      <th>Question</th>\n",
       "      <th>Category</th>\n",
       "    </tr>\n",
       "  </thead>\n",
       "  <tbody>\n",
       "    <tr>\n",
       "      <th>0</th>\n",
       "      <td>Bagaimana cara memilih platform trading crypto...</td>\n",
       "      <td>Cryptocurrency</td>\n",
       "    </tr>\n",
       "    <tr>\n",
       "      <th>1</th>\n",
       "      <td>Apa itu cryptocurrency staking dan bagaimana c...</td>\n",
       "      <td>Cryptocurrency</td>\n",
       "    </tr>\n",
       "    <tr>\n",
       "      <th>2</th>\n",
       "      <td>Bagaimana cara mengenali proyek cryptocurrency...</td>\n",
       "      <td>Cryptocurrency</td>\n",
       "    </tr>\n",
       "    <tr>\n",
       "      <th>3</th>\n",
       "      <td>Apa saja teknik dasar dalam analisis teknikal ...</td>\n",
       "      <td>Cryptocurrency</td>\n",
       "    </tr>\n",
       "    <tr>\n",
       "      <th>4</th>\n",
       "      <td>Bagaimana cara melakukan trading cryptocurrenc...</td>\n",
       "      <td>Cryptocurrency</td>\n",
       "    </tr>\n",
       "  </tbody>\n",
       "</table>\n",
       "</div>"
      ],
      "text/plain": [
       "                                            Question        Category\n",
       "0  Bagaimana cara memilih platform trading crypto...  Cryptocurrency\n",
       "1  Apa itu cryptocurrency staking dan bagaimana c...  Cryptocurrency\n",
       "2  Bagaimana cara mengenali proyek cryptocurrency...  Cryptocurrency\n",
       "3  Apa saja teknik dasar dalam analisis teknikal ...  Cryptocurrency\n",
       "4  Bagaimana cara melakukan trading cryptocurrenc...  Cryptocurrency"
      ]
     },
     "execution_count": 3,
     "metadata": {},
     "output_type": "execute_result"
    }
   ],
   "source": [
    "# Load the dataset\n",
    "df = pd.read_csv('../data/question-suggestion/data.csv')\n",
    "df.head()"
   ]
  },
  {
   "cell_type": "code",
   "execution_count": 4,
   "metadata": {},
   "outputs": [
    {
     "name": "stdout",
     "output_type": "stream",
     "text": [
      "Duplicates: 189\n",
      "Missing: 0\n"
     ]
    }
   ],
   "source": [
    "# Check duplicates and missing values\n",
    "duplicates = df.duplicated().sum()\n",
    "missing = df.isnull().sum().sum()\n",
    "\n",
    "print(f'Duplicates: {duplicates}')\n",
    "print(f'Missing: {missing}')"
   ]
  },
  {
   "cell_type": "code",
   "execution_count": 5,
   "metadata": {},
   "outputs": [],
   "source": [
    "# Handle duplicates and missing values\n",
    "df.drop_duplicates(inplace=True)\n",
    "df.dropna(inplace=True)"
   ]
  },
  {
   "cell_type": "code",
   "execution_count": 6,
   "metadata": {},
   "outputs": [
    {
     "name": "stdout",
     "output_type": "stream",
     "text": [
      "Duplicates: 0\n",
      "Missing: 0\n"
     ]
    }
   ],
   "source": [
    "# Check duplicates and missing values\n",
    "duplicates = df.duplicated().sum()\n",
    "missing = df.isnull().sum().sum()\n",
    "\n",
    "print(f'Duplicates: {duplicates}')\n",
    "print(f'Missing: {missing}')"
   ]
  },
  {
   "cell_type": "code",
   "execution_count": 7,
   "metadata": {},
   "outputs": [
    {
     "name": "stdout",
     "output_type": "stream",
     "text": [
      "questions: ['Bagaimana cara memilih platform trading cryptocurrency?', 'Apa itu cryptocurrency staking dan bagaimana cara kerjanya?', 'Bagaimana cara mengenali proyek cryptocurrency yang menjanjikan?', 'Apa saja teknik dasar dalam analisis teknikal cryptocurrency?', 'Bagaimana cara melakukan trading cryptocurrency secara aman?']\n",
      "labels: ['Cryptocurrency', 'Cryptocurrency', 'Cryptocurrency', 'Cryptocurrency', 'Cryptocurrency']\n"
     ]
    }
   ],
   "source": [
    "# Separate questions and labels\n",
    "questions = df['Question'].tolist()\n",
    "labels = df['Category'].tolist()\n",
    "\n",
    "print(f'questions: {questions[:5]}')\n",
    "print(f'labels: {labels[:5]}')"
   ]
  },
  {
   "cell_type": "code",
   "execution_count": 8,
   "metadata": {},
   "outputs": [
    {
     "name": "stdout",
     "output_type": "stream",
     "text": [
      "label_dict: {'Saham': 0, 'Makro ekonomi': 1, 'Cryptocurrency': 2, 'Pajak': 3, 'Manajemen keuangan pribadi': 4, 'Reksadana': 5, 'Asuransi': 6, 'Emas': 7, 'Obligasi': 8}\n",
      "numerical_labels: [2, 2, 2, 2, 2]\n"
     ]
    }
   ],
   "source": [
    "# Convert categories to numerical labels\n",
    "label_dict = {label: idx for idx, label in enumerate(set(labels))}\n",
    "numerical_labels = [label_dict[label] for label in labels]\n",
    "\n",
    "print(f'label_dict: {label_dict}')\n",
    "print(f'numerical_labels: {numerical_labels[:5]}')"
   ]
  },
  {
   "cell_type": "code",
   "execution_count": 9,
   "metadata": {},
   "outputs": [],
   "source": [
    "# Tokenization and padding\n",
    "tokenizer = Tokenizer(num_words=10000)\n",
    "tokenizer.fit_on_texts(questions)\n",
    "sequences = tokenizer.texts_to_sequences(questions)\n",
    "padded_sequences = pad_sequences(sequences, padding='post')"
   ]
  },
  {
   "cell_type": "code",
   "execution_count": 10,
   "metadata": {},
   "outputs": [
    {
     "name": "stdout",
     "output_type": "stream",
     "text": [
      "<keras.src.legacy.preprocessing.text.Tokenizer object at 0x000001F428F1A310>\n",
      "{'bagaimana': 1, 'cara': 2, 'apa': 3, 'itu': 4, 'dan': 5, 'saja': 6, 'dalam': 7, 'asuransi': 8, 'yang': 9, 'untuk': 10, 'reksadana': 11, 'emas': 12, 'obligasi': 13, 'pajak': 14, 'saham': 15, 'investasi': 16, 'kerjanya': 17, 'berinvestasi': 18, 'cryptocurrency': 19, 'memilih': 20, 'pendidikan': 21, 'dengan': 22, 'di': 23, 'kerja': 24, 'menggunakan': 25, 'ekonomi': 26, 'jenis': 27, 'keuangan': 28, 'terhadap': 29, 'risiko': 30, 'trading': 31, 'pasar': 32, 'memahami': 33, 'keuntungan': 34, 'mengelola': 35, 'menghitung': 36, 'harga': 37, 'kebijakan': 38, 'dalamnya': 39, 'membeli': 40, 'dari': 41, 'mendapatkan': 42, 'strategi': 43, 'tips': 44, 'inflasi': 45, 'mempengaruhi': 46, 'nilai': 47, 'melakukan': 48, 'pengaruhnya': 49, 'portofolio': 50, 'menentukan': 51, 'perusahaan': 52, 'pemerintah': 53, 'mengukur': 54, 'saat': 55, 'anak': 56, 'indikator': 57, 'negara': 58, 'faktor': 59, 'pengaruh': 60, 'penghasilan': 61, 'melaporkan': 62, 'antara': 63, 'secara': 64, 'mengatur': 65, 'kesehatan': 66, 'polis': 67, 'mengajukan': 68, 'yield': 69, 'menghitungnya': 70, 'analisis': 71, 'aman': 72, 'tepat': 73, 'anggaran': 74, 'utang': 75, 'dimaksud': 76, 'bunga': 77, 'perbedaan': 78, 'memanfaatkan': 79, 'menghindari': 80, 'membuat': 81, 'laporan': 82, 'perdagangan': 83, 'uang': 84, 'suku': 85, 'sebagai': 86, 'harus': 87, 'langkah': 88, 'bisnis': 89, 'internasional': 90, 'jangka': 91, 'digital': 92, 'fisik': 93, 'dana': 94, 'pensiun': 95, 'premi': 96, 'manfaat': 97, 'klaim': 98, 'tersedia': 99, 'tax': 100, 'bagi': 101, 'keuntungannya': 102, 'properti': 103, 'platform': 104, 'mengurangi': 105, 'pengeluaran': 106, 'menggunakannya': 107, 'jiwa': 108, 'dampak': 109, 'perekonomian': 110, 'diversifikasi': 111, 'panjang': 112, 'efektif': 113, 'rumah': 114, 'ico': 115, 'wallet': 116, 'keluarga': 117, 'fiskal': 118, 'kecil': 119, 'kinerja': 120, 'tetap': 121, 'risikonya': 122, 'syariah': 123, 'kredit': 124, 'utama': 125, 'korporasi': 126, 'initial': 127, 'offering': 128, 'blockchain': 129, 'merencanakan': 130, 'financial': 131, 'kewajiban': 132, 'aset': 133, 'terkait': 134, 'dapat': 135, 'terbaik': 136, 'teknikal': 137, 'exchange': 138, 'kendaraan': 139, 'sesuai': 140, 'diperhatikan': 141, 'online': 142, 'menganalisis': 143, 'perubahan': 144, 'batangan': 145, 'terpercaya': 146, 'pendapatan': 147, 'biaya': 148, 'global': 149, 'token': 150, 'masa': 151, 'perencanaan': 152, 'bulanan': 153, 'moneter': 154, 'melakukannya': 155, 'melalui': 156, 'tanpa': 157, 'berjangka': 158, 'indeks': 159, 'dividen': 160, 'proof': 161, 'of': 162, 'darurat': 163, 'menabung': 164, 'kebutuhan': 165, 'pertumbuhan': 166, 'dampaknya': 167, 'campuran': 168, 'menilai': 169, 'defi': 170, 'proyek': 171, 'decentralized': 172, 'pribadi': 173, 'menghadapi': 174, 'fund': 175, 'value': 176, 'makro': 177, 'mengatasi': 178, 'konversi': 179, 'etf': 180, 'leverage': 181, 'to': 182, 'fundamental': 183, 'mendapatkannya': 184, 'menyimpan': 185, 'likuiditas': 186, 'memulai': 187, 'mengamankan': 188, 'smart': 189, 'contract': 190, 'liburan': 191, 'produk': 192, 'suatu': 193, 'pembayaran': 194, 'resesi': 195, 'mempersiapkan': 196, 'ppn': 197, 'nft': 198, 'stablecoin': 199, 'memiliki': 200, 'usaha': 201, 'tingkat': 202, 'penjualan': 203, 'waktu': 204, 'individu': 205, 'fluktuasi': 206, 'krisis': 207, 'insentif': 208, 'pemula': 209, 'fork': 210, 'tabungan': 211, 'harian': 212, 'perjalanan': 213, 'ketentuan': 214, 'cash': 215, 'dokumen': 216, 'tambahan': 217, 'perlu': 218, 'sekunder': 219, 'tahunan': 220, 'teknologi': 221, 'kelebihan': 222, 'perhiasan': 223, 'terproteksi': 224, 'baik': 225, 'hijau': 226, 'ipo': 227, 'lindung': 228, 'mining': 229, 'airdrop': 230, 'independence': 231, 'meningkatkan': 232, 'unit': 233, 'membandingkan': 234, 'neraca': 235, 'pengangguran': 236, 'pertambahan': 237, 'membelinya': 238, 'coin': 239, 'farming': 240, 'pool': 241, 'non': 242, 'fungible': 243, 'perlindungan': 244, 'kupon': 245, 'bond': 246, 'debt': 247, 'bank': 248, 'zero': 249, 'umum': 250, 'mencapainya': 251, 'kualitas': 252, 'bisa': 253, 'memengaruhi': 254, 'teknik': 255, 'menilainya': 256, 'konteks': 257, 'hardware': 258, 'rencana': 259, 'rasio': 260, 'menyiapkan': 261, 'rendah': 262, 'deductible': 263, 'membaca': 264, 'defisit': 265, 'mata': 266, 'publik': 267, 'pelaporan': 268, 'pengurangan': 269, 'wajib': 270, 'luar': 271, 'negeri': 272, 'mengevaluasi': 273, 'redemption': 274, 'ratio': 275, 'penyertaan': 276, 'callable': 277, 'bonds': 278, 'moving': 279, 'stock': 280, 'pendek': 281, 'sertifikat': 282, 'profil': 283, 'manajer': 284, 'prospektus': 285, 'ritel': 286, 'indonesia': 287, 'sukuk': 288, 'maturity': 289, 'public': 290, 'berpartisipasi': 291, 'koin': 292, 'modal': 293, 'dompet': 294, 'work': 295, 'stake': 296, 'melunasi': 297, 'kartu': 298, 'menikah': 299, 'setelah': 300, 'link': 301, 'rider': 302, 'dilakukan': 303, 'jika': 304, 'berbagai': 305, 'pdb': 306, 'siklus': 307, 'produktivitas': 308, 'pengembalian': 309, 'freelancer': 310, 'alokasi': 311, 'penipuan': 312, 'blue': 313, 'chip': 314, 'candlestick': 315, 'pada': 316, 'gold': 317, 'altcoin': 318, 'liquidity': 319, 'dunia': 320, 'pasif': 321, 'mikro': 322, 'maksimal': 323, 'gdp': 324, 'pemilik': 325, 'penyimpanan': 326, 'menyusun': 327, 'snowball': 328, 'life': 329, 'warisan': 330, 'coupon': 331, 'daerah': 332, 'volatilitas': 333, 'beban': 334, 'progresif': 335, 'tidak': 336, 'dibayar': 337, 'oleh': 338, 'depan': 339, 'memastikan': 340, 'apakah': 341, 'staking': 342, 'menjanjikan': 343, 'scam': 344, 'sinking': 345, 'lebih': 346, 'penting': 347, 'quantitative': 348, 'easing': 349, 'diperlukan': 350, 'planning': 351, 'menghindarinya': 352, 'amnesty': 353, 'dipertimbangkan': 354, 'terbatas': 355, 'mengambang': 356, 'spread': 357, 'jaminan': 358, 'average': 359, 'macd': 360, 'buyback': 361, 'kontrak': 362, 'nab': 363, 'aktiva': 364, 'bersih': 365, 'switching': 366, 'rsi': 367, 'intrinsik': 368, 'pow': 369, 'pos': 370, 'keamanan': 371, 'budgeting': 372, 'pembelian': 373, 'retire': 374, 'early': 375, 'fire': 376, 'baru': 377, 'kapan': 378, 'manfaatnya': 379, 'tradisional': 380, 'komponen': 381, 'hubungan': 382, 'tenaga': 383, 'leading': 384, 'pph': 385, 'masuk': 386, 'efisiensi': 387, 'karyawan': 388, 'ada': 389, 'municipal': 390, 'diskonto': 391, 'perpetual': 392, 'preferen': 393, 'defensif': 394, 'cyclical': 395, 'numismatik': 396, 'plan': 397, 'whitepaper': 398, 'multi': 399, 'signature': 400, 'sehari': 401, 'hari': 402, 'mengumpulkannya': 403, 'diri': 404, 'deflasi': 405, 'mengatasinya': 406, 'asing': 407, 'proteksionisme': 408, 'per': 409, 'kapita': 410, 'mengukurnya': 411, 'ekspansif': 412, 'ketimpangan': 413, 'potongan': 414, 'diklaim': 415, 'audit': 416, 'performa': 417, 'rebalancing': 418, 'berbasis': 419, 'subordinasi': 420, 'split': 421, 'penny': 422, 'opsi': 423, 'hard': 424, 'mencapai': 425, 'rutin': 426, 'insurance': 427, 'kontraktif': 428, 'mengelolanya': 429, 'aplikasi': 430, 'sektor': 431, 'emergency': 432, 'menerapkannya': 433, 'credit': 434, 'mengoptimalkan': 435, 'kesalahan': 436, 'selama': 437, 'governance': 438, 'swasta': 439, 'investor': 440, 'junk': 441, 'cepat': 442, 'passive': 443, 'income': 444, 'tinggi': 445, 'globalisasi': 446, 'menghemat': 447, 'keaslian': 448, 'cicilan': 449, 'populer': 450, 'bitcoin': 451, 'net': 452, 'mengklaim': 453, 'aktif': 454, 'kerugian': 455, 'tradingnya': 456, 'kekurangan': 457, 'mengidentifikasi': 458, 'syarat': 459, 'konsumsi': 460, 'diterapkan': 461, 'end': 462, 'load': 463, 'call': 464, 'sistem': 465, 'data': 466, 'nasional': 467, 'efisien': 468, 'memantau': 469, 'permintaan': 470, 'agen': 471, 'mengenali': 472, 'dasar': 473, 'tokenomics': 474, 'dex': 475, 'meningkatkannya': 476, 'phk': 477, 'prioritas': 478, 'berlebihan': 479, 'underwriting': 480, 'surplus': 481, 'tukar': 482, 'negatif': 483, 'denda': 484, 'berganda': 485, 'keringanan': 486, 'tematik': 487, 'feeder': 488, 'optimal': 489, 'total': 490, 'expense': 491, 'money': 492, 'market': 493, 'surat': 494, 'pernyataan': 495, 'penawaran': 496, 'seri': 497, 'convergence': 498, 'divergence': 499, 'bollinger': 500, 'bands': 501, 'short': 502, 'selling': 503, 'pivot': 504, 'points': 505, 'spekulatif': 506, 'likuid': 507, 'stochastic': 508, 'oscillator': 509, 'antar': 510, 'auto': 511, 'invest': 512, 'dollar': 513, 'cost': 514, 'averaging': 515, 'ori': 516, 'peringkat': 517, 'ytm': 518, 'due': 519, 'diligence': 520, 'sebelum': 521, 'high': 522, 'price': 523, 'earnings': 524, 'p': 525, 'e': 526, 'averages': 527, 'relative': 528, 'strength': 529, 'index': 530, 'centralized': 531, 'cex': 532, 'pertama': 533, 'skor': 534, 'pasangan': 535, 'refinancing': 536, 'menerima': 537, 'kenaikan': 538, 'gaji': 539, 'dimiliki': 540, 'penyakit': 541, 'kritis': 542, 'ditolak': 543, 'mengendalikannya': 544, 'devaluasi': 545, 'perhitungan': 546, 'lagging': 547, '21': 548, 'banding': 549, 'atas': 550, 'keputusan': 551, 'bea': 552, 'barang': 553, 'impor': 554, 'nomor': 555, 'pokok': 556, 'npwp': 557, 'sharpe': 558, 'terstruktur': 559, 'pinjaman': 560, 'covenant': 561, 'subprime': 562, 'stocks': 563, 'patterns': 564, 'swot': 565, 'mengidentifikasinya': 566, 'penyedia': 567, 'saving': 568, 'kolektif': 569, 'memilihnya': 570, 'mengikuti': 571, 'finance': 572, 'keperluan': 573, 'bijak': 574, 'amortisasi': 575, 'kecelakaan': 576, 'withholding': 577, 'perpanjangan': 578, 'berdasarkan': 579, 'dikelola': 580, 'offshore': 581, 'serial': 582, 'current': 583, 'domestik': 584, 'growth': 585, 'laba': 586, 'rugi': 587, 'kertas': 588, 'application': 589, 'dapp': 590, 'soft': 591, 'cross': 592, 'chain': 593, 'belanja': 594, 'method': 595, 'kebebasan': 596, 'finansial': 597, 'membuatnya': 598, 'memulainya': 599, 'pemborosan': 600, 'universal': 601, 'whole': 602, 'term': 603, 'kemiskinan': 604, 'mempromosikan': 605, 'restriktif': 606, 'transfer': 607, 'payment': 608, 'pembetulan': 609, 'spt': 610, 'final': 611, 'avoidance': 612, 'legal': 613, 'restitusi': 614, 'bumi': 615, 'bangunan': 616, 'pbb': 617, 'suami': 618, 'istri': 619, 'warga': 620, 'hybrid': 621, 'primer': 622, 'small': 623, 'cap': 624, 'tren': 625, 'deposito': 626, 'tangga': 627, 'sovereign': 628, 'berkelanjutan': 629, 'arus': 630, 'kas': 631, 'energi': 632, 'undervalued': 633, 'rekening': 634, 'tempat': 635, 'chainlink': 636, 'based': 637, 'pengelolaan': 638, 'avalanche': 639, 'mendesak': 640, 'coinsurance': 641, 'surrender': 642, 'reinsurance': 643, 'inti': 644, 'mengendalikan': 645, 'ukm': 646, 'treaty': 647, 'bermotor': 648, 'keberatan': 649, 'terbuka': 650, 'tertutup': 651, 'kelayakan': 652, 'penerbit': 653, 'sampah': 654, 'perdana': 655, 'putih': 656, 'bedanya': 657, 'kuning': 658, 'membangunnya': 659, 'freedom': 660, 'manajemen': 661, 'murah': 662, 'hewan': 663, 'peliharaan': 664, 'output': 665, 'gap': 666, 'inklusif': 667, 'mekanisme': 668, 'transmisi': 669, 'regresif': 670, 'sanksi': 671, 'dikenakan': 672, 'membayar': 673, 'dihindari': 674, 'laddering': 675, 'waran': 676, 'valuasi': 677, 'titik': 678, 'keluar': 679, 'memverifikasi': 680, 'pergerakan': 681, 'cocok': 682, 'cold': 683, 'lightning': 684, 'network': 685, 'worth': 686, 'acara': 687, 'besar': 688, 'goal': 689, 'memprioritaskan': 690, 'tabel': 691, 'premium': 692, 'waiver': 693, 'menghadapinya': 694, 'pekerja': 695, 'lepas': 696, 'penalti': 697, 'membayarnya': 698, 'refund': 699, 'terendah': 700, 'memonitor': 701, 'rating': 702, 'dibandingkan': 703, 'wajar': 704, 'pencurian': 705, 'dipilih': 706, 'crypto': 707, 'potensial': 708, 'ieo': 709, 'melindungi': 710, 'hacker': 711, 'transaksi': 712, 'banyak': 713, 'kehilangan': 714, 'pekerjaan': 715, 'mobil': 716, 'cacat': 717, 'daya': 718, 'beli': 719, 'masyarakat': 720, 'menangani': 721, 'stagflasi': 722, 'prospectus': 723, 'membacanya': 724, 'front': 725, 'back': 726, 'tujuan': 727, 'fitur': 728, 'option': 729, 'dividend': 730, 'reinvestment': 731, 'plans': 732, 'drips': 733, 'kapitalisasi': 734, 'digunakan': 735, 'gadai': 736, 'futures': 737, 'tambang': 738, 'sharding': 739, 'compound': 740, 'interest': 741, 'bonus': 742, 'komprehensif': 743, 'harta': 744, 'benda': 745, 'keseimbangan': 746, 'subsidi': 747, 'komoditas': 748, 'berlaku': 749, 'masalah': 750, 'subscription': 751, 'nav': 752, 'asset': 753, 'reverse': 754, 'broker': 755, 'menjual': 756, 'lending': 757, 'platforms': 758, 'autonomous': 759, 'organization': 760, 'dao': 761, 'consensus': 762, 'mechanism': 763, 'utility': 764, 'terduga': 765, 'flow': 766, 'pernikahan': 767, 'agar': 768, 'terjangkau': 769, 'mengajukannya': 770, 'komersial': 771, 'hiperinflasi': 772, 'tantangan': 773, 'pembangunan': 774, 'bracket': 775, 'sumbangan': 776, 'mengurus': 777, 'sewaan': 778, 'kekayaan': 779, 'maksimum': 780, 'menawarkan': 781, 'jumlah': 782, 'memaksimalkan': 783, 'tunai': 784, 'mengubah': 785, 'bangkrut': 786, 'keluhan': 787, 'atau': 788, 'sengketa': 789, 'peran': 790, 'menguntungkan': 791, 'perkembangan': 792, 'menghentikan': 793, 'mengapa': 794, 'diwariskan': 795, 'siapa': 796, 'sebaiknya': 797, 'mana': 798, 'informasi': 799, 'tentang': 800, 'program': 801, 'seberapa': 802, 'fleksibel': 803, 'hasil': 804, 'sekolah': 805, 'digabungkan': 806, 'lain': 807, 'batasan': 808, 'usia': 809, 'reputasi': 810, 'membantu': 811, 'kelemahan': 812, 'kembali': 813, 'diperdagangkan': 814, 'mendiversifikasi': 815, 'ytc': 816, 'berperingkat': 817, 'roll': 818, 'over': 819, 'akan': 820, 'jatuh': 821, 'tempo': 822, 'geopolitik': 823, 'aspek': 824, 'safe': 825, 'haven': 826, 'private': 827, 'key': 828, 'kepemilikan': 829, 'mengoptimalkannya': 830, 'potensinya': 831, 'penggunaan': 832, 'ekosistem': 833, 'konsensus': 834, 'potensi': 835, 'regulasi': 836, 'mengalami': 837, 'signifikan': 838, 'situasi': 839, 'mengorbankan': 840, 'hidup': 841, 'terdiversifikasi': 842, 'cukup': 843, 'angka': 844, 'sentral': 845, 'gross': 846, 'domestic': 847, 'product': 848, 'kesejahteraan': 849, 'tindakan': 850, 'diambil': 851, 'merespons': 852}\n",
      "[[1, 2, 20, 104, 31, 19], [3, 4, 19, 342, 5, 1, 2, 17], [1, 2, 472, 171, 19, 9, 343], [3, 6, 255, 473, 7, 71, 137, 19], [1, 2, 48, 31, 19, 64, 72]]\n",
      "[[  1   2  20 104  31  19   0   0   0   0   0   0   0   0   0]\n",
      " [  3   4  19 342   5   1   2  17   0   0   0   0   0   0   0]\n",
      " [  1   2 472 171  19   9 343   0   0   0   0   0   0   0   0]\n",
      " [  3   6 255 473   7  71 137  19   0   0   0   0   0   0   0]\n",
      " [  1   2  48  31  19  64  72   0   0   0   0   0   0   0   0]]\n"
     ]
    }
   ],
   "source": [
    "print(tokenizer)\n",
    "print(tokenizer.word_index)\n",
    "print(sequences[:5])\n",
    "print(padded_sequences[:5])"
   ]
  },
  {
   "cell_type": "code",
   "execution_count": 11,
   "metadata": {},
   "outputs": [
    {
     "name": "stdout",
     "output_type": "stream",
     "text": [
      "numerical_labels: [2 2 2 2 2]\n"
     ]
    }
   ],
   "source": [
    "# Convert numerical labels to a numpy array\n",
    "numerical_labels = np.array(numerical_labels)\n",
    "print(f'numerical_labels: {numerical_labels[:5]}')"
   ]
  },
  {
   "cell_type": "code",
   "execution_count": 12,
   "metadata": {},
   "outputs": [
    {
     "name": "stdout",
     "output_type": "stream",
     "text": [
      "X_train: (800, 15)\n",
      "X_val: (201, 15)\n",
      "y_train: (800,)\n",
      "y_val: (201,)\n",
      "X_train: [[  1   2 143 183  15   0   0   0   0   0   0   0   0   0   0]\n",
      " [  1   2  20 104  10  40  12  92   0   0   0   0   0   0   0]\n",
      " [  3   4 438 150   7  19   0   0   0   0   0   0   0   0   0]\n",
      " [  3   4 263   7   8  66   0   0   0   0   0   0   0   0   0]\n",
      " [  1   2  24  11 276 355   0   0   0   0   0   0   0   0   0]]\n",
      "X_val: [[  1   2 169 284  16  11   0   0   0   0   0   0   0   0   0]\n",
      " [  1   8  21 135 811 152  14   0   0   0   0   0   0   0   0]\n",
      " [  3   9  76  22  11 224   0   0   0   0   0   0   0   0   0]\n",
      " [  3  78  63 161 162 295 369   5 161 162 296 370   7 834 129]\n",
      " [  1   2  20   8 114   9  73   0   0   0   0   0   0   0   0]]\n",
      "y_train: [0 7 2 6 5]\n",
      "y_val: [5 6 5 2 6]\n"
     ]
    }
   ],
   "source": [
    "# Split the data into training and validation sets\n",
    "X_train, X_val, y_train, y_val = train_test_split(padded_sequences, numerical_labels, test_size=0.2, random_state=42)\n",
    "\n",
    "print(f'X_train: {X_train.shape}')\n",
    "print(f'X_val: {X_val.shape}')\n",
    "print(f'y_train: {y_train.shape}')\n",
    "print(f'y_val: {y_val.shape}')\n",
    "\n",
    "print(f'X_train: {X_train[:5]}')\n",
    "print(f'X_val: {X_val[:5]}')\n",
    "print(f'y_train: {y_train[:5]}')\n",
    "print(f'y_val: {y_val[:5]}')"
   ]
  },
  {
   "cell_type": "markdown",
   "metadata": {},
   "source": [
    "### Model"
   ]
  },
  {
   "cell_type": "code",
   "execution_count": 13,
   "metadata": {},
   "outputs": [],
   "source": [
    "from tensorflow.keras.models import Sequential # type: ignore\n",
    "from tensorflow.keras.layers import Embedding, LSTM, Dense, Dropout, Bidirectional # type: ignore"
   ]
  },
  {
   "cell_type": "code",
   "execution_count": 14,
   "metadata": {},
   "outputs": [
    {
     "name": "stdout",
     "output_type": "stream",
     "text": [
      "Number of unique categories: 9\n"
     ]
    }
   ],
   "source": [
    "num_classes = len(set(labels))\n",
    "print(f'Number of unique categories: {num_classes}')"
   ]
  },
  {
   "cell_type": "code",
   "execution_count": 15,
   "metadata": {},
   "outputs": [],
   "source": [
    "# Define the model\n",
    "model = tf.keras.Sequential([\n",
    "    Embedding(input_dim=10000, output_dim=64),\n",
    "    Bidirectional(LSTM(64)),\n",
    "    Dense(64, activation='relu'),\n",
    "    Dense(num_classes, activation='softmax')\n",
    "])"
   ]
  },
  {
   "cell_type": "code",
   "execution_count": 16,
   "metadata": {},
   "outputs": [],
   "source": [
    "# Compile the model\n",
    "model.compile(optimizer='adam', loss='sparse_categorical_crossentropy', metrics=['accuracy'])"
   ]
  },
  {
   "cell_type": "code",
   "execution_count": 17,
   "metadata": {},
   "outputs": [
    {
     "name": "stdout",
     "output_type": "stream",
     "text": [
      "Epoch 1/21\n",
      "\u001b[1m25/25\u001b[0m \u001b[32m━━━━━━━━━━━━━━━━━━━━\u001b[0m\u001b[37m\u001b[0m \u001b[1m3s\u001b[0m 21ms/step - accuracy: 0.1320 - loss: 2.1932 - val_accuracy: 0.2736 - val_loss: 2.1584\n",
      "Epoch 2/21\n",
      "\u001b[1m25/25\u001b[0m \u001b[32m━━━━━━━━━━━━━━━━━━━━\u001b[0m\u001b[37m\u001b[0m \u001b[1m0s\u001b[0m 10ms/step - accuracy: 0.3050 - loss: 2.0941 - val_accuracy: 0.4577 - val_loss: 1.6732\n",
      "Epoch 3/21\n",
      "\u001b[1m25/25\u001b[0m \u001b[32m━━━━━━━━━━━━━━━━━━━━\u001b[0m\u001b[37m\u001b[0m \u001b[1m0s\u001b[0m 9ms/step - accuracy: 0.5271 - loss: 1.3527 - val_accuracy: 0.7711 - val_loss: 0.8251\n",
      "Epoch 4/21\n",
      "\u001b[1m25/25\u001b[0m \u001b[32m━━━━━━━━━━━━━━━━━━━━\u001b[0m\u001b[37m\u001b[0m \u001b[1m0s\u001b[0m 10ms/step - accuracy: 0.8385 - loss: 0.5979 - val_accuracy: 0.8905 - val_loss: 0.4648\n",
      "Epoch 5/21\n",
      "\u001b[1m25/25\u001b[0m \u001b[32m━━━━━━━━━━━━━━━━━━━━\u001b[0m\u001b[37m\u001b[0m \u001b[1m0s\u001b[0m 9ms/step - accuracy: 0.9535 - loss: 0.2384 - val_accuracy: 0.9005 - val_loss: 0.3880\n",
      "Epoch 6/21\n",
      "\u001b[1m25/25\u001b[0m \u001b[32m━━━━━━━━━━━━━━━━━━━━\u001b[0m\u001b[37m\u001b[0m \u001b[1m0s\u001b[0m 9ms/step - accuracy: 0.9370 - loss: 0.2098 - val_accuracy: 0.9303 - val_loss: 0.2945\n",
      "Epoch 7/21\n",
      "\u001b[1m25/25\u001b[0m \u001b[32m━━━━━━━━━━━━━━━━━━━━\u001b[0m\u001b[37m\u001b[0m \u001b[1m0s\u001b[0m 9ms/step - accuracy: 0.9713 - loss: 0.1152 - val_accuracy: 0.9502 - val_loss: 0.2129\n",
      "Epoch 8/21\n",
      "\u001b[1m25/25\u001b[0m \u001b[32m━━━━━━━━━━━━━━━━━━━━\u001b[0m\u001b[37m\u001b[0m \u001b[1m0s\u001b[0m 9ms/step - accuracy: 0.9925 - loss: 0.0539 - val_accuracy: 0.9502 - val_loss: 0.2040\n",
      "Epoch 9/21\n",
      "\u001b[1m25/25\u001b[0m \u001b[32m━━━━━━━━━━━━━━━━━━━━\u001b[0m\u001b[37m\u001b[0m \u001b[1m0s\u001b[0m 9ms/step - accuracy: 0.9977 - loss: 0.0224 - val_accuracy: 0.9353 - val_loss: 0.2116\n",
      "Epoch 10/21\n",
      "\u001b[1m25/25\u001b[0m \u001b[32m━━━━━━━━━━━━━━━━━━━━\u001b[0m\u001b[37m\u001b[0m \u001b[1m0s\u001b[0m 9ms/step - accuracy: 0.9879 - loss: 0.0473 - val_accuracy: 0.9652 - val_loss: 0.1498\n",
      "Epoch 11/21\n",
      "\u001b[1m25/25\u001b[0m \u001b[32m━━━━━━━━━━━━━━━━━━━━\u001b[0m\u001b[37m\u001b[0m \u001b[1m0s\u001b[0m 9ms/step - accuracy: 0.9976 - loss: 0.0220 - val_accuracy: 0.9801 - val_loss: 0.1354\n",
      "Epoch 12/21\n",
      "\u001b[1m25/25\u001b[0m \u001b[32m━━━━━━━━━━━━━━━━━━━━\u001b[0m\u001b[37m\u001b[0m \u001b[1m0s\u001b[0m 9ms/step - accuracy: 0.9998 - loss: 0.0093 - val_accuracy: 0.9801 - val_loss: 0.1440\n",
      "Epoch 13/21\n",
      "\u001b[1m25/25\u001b[0m \u001b[32m━━━━━━━━━━━━━━━━━━━━\u001b[0m\u001b[37m\u001b[0m \u001b[1m0s\u001b[0m 10ms/step - accuracy: 0.9984 - loss: 0.0169 - val_accuracy: 0.9602 - val_loss: 0.1605\n",
      "Epoch 14/21\n",
      "\u001b[1m25/25\u001b[0m \u001b[32m━━━━━━━━━━━━━━━━━━━━\u001b[0m\u001b[37m\u001b[0m \u001b[1m0s\u001b[0m 9ms/step - accuracy: 0.9979 - loss: 0.0129 - val_accuracy: 0.9701 - val_loss: 0.1601\n",
      "Epoch 15/21\n",
      "\u001b[1m25/25\u001b[0m \u001b[32m━━━━━━━━━━━━━━━━━━━━\u001b[0m\u001b[37m\u001b[0m \u001b[1m0s\u001b[0m 9ms/step - accuracy: 0.9961 - loss: 0.0127 - val_accuracy: 0.9751 - val_loss: 0.1519\n",
      "Epoch 16/21\n",
      "\u001b[1m25/25\u001b[0m \u001b[32m━━━━━━━━━━━━━━━━━━━━\u001b[0m\u001b[37m\u001b[0m \u001b[1m0s\u001b[0m 9ms/step - accuracy: 0.9964 - loss: 0.0103 - val_accuracy: 0.9701 - val_loss: 0.1785\n",
      "Epoch 17/21\n",
      "\u001b[1m25/25\u001b[0m \u001b[32m━━━━━━━━━━━━━━━━━━━━\u001b[0m\u001b[37m\u001b[0m \u001b[1m0s\u001b[0m 9ms/step - accuracy: 0.9961 - loss: 0.0143 - val_accuracy: 0.9701 - val_loss: 0.1689\n",
      "Epoch 18/21\n",
      "\u001b[1m25/25\u001b[0m \u001b[32m━━━━━━━━━━━━━━━━━━━━\u001b[0m\u001b[37m\u001b[0m \u001b[1m0s\u001b[0m 9ms/step - accuracy: 0.9996 - loss: 0.0055 - val_accuracy: 0.9751 - val_loss: 0.1477\n",
      "Epoch 19/21\n",
      "\u001b[1m25/25\u001b[0m \u001b[32m━━━━━━━━━━━━━━━━━━━━\u001b[0m\u001b[37m\u001b[0m \u001b[1m0s\u001b[0m 9ms/step - accuracy: 0.9999 - loss: 0.0055 - val_accuracy: 0.9701 - val_loss: 0.1727\n",
      "Epoch 20/21\n",
      "\u001b[1m25/25\u001b[0m \u001b[32m━━━━━━━━━━━━━━━━━━━━\u001b[0m\u001b[37m\u001b[0m \u001b[1m0s\u001b[0m 10ms/step - accuracy: 0.9983 - loss: 0.0052 - val_accuracy: 0.9701 - val_loss: 0.1506\n",
      "Epoch 21/21\n",
      "\u001b[1m25/25\u001b[0m \u001b[32m━━━━━━━━━━━━━━━━━━━━\u001b[0m\u001b[37m\u001b[0m \u001b[1m0s\u001b[0m 10ms/step - accuracy: 0.9959 - loss: 0.0066 - val_accuracy: 0.9701 - val_loss: 0.1638\n"
     ]
    }
   ],
   "source": [
    "# Train the model\n",
    "history = model.fit(X_train, y_train, epochs=21, validation_data=(X_val, y_val))"
   ]
  },
  {
   "cell_type": "code",
   "execution_count": 18,
   "metadata": {},
   "outputs": [
    {
     "name": "stdout",
     "output_type": "stream",
     "text": [
      "loss: [2.185514450073242, 2.0059595108032227, 1.172995924949646, 0.502961277961731, 0.2022435963153839, 0.17603570222854614, 0.10102152079343796, 0.04969031736254692, 0.03165800869464874, 0.03807468339800835, 0.020567579194903374, 0.014288579113781452, 0.019338076934218407, 0.01202271319925785, 0.009692921303212643, 0.010162918828427792, 0.011056281626224518, 0.007421946153044701, 0.007224084809422493, 0.0061906473711133, 0.0049393135122954845]\n",
      "val_loss: [2.1583549976348877, 1.6731748580932617, 0.8251069188117981, 0.4647897779941559, 0.38801559805870056, 0.2944753170013428, 0.2128986120223999, 0.20403388142585754, 0.2116176187992096, 0.14980633556842804, 0.13538877665996552, 0.14398311078548431, 0.16050463914871216, 0.1600620597600937, 0.1519184410572052, 0.178482323884964, 0.16893137991428375, 0.1477442979812622, 0.17272062599658966, 0.15056119859218597, 0.16376987099647522]\n",
      "accuracy: [0.20624999701976776, 0.3162499964237213, 0.6012499928474426, 0.8687499761581421, 0.9587500095367432, 0.9474999904632568, 0.9787499904632568, 0.9925000071525574, 0.9950000047683716, 0.9925000071525574, 0.9975000023841858, 0.9987499713897705, 0.9975000023841858, 0.9975000023841858, 0.9975000023841858, 0.9975000023841858, 0.9975000023841858, 0.9987499713897705, 0.9987499713897705, 0.9975000023841858, 0.9975000023841858]\n",
      "val_accuracy: [0.27363184094429016, 0.45771142840385437, 0.7711442708969116, 0.8905472755432129, 0.9004974961280823, 0.93034827709198, 0.9502487778663635, 0.9502487778663635, 0.9353233575820923, 0.96517413854599, 0.9800994992256165, 0.9800994992256165, 0.9601989984512329, 0.9701492786407471, 0.9751243591308594, 0.9701492786407471, 0.9701492786407471, 0.9751243591308594, 0.9701492786407471, 0.9701492786407471, 0.9701492786407471]\n"
     ]
    },
    {
     "data": {
      "image/png": "[encoded data removed]",
      "text/plain": [
       "<Figure size 1400x500 with 2 Axes>"
      ]
     },
     "metadata": {},
     "output_type": "display_data"
    }
   ],
   "source": [
    "import matplotlib.pyplot as plt\n",
    "\n",
    "# Function to plot the training history\n",
    "def plot_training_history(history):\n",
    "    # Extract the history data\n",
    "    loss = history.history['loss']\n",
    "    val_loss = history.history['val_loss']\n",
    "    accuracy = history.history['accuracy']\n",
    "    val_accuracy = history.history['val_accuracy']\n",
    "    epochs = range(1, len(loss) + 1)\n",
    "    \n",
    "    print(f'loss: {loss}')\n",
    "    print(f'val_loss: {val_loss}')\n",
    "    print(f'accuracy: {accuracy}')\n",
    "    print(f'val_accuracy: {val_accuracy}')\n",
    "\n",
    "    # Plot loss and validation loss\n",
    "    plt.figure(figsize=(14, 5))\n",
    "\n",
    "    plt.subplot(1, 2, 1)\n",
    "    plt.plot(epochs, loss, 'k', label='Training loss')  # black for loss\n",
    "    plt.plot(epochs, val_loss, 'b', label='Validation loss')  # blue for val_loss\n",
    "    plt.title('Training and validation loss')\n",
    "    plt.xlabel('Epochs')\n",
    "    plt.ylabel('Loss')\n",
    "    plt.legend()\n",
    "\n",
    "    # Plot accuracy and validation accuracy\n",
    "    plt.subplot(1, 2, 2)\n",
    "    plt.plot(epochs, accuracy, 'k', label='Training accuracy')  # black for accuracy\n",
    "    plt.plot(epochs, val_accuracy, 'b', label='Validation accuracy')  # blue for val_accuracy\n",
    "    plt.title('Training and validation accuracy')\n",
    "    plt.xlabel('Epochs')\n",
    "    plt.ylabel('Accuracy')\n",
    "    plt.legend()\n",
    "\n",
    "    plt.tight_layout()\n",
    "    plt.show()\n",
    "\n",
    "# Plot the training history\n",
    "plot_training_history(history)\n"
   ]
  },
  {
   "cell_type": "markdown",
   "metadata": {},
   "source": [
    "### Usage"
   ]
  },
  {
   "cell_type": "code",
   "execution_count": 19,
   "metadata": {},
   "outputs": [
    {
     "name": "stdout",
     "output_type": "stream",
     "text": [
      "\u001b[1m1/1\u001b[0m \u001b[32m━━━━━━━━━━━━━━━━━━━━\u001b[0m\u001b[37m\u001b[0m \u001b[1m0s\u001b[0m 225ms/step\n",
      "\n",
      "Top category and with the probability:\n",
      "Asuransi: 0.9994\n",
      "Suggested questions:\n",
      "Mengapa asuransi pendidikan penting untuk masa depan anak?\n",
      "Apa saja jenis-jenis klaim dalam asuransi?\n",
      "Bagaimana cara mengajukan klaim asuransi kesehatan?\n",
      "Apa itu underwriting dalam asuransi?\n"
     ]
    }
   ],
   "source": [
    "# Function to predict top questions\n",
    "def suggest_questions(user_input, total_questions=4):\n",
    "    sequence = tokenizer.texts_to_sequences([user_input])\n",
    "    padded_sequence = pad_sequences(sequence, maxlen=padded_sequences.shape[1], padding='post')\n",
    "    predictions = model.predict(padded_sequence)\n",
    "    labels = list(label_dict.keys())\n",
    "    \n",
    "    # Get top n categories with their probabilities\n",
    "    top_categories_prediction = np.argsort(predictions[0])[-1:][::-1]\n",
    "    top_categories = [(labels[idx], predictions[0][idx]) for idx in top_categories_prediction]\n",
    "    \n",
    "    # Print top categories with their probabilities\n",
    "    print()\n",
    "    print(\"Top category and with the probability:\")\n",
    "    for category, prob in top_categories:\n",
    "        print(f'{category}: {prob:.4f}')\n",
    "    \n",
    "    # Filter questions from the dataset based on top categories\n",
    "    suggested_questions = []\n",
    "    for category, _ in top_categories:\n",
    "        category_questions = df[df['Category'] == category]['Question'].tolist()\n",
    "        suggested_questions.extend(category_questions)\n",
    "    \n",
    "    # return random n questions\n",
    "    return np.random.choice(suggested_questions, total_questions)\n",
    "\n",
    "# Example usage\n",
    "user_input = \"Bagaimana cara memilih asuransi yang tepat?\"\n",
    "# user_input = \"Bagaimana cara memilih saham yang baik?\"\n",
    "# user_input = \"Bagaimana cara membuat anggaran bulanan yang efektif?\"\n",
    "# user_input = \"Apa itu cryptocurrency?\"\n",
    "# user_input = \"Apa yang harus saya lakukan jika suku bunga naik?\"\n",
    "# user_input = \"Bagaimana cara saya memilih reksadana?\"\n",
    "# user_input = \"Bagaimana cara saya memilih reksadana yang baik?\"\n",
    "\n",
    "\n",
    "suggested_questions = suggest_questions(user_input)\n",
    "print(\"Suggested questions:\")\n",
    "for question in suggested_questions:\n",
    "    print(question)"
   ]
  },
  {
   "cell_type": "code",
   "execution_count": 20,
   "metadata": {},
   "outputs": [
    {
     "name": "stderr",
     "output_type": "stream",
     "text": [
      "WARNING:absl:You are saving your model as an HDF5 file via `model.save()` or `keras.saving.save_model(model)`. This file format is considered legacy. We recommend using instead the native Keras format, e.g. `model.save('my_model.keras')` or `keras.saving.save_model(model, 'my_model.keras')`. \n"
     ]
    }
   ],
   "source": [
    "model.save(\"../models/question-suggestion/model_question_suggestion.h5\")"
   ]
  }
 ],
 "metadata": {
  "kernelspec": {
   "display_name": ".venv",
   "language": "python",
   "name": "python3"
  },
  "language_info": {
   "codemirror_mode": {
    "name": "ipython",
    "version": 3
   },
   "file_extension": ".py",
   "mimetype": "text/x-python",
   "name": "python",
   "nbconvert_exporter": "python",
   "pygments_lexer": "ipython3",
   "version": "3.9.18"
  }
 },
 "nbformat": 4,
 "nbformat_minor": 2
}
