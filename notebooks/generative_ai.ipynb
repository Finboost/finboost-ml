{
 "cells": [
  {
   "cell_type": "markdown",
   "metadata": {},
   "source": [
    "\n",
    "\n",
    "<a href=\"https://colab.research.google.com/drive/1oIUIRVr9OsgFTM4WdLWO7W6dqO3TTWff?usp=sharing\" target=\"_parent\"><img src=\"https://colab.research.google.com/assets/colab-badge.svg\" alt=\"Open In Colab\"/></a>"
   ]
  },
  {
   "cell_type": "markdown",
   "metadata": {},
   "source": [
    "# Todolist\n",
    "- Gunakan Model yang Lebih Maju untuk menjawab pertanyaan seputar finansial menggunakan bahasa indonesia\n",
    "- Membersihkan teks dari tanda baca yang tidak perlu atau melakukan tokenisasi yang lebih tepat\n",
    "- Penyaringan atau pemrosesan lanjutan untuk memastikan bahwa jawaban yang dihasilkan relevan dan bermakna\n",
    "- Perluas dataset pelatihan dengan pertanyaan yang lebih bervariasi dan relevan sehingga model memiliki lebih banyak informasi untuk merespons pertanyaan yang mungkin tidak ada dalam dataset"
   ]
  },
  {
   "cell_type": "markdown",
   "metadata": {},
   "source": [
    "## Install package"
   ]
  },
  {
   "cell_type": "code",
   "execution_count": null,
   "metadata": {},
   "outputs": [
    {
     "name": "stdout",
     "output_type": "stream",
     "text": [
      "Requirement already satisfied: tensorflow in c:\\users\\alifs\\anaconda3\\envs\\main-ds\\lib\\site-packages (2.16.1)\n",
      "Requirement already satisfied: pandas in c:\\users\\alifs\\anaconda3\\envs\\main-ds\\lib\\site-packages (2.2.1)\n",
      "Requirement already satisfied: transformers in c:\\users\\alifs\\anaconda3\\envs\\main-ds\\lib\\site-packages (4.39.3)\n",
      "Requirement already satisfied: datasets in c:\\users\\alifs\\anaconda3\\envs\\main-ds\\lib\\site-packages (2.19.1)\n",
      "Requirement already satisfied: tensorflow-intel==2.16.1 in c:\\users\\alifs\\anaconda3\\envs\\main-ds\\lib\\site-packages (from tensorflow) (2.16.1)\n",
      "Requirement already satisfied: absl-py>=1.0.0 in c:\\users\\alifs\\anaconda3\\envs\\main-ds\\lib\\site-packages (from tensorflow-intel==2.16.1->tensorflow) (2.1.0)\n",
      "Requirement already satisfied: astunparse>=1.6.0 in c:\\users\\alifs\\anaconda3\\envs\\main-ds\\lib\\site-packages (from tensorflow-intel==2.16.1->tensorflow) (1.6.3)\n",
      "Requirement already satisfied: flatbuffers>=23.5.26 in c:\\users\\alifs\\anaconda3\\envs\\main-ds\\lib\\site-packages (from tensorflow-intel==2.16.1->tensorflow) (24.3.25)\n",
      "Requirement already satisfied: gast!=0.5.0,!=0.5.1,!=0.5.2,>=0.2.1 in c:\\users\\alifs\\anaconda3\\envs\\main-ds\\lib\\site-packages (from tensorflow-intel==2.16.1->tensorflow) (0.5.4)\n",
      "Requirement already satisfied: google-pasta>=0.1.1 in c:\\users\\alifs\\anaconda3\\envs\\main-ds\\lib\\site-packages (from tensorflow-intel==2.16.1->tensorflow) (0.2.0)\n",
      "Requirement already satisfied: h5py>=3.10.0 in c:\\users\\alifs\\anaconda3\\envs\\main-ds\\lib\\site-packages (from tensorflow-intel==2.16.1->tensorflow) (3.11.0)\n",
      "Requirement already satisfied: libclang>=13.0.0 in c:\\users\\alifs\\anaconda3\\envs\\main-ds\\lib\\site-packages (from tensorflow-intel==2.16.1->tensorflow) (18.1.1)\n",
      "Requirement already satisfied: ml-dtypes~=0.3.1 in c:\\users\\alifs\\anaconda3\\envs\\main-ds\\lib\\site-packages (from tensorflow-intel==2.16.1->tensorflow) (0.3.2)\n",
      "Requirement already satisfied: opt-einsum>=2.3.2 in c:\\users\\alifs\\anaconda3\\envs\\main-ds\\lib\\site-packages (from tensorflow-intel==2.16.1->tensorflow) (3.3.0)\n",
      "Requirement already satisfied: packaging in c:\\users\\alifs\\anaconda3\\envs\\main-ds\\lib\\site-packages (from tensorflow-intel==2.16.1->tensorflow) (23.2)\n",
      "Requirement already satisfied: protobuf!=4.21.0,!=4.21.1,!=4.21.2,!=4.21.3,!=4.21.4,!=4.21.5,<5.0.0dev,>=3.20.3 in c:\\users\\alifs\\anaconda3\\envs\\main-ds\\lib\\site-packages (from tensorflow-intel==2.16.1->tensorflow) (4.25.3)\n",
      "Requirement already satisfied: requests<3,>=2.21.0 in c:\\users\\alifs\\anaconda3\\envs\\main-ds\\lib\\site-packages (from tensorflow-intel==2.16.1->tensorflow) (2.31.0)\n",
      "Requirement already satisfied: setuptools in c:\\users\\alifs\\anaconda3\\envs\\main-ds\\lib\\site-packages (from tensorflow-intel==2.16.1->tensorflow) (68.2.2)\n",
      "Requirement already satisfied: six>=1.12.0 in c:\\users\\alifs\\anaconda3\\envs\\main-ds\\lib\\site-packages (from tensorflow-intel==2.16.1->tensorflow) (1.16.0)\n",
      "Requirement already satisfied: termcolor>=1.1.0 in c:\\users\\alifs\\anaconda3\\envs\\main-ds\\lib\\site-packages (from tensorflow-intel==2.16.1->tensorflow) (2.4.0)\n",
      "Requirement already satisfied: typing-extensions>=3.6.6 in c:\\users\\alifs\\anaconda3\\envs\\main-ds\\lib\\site-packages (from tensorflow-intel==2.16.1->tensorflow) (4.10.0)\n",
      "Requirement already satisfied: wrapt>=1.11.0 in c:\\users\\alifs\\anaconda3\\envs\\main-ds\\lib\\site-packages (from tensorflow-intel==2.16.1->tensorflow) (1.16.0)\n",
      "Requirement already satisfied: grpcio<2.0,>=1.24.3 in c:\\users\\alifs\\anaconda3\\envs\\main-ds\\lib\\site-packages (from tensorflow-intel==2.16.1->tensorflow) (1.64.0)\n",
      "Requirement already satisfied: tensorboard<2.17,>=2.16 in c:\\users\\alifs\\anaconda3\\envs\\main-ds\\lib\\site-packages (from tensorflow-intel==2.16.1->tensorflow) (2.16.2)\n",
      "Requirement already satisfied: keras>=3.0.0 in c:\\users\\alifs\\anaconda3\\envs\\main-ds\\lib\\site-packages (from tensorflow-intel==2.16.1->tensorflow) (3.3.3)\n",
      "Requirement already satisfied: tensorflow-io-gcs-filesystem>=0.23.1 in c:\\users\\alifs\\anaconda3\\envs\\main-ds\\lib\\site-packages (from tensorflow-intel==2.16.1->tensorflow) (0.31.0)\n",
      "Requirement already satisfied: numpy<2.0.0,>=1.23.5 in c:\\users\\alifs\\anaconda3\\envs\\main-ds\\lib\\site-packages (from tensorflow-intel==2.16.1->tensorflow) (1.26.4)\n",
      "Requirement already satisfied: python-dateutil>=2.8.2 in c:\\users\\alifs\\anaconda3\\envs\\main-ds\\lib\\site-packages (from pandas) (2.8.2)\n",
      "Requirement already satisfied: pytz>=2020.1 in c:\\users\\alifs\\anaconda3\\envs\\main-ds\\lib\\site-packages (from pandas) (2024.1)\n",
      "Requirement already satisfied: tzdata>=2022.7 in c:\\users\\alifs\\anaconda3\\envs\\main-ds\\lib\\site-packages (from pandas) (2024.1)\n",
      "Requirement already satisfied: filelock in c:\\users\\alifs\\anaconda3\\envs\\main-ds\\lib\\site-packages (from transformers) (3.14.0)\n",
      "Requirement already satisfied: huggingface-hub<1.0,>=0.19.3 in c:\\users\\alifs\\anaconda3\\envs\\main-ds\\lib\\site-packages (from transformers) (0.23.2)\n",
      "Requirement already satisfied: pyyaml>=5.1 in c:\\users\\alifs\\anaconda3\\envs\\main-ds\\lib\\site-packages (from transformers) (6.0.1)\n",
      "Requirement already satisfied: regex!=2019.12.17 in c:\\users\\alifs\\anaconda3\\envs\\main-ds\\lib\\site-packages (from transformers) (2024.5.15)\n",
      "Requirement already satisfied: tokenizers<0.19,>=0.14 in c:\\users\\alifs\\anaconda3\\envs\\main-ds\\lib\\site-packages (from transformers) (0.15.2)\n",
      "Requirement already satisfied: safetensors>=0.4.1 in c:\\users\\alifs\\anaconda3\\envs\\main-ds\\lib\\site-packages (from transformers) (0.4.3)\n",
      "Requirement already satisfied: tqdm>=4.27 in c:\\users\\alifs\\anaconda3\\envs\\main-ds\\lib\\site-packages (from transformers) (4.66.4)\n",
      "Requirement already satisfied: pyarrow>=12.0.0 in c:\\users\\alifs\\anaconda3\\envs\\main-ds\\lib\\site-packages (from datasets) (15.0.0)\n",
      "Requirement already satisfied: pyarrow-hotfix in c:\\users\\alifs\\anaconda3\\envs\\main-ds\\lib\\site-packages (from datasets) (0.6)\n",
      "Requirement already satisfied: dill<0.3.9,>=0.3.0 in c:\\users\\alifs\\anaconda3\\envs\\main-ds\\lib\\site-packages (from datasets) (0.3.8)\n",
      "Requirement already satisfied: xxhash in c:\\users\\alifs\\anaconda3\\envs\\main-ds\\lib\\site-packages (from datasets) (3.4.1)\n",
      "Requirement already satisfied: multiprocess in c:\\users\\alifs\\anaconda3\\envs\\main-ds\\lib\\site-packages (from datasets) (0.70.16)\n",
      "Requirement already satisfied: fsspec<=2024.3.1,>=2023.1.0 in c:\\users\\alifs\\anaconda3\\envs\\main-ds\\lib\\site-packages (from fsspec[http]<=2024.3.1,>=2023.1.0->datasets) (2024.3.1)\n",
      "Requirement already satisfied: aiohttp in c:\\users\\alifs\\anaconda3\\envs\\main-ds\\lib\\site-packages (from datasets) (3.9.5)\n",
      "Requirement already satisfied: aiosignal>=1.1.2 in c:\\users\\alifs\\anaconda3\\envs\\main-ds\\lib\\site-packages (from aiohttp->datasets) (1.3.1)\n",
      "Requirement already satisfied: attrs>=17.3.0 in c:\\users\\alifs\\anaconda3\\envs\\main-ds\\lib\\site-packages (from aiohttp->datasets) (23.2.0)\n",
      "Requirement already satisfied: frozenlist>=1.1.1 in c:\\users\\alifs\\anaconda3\\envs\\main-ds\\lib\\site-packages (from aiohttp->datasets) (1.4.1)\n",
      "Requirement already satisfied: multidict<7.0,>=4.5 in c:\\users\\alifs\\anaconda3\\envs\\main-ds\\lib\\site-packages (from aiohttp->datasets) (6.0.5)\n",
      "Requirement already satisfied: yarl<2.0,>=1.0 in c:\\users\\alifs\\anaconda3\\envs\\main-ds\\lib\\site-packages (from aiohttp->datasets) (1.9.4)\n",
      "Requirement already satisfied: async-timeout<5.0,>=4.0 in c:\\users\\alifs\\anaconda3\\envs\\main-ds\\lib\\site-packages (from aiohttp->datasets) (4.0.3)\n",
      "Requirement already satisfied: charset-normalizer<4,>=2 in c:\\users\\alifs\\anaconda3\\envs\\main-ds\\lib\\site-packages (from requests<3,>=2.21.0->tensorflow-intel==2.16.1->tensorflow) (3.3.2)\n",
      "Requirement already satisfied: idna<4,>=2.5 in c:\\users\\alifs\\anaconda3\\envs\\main-ds\\lib\\site-packages (from requests<3,>=2.21.0->tensorflow-intel==2.16.1->tensorflow) (3.6)\n",
      "Requirement already satisfied: urllib3<3,>=1.21.1 in c:\\users\\alifs\\anaconda3\\envs\\main-ds\\lib\\site-packages (from requests<3,>=2.21.0->tensorflow-intel==2.16.1->tensorflow) (2.2.1)\n",
      "Requirement already satisfied: certifi>=2017.4.17 in c:\\users\\alifs\\anaconda3\\envs\\main-ds\\lib\\site-packages (from requests<3,>=2.21.0->tensorflow-intel==2.16.1->tensorflow) (2024.2.2)\n",
      "Requirement already satisfied: colorama in c:\\users\\alifs\\anaconda3\\envs\\main-ds\\lib\\site-packages (from tqdm>=4.27->transformers) (0.4.6)\n",
      "Requirement already satisfied: wheel<1.0,>=0.23.0 in c:\\users\\alifs\\anaconda3\\envs\\main-ds\\lib\\site-packages (from astunparse>=1.6.0->tensorflow-intel==2.16.1->tensorflow) (0.41.2)\n",
      "Requirement already satisfied: rich in c:\\users\\alifs\\anaconda3\\envs\\main-ds\\lib\\site-packages (from keras>=3.0.0->tensorflow-intel==2.16.1->tensorflow) (13.7.1)\n",
      "Requirement already satisfied: namex in c:\\users\\alifs\\anaconda3\\envs\\main-ds\\lib\\site-packages (from keras>=3.0.0->tensorflow-intel==2.16.1->tensorflow) (0.0.8)\n",
      "Requirement already satisfied: optree in c:\\users\\alifs\\anaconda3\\envs\\main-ds\\lib\\site-packages (from keras>=3.0.0->tensorflow-intel==2.16.1->tensorflow) (0.11.0)\n",
      "Requirement already satisfied: markdown>=2.6.8 in c:\\users\\alifs\\anaconda3\\envs\\main-ds\\lib\\site-packages (from tensorboard<2.17,>=2.16->tensorflow-intel==2.16.1->tensorflow) (3.6)\n",
      "Requirement already satisfied: tensorboard-data-server<0.8.0,>=0.7.0 in c:\\users\\alifs\\anaconda3\\envs\\main-ds\\lib\\site-packages (from tensorboard<2.17,>=2.16->tensorflow-intel==2.16.1->tensorflow) (0.7.2)\n",
      "Requirement already satisfied: werkzeug>=1.0.1 in c:\\users\\alifs\\anaconda3\\envs\\main-ds\\lib\\site-packages (from tensorboard<2.17,>=2.16->tensorflow-intel==2.16.1->tensorflow) (3.0.3)\n",
      "Requirement already satisfied: importlib-metadata>=4.4 in c:\\users\\alifs\\anaconda3\\envs\\main-ds\\lib\\site-packages (from markdown>=2.6.8->tensorboard<2.17,>=2.16->tensorflow-intel==2.16.1->tensorflow) (7.0.1)\n",
      "Requirement already satisfied: MarkupSafe>=2.1.1 in c:\\users\\alifs\\anaconda3\\envs\\main-ds\\lib\\site-packages (from werkzeug>=1.0.1->tensorboard<2.17,>=2.16->tensorflow-intel==2.16.1->tensorflow) (2.1.5)\n",
      "Requirement already satisfied: markdown-it-py>=2.2.0 in c:\\users\\alifs\\anaconda3\\envs\\main-ds\\lib\\site-packages (from rich->keras>=3.0.0->tensorflow-intel==2.16.1->tensorflow) (3.0.0)\n",
      "Requirement already satisfied: pygments<3.0.0,>=2.13.0 in c:\\users\\alifs\\anaconda3\\envs\\main-ds\\lib\\site-packages (from rich->keras>=3.0.0->tensorflow-intel==2.16.1->tensorflow) (2.17.2)\n",
      "Requirement already satisfied: zipp>=0.5 in c:\\users\\alifs\\anaconda3\\envs\\main-ds\\lib\\site-packages (from importlib-metadata>=4.4->markdown>=2.6.8->tensorboard<2.17,>=2.16->tensorflow-intel==2.16.1->tensorflow) (3.17.0)\n",
      "Requirement already satisfied: mdurl~=0.1 in c:\\users\\alifs\\anaconda3\\envs\\main-ds\\lib\\site-packages (from markdown-it-py>=2.2.0->rich->keras>=3.0.0->tensorflow-intel==2.16.1->tensorflow) (0.1.2)\n",
      "Note: you may need to restart the kernel to use updated packages.\n"
     ]
    },
    {
     "name": "stderr",
     "output_type": "stream",
     "text": [
      "\n",
      "[notice] A new release of pip is available: 24.0 -> 24.2\n",
      "[notice] To update, run: python.exe -m pip install --upgrade pip\n"
     ]
    }
   ],
   "source": [
    "%pip install tensorflow pandas transformers datasets"
   ]
  },
  {
   "cell_type": "code",
   "execution_count": 2,
   "metadata": {},
   "outputs": [
    {
     "name": "stdout",
     "output_type": "stream",
     "text": [
      "Requirement already satisfied: accelerate in c:\\users\\alifs\\anaconda3\\envs\\main-ds\\lib\\site-packages (0.30.1)\n",
      "Collecting accelerate\n",
      "  Downloading accelerate-0.33.0-py3-none-any.whl.metadata (18 kB)\n",
      "Requirement already satisfied: transformers[torch] in c:\\users\\alifs\\anaconda3\\envs\\main-ds\\lib\\site-packages (4.39.3)\n",
      "Collecting transformers[torch]\n",
      "  Downloading transformers-4.43.3-py3-none-any.whl.metadata (43 kB)\n",
      "     ---------------------------------------- 0.0/43.7 kB ? eta -:--:--\n",
      "     --------- ------------------------------ 10.2/43.7 kB ? eta -:--:--\n",
      "     ----------------- -------------------- 20.5/43.7 kB 330.3 kB/s eta 0:00:01\n",
      "     -------------------------- ----------- 30.7/43.7 kB 325.1 kB/s eta 0:00:01\n",
      "     -------------------------- ----------- 30.7/43.7 kB 325.1 kB/s eta 0:00:01\n",
      "     -------------------------------------- 43.7/43.7 kB 194.3 kB/s eta 0:00:00\n",
      "Requirement already satisfied: filelock in c:\\users\\alifs\\anaconda3\\envs\\main-ds\\lib\\site-packages (from transformers[torch]) (3.14.0)\n",
      "Requirement already satisfied: huggingface-hub<1.0,>=0.23.2 in c:\\users\\alifs\\anaconda3\\envs\\main-ds\\lib\\site-packages (from transformers[torch]) (0.23.2)\n",
      "Requirement already satisfied: numpy>=1.17 in c:\\users\\alifs\\anaconda3\\envs\\main-ds\\lib\\site-packages (from transformers[torch]) (1.26.4)\n",
      "Requirement already satisfied: packaging>=20.0 in c:\\users\\alifs\\anaconda3\\envs\\main-ds\\lib\\site-packages (from transformers[torch]) (23.2)\n",
      "Requirement already satisfied: pyyaml>=5.1 in c:\\users\\alifs\\anaconda3\\envs\\main-ds\\lib\\site-packages (from transformers[torch]) (6.0.1)\n",
      "Requirement already satisfied: regex!=2019.12.17 in c:\\users\\alifs\\anaconda3\\envs\\main-ds\\lib\\site-packages (from transformers[torch]) (2024.5.15)\n",
      "Requirement already satisfied: requests in c:\\users\\alifs\\anaconda3\\envs\\main-ds\\lib\\site-packages (from transformers[torch]) (2.31.0)\n",
      "Requirement already satisfied: safetensors>=0.4.1 in c:\\users\\alifs\\anaconda3\\envs\\main-ds\\lib\\site-packages (from transformers[torch]) (0.4.3)\n",
      "Collecting tokenizers<0.20,>=0.19 (from transformers[torch])\n",
      "  Using cached tokenizers-0.19.1-cp39-none-win_amd64.whl.metadata (6.9 kB)\n",
      "Requirement already satisfied: tqdm>=4.27 in c:\\users\\alifs\\anaconda3\\envs\\main-ds\\lib\\site-packages (from transformers[torch]) (4.66.4)\n",
      "Requirement already satisfied: torch in c:\\users\\alifs\\anaconda3\\envs\\main-ds\\lib\\site-packages (from transformers[torch]) (2.3.0)\n",
      "Requirement already satisfied: psutil in c:\\users\\alifs\\anaconda3\\envs\\main-ds\\lib\\site-packages (from accelerate) (5.9.8)\n",
      "Requirement already satisfied: fsspec>=2023.5.0 in c:\\users\\alifs\\anaconda3\\envs\\main-ds\\lib\\site-packages (from huggingface-hub<1.0,>=0.23.2->transformers[torch]) (2024.3.1)\n",
      "Requirement already satisfied: typing-extensions>=3.7.4.3 in c:\\users\\alifs\\anaconda3\\envs\\main-ds\\lib\\site-packages (from huggingface-hub<1.0,>=0.23.2->transformers[torch]) (4.10.0)\n",
      "Requirement already satisfied: sympy in c:\\users\\alifs\\anaconda3\\envs\\main-ds\\lib\\site-packages (from torch->transformers[torch]) (1.12)\n",
      "Requirement already satisfied: networkx in c:\\users\\alifs\\anaconda3\\envs\\main-ds\\lib\\site-packages (from torch->transformers[torch]) (3.2.1)\n",
      "Requirement already satisfied: jinja2 in c:\\users\\alifs\\anaconda3\\envs\\main-ds\\lib\\site-packages (from torch->transformers[torch]) (3.1.3)\n",
      "Requirement already satisfied: mkl<=2021.4.0,>=2021.1.1 in c:\\users\\alifs\\anaconda3\\envs\\main-ds\\lib\\site-packages (from torch->transformers[torch]) (2021.4.0)\n",
      "Requirement already satisfied: colorama in c:\\users\\alifs\\anaconda3\\envs\\main-ds\\lib\\site-packages (from tqdm>=4.27->transformers[torch]) (0.4.6)\n",
      "Requirement already satisfied: charset-normalizer<4,>=2 in c:\\users\\alifs\\anaconda3\\envs\\main-ds\\lib\\site-packages (from requests->transformers[torch]) (3.3.2)\n",
      "Requirement already satisfied: idna<4,>=2.5 in c:\\users\\alifs\\anaconda3\\envs\\main-ds\\lib\\site-packages (from requests->transformers[torch]) (3.6)\n",
      "Requirement already satisfied: urllib3<3,>=1.21.1 in c:\\users\\alifs\\anaconda3\\envs\\main-ds\\lib\\site-packages (from requests->transformers[torch]) (2.2.1)\n",
      "Requirement already satisfied: certifi>=2017.4.17 in c:\\users\\alifs\\anaconda3\\envs\\main-ds\\lib\\site-packages (from requests->transformers[torch]) (2024.2.2)\n",
      "Requirement already satisfied: intel-openmp==2021.* in c:\\users\\alifs\\anaconda3\\envs\\main-ds\\lib\\site-packages (from mkl<=2021.4.0,>=2021.1.1->torch->transformers[torch]) (2021.4.0)\n",
      "Requirement already satisfied: tbb==2021.* in c:\\users\\alifs\\anaconda3\\envs\\main-ds\\lib\\site-packages (from mkl<=2021.4.0,>=2021.1.1->torch->transformers[torch]) (2021.12.0)\n",
      "Requirement already satisfied: MarkupSafe>=2.0 in c:\\users\\alifs\\anaconda3\\envs\\main-ds\\lib\\site-packages (from jinja2->torch->transformers[torch]) (2.1.5)\n",
      "Requirement already satisfied: mpmath>=0.19 in c:\\users\\alifs\\anaconda3\\envs\\main-ds\\lib\\site-packages (from sympy->torch->transformers[torch]) (1.3.0)\n",
      "Downloading accelerate-0.33.0-py3-none-any.whl (315 kB)\n",
      "   ---------------------------------------- 0.0/315.1 kB ? eta -:--:--\n",
      "   --- ------------------------------------ 30.7/315.1 kB 1.3 MB/s eta 0:00:01\n",
      "   -------- ------------------------------ 71.7/315.1 kB 787.7 kB/s eta 0:00:01\n",
      "   -------- ------------------------------ 71.7/315.1 kB 787.7 kB/s eta 0:00:01\n",
      "   -------- ------------------------------ 71.7/315.1 kB 787.7 kB/s eta 0:00:01\n",
      "   -------------- ----------------------- 122.9/315.1 kB 514.3 kB/s eta 0:00:01\n",
      "   ----------------------- -------------- 194.6/315.1 kB 692.9 kB/s eta 0:00:01\n",
      "   ---------------------------- --------- 235.5/315.1 kB 758.5 kB/s eta 0:00:01\n",
      "   ---------------------------- --------- 235.5/315.1 kB 758.5 kB/s eta 0:00:01\n",
      "   -------------------------------------  307.2/315.1 kB 729.6 kB/s eta 0:00:01\n",
      "   -------------------------------------- 315.1/315.1 kB 722.5 kB/s eta 0:00:00\n",
      "Using cached tokenizers-0.19.1-cp39-none-win_amd64.whl (2.2 MB)\n",
      "Downloading transformers-4.43.3-py3-none-any.whl (9.4 MB)\n",
      "   ---------------------------------------- 0.0/9.4 MB ? eta -:--:--\n",
      "    --------------------------------------- 0.2/9.4 MB 4.2 MB/s eta 0:00:03\n",
      "   - -------------------------------------- 0.3/9.4 MB 4.0 MB/s eta 0:00:03\n",
      "   - -------------------------------------- 0.3/9.4 MB 4.0 MB/s eta 0:00:03\n",
      "   - -------------------------------------- 0.3/9.4 MB 1.4 MB/s eta 0:00:07\n",
      "   - -------------------------------------- 0.5/9.4 MB 1.9 MB/s eta 0:00:05\n",
      "   -- ------------------------------------- 0.6/9.4 MB 2.2 MB/s eta 0:00:05\n",
      "   -- ------------------------------------- 0.6/9.4 MB 2.2 MB/s eta 0:00:05\n",
      "   -- ------------------------------------- 0.6/9.4 MB 2.2 MB/s eta 0:00:05\n",
      "   -- ------------------------------------- 0.6/9.4 MB 2.2 MB/s eta 0:00:05\n",
      "   -- ------------------------------------- 0.6/9.4 MB 2.2 MB/s eta 0:00:05\n",
      "   -- ------------------------------------- 0.6/9.4 MB 2.2 MB/s eta 0:00:05\n",
      "   -- ------------------------------------- 0.6/9.4 MB 2.2 MB/s eta 0:00:05\n",
      "   -- ------------------------------------- 0.7/9.4 MB 1.1 MB/s eta 0:00:08\n",
      "   ---- ----------------------------------- 1.0/9.4 MB 1.6 MB/s eta 0:00:06\n",
      "   ---- ----------------------------------- 1.0/9.4 MB 1.6 MB/s eta 0:00:06\n",
      "   ---- ----------------------------------- 1.0/9.4 MB 1.6 MB/s eta 0:00:06\n",
      "   ----- ---------------------------------- 1.3/9.4 MB 1.6 MB/s eta 0:00:05\n",
      "   ------ --------------------------------- 1.5/9.4 MB 1.7 MB/s eta 0:00:05\n",
      "   ------ --------------------------------- 1.5/9.4 MB 1.7 MB/s eta 0:00:05\n",
      "   ------ --------------------------------- 1.5/9.4 MB 1.7 MB/s eta 0:00:05\n",
      "   ------ --------------------------------- 1.5/9.4 MB 1.7 MB/s eta 0:00:05\n",
      "   ------ --------------------------------- 1.5/9.4 MB 1.7 MB/s eta 0:00:05\n",
      "   ------ --------------------------------- 1.5/9.4 MB 1.7 MB/s eta 0:00:05\n",
      "   ------ --------------------------------- 1.5/9.4 MB 1.3 MB/s eta 0:00:06\n",
      "   -------- ------------------------------- 1.9/9.4 MB 1.6 MB/s eta 0:00:05\n",
      "   -------- ------------------------------- 2.0/9.4 MB 1.6 MB/s eta 0:00:05\n",
      "   -------- ------------------------------- 2.0/9.4 MB 1.6 MB/s eta 0:00:05\n",
      "   -------- ------------------------------- 2.0/9.4 MB 1.6 MB/s eta 0:00:05\n",
      "   -------- ------------------------------- 2.0/9.4 MB 1.6 MB/s eta 0:00:05\n",
      "   -------- ------------------------------- 2.0/9.4 MB 1.6 MB/s eta 0:00:05\n",
      "   -------- ------------------------------- 2.0/9.4 MB 1.6 MB/s eta 0:00:05\n",
      "   ---------- ----------------------------- 2.6/9.4 MB 1.7 MB/s eta 0:00:04\n",
      "   ---------- ----------------------------- 2.6/9.4 MB 1.7 MB/s eta 0:00:04\n",
      "   ---------- ----------------------------- 2.6/9.4 MB 1.7 MB/s eta 0:00:04\n",
      "   ---------- ----------------------------- 2.6/9.4 MB 1.7 MB/s eta 0:00:04\n",
      "   ---------- ----------------------------- 2.6/9.4 MB 1.7 MB/s eta 0:00:04\n",
      "   ----------- ---------------------------- 2.7/9.4 MB 1.6 MB/s eta 0:00:05\n",
      "   ------------ --------------------------- 3.0/9.4 MB 1.7 MB/s eta 0:00:04\n",
      "   ------------ --------------------------- 3.0/9.4 MB 1.7 MB/s eta 0:00:04\n",
      "   ------------ --------------------------- 3.0/9.4 MB 1.7 MB/s eta 0:00:04\n",
      "   ------------- -------------------------- 3.3/9.4 MB 1.7 MB/s eta 0:00:04\n",
      "   ------------- -------------------------- 3.3/9.4 MB 1.7 MB/s eta 0:00:04\n",
      "   ------------- -------------------------- 3.3/9.4 MB 1.7 MB/s eta 0:00:04\n",
      "   ------------- -------------------------- 3.3/9.4 MB 1.7 MB/s eta 0:00:04\n",
      "   -------------- ------------------------- 3.3/9.4 MB 1.6 MB/s eta 0:00:04\n",
      "   --------------- ------------------------ 3.8/9.4 MB 1.8 MB/s eta 0:00:04\n",
      "   ---------------- ----------------------- 3.9/9.4 MB 1.8 MB/s eta 0:00:04\n",
      "   ---------------- ----------------------- 4.0/9.4 MB 1.8 MB/s eta 0:00:04\n",
      "   ---------------- ----------------------- 4.0/9.4 MB 1.7 MB/s eta 0:00:04\n",
      "   ----------------- ---------------------- 4.0/9.4 MB 1.7 MB/s eta 0:00:04\n",
      "   ----------------- ---------------------- 4.1/9.4 MB 1.7 MB/s eta 0:00:04\n",
      "   ----------------- ---------------------- 4.2/9.4 MB 1.7 MB/s eta 0:00:03\n",
      "   ------------------ --------------------- 4.3/9.4 MB 1.7 MB/s eta 0:00:03\n",
      "   ------------------ --------------------- 4.4/9.4 MB 1.7 MB/s eta 0:00:03\n",
      "   ------------------ --------------------- 4.4/9.4 MB 1.7 MB/s eta 0:00:03\n",
      "   ------------------- -------------------- 4.5/9.4 MB 1.7 MB/s eta 0:00:03\n",
      "   ------------------- -------------------- 4.6/9.4 MB 1.7 MB/s eta 0:00:03\n",
      "   ------------------- -------------------- 4.6/9.4 MB 1.7 MB/s eta 0:00:03\n",
      "   -------------------- ------------------- 4.7/9.4 MB 1.7 MB/s eta 0:00:03\n",
      "   -------------------- ------------------- 4.8/9.4 MB 1.7 MB/s eta 0:00:03\n",
      "   -------------------- ------------------- 4.9/9.4 MB 1.7 MB/s eta 0:00:03\n",
      "   --------------------- ------------------ 5.0/9.4 MB 1.7 MB/s eta 0:00:03\n",
      "   --------------------- ------------------ 5.0/9.4 MB 1.7 MB/s eta 0:00:03\n",
      "   --------------------- ------------------ 5.1/9.4 MB 1.7 MB/s eta 0:00:03\n",
      "   ---------------------- ----------------- 5.2/9.4 MB 1.7 MB/s eta 0:00:03\n",
      "   ---------------------- ----------------- 5.3/9.4 MB 1.7 MB/s eta 0:00:03\n",
      "   ---------------------- ----------------- 5.4/9.4 MB 1.7 MB/s eta 0:00:03\n",
      "   ---------------------- ----------------- 5.4/9.4 MB 1.7 MB/s eta 0:00:03\n",
      "   ----------------------- ---------------- 5.5/9.4 MB 1.7 MB/s eta 0:00:03\n",
      "   ----------------------- ---------------- 5.6/9.4 MB 1.7 MB/s eta 0:00:03\n",
      "   ------------------------ --------------- 5.7/9.4 MB 1.7 MB/s eta 0:00:03\n",
      "   ------------------------ --------------- 5.7/9.4 MB 1.7 MB/s eta 0:00:03\n",
      "   ------------------------ --------------- 5.8/9.4 MB 1.7 MB/s eta 0:00:03\n",
      "   ------------------------- -------------- 5.9/9.4 MB 1.7 MB/s eta 0:00:03\n",
      "   ------------------------- -------------- 6.0/9.4 MB 1.7 MB/s eta 0:00:03\n",
      "   ------------------------- -------------- 6.1/9.4 MB 1.7 MB/s eta 0:00:02\n",
      "   -------------------------- ------------- 6.1/9.4 MB 1.7 MB/s eta 0:00:02\n",
      "   -------------------------- ------------- 6.2/9.4 MB 1.7 MB/s eta 0:00:02\n",
      "   -------------------------- ------------- 6.3/9.4 MB 1.7 MB/s eta 0:00:02\n",
      "   --------------------------- ------------ 6.4/9.4 MB 1.7 MB/s eta 0:00:02\n",
      "   --------------------------- ------------ 6.5/9.4 MB 1.7 MB/s eta 0:00:02\n",
      "   --------------------------- ------------ 6.5/9.4 MB 1.7 MB/s eta 0:00:02\n",
      "   ---------------------------- ----------- 6.6/9.4 MB 1.7 MB/s eta 0:00:02\n",
      "   ---------------------------- ----------- 6.7/9.4 MB 1.7 MB/s eta 0:00:02\n",
      "   ---------------------------- ----------- 6.8/9.4 MB 1.7 MB/s eta 0:00:02\n",
      "   ----------------------------- ---------- 6.9/9.4 MB 1.7 MB/s eta 0:00:02\n",
      "   ----------------------------- ---------- 7.0/9.4 MB 1.7 MB/s eta 0:00:02\n",
      "   ----------------------------- ---------- 7.0/9.4 MB 1.7 MB/s eta 0:00:02\n",
      "   ------------------------------ --------- 7.1/9.4 MB 1.7 MB/s eta 0:00:02\n",
      "   ------------------------------ --------- 7.2/9.4 MB 1.7 MB/s eta 0:00:02\n",
      "   ------------------------------ --------- 7.3/9.4 MB 1.7 MB/s eta 0:00:02\n",
      "   ------------------------------- -------- 7.4/9.4 MB 1.7 MB/s eta 0:00:02\n",
      "   ------------------------------- -------- 7.4/9.4 MB 1.7 MB/s eta 0:00:02\n",
      "   ------------------------------- -------- 7.5/9.4 MB 1.7 MB/s eta 0:00:02\n",
      "   -------------------------------- ------- 7.6/9.4 MB 1.7 MB/s eta 0:00:02\n",
      "   -------------------------------- ------- 7.7/9.4 MB 1.7 MB/s eta 0:00:01\n",
      "   -------------------------------- ------- 7.8/9.4 MB 1.7 MB/s eta 0:00:01\n",
      "   --------------------------------- ------ 7.9/9.4 MB 1.7 MB/s eta 0:00:01\n",
      "   --------------------------------- ------ 8.0/9.4 MB 1.7 MB/s eta 0:00:01\n",
      "   ---------------------------------- ----- 8.0/9.4 MB 1.7 MB/s eta 0:00:01\n",
      "   ---------------------------------- ----- 8.1/9.4 MB 1.7 MB/s eta 0:00:01\n",
      "   ---------------------------------- ----- 8.1/9.4 MB 1.7 MB/s eta 0:00:01\n",
      "   ---------------------------------- ----- 8.2/9.4 MB 1.7 MB/s eta 0:00:01\n",
      "   ----------------------------------- ---- 8.4/9.4 MB 1.7 MB/s eta 0:00:01\n",
      "   ----------------------------------- ---- 8.5/9.4 MB 1.7 MB/s eta 0:00:01\n",
      "   ------------------------------------ --- 8.5/9.4 MB 1.7 MB/s eta 0:00:01\n",
      "   ------------------------------------ --- 8.6/9.4 MB 1.7 MB/s eta 0:00:01\n",
      "   ------------------------------------ --- 8.7/9.4 MB 1.7 MB/s eta 0:00:01\n",
      "   ------------------------------------- -- 8.7/9.4 MB 1.7 MB/s eta 0:00:01\n",
      "   ------------------------------------- -- 8.9/9.4 MB 1.7 MB/s eta 0:00:01\n",
      "   ------------------------------------- -- 8.9/9.4 MB 1.7 MB/s eta 0:00:01\n",
      "   -------------------------------------- - 9.0/9.4 MB 1.7 MB/s eta 0:00:01\n",
      "   -------------------------------------- - 9.1/9.4 MB 1.7 MB/s eta 0:00:01\n",
      "   -------------------------------------- - 9.1/9.4 MB 1.7 MB/s eta 0:00:01\n",
      "   -------------------------------------- - 9.1/9.4 MB 1.7 MB/s eta 0:00:01\n",
      "   -------------------------------------- - 9.1/9.4 MB 1.7 MB/s eta 0:00:01\n",
      "   -------------------------------------- - 9.1/9.4 MB 1.7 MB/s eta 0:00:01\n",
      "   -------------------------------------- - 9.1/9.4 MB 1.7 MB/s eta 0:00:01\n",
      "   ---------------------------------------  9.4/9.4 MB 1.7 MB/s eta 0:00:01\n",
      "   ---------------------------------------- 9.4/9.4 MB 1.7 MB/s eta 0:00:00\n",
      "Installing collected packages: tokenizers, accelerate, transformers\n",
      "  Attempting uninstall: tokenizers\n",
      "    Found existing installation: tokenizers 0.15.2\n",
      "    Uninstalling tokenizers-0.15.2:\n",
      "      Successfully uninstalled tokenizers-0.15.2\n",
      "  Attempting uninstall: accelerate\n",
      "    Found existing installation: accelerate 0.30.1\n",
      "    Uninstalling accelerate-0.30.1:\n",
      "      Successfully uninstalled accelerate-0.30.1\n",
      "  Attempting uninstall: transformers\n",
      "    Found existing installation: transformers 4.39.3\n",
      "    Uninstalling transformers-4.39.3:\n",
      "      Successfully uninstalled transformers-4.39.3\n",
      "Successfully installed accelerate-0.33.0 tokenizers-0.19.1 transformers-4.43.3\n",
      "Note: you may need to restart the kernel to use updated packages.\n"
     ]
    },
    {
     "name": "stderr",
     "output_type": "stream",
     "text": [
      "ERROR: pip's dependency resolver does not currently take into account all the packages that are installed. This behaviour is the source of the following dependency conflicts.\n",
      "farm-haystack 1.25.5 requires transformers==4.39.3, but you have transformers 4.43.3 which is incompatible.\n",
      "\n",
      "[notice] A new release of pip is available: 24.0 -> 24.2\n",
      "[notice] To update, run: python.exe -m pip install --upgrade pip\n"
     ]
    }
   ],
   "source": [
    "%pip install transformers[torch] accelerate -U"
   ]
  },
  {
   "cell_type": "markdown",
   "metadata": {},
   "source": [
    "## Import package"
   ]
  },
  {
   "cell_type": "code",
   "execution_count": 3,
   "metadata": {},
   "outputs": [
    {
     "name": "stdout",
     "output_type": "stream",
     "text": [
      "WARNING:tensorflow:From c:\\Users\\alifs\\anaconda3\\envs\\main-ds\\lib\\site-packages\\tf_keras\\src\\losses.py:2976: The name tf.losses.sparse_softmax_cross_entropy is deprecated. Please use tf.compat.v1.losses.sparse_softmax_cross_entropy instead.\n",
      "\n"
     ]
    }
   ],
   "source": [
    "import pandas as pd\n",
    "from datasets import Dataset\n",
    "from transformers import GPT2Tokenizer, TFGPT2LMHeadModel, DataCollatorForLanguageModeling, create_optimizer\n",
    "from transformers import TrainingArguments\n",
    "import tensorflow as tf\n",
    "import matplotlib.pyplot as plt\n",
    "import os\n",
    "import re"
   ]
  },
  {
   "cell_type": "code",
   "execution_count": 4,
   "metadata": {},
   "outputs": [],
   "source": [
    "os.environ['TF_CPP_MIN_LOG_LEVEL'] = '2'  # Suppress most TensorFlow messages\n",
    "tf.get_logger().setLevel('ERROR')"
   ]
  },
  {
   "cell_type": "code",
   "execution_count": 5,
   "metadata": {},
   "outputs": [],
   "source": [
    "# Ensure tf_keras is installed\n",
    "try:\n",
    "    import tf_keras\n",
    "except ImportError:\n",
    "    print(\"tf-keras is not installed. Installing now...\")\n",
    "    %pip install tf-keras"
   ]
  },
  {
   "cell_type": "markdown",
   "metadata": {},
   "source": [
    "# Load the dataset"
   ]
  },
  {
   "cell_type": "code",
   "execution_count": 10,
   "metadata": {},
   "outputs": [
    {
     "data": {
      "text/html": [
       "<div>\n",
       "<style scoped>\n",
       "    .dataframe tbody tr th:only-of-type {\n",
       "        vertical-align: middle;\n",
       "    }\n",
       "\n",
       "    .dataframe tbody tr th {\n",
       "        vertical-align: top;\n",
       "    }\n",
       "\n",
       "    .dataframe thead th {\n",
       "        text-align: right;\n",
       "    }\n",
       "</style>\n",
       "<table border=\"1\" class=\"dataframe\">\n",
       "  <thead>\n",
       "    <tr style=\"text-align: right;\">\n",
       "      <th></th>\n",
       "      <th>id</th>\n",
       "      <th>prompt</th>\n",
       "      <th>response</th>\n",
       "      <th>text</th>\n",
       "    </tr>\n",
       "  </thead>\n",
       "  <tbody>\n",
       "    <tr>\n",
       "      <th>0</th>\n",
       "      <td>1</td>\n",
       "      <td>Apa itu ROI?</td>\n",
       "      <td>ROI atau Return on Investment adalah rasio keu...</td>\n",
       "      <td>Apa itu ROI? ROI atau Return on Investment ada...</td>\n",
       "    </tr>\n",
       "    <tr>\n",
       "      <th>1</th>\n",
       "      <td>2</td>\n",
       "      <td>Apa itu EBITDA?</td>\n",
       "      <td>EBITDA atau Earnings Before Interest, Taxes, D...</td>\n",
       "      <td>Apa itu EBITDA? EBITDA atau Earnings Before In...</td>\n",
       "    </tr>\n",
       "    <tr>\n",
       "      <th>2</th>\n",
       "      <td>3</td>\n",
       "      <td>Apa itu Leverage?</td>\n",
       "      <td>Leverage dalam konteks finansial adalah penggu...</td>\n",
       "      <td>Apa itu Leverage? Leverage dalam konteks finan...</td>\n",
       "    </tr>\n",
       "    <tr>\n",
       "      <th>3</th>\n",
       "      <td>4</td>\n",
       "      <td>Apa itu Diversifikasi?</td>\n",
       "      <td>Diversifikasi adalah strategi investasi yang m...</td>\n",
       "      <td>Apa itu Diversifikasi? Diversifikasi adalah st...</td>\n",
       "    </tr>\n",
       "    <tr>\n",
       "      <th>4</th>\n",
       "      <td>5</td>\n",
       "      <td>Apa itu Volatilitas?</td>\n",
       "      <td>Volatilitas adalah ukuran seberapa besar harga...</td>\n",
       "      <td>Apa itu Volatilitas? Volatilitas adalah ukuran...</td>\n",
       "    </tr>\n",
       "  </tbody>\n",
       "</table>\n",
       "</div>"
      ],
      "text/plain": [
       "   id                  prompt  \\\n",
       "0   1            Apa itu ROI?   \n",
       "1   2         Apa itu EBITDA?   \n",
       "2   3       Apa itu Leverage?   \n",
       "3   4  Apa itu Diversifikasi?   \n",
       "4   5    Apa itu Volatilitas?   \n",
       "\n",
       "                                            response  \\\n",
       "0  ROI atau Return on Investment adalah rasio keu...   \n",
       "1  EBITDA atau Earnings Before Interest, Taxes, D...   \n",
       "2  Leverage dalam konteks finansial adalah penggu...   \n",
       "3  Diversifikasi adalah strategi investasi yang m...   \n",
       "4  Volatilitas adalah ukuran seberapa besar harga...   \n",
       "\n",
       "                                                text  \n",
       "0  Apa itu ROI? ROI atau Return on Investment ada...  \n",
       "1  Apa itu EBITDA? EBITDA atau Earnings Before In...  \n",
       "2  Apa itu Leverage? Leverage dalam konteks finan...  \n",
       "3  Apa itu Diversifikasi? Diversifikasi adalah st...  \n",
       "4  Apa itu Volatilitas? Volatilitas adalah ukuran...  "
      ]
     },
     "execution_count": 10,
     "metadata": {},
     "output_type": "execute_result"
    }
   ],
   "source": [
    "# Load the dataset\n",
    "df = pd.read_csv('../data/generative-ai/finansial-dataset-v2.csv')\n",
    "# df = pd.read_csv('https://raw.githubusercontent.com/Finboost/finboost-ml/main/data/finansial-dataset-v2.csv')\n",
    "dataset = Dataset.from_pandas(df[['text']])\n",
    "df.head()"
   ]
  },
  {
   "cell_type": "code",
   "execution_count": 11,
   "metadata": {},
   "outputs": [
    {
     "name": "stdout",
     "output_type": "stream",
     "text": [
      "Index(['id', 'prompt', 'response', 'text'], dtype='object')\n",
      "Jumlah data (baris, kolom): (6445, 4)\n"
     ]
    }
   ],
   "source": [
    "print(df.columns)\n",
    "print(f\"Jumlah data (baris, kolom): {df.shape}\")"
   ]
  },
  {
   "cell_type": "markdown",
   "metadata": {},
   "source": [
    "# Load the tokenizer and model for fine-tuning"
   ]
  },
  {
   "cell_type": "code",
   "execution_count": 12,
   "metadata": {},
   "outputs": [],
   "source": [
    "# Load the tokenizer and model for fine-tuning\n",
    "model_name = \"cahya/gpt2-small-indonesian-522M\"\n",
    "# model_name = \"cahya/gpt2-large-indonesian-522M\" #ResourceExhaustedError\n",
    "tokenizer = GPT2Tokenizer.from_pretrained(model_name)"
   ]
  },
  {
   "cell_type": "markdown",
   "metadata": {},
   "source": [
    "# Preprocess the dataset"
   ]
  },
  {
   "cell_type": "code",
   "execution_count": 13,
   "metadata": {},
   "outputs": [
    {
     "name": "stdout",
     "output_type": "stream",
     "text": [
      "Tokenizer special tokens: {'bos_token': '<|endoftext|>', 'eos_token': '<|endoftext|>', 'unk_token': '<|endoftext|>', 'pad_token': '[PAD]'}\n"
     ]
    }
   ],
   "source": [
    "# Tambahkan token padding jika belum ada\n",
    "if tokenizer.pad_token is None:\n",
    "    tokenizer.add_special_tokens({'pad_token': '[PAD]'})\n",
    "    \n",
    "# Verify special tokens\n",
    "print(\"Tokenizer special tokens:\", tokenizer.special_tokens_map)"
   ]
  },
  {
   "cell_type": "code",
   "execution_count": 14,
   "metadata": {},
   "outputs": [
    {
     "name": "stderr",
     "output_type": "stream",
     "text": [
      "All model checkpoint layers were used when initializing TFGPT2LMHeadModel.\n",
      "\n",
      "All the layers of TFGPT2LMHeadModel were initialized from the model checkpoint at cahya/gpt2-small-indonesian-522M.\n",
      "If your task is similar to the task the model of the checkpoint was trained on, you can already use TFGPT2LMHeadModel for predictions without further training.\n"
     ]
    },
    {
     "data": {
      "text/plain": [
       "<tf_keras.src.layers.core.embedding.Embedding at 0x220165b10a0>"
      ]
     },
     "execution_count": 14,
     "metadata": {},
     "output_type": "execute_result"
    }
   ],
   "source": [
    "model = TFGPT2LMHeadModel.from_pretrained(model_name)\n",
    "model.resize_token_embeddings(len(tokenizer))  # Update the model's token embeddings"
   ]
  },
  {
   "cell_type": "markdown",
   "metadata": {},
   "source": [
    "# Preprocessing function"
   ]
  },
  {
   "cell_type": "code",
   "execution_count": 15,
   "metadata": {},
   "outputs": [],
   "source": [
    "def tokenize_function(examples):\n",
    "    return tokenizer(examples['text'], truncation=True, padding='max_length', max_length=512)  # Reduce max_length to 256"
   ]
  },
  {
   "cell_type": "code",
   "execution_count": 16,
   "metadata": {},
   "outputs": [
    {
     "data": {
      "application/vnd.jupyter.widget-view+json": {
       "model_id": "c10c4b9e34ea4c66ac7ab43e2339a5e1",
       "version_major": 2,
       "version_minor": 0
      },
      "text/plain": [
       "Map:   0%|          | 0/6445 [00:00<?, ? examples/s]"
      ]
     },
     "metadata": {},
     "output_type": "display_data"
    },
    {
     "name": "stdout",
     "output_type": "stream",
     "text": [
      "Dataset({\n",
      "    features: ['text', 'input_ids', 'attention_mask'],\n",
      "    num_rows: 6445\n",
      "})\n"
     ]
    }
   ],
   "source": [
    "tokenized_datasets = dataset.map(tokenize_function, batched=True)\n",
    "print(tokenized_datasets)"
   ]
  },
  {
   "cell_type": "code",
   "execution_count": 17,
   "metadata": {},
   "outputs": [
    {
     "name": "stdout",
     "output_type": "stream",
     "text": [
      "{'text': 'Apa itu ROI? ROI atau Return on Investment adalah rasio keuntungan atau kerugian yang dihasilkan dari investasi relatif terhadap biaya investasi. ROI sering digunakan untuk mengevaluasi efisiensi atau profitabilitas suatu investasi atau untuk membandingkan efisiensi beberapa investasi yang berbeda.', 'input_ids': [22075, 484, 32277, 41, 31, 32277, 41, 466, 36712, 2985, 32301, 360, 8430, 5303, 466, 10311, 288, 4324, 319, 7660, 4630, 1037, 3764, 7660, 14, 32277, 41, 1260, 839, 369, 25264, 12848, 466, 2434, 3555, 6482, 1110, 7660, 466, 369, 15002, 12848, 669, 7660, 288, 1580, 14, 50257, 50257, 50257, 50257, 50257, 50257, 50257, 50257, 50257, 50257, 50257, 50257, 50257, 50257, 50257, 50257, 50257, 50257, 50257, 50257, 50257, 50257, 50257, 50257, 50257, 50257, 50257, 50257, 50257, 50257, 50257, 50257, 50257, 50257, 50257, 50257, 50257, 50257, 50257, 50257, 50257, 50257, 50257, 50257, 50257, 50257, 50257, 50257, 50257, 50257, 50257, 50257, 50257, 50257, 50257, 50257, 50257, 50257, 50257, 50257, 50257, 50257, 50257, 50257, 50257, 50257, 50257, 50257, 50257, 50257, 50257, 50257, 50257, 50257, 50257, 50257, 50257, 50257, 50257, 50257, 50257, 50257, 50257, 50257, 50257, 50257, 50257, 50257, 50257, 50257, 50257, 50257, 50257, 50257, 50257, 50257, 50257, 50257, 50257, 50257, 50257, 50257, 50257, 50257, 50257, 50257, 50257, 50257, 50257, 50257, 50257, 50257, 50257, 50257, 50257, 50257, 50257, 50257, 50257, 50257, 50257, 50257, 50257, 50257, 50257, 50257, 50257, 50257, 50257, 50257, 50257, 50257, 50257, 50257, 50257, 50257, 50257, 50257, 50257, 50257, 50257, 50257, 50257, 50257, 50257, 50257, 50257, 50257, 50257, 50257, 50257, 50257, 50257, 50257, 50257, 50257, 50257, 50257, 50257, 50257, 50257, 50257, 50257, 50257, 50257, 50257, 50257, 50257, 50257, 50257, 50257, 50257, 50257, 50257, 50257, 50257, 50257, 50257, 50257, 50257, 50257, 50257, 50257, 50257, 50257, 50257, 50257, 50257, 50257, 50257, 50257, 50257, 50257, 50257, 50257, 50257, 50257, 50257, 50257, 50257, 50257, 50257, 50257, 50257, 50257, 50257, 50257, 50257, 50257, 50257, 50257, 50257, 50257, 50257, 50257, 50257, 50257, 50257, 50257, 50257, 50257, 50257, 50257, 50257, 50257, 50257, 50257, 50257, 50257, 50257, 50257, 50257, 50257, 50257, 50257, 50257, 50257, 50257, 50257, 50257, 50257, 50257, 50257, 50257, 50257, 50257, 50257, 50257, 50257, 50257, 50257, 50257, 50257, 50257, 50257, 50257, 50257, 50257, 50257, 50257, 50257, 50257, 50257, 50257, 50257, 50257, 50257, 50257, 50257, 50257, 50257, 50257, 50257, 50257, 50257, 50257, 50257, 50257, 50257, 50257, 50257, 50257, 50257, 50257, 50257, 50257, 50257, 50257, 50257, 50257, 50257, 50257, 50257, 50257, 50257, 50257, 50257, 50257, 50257, 50257, 50257, 50257, 50257, 50257, 50257, 50257, 50257, 50257, 50257, 50257, 50257, 50257, 50257, 50257, 50257, 50257, 50257, 50257, 50257, 50257, 50257, 50257, 50257, 50257, 50257, 50257, 50257, 50257, 50257, 50257, 50257, 50257, 50257, 50257, 50257, 50257, 50257, 50257, 50257, 50257, 50257, 50257, 50257, 50257, 50257, 50257, 50257, 50257, 50257, 50257, 50257, 50257, 50257, 50257, 50257, 50257, 50257, 50257, 50257, 50257, 50257, 50257, 50257, 50257, 50257, 50257, 50257, 50257, 50257, 50257, 50257, 50257, 50257, 50257, 50257, 50257, 50257, 50257, 50257, 50257, 50257, 50257, 50257, 50257, 50257, 50257, 50257, 50257, 50257, 50257, 50257, 50257, 50257, 50257, 50257, 50257, 50257, 50257, 50257, 50257, 50257, 50257, 50257, 50257, 50257, 50257, 50257, 50257, 50257, 50257, 50257, 50257, 50257, 50257, 50257, 50257, 50257, 50257, 50257, 50257, 50257, 50257, 50257, 50257, 50257, 50257, 50257, 50257, 50257, 50257, 50257, 50257, 50257, 50257, 50257, 50257, 50257, 50257, 50257, 50257, 50257, 50257, 50257, 50257, 50257, 50257, 50257, 50257, 50257, 50257, 50257, 50257, 50257, 50257, 50257, 50257, 50257, 50257, 50257, 50257, 50257, 50257, 50257, 50257, 50257], 'attention_mask': [1, 1, 1, 1, 1, 1, 1, 1, 1, 1, 1, 1, 1, 1, 1, 1, 1, 1, 1, 1, 1, 1, 1, 1, 1, 1, 1, 1, 1, 1, 1, 1, 1, 1, 1, 1, 1, 1, 1, 1, 1, 1, 1, 1, 1, 1, 1, 0, 0, 0, 0, 0, 0, 0, 0, 0, 0, 0, 0, 0, 0, 0, 0, 0, 0, 0, 0, 0, 0, 0, 0, 0, 0, 0, 0, 0, 0, 0, 0, 0, 0, 0, 0, 0, 0, 0, 0, 0, 0, 0, 0, 0, 0, 0, 0, 0, 0, 0, 0, 0, 0, 0, 0, 0, 0, 0, 0, 0, 0, 0, 0, 0, 0, 0, 0, 0, 0, 0, 0, 0, 0, 0, 0, 0, 0, 0, 0, 0, 0, 0, 0, 0, 0, 0, 0, 0, 0, 0, 0, 0, 0, 0, 0, 0, 0, 0, 0, 0, 0, 0, 0, 0, 0, 0, 0, 0, 0, 0, 0, 0, 0, 0, 0, 0, 0, 0, 0, 0, 0, 0, 0, 0, 0, 0, 0, 0, 0, 0, 0, 0, 0, 0, 0, 0, 0, 0, 0, 0, 0, 0, 0, 0, 0, 0, 0, 0, 0, 0, 0, 0, 0, 0, 0, 0, 0, 0, 0, 0, 0, 0, 0, 0, 0, 0, 0, 0, 0, 0, 0, 0, 0, 0, 0, 0, 0, 0, 0, 0, 0, 0, 0, 0, 0, 0, 0, 0, 0, 0, 0, 0, 0, 0, 0, 0, 0, 0, 0, 0, 0, 0, 0, 0, 0, 0, 0, 0, 0, 0, 0, 0, 0, 0, 0, 0, 0, 0, 0, 0, 0, 0, 0, 0, 0, 0, 0, 0, 0, 0, 0, 0, 0, 0, 0, 0, 0, 0, 0, 0, 0, 0, 0, 0, 0, 0, 0, 0, 0, 0, 0, 0, 0, 0, 0, 0, 0, 0, 0, 0, 0, 0, 0, 0, 0, 0, 0, 0, 0, 0, 0, 0, 0, 0, 0, 0, 0, 0, 0, 0, 0, 0, 0, 0, 0, 0, 0, 0, 0, 0, 0, 0, 0, 0, 0, 0, 0, 0, 0, 0, 0, 0, 0, 0, 0, 0, 0, 0, 0, 0, 0, 0, 0, 0, 0, 0, 0, 0, 0, 0, 0, 0, 0, 0, 0, 0, 0, 0, 0, 0, 0, 0, 0, 0, 0, 0, 0, 0, 0, 0, 0, 0, 0, 0, 0, 0, 0, 0, 0, 0, 0, 0, 0, 0, 0, 0, 0, 0, 0, 0, 0, 0, 0, 0, 0, 0, 0, 0, 0, 0, 0, 0, 0, 0, 0, 0, 0, 0, 0, 0, 0, 0, 0, 0, 0, 0, 0, 0, 0, 0, 0, 0, 0, 0, 0, 0, 0, 0, 0, 0, 0, 0, 0, 0, 0, 0, 0, 0, 0, 0, 0, 0, 0, 0, 0, 0, 0, 0, 0, 0, 0, 0, 0, 0, 0, 0, 0, 0, 0, 0, 0, 0, 0, 0, 0, 0, 0, 0, 0, 0, 0, 0, 0, 0, 0, 0, 0, 0, 0, 0, 0, 0, 0, 0, 0, 0, 0, 0, 0, 0, 0, 0, 0, 0]}\n"
     ]
    }
   ],
   "source": [
    "# Check the first few elements\n",
    "for item in tokenized_datasets:\n",
    "    print(item)\n",
    "    break"
   ]
  },
  {
   "cell_type": "markdown",
   "metadata": {},
   "source": [
    "# Split dataset into train and validation"
   ]
  },
  {
   "cell_type": "code",
   "execution_count": 18,
   "metadata": {},
   "outputs": [
    {
     "name": "stdout",
     "output_type": "stream",
     "text": [
      "Dataset({\n",
      "    features: ['text', 'input_ids', 'attention_mask'],\n",
      "    num_rows: 6380\n",
      "})\n",
      "Dataset({\n",
      "    features: ['text', 'input_ids', 'attention_mask'],\n",
      "    num_rows: 65\n",
      "})\n"
     ]
    }
   ],
   "source": [
    "train_test_split = tokenized_datasets.train_test_split(test_size=0.01)\n",
    "train_dataset = train_test_split['train']\n",
    "eval_dataset = train_test_split['test']\n",
    "print(train_dataset)\n",
    "print(eval_dataset)"
   ]
  },
  {
   "cell_type": "code",
   "execution_count": 19,
   "metadata": {},
   "outputs": [
    {
     "name": "stdout",
     "output_type": "stream",
     "text": [
      "{'text': 'Bagaimana perkembangan sistem perbankan di Indonesia? Sistem perbankan di Indonesia berkembang pesat setelah kemerdekaan, dengan nasionalisasi bank-bank Belanda dan pendirian bank-bank nasional.', 'input_ids': [38168, 2782, 1203, 12764, 273, 583, 31, 4935, 12764, 273, 583, 2294, 7882, 711, 4065, 12, 348, 48059, 5623, 13, 14505, 1299, 287, 6739, 5623, 13, 14505, 1722, 14, 50257, 50257, 50257, 50257, 50257, 50257, 50257, 50257, 50257, 50257, 50257, 50257, 50257, 50257, 50257, 50257, 50257, 50257, 50257, 50257, 50257, 50257, 50257, 50257, 50257, 50257, 50257, 50257, 50257, 50257, 50257, 50257, 50257, 50257, 50257, 50257, 50257, 50257, 50257, 50257, 50257, 50257, 50257, 50257, 50257, 50257, 50257, 50257, 50257, 50257, 50257, 50257, 50257, 50257, 50257, 50257, 50257, 50257, 50257, 50257, 50257, 50257, 50257, 50257, 50257, 50257, 50257, 50257, 50257, 50257, 50257, 50257, 50257, 50257, 50257, 50257, 50257, 50257, 50257, 50257, 50257, 50257, 50257, 50257, 50257, 50257, 50257, 50257, 50257, 50257, 50257, 50257, 50257, 50257, 50257, 50257, 50257, 50257, 50257, 50257, 50257, 50257, 50257, 50257, 50257, 50257, 50257, 50257, 50257, 50257, 50257, 50257, 50257, 50257, 50257, 50257, 50257, 50257, 50257, 50257, 50257, 50257, 50257, 50257, 50257, 50257, 50257, 50257, 50257, 50257, 50257, 50257, 50257, 50257, 50257, 50257, 50257, 50257, 50257, 50257, 50257, 50257, 50257, 50257, 50257, 50257, 50257, 50257, 50257, 50257, 50257, 50257, 50257, 50257, 50257, 50257, 50257, 50257, 50257, 50257, 50257, 50257, 50257, 50257, 50257, 50257, 50257, 50257, 50257, 50257, 50257, 50257, 50257, 50257, 50257, 50257, 50257, 50257, 50257, 50257, 50257, 50257, 50257, 50257, 50257, 50257, 50257, 50257, 50257, 50257, 50257, 50257, 50257, 50257, 50257, 50257, 50257, 50257, 50257, 50257, 50257, 50257, 50257, 50257, 50257, 50257, 50257, 50257, 50257, 50257, 50257, 50257, 50257, 50257, 50257, 50257, 50257, 50257, 50257, 50257, 50257, 50257, 50257, 50257, 50257, 50257, 50257, 50257, 50257, 50257, 50257, 50257, 50257, 50257, 50257, 50257, 50257, 50257, 50257, 50257, 50257, 50257, 50257, 50257, 50257, 50257, 50257, 50257, 50257, 50257, 50257, 50257, 50257, 50257, 50257, 50257, 50257, 50257, 50257, 50257, 50257, 50257, 50257, 50257, 50257, 50257, 50257, 50257, 50257, 50257, 50257, 50257, 50257, 50257, 50257, 50257, 50257, 50257, 50257, 50257, 50257, 50257, 50257, 50257, 50257, 50257, 50257, 50257, 50257, 50257, 50257, 50257, 50257, 50257, 50257, 50257, 50257, 50257, 50257, 50257, 50257, 50257, 50257, 50257, 50257, 50257, 50257, 50257, 50257, 50257, 50257, 50257, 50257, 50257, 50257, 50257, 50257, 50257, 50257, 50257, 50257, 50257, 50257, 50257, 50257, 50257, 50257, 50257, 50257, 50257, 50257, 50257, 50257, 50257, 50257, 50257, 50257, 50257, 50257, 50257, 50257, 50257, 50257, 50257, 50257, 50257, 50257, 50257, 50257, 50257, 50257, 50257, 50257, 50257, 50257, 50257, 50257, 50257, 50257, 50257, 50257, 50257, 50257, 50257, 50257, 50257, 50257, 50257, 50257, 50257, 50257, 50257, 50257, 50257, 50257, 50257, 50257, 50257, 50257, 50257, 50257, 50257, 50257, 50257, 50257, 50257, 50257, 50257, 50257, 50257, 50257, 50257, 50257, 50257, 50257, 50257, 50257, 50257, 50257, 50257, 50257, 50257, 50257, 50257, 50257, 50257, 50257, 50257, 50257, 50257, 50257, 50257, 50257, 50257, 50257, 50257, 50257, 50257, 50257, 50257, 50257, 50257, 50257, 50257, 50257, 50257, 50257, 50257, 50257, 50257, 50257, 50257, 50257, 50257, 50257, 50257, 50257, 50257, 50257, 50257, 50257, 50257, 50257, 50257, 50257, 50257, 50257, 50257, 50257, 50257, 50257, 50257, 50257, 50257, 50257, 50257, 50257, 50257, 50257, 50257, 50257, 50257, 50257, 50257, 50257, 50257, 50257, 50257, 50257, 50257, 50257, 50257, 50257, 50257, 50257, 50257, 50257, 50257, 50257, 50257, 50257, 50257, 50257], 'attention_mask': [1, 1, 1, 1, 1, 1, 1, 1, 1, 1, 1, 1, 1, 1, 1, 1, 1, 1, 1, 1, 1, 1, 1, 1, 1, 1, 1, 1, 1, 0, 0, 0, 0, 0, 0, 0, 0, 0, 0, 0, 0, 0, 0, 0, 0, 0, 0, 0, 0, 0, 0, 0, 0, 0, 0, 0, 0, 0, 0, 0, 0, 0, 0, 0, 0, 0, 0, 0, 0, 0, 0, 0, 0, 0, 0, 0, 0, 0, 0, 0, 0, 0, 0, 0, 0, 0, 0, 0, 0, 0, 0, 0, 0, 0, 0, 0, 0, 0, 0, 0, 0, 0, 0, 0, 0, 0, 0, 0, 0, 0, 0, 0, 0, 0, 0, 0, 0, 0, 0, 0, 0, 0, 0, 0, 0, 0, 0, 0, 0, 0, 0, 0, 0, 0, 0, 0, 0, 0, 0, 0, 0, 0, 0, 0, 0, 0, 0, 0, 0, 0, 0, 0, 0, 0, 0, 0, 0, 0, 0, 0, 0, 0, 0, 0, 0, 0, 0, 0, 0, 0, 0, 0, 0, 0, 0, 0, 0, 0, 0, 0, 0, 0, 0, 0, 0, 0, 0, 0, 0, 0, 0, 0, 0, 0, 0, 0, 0, 0, 0, 0, 0, 0, 0, 0, 0, 0, 0, 0, 0, 0, 0, 0, 0, 0, 0, 0, 0, 0, 0, 0, 0, 0, 0, 0, 0, 0, 0, 0, 0, 0, 0, 0, 0, 0, 0, 0, 0, 0, 0, 0, 0, 0, 0, 0, 0, 0, 0, 0, 0, 0, 0, 0, 0, 0, 0, 0, 0, 0, 0, 0, 0, 0, 0, 0, 0, 0, 0, 0, 0, 0, 0, 0, 0, 0, 0, 0, 0, 0, 0, 0, 0, 0, 0, 0, 0, 0, 0, 0, 0, 0, 0, 0, 0, 0, 0, 0, 0, 0, 0, 0, 0, 0, 0, 0, 0, 0, 0, 0, 0, 0, 0, 0, 0, 0, 0, 0, 0, 0, 0, 0, 0, 0, 0, 0, 0, 0, 0, 0, 0, 0, 0, 0, 0, 0, 0, 0, 0, 0, 0, 0, 0, 0, 0, 0, 0, 0, 0, 0, 0, 0, 0, 0, 0, 0, 0, 0, 0, 0, 0, 0, 0, 0, 0, 0, 0, 0, 0, 0, 0, 0, 0, 0, 0, 0, 0, 0, 0, 0, 0, 0, 0, 0, 0, 0, 0, 0, 0, 0, 0, 0, 0, 0, 0, 0, 0, 0, 0, 0, 0, 0, 0, 0, 0, 0, 0, 0, 0, 0, 0, 0, 0, 0, 0, 0, 0, 0, 0, 0, 0, 0, 0, 0, 0, 0, 0, 0, 0, 0, 0, 0, 0, 0, 0, 0, 0, 0, 0, 0, 0, 0, 0, 0, 0, 0, 0, 0, 0, 0, 0, 0, 0, 0, 0, 0, 0, 0, 0, 0, 0, 0, 0, 0, 0, 0, 0, 0, 0, 0, 0, 0, 0, 0, 0, 0, 0, 0, 0, 0, 0, 0, 0, 0, 0, 0, 0, 0, 0, 0, 0, 0, 0, 0, 0, 0, 0, 0, 0, 0, 0, 0, 0, 0, 0, 0, 0, 0, 0, 0, 0, 0, 0, 0]}\n",
      "{'text': 'Bagaimana cara merencanakan pensiun dini dalam perencanaan keuangan pribadi? Untuk merencanakan pensiun dini dalam perencanaan keuangan pribadi, pertimbangkan hal berikut: 1. Hitung biaya hidup yang diharapkan setelah pensiun. 2. Pertimbangkan inflasi dan kebutuhan dana pensiun untuk sisa hidup. 3. Pilih instrumen investasi yang dapat memberikan penghasilan pasif atau pertumbuhan nilai investasi yang cukup untuk mengatasi inflasi. 4. Perbarui rencana pensiun secara berkala sesuai dengan perubahan dalam biaya hidup atau tujuan pensiun.', 'input_ids': [38168, 1867, 10000, 6256, 11026, 370, 9885, 4555, 3406, 31, 2291, 10000, 6256, 11026, 370, 9885, 4555, 3406, 12, 327, 2248, 3664, 1108, 1385, 26, 333, 14, 403, 3584, 3764, 822, 288, 6255, 711, 6256, 14, 365, 14, 517, 2248, 3664, 20474, 287, 3792, 4875, 6256, 369, 5258, 822, 14, 591, 14, 304, 1098, 8600, 7660, 288, 515, 1386, 11809, 18806, 466, 4598, 2609, 7660, 288, 1294, 369, 8070, 20474, 14, 744, 14, 517, 12726, 3761, 6256, 635, 17690, 2263, 348, 2471, 370, 3764, 822, 466, 2435, 6256, 14, 50257, 50257, 50257, 50257, 50257, 50257, 50257, 50257, 50257, 50257, 50257, 50257, 50257, 50257, 50257, 50257, 50257, 50257, 50257, 50257, 50257, 50257, 50257, 50257, 50257, 50257, 50257, 50257, 50257, 50257, 50257, 50257, 50257, 50257, 50257, 50257, 50257, 50257, 50257, 50257, 50257, 50257, 50257, 50257, 50257, 50257, 50257, 50257, 50257, 50257, 50257, 50257, 50257, 50257, 50257, 50257, 50257, 50257, 50257, 50257, 50257, 50257, 50257, 50257, 50257, 50257, 50257, 50257, 50257, 50257, 50257, 50257, 50257, 50257, 50257, 50257, 50257, 50257, 50257, 50257, 50257, 50257, 50257, 50257, 50257, 50257, 50257, 50257, 50257, 50257, 50257, 50257, 50257, 50257, 50257, 50257, 50257, 50257, 50257, 50257, 50257, 50257, 50257, 50257, 50257, 50257, 50257, 50257, 50257, 50257, 50257, 50257, 50257, 50257, 50257, 50257, 50257, 50257, 50257, 50257, 50257, 50257, 50257, 50257, 50257, 50257, 50257, 50257, 50257, 50257, 50257, 50257, 50257, 50257, 50257, 50257, 50257, 50257, 50257, 50257, 50257, 50257, 50257, 50257, 50257, 50257, 50257, 50257, 50257, 50257, 50257, 50257, 50257, 50257, 50257, 50257, 50257, 50257, 50257, 50257, 50257, 50257, 50257, 50257, 50257, 50257, 50257, 50257, 50257, 50257, 50257, 50257, 50257, 50257, 50257, 50257, 50257, 50257, 50257, 50257, 50257, 50257, 50257, 50257, 50257, 50257, 50257, 50257, 50257, 50257, 50257, 50257, 50257, 50257, 50257, 50257, 50257, 50257, 50257, 50257, 50257, 50257, 50257, 50257, 50257, 50257, 50257, 50257, 50257, 50257, 50257, 50257, 50257, 50257, 50257, 50257, 50257, 50257, 50257, 50257, 50257, 50257, 50257, 50257, 50257, 50257, 50257, 50257, 50257, 50257, 50257, 50257, 50257, 50257, 50257, 50257, 50257, 50257, 50257, 50257, 50257, 50257, 50257, 50257, 50257, 50257, 50257, 50257, 50257, 50257, 50257, 50257, 50257, 50257, 50257, 50257, 50257, 50257, 50257, 50257, 50257, 50257, 50257, 50257, 50257, 50257, 50257, 50257, 50257, 50257, 50257, 50257, 50257, 50257, 50257, 50257, 50257, 50257, 50257, 50257, 50257, 50257, 50257, 50257, 50257, 50257, 50257, 50257, 50257, 50257, 50257, 50257, 50257, 50257, 50257, 50257, 50257, 50257, 50257, 50257, 50257, 50257, 50257, 50257, 50257, 50257, 50257, 50257, 50257, 50257, 50257, 50257, 50257, 50257, 50257, 50257, 50257, 50257, 50257, 50257, 50257, 50257, 50257, 50257, 50257, 50257, 50257, 50257, 50257, 50257, 50257, 50257, 50257, 50257, 50257, 50257, 50257, 50257, 50257, 50257, 50257, 50257, 50257, 50257, 50257, 50257, 50257, 50257, 50257, 50257, 50257, 50257, 50257, 50257, 50257, 50257, 50257, 50257, 50257, 50257, 50257, 50257, 50257, 50257, 50257, 50257, 50257, 50257, 50257, 50257, 50257, 50257, 50257, 50257, 50257, 50257, 50257, 50257, 50257, 50257, 50257, 50257, 50257, 50257, 50257, 50257, 50257, 50257, 50257, 50257, 50257, 50257, 50257, 50257, 50257, 50257, 50257, 50257, 50257, 50257, 50257, 50257, 50257, 50257, 50257, 50257, 50257, 50257, 50257, 50257, 50257, 50257, 50257, 50257, 50257, 50257, 50257, 50257, 50257, 50257, 50257, 50257, 50257], 'attention_mask': [1, 1, 1, 1, 1, 1, 1, 1, 1, 1, 1, 1, 1, 1, 1, 1, 1, 1, 1, 1, 1, 1, 1, 1, 1, 1, 1, 1, 1, 1, 1, 1, 1, 1, 1, 1, 1, 1, 1, 1, 1, 1, 1, 1, 1, 1, 1, 1, 1, 1, 1, 1, 1, 1, 1, 1, 1, 1, 1, 1, 1, 1, 1, 1, 1, 1, 1, 1, 1, 1, 1, 1, 1, 1, 1, 1, 1, 1, 1, 1, 1, 1, 1, 1, 1, 1, 1, 1, 1, 0, 0, 0, 0, 0, 0, 0, 0, 0, 0, 0, 0, 0, 0, 0, 0, 0, 0, 0, 0, 0, 0, 0, 0, 0, 0, 0, 0, 0, 0, 0, 0, 0, 0, 0, 0, 0, 0, 0, 0, 0, 0, 0, 0, 0, 0, 0, 0, 0, 0, 0, 0, 0, 0, 0, 0, 0, 0, 0, 0, 0, 0, 0, 0, 0, 0, 0, 0, 0, 0, 0, 0, 0, 0, 0, 0, 0, 0, 0, 0, 0, 0, 0, 0, 0, 0, 0, 0, 0, 0, 0, 0, 0, 0, 0, 0, 0, 0, 0, 0, 0, 0, 0, 0, 0, 0, 0, 0, 0, 0, 0, 0, 0, 0, 0, 0, 0, 0, 0, 0, 0, 0, 0, 0, 0, 0, 0, 0, 0, 0, 0, 0, 0, 0, 0, 0, 0, 0, 0, 0, 0, 0, 0, 0, 0, 0, 0, 0, 0, 0, 0, 0, 0, 0, 0, 0, 0, 0, 0, 0, 0, 0, 0, 0, 0, 0, 0, 0, 0, 0, 0, 0, 0, 0, 0, 0, 0, 0, 0, 0, 0, 0, 0, 0, 0, 0, 0, 0, 0, 0, 0, 0, 0, 0, 0, 0, 0, 0, 0, 0, 0, 0, 0, 0, 0, 0, 0, 0, 0, 0, 0, 0, 0, 0, 0, 0, 0, 0, 0, 0, 0, 0, 0, 0, 0, 0, 0, 0, 0, 0, 0, 0, 0, 0, 0, 0, 0, 0, 0, 0, 0, 0, 0, 0, 0, 0, 0, 0, 0, 0, 0, 0, 0, 0, 0, 0, 0, 0, 0, 0, 0, 0, 0, 0, 0, 0, 0, 0, 0, 0, 0, 0, 0, 0, 0, 0, 0, 0, 0, 0, 0, 0, 0, 0, 0, 0, 0, 0, 0, 0, 0, 0, 0, 0, 0, 0, 0, 0, 0, 0, 0, 0, 0, 0, 0, 0, 0, 0, 0, 0, 0, 0, 0, 0, 0, 0, 0, 0, 0, 0, 0, 0, 0, 0, 0, 0, 0, 0, 0, 0, 0, 0, 0, 0, 0, 0, 0, 0, 0, 0, 0, 0, 0, 0, 0, 0, 0, 0, 0, 0, 0, 0, 0, 0, 0, 0, 0, 0, 0, 0, 0, 0, 0, 0, 0, 0, 0, 0, 0, 0, 0, 0, 0, 0, 0, 0, 0, 0, 0, 0, 0, 0, 0, 0, 0, 0, 0, 0, 0, 0, 0, 0, 0, 0, 0, 0, 0, 0, 0, 0, 0, 0, 0, 0, 0, 0, 0, 0, 0, 0, 0, 0, 0, 0, 0, 0, 0, 0, 0, 0, 0, 0, 0]}\n",
      "{'text': 'Apa saja yang perlu diperhatikan dalam mempersiapkan dana pendidikan untuk anak? Mempersiapkan dana pendidikan untuk anak membutuhkan perencanaan yang matang. Orang tua harus menghitung biaya pendidikan yang diperlukan, menabung secara berkala, dan memilih produk investasi yang sesuai.', 'input_ids': [22075, 1792, 288, 3232, 15065, 370, 8952, 4875, 1471, 369, 921, 31, 42752, 7343, 4875, 1471, 369, 921, 4631, 9885, 288, 12522, 14, 3453, 2571, 1238, 11250, 3764, 1471, 288, 4567, 12, 13905, 358, 635, 17690, 12, 287, 2525, 2246, 7660, 288, 2263, 14, 50257, 50257, 50257, 50257, 50257, 50257, 50257, 50257, 50257, 50257, 50257, 50257, 50257, 50257, 50257, 50257, 50257, 50257, 50257, 50257, 50257, 50257, 50257, 50257, 50257, 50257, 50257, 50257, 50257, 50257, 50257, 50257, 50257, 50257, 50257, 50257, 50257, 50257, 50257, 50257, 50257, 50257, 50257, 50257, 50257, 50257, 50257, 50257, 50257, 50257, 50257, 50257, 50257, 50257, 50257, 50257, 50257, 50257, 50257, 50257, 50257, 50257, 50257, 50257, 50257, 50257, 50257, 50257, 50257, 50257, 50257, 50257, 50257, 50257, 50257, 50257, 50257, 50257, 50257, 50257, 50257, 50257, 50257, 50257, 50257, 50257, 50257, 50257, 50257, 50257, 50257, 50257, 50257, 50257, 50257, 50257, 50257, 50257, 50257, 50257, 50257, 50257, 50257, 50257, 50257, 50257, 50257, 50257, 50257, 50257, 50257, 50257, 50257, 50257, 50257, 50257, 50257, 50257, 50257, 50257, 50257, 50257, 50257, 50257, 50257, 50257, 50257, 50257, 50257, 50257, 50257, 50257, 50257, 50257, 50257, 50257, 50257, 50257, 50257, 50257, 50257, 50257, 50257, 50257, 50257, 50257, 50257, 50257, 50257, 50257, 50257, 50257, 50257, 50257, 50257, 50257, 50257, 50257, 50257, 50257, 50257, 50257, 50257, 50257, 50257, 50257, 50257, 50257, 50257, 50257, 50257, 50257, 50257, 50257, 50257, 50257, 50257, 50257, 50257, 50257, 50257, 50257, 50257, 50257, 50257, 50257, 50257, 50257, 50257, 50257, 50257, 50257, 50257, 50257, 50257, 50257, 50257, 50257, 50257, 50257, 50257, 50257, 50257, 50257, 50257, 50257, 50257, 50257, 50257, 50257, 50257, 50257, 50257, 50257, 50257, 50257, 50257, 50257, 50257, 50257, 50257, 50257, 50257, 50257, 50257, 50257, 50257, 50257, 50257, 50257, 50257, 50257, 50257, 50257, 50257, 50257, 50257, 50257, 50257, 50257, 50257, 50257, 50257, 50257, 50257, 50257, 50257, 50257, 50257, 50257, 50257, 50257, 50257, 50257, 50257, 50257, 50257, 50257, 50257, 50257, 50257, 50257, 50257, 50257, 50257, 50257, 50257, 50257, 50257, 50257, 50257, 50257, 50257, 50257, 50257, 50257, 50257, 50257, 50257, 50257, 50257, 50257, 50257, 50257, 50257, 50257, 50257, 50257, 50257, 50257, 50257, 50257, 50257, 50257, 50257, 50257, 50257, 50257, 50257, 50257, 50257, 50257, 50257, 50257, 50257, 50257, 50257, 50257, 50257, 50257, 50257, 50257, 50257, 50257, 50257, 50257, 50257, 50257, 50257, 50257, 50257, 50257, 50257, 50257, 50257, 50257, 50257, 50257, 50257, 50257, 50257, 50257, 50257, 50257, 50257, 50257, 50257, 50257, 50257, 50257, 50257, 50257, 50257, 50257, 50257, 50257, 50257, 50257, 50257, 50257, 50257, 50257, 50257, 50257, 50257, 50257, 50257, 50257, 50257, 50257, 50257, 50257, 50257, 50257, 50257, 50257, 50257, 50257, 50257, 50257, 50257, 50257, 50257, 50257, 50257, 50257, 50257, 50257, 50257, 50257, 50257, 50257, 50257, 50257, 50257, 50257, 50257, 50257, 50257, 50257, 50257, 50257, 50257, 50257, 50257, 50257, 50257, 50257, 50257, 50257, 50257, 50257, 50257, 50257, 50257, 50257, 50257, 50257, 50257, 50257, 50257, 50257, 50257, 50257, 50257, 50257, 50257, 50257, 50257, 50257, 50257, 50257, 50257, 50257, 50257, 50257, 50257, 50257, 50257, 50257, 50257, 50257, 50257, 50257, 50257, 50257, 50257, 50257, 50257, 50257, 50257, 50257, 50257, 50257, 50257, 50257, 50257, 50257, 50257, 50257, 50257, 50257, 50257, 50257, 50257, 50257, 50257, 50257, 50257, 50257, 50257, 50257, 50257, 50257, 50257, 50257, 50257, 50257], 'attention_mask': [1, 1, 1, 1, 1, 1, 1, 1, 1, 1, 1, 1, 1, 1, 1, 1, 1, 1, 1, 1, 1, 1, 1, 1, 1, 1, 1, 1, 1, 1, 1, 1, 1, 1, 1, 1, 1, 1, 1, 1, 1, 1, 1, 1, 0, 0, 0, 0, 0, 0, 0, 0, 0, 0, 0, 0, 0, 0, 0, 0, 0, 0, 0, 0, 0, 0, 0, 0, 0, 0, 0, 0, 0, 0, 0, 0, 0, 0, 0, 0, 0, 0, 0, 0, 0, 0, 0, 0, 0, 0, 0, 0, 0, 0, 0, 0, 0, 0, 0, 0, 0, 0, 0, 0, 0, 0, 0, 0, 0, 0, 0, 0, 0, 0, 0, 0, 0, 0, 0, 0, 0, 0, 0, 0, 0, 0, 0, 0, 0, 0, 0, 0, 0, 0, 0, 0, 0, 0, 0, 0, 0, 0, 0, 0, 0, 0, 0, 0, 0, 0, 0, 0, 0, 0, 0, 0, 0, 0, 0, 0, 0, 0, 0, 0, 0, 0, 0, 0, 0, 0, 0, 0, 0, 0, 0, 0, 0, 0, 0, 0, 0, 0, 0, 0, 0, 0, 0, 0, 0, 0, 0, 0, 0, 0, 0, 0, 0, 0, 0, 0, 0, 0, 0, 0, 0, 0, 0, 0, 0, 0, 0, 0, 0, 0, 0, 0, 0, 0, 0, 0, 0, 0, 0, 0, 0, 0, 0, 0, 0, 0, 0, 0, 0, 0, 0, 0, 0, 0, 0, 0, 0, 0, 0, 0, 0, 0, 0, 0, 0, 0, 0, 0, 0, 0, 0, 0, 0, 0, 0, 0, 0, 0, 0, 0, 0, 0, 0, 0, 0, 0, 0, 0, 0, 0, 0, 0, 0, 0, 0, 0, 0, 0, 0, 0, 0, 0, 0, 0, 0, 0, 0, 0, 0, 0, 0, 0, 0, 0, 0, 0, 0, 0, 0, 0, 0, 0, 0, 0, 0, 0, 0, 0, 0, 0, 0, 0, 0, 0, 0, 0, 0, 0, 0, 0, 0, 0, 0, 0, 0, 0, 0, 0, 0, 0, 0, 0, 0, 0, 0, 0, 0, 0, 0, 0, 0, 0, 0, 0, 0, 0, 0, 0, 0, 0, 0, 0, 0, 0, 0, 0, 0, 0, 0, 0, 0, 0, 0, 0, 0, 0, 0, 0, 0, 0, 0, 0, 0, 0, 0, 0, 0, 0, 0, 0, 0, 0, 0, 0, 0, 0, 0, 0, 0, 0, 0, 0, 0, 0, 0, 0, 0, 0, 0, 0, 0, 0, 0, 0, 0, 0, 0, 0, 0, 0, 0, 0, 0, 0, 0, 0, 0, 0, 0, 0, 0, 0, 0, 0, 0, 0, 0, 0, 0, 0, 0, 0, 0, 0, 0, 0, 0, 0, 0, 0, 0, 0, 0, 0, 0, 0, 0, 0, 0, 0, 0, 0, 0, 0, 0, 0, 0, 0, 0, 0, 0, 0, 0, 0, 0, 0, 0, 0, 0, 0, 0, 0, 0, 0, 0, 0, 0, 0, 0, 0, 0, 0, 0, 0, 0, 0, 0, 0, 0, 0, 0, 0, 0, 0, 0, 0, 0, 0, 0, 0, 0, 0, 0, 0, 0, 0, 0, 0]}\n",
      "{'text': 'Apa faktor-faktor yang mempengaruhi tingkat suku bunga? Interest rate adalah biaya yang dibebankan oleh pemberi pinjaman kepada peminjam untuk penggunaan dana.', 'input_ids': [22075, 4829, 13, 15147, 288, 6702, 1883, 1870, 2988, 31, 6067, 1096, 43376, 360, 3764, 288, 39075, 400, 19364, 9187, 789, 468, 7759, 369, 2586, 4875, 14, 50257, 50257, 50257, 50257, 50257, 50257, 50257, 50257, 50257, 50257, 50257, 50257, 50257, 50257, 50257, 50257, 50257, 50257, 50257, 50257, 50257, 50257, 50257, 50257, 50257, 50257, 50257, 50257, 50257, 50257, 50257, 50257, 50257, 50257, 50257, 50257, 50257, 50257, 50257, 50257, 50257, 50257, 50257, 50257, 50257, 50257, 50257, 50257, 50257, 50257, 50257, 50257, 50257, 50257, 50257, 50257, 50257, 50257, 50257, 50257, 50257, 50257, 50257, 50257, 50257, 50257, 50257, 50257, 50257, 50257, 50257, 50257, 50257, 50257, 50257, 50257, 50257, 50257, 50257, 50257, 50257, 50257, 50257, 50257, 50257, 50257, 50257, 50257, 50257, 50257, 50257, 50257, 50257, 50257, 50257, 50257, 50257, 50257, 50257, 50257, 50257, 50257, 50257, 50257, 50257, 50257, 50257, 50257, 50257, 50257, 50257, 50257, 50257, 50257, 50257, 50257, 50257, 50257, 50257, 50257, 50257, 50257, 50257, 50257, 50257, 50257, 50257, 50257, 50257, 50257, 50257, 50257, 50257, 50257, 50257, 50257, 50257, 50257, 50257, 50257, 50257, 50257, 50257, 50257, 50257, 50257, 50257, 50257, 50257, 50257, 50257, 50257, 50257, 50257, 50257, 50257, 50257, 50257, 50257, 50257, 50257, 50257, 50257, 50257, 50257, 50257, 50257, 50257, 50257, 50257, 50257, 50257, 50257, 50257, 50257, 50257, 50257, 50257, 50257, 50257, 50257, 50257, 50257, 50257, 50257, 50257, 50257, 50257, 50257, 50257, 50257, 50257, 50257, 50257, 50257, 50257, 50257, 50257, 50257, 50257, 50257, 50257, 50257, 50257, 50257, 50257, 50257, 50257, 50257, 50257, 50257, 50257, 50257, 50257, 50257, 50257, 50257, 50257, 50257, 50257, 50257, 50257, 50257, 50257, 50257, 50257, 50257, 50257, 50257, 50257, 50257, 50257, 50257, 50257, 50257, 50257, 50257, 50257, 50257, 50257, 50257, 50257, 50257, 50257, 50257, 50257, 50257, 50257, 50257, 50257, 50257, 50257, 50257, 50257, 50257, 50257, 50257, 50257, 50257, 50257, 50257, 50257, 50257, 50257, 50257, 50257, 50257, 50257, 50257, 50257, 50257, 50257, 50257, 50257, 50257, 50257, 50257, 50257, 50257, 50257, 50257, 50257, 50257, 50257, 50257, 50257, 50257, 50257, 50257, 50257, 50257, 50257, 50257, 50257, 50257, 50257, 50257, 50257, 50257, 50257, 50257, 50257, 50257, 50257, 50257, 50257, 50257, 50257, 50257, 50257, 50257, 50257, 50257, 50257, 50257, 50257, 50257, 50257, 50257, 50257, 50257, 50257, 50257, 50257, 50257, 50257, 50257, 50257, 50257, 50257, 50257, 50257, 50257, 50257, 50257, 50257, 50257, 50257, 50257, 50257, 50257, 50257, 50257, 50257, 50257, 50257, 50257, 50257, 50257, 50257, 50257, 50257, 50257, 50257, 50257, 50257, 50257, 50257, 50257, 50257, 50257, 50257, 50257, 50257, 50257, 50257, 50257, 50257, 50257, 50257, 50257, 50257, 50257, 50257, 50257, 50257, 50257, 50257, 50257, 50257, 50257, 50257, 50257, 50257, 50257, 50257, 50257, 50257, 50257, 50257, 50257, 50257, 50257, 50257, 50257, 50257, 50257, 50257, 50257, 50257, 50257, 50257, 50257, 50257, 50257, 50257, 50257, 50257, 50257, 50257, 50257, 50257, 50257, 50257, 50257, 50257, 50257, 50257, 50257, 50257, 50257, 50257, 50257, 50257, 50257, 50257, 50257, 50257, 50257, 50257, 50257, 50257, 50257, 50257, 50257, 50257, 50257, 50257, 50257, 50257, 50257, 50257, 50257, 50257, 50257, 50257, 50257, 50257, 50257, 50257, 50257, 50257, 50257, 50257, 50257, 50257, 50257, 50257, 50257, 50257, 50257, 50257, 50257, 50257, 50257, 50257, 50257, 50257, 50257, 50257, 50257, 50257, 50257, 50257, 50257, 50257, 50257, 50257, 50257, 50257, 50257, 50257, 50257, 50257, 50257], 'attention_mask': [1, 1, 1, 1, 1, 1, 1, 1, 1, 1, 1, 1, 1, 1, 1, 1, 1, 1, 1, 1, 1, 1, 1, 1, 1, 1, 1, 0, 0, 0, 0, 0, 0, 0, 0, 0, 0, 0, 0, 0, 0, 0, 0, 0, 0, 0, 0, 0, 0, 0, 0, 0, 0, 0, 0, 0, 0, 0, 0, 0, 0, 0, 0, 0, 0, 0, 0, 0, 0, 0, 0, 0, 0, 0, 0, 0, 0, 0, 0, 0, 0, 0, 0, 0, 0, 0, 0, 0, 0, 0, 0, 0, 0, 0, 0, 0, 0, 0, 0, 0, 0, 0, 0, 0, 0, 0, 0, 0, 0, 0, 0, 0, 0, 0, 0, 0, 0, 0, 0, 0, 0, 0, 0, 0, 0, 0, 0, 0, 0, 0, 0, 0, 0, 0, 0, 0, 0, 0, 0, 0, 0, 0, 0, 0, 0, 0, 0, 0, 0, 0, 0, 0, 0, 0, 0, 0, 0, 0, 0, 0, 0, 0, 0, 0, 0, 0, 0, 0, 0, 0, 0, 0, 0, 0, 0, 0, 0, 0, 0, 0, 0, 0, 0, 0, 0, 0, 0, 0, 0, 0, 0, 0, 0, 0, 0, 0, 0, 0, 0, 0, 0, 0, 0, 0, 0, 0, 0, 0, 0, 0, 0, 0, 0, 0, 0, 0, 0, 0, 0, 0, 0, 0, 0, 0, 0, 0, 0, 0, 0, 0, 0, 0, 0, 0, 0, 0, 0, 0, 0, 0, 0, 0, 0, 0, 0, 0, 0, 0, 0, 0, 0, 0, 0, 0, 0, 0, 0, 0, 0, 0, 0, 0, 0, 0, 0, 0, 0, 0, 0, 0, 0, 0, 0, 0, 0, 0, 0, 0, 0, 0, 0, 0, 0, 0, 0, 0, 0, 0, 0, 0, 0, 0, 0, 0, 0, 0, 0, 0, 0, 0, 0, 0, 0, 0, 0, 0, 0, 0, 0, 0, 0, 0, 0, 0, 0, 0, 0, 0, 0, 0, 0, 0, 0, 0, 0, 0, 0, 0, 0, 0, 0, 0, 0, 0, 0, 0, 0, 0, 0, 0, 0, 0, 0, 0, 0, 0, 0, 0, 0, 0, 0, 0, 0, 0, 0, 0, 0, 0, 0, 0, 0, 0, 0, 0, 0, 0, 0, 0, 0, 0, 0, 0, 0, 0, 0, 0, 0, 0, 0, 0, 0, 0, 0, 0, 0, 0, 0, 0, 0, 0, 0, 0, 0, 0, 0, 0, 0, 0, 0, 0, 0, 0, 0, 0, 0, 0, 0, 0, 0, 0, 0, 0, 0, 0, 0, 0, 0, 0, 0, 0, 0, 0, 0, 0, 0, 0, 0, 0, 0, 0, 0, 0, 0, 0, 0, 0, 0, 0, 0, 0, 0, 0, 0, 0, 0, 0, 0, 0, 0, 0, 0, 0, 0, 0, 0, 0, 0, 0, 0, 0, 0, 0, 0, 0, 0, 0, 0, 0, 0, 0, 0, 0, 0, 0, 0, 0, 0, 0, 0, 0, 0, 0, 0, 0, 0, 0, 0, 0, 0, 0, 0, 0, 0, 0, 0, 0, 0, 0, 0, 0, 0, 0, 0, 0, 0, 0, 0, 0, 0, 0, 0, 0]}\n",
      "{'text': 'Bagaimana seorang teknisi mencapai kebebasan finansial dengan layanan perbaikan? Seorang teknisi membuka layanan perbaikan peralatan rumah tangga dan mendapatkan banyak pelanggan tetap. Pendapatan dari layanan ini memberikan kebebasan finansial.', 'input_ids': [38168, 604, 17779, 1585, 6704, 11625, 348, 3122, 7823, 31, 6901, 17779, 3486, 3122, 7823, 5274, 1116, 2653, 287, 1564, 690, 8068, 646, 14, 22449, 319, 3122, 329, 1386, 6704, 11625, 14, 50257, 50257, 50257, 50257, 50257, 50257, 50257, 50257, 50257, 50257, 50257, 50257, 50257, 50257, 50257, 50257, 50257, 50257, 50257, 50257, 50257, 50257, 50257, 50257, 50257, 50257, 50257, 50257, 50257, 50257, 50257, 50257, 50257, 50257, 50257, 50257, 50257, 50257, 50257, 50257, 50257, 50257, 50257, 50257, 50257, 50257, 50257, 50257, 50257, 50257, 50257, 50257, 50257, 50257, 50257, 50257, 50257, 50257, 50257, 50257, 50257, 50257, 50257, 50257, 50257, 50257, 50257, 50257, 50257, 50257, 50257, 50257, 50257, 50257, 50257, 50257, 50257, 50257, 50257, 50257, 50257, 50257, 50257, 50257, 50257, 50257, 50257, 50257, 50257, 50257, 50257, 50257, 50257, 50257, 50257, 50257, 50257, 50257, 50257, 50257, 50257, 50257, 50257, 50257, 50257, 50257, 50257, 50257, 50257, 50257, 50257, 50257, 50257, 50257, 50257, 50257, 50257, 50257, 50257, 50257, 50257, 50257, 50257, 50257, 50257, 50257, 50257, 50257, 50257, 50257, 50257, 50257, 50257, 50257, 50257, 50257, 50257, 50257, 50257, 50257, 50257, 50257, 50257, 50257, 50257, 50257, 50257, 50257, 50257, 50257, 50257, 50257, 50257, 50257, 50257, 50257, 50257, 50257, 50257, 50257, 50257, 50257, 50257, 50257, 50257, 50257, 50257, 50257, 50257, 50257, 50257, 50257, 50257, 50257, 50257, 50257, 50257, 50257, 50257, 50257, 50257, 50257, 50257, 50257, 50257, 50257, 50257, 50257, 50257, 50257, 50257, 50257, 50257, 50257, 50257, 50257, 50257, 50257, 50257, 50257, 50257, 50257, 50257, 50257, 50257, 50257, 50257, 50257, 50257, 50257, 50257, 50257, 50257, 50257, 50257, 50257, 50257, 50257, 50257, 50257, 50257, 50257, 50257, 50257, 50257, 50257, 50257, 50257, 50257, 50257, 50257, 50257, 50257, 50257, 50257, 50257, 50257, 50257, 50257, 50257, 50257, 50257, 50257, 50257, 50257, 50257, 50257, 50257, 50257, 50257, 50257, 50257, 50257, 50257, 50257, 50257, 50257, 50257, 50257, 50257, 50257, 50257, 50257, 50257, 50257, 50257, 50257, 50257, 50257, 50257, 50257, 50257, 50257, 50257, 50257, 50257, 50257, 50257, 50257, 50257, 50257, 50257, 50257, 50257, 50257, 50257, 50257, 50257, 50257, 50257, 50257, 50257, 50257, 50257, 50257, 50257, 50257, 50257, 50257, 50257, 50257, 50257, 50257, 50257, 50257, 50257, 50257, 50257, 50257, 50257, 50257, 50257, 50257, 50257, 50257, 50257, 50257, 50257, 50257, 50257, 50257, 50257, 50257, 50257, 50257, 50257, 50257, 50257, 50257, 50257, 50257, 50257, 50257, 50257, 50257, 50257, 50257, 50257, 50257, 50257, 50257, 50257, 50257, 50257, 50257, 50257, 50257, 50257, 50257, 50257, 50257, 50257, 50257, 50257, 50257, 50257, 50257, 50257, 50257, 50257, 50257, 50257, 50257, 50257, 50257, 50257, 50257, 50257, 50257, 50257, 50257, 50257, 50257, 50257, 50257, 50257, 50257, 50257, 50257, 50257, 50257, 50257, 50257, 50257, 50257, 50257, 50257, 50257, 50257, 50257, 50257, 50257, 50257, 50257, 50257, 50257, 50257, 50257, 50257, 50257, 50257, 50257, 50257, 50257, 50257, 50257, 50257, 50257, 50257, 50257, 50257, 50257, 50257, 50257, 50257, 50257, 50257, 50257, 50257, 50257, 50257, 50257, 50257, 50257, 50257, 50257, 50257, 50257, 50257, 50257, 50257, 50257, 50257, 50257, 50257, 50257, 50257, 50257, 50257, 50257, 50257, 50257, 50257, 50257, 50257, 50257, 50257, 50257, 50257, 50257, 50257, 50257, 50257, 50257, 50257, 50257, 50257, 50257, 50257, 50257, 50257, 50257, 50257, 50257, 50257, 50257, 50257, 50257, 50257, 50257, 50257, 50257, 50257, 50257, 50257, 50257, 50257, 50257, 50257, 50257], 'attention_mask': [1, 1, 1, 1, 1, 1, 1, 1, 1, 1, 1, 1, 1, 1, 1, 1, 1, 1, 1, 1, 1, 1, 1, 1, 1, 1, 1, 1, 1, 1, 1, 1, 0, 0, 0, 0, 0, 0, 0, 0, 0, 0, 0, 0, 0, 0, 0, 0, 0, 0, 0, 0, 0, 0, 0, 0, 0, 0, 0, 0, 0, 0, 0, 0, 0, 0, 0, 0, 0, 0, 0, 0, 0, 0, 0, 0, 0, 0, 0, 0, 0, 0, 0, 0, 0, 0, 0, 0, 0, 0, 0, 0, 0, 0, 0, 0, 0, 0, 0, 0, 0, 0, 0, 0, 0, 0, 0, 0, 0, 0, 0, 0, 0, 0, 0, 0, 0, 0, 0, 0, 0, 0, 0, 0, 0, 0, 0, 0, 0, 0, 0, 0, 0, 0, 0, 0, 0, 0, 0, 0, 0, 0, 0, 0, 0, 0, 0, 0, 0, 0, 0, 0, 0, 0, 0, 0, 0, 0, 0, 0, 0, 0, 0, 0, 0, 0, 0, 0, 0, 0, 0, 0, 0, 0, 0, 0, 0, 0, 0, 0, 0, 0, 0, 0, 0, 0, 0, 0, 0, 0, 0, 0, 0, 0, 0, 0, 0, 0, 0, 0, 0, 0, 0, 0, 0, 0, 0, 0, 0, 0, 0, 0, 0, 0, 0, 0, 0, 0, 0, 0, 0, 0, 0, 0, 0, 0, 0, 0, 0, 0, 0, 0, 0, 0, 0, 0, 0, 0, 0, 0, 0, 0, 0, 0, 0, 0, 0, 0, 0, 0, 0, 0, 0, 0, 0, 0, 0, 0, 0, 0, 0, 0, 0, 0, 0, 0, 0, 0, 0, 0, 0, 0, 0, 0, 0, 0, 0, 0, 0, 0, 0, 0, 0, 0, 0, 0, 0, 0, 0, 0, 0, 0, 0, 0, 0, 0, 0, 0, 0, 0, 0, 0, 0, 0, 0, 0, 0, 0, 0, 0, 0, 0, 0, 0, 0, 0, 0, 0, 0, 0, 0, 0, 0, 0, 0, 0, 0, 0, 0, 0, 0, 0, 0, 0, 0, 0, 0, 0, 0, 0, 0, 0, 0, 0, 0, 0, 0, 0, 0, 0, 0, 0, 0, 0, 0, 0, 0, 0, 0, 0, 0, 0, 0, 0, 0, 0, 0, 0, 0, 0, 0, 0, 0, 0, 0, 0, 0, 0, 0, 0, 0, 0, 0, 0, 0, 0, 0, 0, 0, 0, 0, 0, 0, 0, 0, 0, 0, 0, 0, 0, 0, 0, 0, 0, 0, 0, 0, 0, 0, 0, 0, 0, 0, 0, 0, 0, 0, 0, 0, 0, 0, 0, 0, 0, 0, 0, 0, 0, 0, 0, 0, 0, 0, 0, 0, 0, 0, 0, 0, 0, 0, 0, 0, 0, 0, 0, 0, 0, 0, 0, 0, 0, 0, 0, 0, 0, 0, 0, 0, 0, 0, 0, 0, 0, 0, 0, 0, 0, 0, 0, 0, 0, 0, 0, 0, 0, 0, 0, 0, 0, 0, 0, 0, 0, 0, 0, 0, 0, 0, 0, 0, 0, 0, 0, 0, 0, 0, 0, 0, 0, 0, 0, 0, 0, 0, 0, 0, 0, 0, 0, 0, 0]}\n"
     ]
    }
   ],
   "source": [
    "for i in range(min(5, eval_dataset.num_rows)):\n",
    "    print(eval_dataset[i])"
   ]
  },
  {
   "cell_type": "markdown",
   "metadata": {},
   "source": [
    "# Define training arguments"
   ]
  },
  {
   "cell_type": "code",
   "execution_count": 20,
   "metadata": {},
   "outputs": [],
   "source": [
    "# Convert datasets to tf.data.Dataset\n",
    "data_collator = DataCollatorForLanguageModeling(tokenizer=tokenizer, mlm=False)"
   ]
  },
  {
   "cell_type": "markdown",
   "metadata": {},
   "source": [
    "# Convert datasets to tf.data.Dataset"
   ]
  },
  {
   "cell_type": "code",
   "execution_count": 21,
   "metadata": {},
   "outputs": [],
   "source": [
    "tf_train_dataset = train_dataset.to_tf_dataset(\n",
    "    columns=['input_ids', 'attention_mask', 'labels'],\n",
    "    shuffle=True,\n",
    "    batch_size=4,\n",
    "    collate_fn=data_collator\n",
    ")\n",
    "\n",
    "tf_eval_dataset = eval_dataset.to_tf_dataset(\n",
    "    columns=['input_ids', 'attention_mask', 'labels'],\n",
    "    shuffle=False,\n",
    "    batch_size=4,\n",
    "    collate_fn=data_collator\n",
    ")"
   ]
  },
  {
   "cell_type": "code",
   "execution_count": 22,
   "metadata": {},
   "outputs": [
    {
     "name": "stdout",
     "output_type": "stream",
     "text": [
      "{'input_ids': <tf.Tensor: shape=(4, 512), dtype=int64, numpy=\n",
      "array([[38168,  1867, 11250, ..., 50257, 50257, 50257],\n",
      "       [38168,  1867,  7537, ..., 50257, 50257, 50257],\n",
      "       [22075,   484,  4701, ..., 50257, 50257, 50257],\n",
      "       [38168,  1867,  7537, ..., 50257, 50257, 50257]], dtype=int64)>, 'attention_mask': <tf.Tensor: shape=(4, 512), dtype=int64, numpy=\n",
      "array([[1, 1, 1, ..., 0, 0, 0],\n",
      "       [1, 1, 1, ..., 0, 0, 0],\n",
      "       [1, 1, 1, ..., 0, 0, 0],\n",
      "       [1, 1, 1, ..., 0, 0, 0]], dtype=int64)>, 'labels': <tf.Tensor: shape=(4, 512), dtype=int64, numpy=\n",
      "array([[38168,  1867, 11250, ...,  -100,  -100,  -100],\n",
      "       [38168,  1867,  7537, ...,  -100,  -100,  -100],\n",
      "       [22075,   484,  4701, ...,  -100,  -100,  -100],\n",
      "       [38168,  1867,  7537, ...,  -100,  -100,  -100]], dtype=int64)>}\n"
     ]
    }
   ],
   "source": [
    "for batch in tf_train_dataset.take(1):\n",
    "    print(batch)"
   ]
  },
  {
   "cell_type": "markdown",
   "metadata": {},
   "source": [
    "# Training arguments"
   ]
  },
  {
   "cell_type": "code",
   "execution_count": 23,
   "metadata": {},
   "outputs": [
    {
     "name": "stderr",
     "output_type": "stream",
     "text": [
      "c:\\Users\\alifs\\anaconda3\\envs\\main-ds\\lib\\site-packages\\transformers\\training_args.py:1525: FutureWarning: `evaluation_strategy` is deprecated and will be removed in version 4.46 of 🤗 Transformers. Use `eval_strategy` instead\n",
      "  warnings.warn(\n"
     ]
    }
   ],
   "source": [
    "# Training arguments\n",
    "training_args = TrainingArguments(\n",
    "    output_dir=\"./models/fine_tuned_model\",\n",
    "    overwrite_output_dir=True,\n",
    "    num_train_epochs=15,\n",
    "    per_device_train_batch_size=4,\n",
    "    save_steps=10_000,\n",
    "    save_total_limit=2,\n",
    "    evaluation_strategy=\"epoch\",\n",
    "    learning_rate=2e-5,\n",
    "    weight_decay=0.01,\n",
    "    logging_dir='./logs',\n",
    "    logging_steps=10,\n",
    ")"
   ]
  },
  {
   "cell_type": "markdown",
   "metadata": {},
   "source": [
    "# Create optimizer and compile model"
   ]
  },
  {
   "cell_type": "code",
   "execution_count": 24,
   "metadata": {},
   "outputs": [],
   "source": [
    "# Create optimizer and compile model\n",
    "num_train_steps = len(tf_train_dataset) * training_args.num_train_epochs\n",
    "optimizer, lr_schedule = create_optimizer(\n",
    "    init_lr=training_args.learning_rate,\n",
    "    num_warmup_steps=0,\n",
    "    num_train_steps=num_train_steps,\n",
    "    weight_decay_rate=training_args.weight_decay,\n",
    ")"
   ]
  },
  {
   "cell_type": "markdown",
   "metadata": {},
   "source": [
    "# Compile"
   ]
  },
  {
   "cell_type": "code",
   "execution_count": 25,
   "metadata": {},
   "outputs": [],
   "source": [
    "model.compile(optimizer=optimizer)"
   ]
  },
  {
   "cell_type": "code",
   "execution_count": 26,
   "metadata": {},
   "outputs": [
    {
     "name": "stdout",
     "output_type": "stream",
     "text": [
      "Model: \"tfgpt2lm_head_model\"\n",
      "_________________________________________________________________\n",
      " Layer (type)                Output Shape              Param #   \n",
      "=================================================================\n",
      " transformer (TFGPT2MainLay  multiple                  124440576 \n",
      " er)                                                             \n",
      "                                                                 \n",
      "=================================================================\n",
      "Total params: 124440576 (474.70 MB)\n",
      "Trainable params: 124440576 (474.70 MB)\n",
      "Non-trainable params: 0 (0.00 Byte)\n",
      "_________________________________________________________________\n"
     ]
    }
   ],
   "source": [
    "# Print model summary\n",
    "model.summary()"
   ]
  },
  {
   "cell_type": "markdown",
   "metadata": {},
   "source": [
    "# Custom callback to log loss and accuracy"
   ]
  },
  {
   "cell_type": "code",
   "execution_count": 27,
   "metadata": {},
   "outputs": [],
   "source": [
    "# Define callbacks\n",
    "class MetricsLogger(tf.keras.callbacks.Callback):\n",
    "    def __init__(self, validation_data):\n",
    "        super(MetricsLogger, self).__init__()\n",
    "        self.validation_data = validation_data\n",
    "        self.logs = []\n",
    "        self.epoch_loss = []\n",
    "        self.val_loss = []\n",
    "\n",
    "    def on_epoch_end(self, epoch, logs=None):\n",
    "        self.epoch_loss.append(logs['loss'])\n",
    "        self.val_loss.append(logs['val_loss'])\n",
    "        self.logs.append({\n",
    "            'epoch': epoch + 1,\n",
    "            'loss': logs['loss'],\n",
    "            'val_loss': logs['val_loss'],\n",
    "        })\n",
    "        print(f\"Epoch {epoch + 1} - Loss: {logs['loss']}, Val Loss: {logs['val_loss']}\")\n",
    "\n",
    "    def plot(self):\n",
    "        epochs = range(1, len(self.epoch_loss) + 1)\n",
    "        plt.figure(figsize=(12, 6))\n",
    "        plt.plot(epochs, self.epoch_loss, label='Training Loss')\n",
    "        plt.plot(epochs, self.val_loss, label='Validation Loss')\n",
    "        plt.xlabel('Epoch')\n",
    "        plt.ylabel('Loss')\n",
    "        plt.legend()\n",
    "        plt.show()\n",
    "\n",
    "    def save_logs(self):\n",
    "        df_logs = pd.DataFrame(self.logs)\n",
    "        df_logs.to_csv('training_logs.csv', index=False)"
   ]
  },
  {
   "cell_type": "code",
   "execution_count": 28,
   "metadata": {},
   "outputs": [],
   "source": [
    "logger = MetricsLogger(validation_data=tf_eval_dataset)"
   ]
  },
  {
   "cell_type": "markdown",
   "metadata": {},
   "source": [
    "# Train the model"
   ]
  },
  {
   "cell_type": "code",
   "execution_count": null,
   "metadata": {},
   "outputs": [],
   "source": [
    "# Train the model\n",
    "history = model.fit(tf_train_dataset, validation_data=tf_eval_dataset, epochs=training_args.num_train_epochs, callbacks=[logger])"
   ]
  },
  {
   "cell_type": "code",
   "execution_count": null,
   "metadata": {},
   "outputs": [
    {
     "data": {
      "image/png": "[encoded data removed]",
      "text/plain": [
       "<Figure size 1800x600 with 1 Axes>"
      ]
     },
     "metadata": {},
     "output_type": "display_data"
    }
   ],
   "source": [
    "# Save logs and plot metrics\n",
    "logger.save_logs()\n",
    "logger.plot()"
   ]
  },
  {
   "cell_type": "markdown",
   "metadata": {},
   "source": [
    "# Tabel log"
   ]
  },
  {
   "cell_type": "code",
   "execution_count": null,
   "metadata": {},
   "outputs": [
    {
     "name": "stdout",
     "output_type": "stream",
     "text": [
      "       loss  val_loss  f1_score\n",
      "epoch                          \n",
      "1      1.32      1.06       0.8\n",
      "2      0.73      0.86       0.8\n",
      "3      0.54      0.73       0.8\n"
     ]
    }
   ],
   "source": [
    "# Create a dictionary to hold training statistics\n",
    "training_stats = {\n",
    "    'epoch': list(range(1, training_args.num_train_epochs + 1)),\n",
    "    'loss': history.history['loss'],\n",
    "    'val_loss': history.history['val_loss'],\n",
    "}\n",
    "\n",
    "# Create DataFrame from dictionary\n",
    "df_stats = pd.DataFrame(training_stats)\n",
    "\n",
    "# Set index to 'epoch'\n",
    "df_stats = df_stats.set_index('epoch')\n",
    "\n",
    "# Set display precision\n",
    "pd.set_option('display.precision', 2)\n",
    "\n",
    "# Drop rows with None values\n",
    "df_stats = df_stats.dropna(axis=1, how='all')\n",
    "\n",
    "# Print DataFrame\n",
    "print(df_stats)"
   ]
  },
  {
   "cell_type": "markdown",
   "metadata": {},
   "source": [
    "# Handler Out of Context"
   ]
  },
  {
   "cell_type": "code",
   "execution_count": null,
   "metadata": {},
   "outputs": [],
   "source": [
    "# def provide_recommendation():\n",
    "#     recommendation = (\"Terima kasih atas pertanyaannya. Pertanyaan Anda terlalu kompleks untuk dijawab secara langsung. \"\n",
    "#                 \"Namun, berikut beberapa rekomendasi yang mungkin dapat membantu mengelola keuangan Anda:\\n\\n\"\n",
    "                \n",
    "#                 \"1. **Buat anggaran:** Pantau pengeluaran Anda untuk mengidentifikasi area penghematan dan alokasi dana yang lebih efisien.\\n\\n\"\n",
    "                \n",
    "#                 \"2. **Cari pendapatan tambahan:** Pertimbangkan pekerjaan sampingan atau proyek paruh waktu untuk meningkatkan pendapatan Anda.\\n\\n\"\n",
    "                \n",
    "#                 \"3. **Investasi bijak:** Pelajari opsi investasi seperti saham, obligasi, atau properti. Konsultasikan dengan profesional keuangan jika perlu.\\n\\n\"\n",
    "                \n",
    "#                 \"4. **Kembangkan keterampilan:** Investasikan dalam pengembangan keterampilan dan pertimbangkan memonetisasi hobi atau minat Anda.\\n\\n\"\n",
    "                \n",
    "#                 \"5. **Perencanaan jangka panjang:** Buat rencana pensiun dan pastikan Anda memiliki perlindungan asuransi untuk risiko finansial.\\n\\n\"\n",
    "                \n",
    "#                 \"Semoga rekomendasi ini bermanfaat. Jika Anda membutuhkan bantuan lebih lanjut, jangan ragu untuk bertanya atau menggunakan fitur konsultasi dengan pakar keuangan kami. silahkan cek list expert di aplikasi kami.\")\n",
    "    \n",
    "#     return recommendation\n"
   ]
  },
  {
   "cell_type": "markdown",
   "metadata": {},
   "source": [
    "# Test Model"
   ]
  },
  {
   "cell_type": "code",
   "execution_count": null,
   "metadata": {},
   "outputs": [],
   "source": [
    "# Create a dictionary mapping prompts to responses\n",
    "prompt_response_dict = dict(zip(df['prompt'], df['response']))\n",
    "\n",
    "# Add prompt to test the model\n",
    "def generate_response(prompt):\n",
    "\n",
    "    # First, check if the prompt is in the dataset\n",
    "    if prompt in prompt_response_dict:\n",
    "      return prompt_response_dict[prompt]\n",
    "\n",
    "    context_keywords = ['keuangan', 'finansial', 'ekonomi', 'investasi', 'uang', 'budget', 'anggaran']\n",
    "    is_finance_related = any(keyword in prompt.lower() for keyword in context_keywords)\n",
    "\n",
    "    if not is_finance_related:\n",
    "        return \"Terima kasih atas pertanyaannya. Saya ingin menjelaskan bahwa peran saya di sini adalah untuk memberikan panduan dan rekomendasi seputar isu keuangan. Silakan ajukan pertanyaan terkait keuangan\"\n",
    "\n",
    "    # Ensure the prompt ends with appropriate punctuation\n",
    "    if not prompt.endswith(('.', '?', '!', ':')):\n",
    "        prompt += '.'\n",
    "\n",
    "    inputs = tokenizer(prompt, return_tensors=\"tf\", padding=True, truncation=True)\n",
    "    prompt_output = model.generate(\n",
    "        input_ids=inputs[\"input_ids\"],\n",
    "        attention_mask=inputs[\"attention_mask\"],\n",
    "        max_length=100,\n",
    "        num_return_sequences=1,\n",
    "        temperature=0.7,\n",
    "        do_sample=True,\n",
    "        pad_token_id=tokenizer.eos_token_id\n",
    "    )\n",
    "    response = tokenizer.decode(prompt_output[0], skip_special_tokens=True)\n",
    "\n",
    "    # Ensure the response does not include the prompt\n",
    "    response = response.replace(prompt, '').strip()\n",
    "\n",
    "    # Ensure the response ends with a complete sentence\n",
    "    if not prompt.endswith('.'):\n",
    "        response = response.rsplit('.', 1)[0] + '.'\n",
    "\n",
    "    THRESHOLD_LENGTH = 15\n",
    "    if len(prompt.split()) > THRESHOLD_LENGTH:\n",
    "        response += \"\\n\\nJika Anda memerlukan penjelasan lebih lanjut atau bantuan dari seorang ahli, Anda dapat menggunakan fitur konsultasi dengan pakar keuangan kami, silahkan cek list expert di menu kami.\"\n",
    "\n",
    "    return response"
   ]
  },
  {
   "cell_type": "code",
   "execution_count": null,
   "metadata": {},
   "outputs": [],
   "source": [
    "# Test the model with a sample prompt\n",
    "test_prompt = \"apa itu finansial?\"\n",
    "response = generate_response(test_prompt)\n",
    "print(\"Response:\", response)"
   ]
  },
  {
   "cell_type": "markdown",
   "metadata": {},
   "source": [
    "# Save model"
   ]
  },
  {
   "cell_type": "code",
   "execution_count": null,
   "metadata": {},
   "outputs": [],
   "source": [
    "# Save the model at the end\n",
    "model.save_pretrained(\"../models/gen-ai/fine_tuned_model\")\n",
    "tokenizer.save_pretrained(\"../models/gen-ai/fine_tuned_model\")"
   ]
  },
  {
   "cell_type": "code",
   "execution_count": null,
   "metadata": {},
   "outputs": [],
   "source": [
    "# Save the model in TensorFlow SavedModel format\n",
    "# model.save('../models/gen-ai/model_gen_ai', save_format='tf')\n",
    "\n",
    "# # Save the model weights only (optional)\n",
    "# model.save_weights('../models/gen-ai/model_weights_gen_ai.h5')\n"
   ]
  },
  {
   "cell_type": "code",
   "execution_count": null,
   "metadata": {},
   "outputs": [],
   "source": [
    "# # Kompres direktori output ke file zip\n",
    "# !zip -r model.zip {training_args.output_dir}\n",
    "\n",
    "# # Unduh file zip\n",
    "# from google.colab import files\n",
    "# files.download(\"model.zip\")"
   ]
  }
 ],
 "metadata": {
  "kernelspec": {
   "display_name": "tensorflow-env",
   "language": "python",
   "name": "python3"
  },
  "language_info": {
   "codemirror_mode": {
    "name": "ipython",
    "version": 3
   },
   "file_extension": ".py",
   "mimetype": "text/x-python",
   "name": "python",
   "nbconvert_exporter": "python",
   "pygments_lexer": "ipython3",
   "version": "3.9.18"
  }
 },
 "nbformat": 4,
 "nbformat_minor": 2
}
